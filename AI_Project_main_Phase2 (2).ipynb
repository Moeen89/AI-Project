{
  "cells": [
    {
      "cell_type": "markdown",
      "metadata": {
        "id": "kaOAiI3Uq-T7"
      },
      "source": [
        "# AI Project - Phase 2 (Destination Suggestion)\n",
        "<div style=\"text-align: center\">\n",
        "<h1 style = \"color: red\"> Sharif University Of Technology</h1>\n",
        "<h2 style = \"color: green\"> DR. Mahdieh Soleymani | DR. MohammadHossein Rohban </h2>\n",
        "<h3 style = \"color: cyan\"> Head of Project: AmirHossein Razlighi <h3>\n",
        "<h3 style = \"color: cyan\"> Designed By: AmirHossein Razlighi, Javad Hezareh, Payam Taebi, Alireza Sakhaei, Ali Banayeean, Yalda Shabanzadeh, Hamidreza Yaghoubi, Alireza Heidari <h3>\n",
        "<h4 style = \"color: white\"> Ask your questions via quera</h4>\n",
        "<h5> Save your file with format: STUDENT NUMBER_Phase2.ipynb or .zip </h5>\n",
        "</div>"
      ]
    },
    {
      "cell_type": "markdown",
      "metadata": {
        "id": "mcJ2l0O0q-T-"
      },
      "source": [
        "## Overview"
      ]
    },
    {
      "cell_type": "markdown",
      "metadata": {
        "id": "NP3duO0Tq-T_"
      },
      "source": [
        "<div style=\"text-align: center\">\n",
        "<img src=\"./Images/Uber_research.jpg\" width=\"100%\" height=\"auto\" />\n",
        "</div>"
      ]
    },
    {
      "cell_type": "markdown",
      "metadata": {
        "id": "s2wWlRrbq-T_"
      },
      "source": [
        "Suppose you are a research engineer at Uber and you are asked to design a system that suggests destinations to the passengers. The system should be able to suggest destinations based on the passenger's history. For example, one passenger may save a variety of locations (like home, work, gym, etc.). This passenger may go to gym, often on weekends and when he/she requests a car from Home.\n",
        "\n",
        "So, for example, if I am a student, going to university usually from Saturday to Wednesday on 8:00 from \"home\", the next time I request a car from \"home\" on 8:00, the system should suggest \"university\" as the destination. Now, it's not that simple always, so we should seek for smart wayys to solve this problem!\n",
        "\n",
        "As you may understood by now, we should engineer some of features from the data we have and try to predict the next destination of the passenger.\n",
        "\n",
        "Let's begin!"
      ]
    },
    {
      "cell_type": "markdown",
      "metadata": {
        "id": "Y8MbPPaBq-UA"
      },
      "source": [
        "## Setup"
      ]
    },
    {
      "cell_type": "code",
      "execution_count": 1,
      "metadata": {
        "id": "_PIzcKMsq-UA"
      },
      "outputs": [],
      "source": [
        "import random\n",
        "import json\n",
        "import pandas as pd\n",
        "import numpy as np\n",
        "import matplotlib.pyplot as plt\n",
        "import torch\n",
        "import torch.nn as nn\n",
        "\n",
        "random.seed(2024)\n",
        "np.random.seed(2024)"
      ]
    },
    {
      "cell_type": "markdown",
      "metadata": {
        "id": "8c3Q-O7iq-UB"
      },
      "source": [
        "# First Approach: Using KNN"
      ]
    },
    {
      "cell_type": "markdown",
      "metadata": {
        "id": "v7sy52XDq-UC"
      },
      "source": [
        "## Data Preparation for KNN"
      ]
    },
    {
      "cell_type": "markdown",
      "metadata": {
        "id": "WrmiPQQgq-UC"
      },
      "source": [
        "In this part, you should prepare the data for KNN. You should load the dataset file that we provided, named `Data/output.json` and then clean it, do all the required preprocessings and then split into train-test-val sets if necessary. Note that we provided a splitted test set for you, named `Data/output_test.json`. You should not use this file for training or validation. You should only use it for testing your model."
      ]
    },
    {
      "cell_type": "code",
      "execution_count": 2,
      "metadata": {
        "colab": {
          "base_uri": "https://localhost:8080/",
          "height": 206
        },
        "id": "hl3yYwckq-UC",
        "outputId": "20b2efb0-046a-4e99-daec-e2a654b8c171"
      },
      "outputs": [
        {
          "data": {
            "text/html": [
              "\n",
              "  <div id=\"df-b3ce3d18-ab7e-4c38-9282-44bfb533cf28\" class=\"colab-df-container\">\n",
              "    <div>\n",
              "<style scoped>\n",
              "    .dataframe tbody tr th:only-of-type {\n",
              "        vertical-align: middle;\n",
              "    }\n",
              "\n",
              "    .dataframe tbody tr th {\n",
              "        vertical-align: top;\n",
              "    }\n",
              "\n",
              "    .dataframe thead th {\n",
              "        text-align: right;\n",
              "    }\n",
              "</style>\n",
              "<table border=\"1\" class=\"dataframe\">\n",
              "  <thead>\n",
              "    <tr style=\"text-align: right;\">\n",
              "      <th></th>\n",
              "      <th>user_id</th>\n",
              "      <th>Day</th>\n",
              "      <th>origin lat</th>\n",
              "      <th>origin lon</th>\n",
              "      <th>dest lat</th>\n",
              "      <th>dest lon</th>\n",
              "      <th>start_time</th>\n",
              "      <th>end_time</th>\n",
              "      <th>price</th>\n",
              "    </tr>\n",
              "  </thead>\n",
              "  <tbody>\n",
              "    <tr>\n",
              "      <th>0</th>\n",
              "      <td>0</td>\n",
              "      <td>0</td>\n",
              "      <td>35.625</td>\n",
              "      <td>51.375</td>\n",
              "      <td>36.000</td>\n",
              "      <td>51.085</td>\n",
              "      <td>2024-01-30 13:07:00</td>\n",
              "      <td>2024-01-30 14:43:00</td>\n",
              "      <td>43.99</td>\n",
              "    </tr>\n",
              "    <tr>\n",
              "      <th>1</th>\n",
              "      <td>0</td>\n",
              "      <td>0</td>\n",
              "      <td>36.000</td>\n",
              "      <td>51.085</td>\n",
              "      <td>35.625</td>\n",
              "      <td>51.375</td>\n",
              "      <td>2024-01-30 15:13:00</td>\n",
              "      <td>2024-01-30 16:49:00</td>\n",
              "      <td>36.66</td>\n",
              "    </tr>\n",
              "    <tr>\n",
              "      <th>2</th>\n",
              "      <td>0</td>\n",
              "      <td>0</td>\n",
              "      <td>35.680</td>\n",
              "      <td>51.445</td>\n",
              "      <td>35.745</td>\n",
              "      <td>51.465</td>\n",
              "      <td>2024-01-30 20:41:00</td>\n",
              "      <td>2024-01-30 20:54:00</td>\n",
              "      <td>15.08</td>\n",
              "    </tr>\n",
              "    <tr>\n",
              "      <th>3</th>\n",
              "      <td>0</td>\n",
              "      <td>0</td>\n",
              "      <td>35.745</td>\n",
              "      <td>51.465</td>\n",
              "      <td>35.680</td>\n",
              "      <td>51.445</td>\n",
              "      <td>2024-01-30 21:24:00</td>\n",
              "      <td>2024-01-30 21:37:00</td>\n",
              "      <td>10.00</td>\n",
              "    </tr>\n",
              "    <tr>\n",
              "      <th>4</th>\n",
              "      <td>0</td>\n",
              "      <td>1</td>\n",
              "      <td>35.625</td>\n",
              "      <td>51.375</td>\n",
              "      <td>35.680</td>\n",
              "      <td>51.445</td>\n",
              "      <td>2024-01-30 23:38:00</td>\n",
              "      <td>2024-01-30 23:58:00</td>\n",
              "      <td>19.48</td>\n",
              "    </tr>\n",
              "  </tbody>\n",
              "</table>\n",
              "</div>\n",
              "    <div class=\"colab-df-buttons\">\n",
              "\n",
              "  <div class=\"colab-df-container\">\n",
              "    <button class=\"colab-df-convert\" onclick=\"convertToInteractive('df-b3ce3d18-ab7e-4c38-9282-44bfb533cf28')\"\n",
              "            title=\"Convert this dataframe to an interactive table.\"\n",
              "            style=\"display:none;\">\n",
              "\n",
              "  <svg xmlns=\"http://www.w3.org/2000/svg\" height=\"24px\" viewBox=\"0 -960 960 960\">\n",
              "    <path d=\"M120-120v-720h720v720H120Zm60-500h600v-160H180v160Zm220 220h160v-160H400v160Zm0 220h160v-160H400v160ZM180-400h160v-160H180v160Zm440 0h160v-160H620v160ZM180-180h160v-160H180v160Zm440 0h160v-160H620v160Z\"/>\n",
              "  </svg>\n",
              "    </button>\n",
              "\n",
              "  <style>\n",
              "    .colab-df-container {\n",
              "      display:flex;\n",
              "      gap: 12px;\n",
              "    }\n",
              "\n",
              "    .colab-df-convert {\n",
              "      background-color: #E8F0FE;\n",
              "      border: none;\n",
              "      border-radius: 50%;\n",
              "      cursor: pointer;\n",
              "      display: none;\n",
              "      fill: #1967D2;\n",
              "      height: 32px;\n",
              "      padding: 0 0 0 0;\n",
              "      width: 32px;\n",
              "    }\n",
              "\n",
              "    .colab-df-convert:hover {\n",
              "      background-color: #E2EBFA;\n",
              "      box-shadow: 0px 1px 2px rgba(60, 64, 67, 0.3), 0px 1px 3px 1px rgba(60, 64, 67, 0.15);\n",
              "      fill: #174EA6;\n",
              "    }\n",
              "\n",
              "    .colab-df-buttons div {\n",
              "      margin-bottom: 4px;\n",
              "    }\n",
              "\n",
              "    [theme=dark] .colab-df-convert {\n",
              "      background-color: #3B4455;\n",
              "      fill: #D2E3FC;\n",
              "    }\n",
              "\n",
              "    [theme=dark] .colab-df-convert:hover {\n",
              "      background-color: #434B5C;\n",
              "      box-shadow: 0px 1px 3px 1px rgba(0, 0, 0, 0.15);\n",
              "      filter: drop-shadow(0px 1px 2px rgba(0, 0, 0, 0.3));\n",
              "      fill: #FFFFFF;\n",
              "    }\n",
              "  </style>\n",
              "\n",
              "    <script>\n",
              "      const buttonEl =\n",
              "        document.querySelector('#df-b3ce3d18-ab7e-4c38-9282-44bfb533cf28 button.colab-df-convert');\n",
              "      buttonEl.style.display =\n",
              "        google.colab.kernel.accessAllowed ? 'block' : 'none';\n",
              "\n",
              "      async function convertToInteractive(key) {\n",
              "        const element = document.querySelector('#df-b3ce3d18-ab7e-4c38-9282-44bfb533cf28');\n",
              "        const dataTable =\n",
              "          await google.colab.kernel.invokeFunction('convertToInteractive',\n",
              "                                                    [key], {});\n",
              "        if (!dataTable) return;\n",
              "\n",
              "        const docLinkHtml = 'Like what you see? Visit the ' +\n",
              "          '<a target=\"_blank\" href=https://colab.research.google.com/notebooks/data_table.ipynb>data table notebook</a>'\n",
              "          + ' to learn more about interactive tables.';\n",
              "        element.innerHTML = '';\n",
              "        dataTable['output_type'] = 'display_data';\n",
              "        await google.colab.output.renderOutput(dataTable, element);\n",
              "        const docLink = document.createElement('div');\n",
              "        docLink.innerHTML = docLinkHtml;\n",
              "        element.appendChild(docLink);\n",
              "      }\n",
              "    </script>\n",
              "  </div>\n",
              "\n",
              "\n",
              "<div id=\"df-829fc72c-678f-46bb-bf6b-509e0bb3c68e\">\n",
              "  <button class=\"colab-df-quickchart\" onclick=\"quickchart('df-829fc72c-678f-46bb-bf6b-509e0bb3c68e')\"\n",
              "            title=\"Suggest charts\"\n",
              "            style=\"display:none;\">\n",
              "\n",
              "<svg xmlns=\"http://www.w3.org/2000/svg\" height=\"24px\"viewBox=\"0 0 24 24\"\n",
              "     width=\"24px\">\n",
              "    <g>\n",
              "        <path d=\"M19 3H5c-1.1 0-2 .9-2 2v14c0 1.1.9 2 2 2h14c1.1 0 2-.9 2-2V5c0-1.1-.9-2-2-2zM9 17H7v-7h2v7zm4 0h-2V7h2v10zm4 0h-2v-4h2v4z\"/>\n",
              "    </g>\n",
              "</svg>\n",
              "  </button>\n",
              "\n",
              "<style>\n",
              "  .colab-df-quickchart {\n",
              "      --bg-color: #E8F0FE;\n",
              "      --fill-color: #1967D2;\n",
              "      --hover-bg-color: #E2EBFA;\n",
              "      --hover-fill-color: #174EA6;\n",
              "      --disabled-fill-color: #AAA;\n",
              "      --disabled-bg-color: #DDD;\n",
              "  }\n",
              "\n",
              "  [theme=dark] .colab-df-quickchart {\n",
              "      --bg-color: #3B4455;\n",
              "      --fill-color: #D2E3FC;\n",
              "      --hover-bg-color: #434B5C;\n",
              "      --hover-fill-color: #FFFFFF;\n",
              "      --disabled-bg-color: #3B4455;\n",
              "      --disabled-fill-color: #666;\n",
              "  }\n",
              "\n",
              "  .colab-df-quickchart {\n",
              "    background-color: var(--bg-color);\n",
              "    border: none;\n",
              "    border-radius: 50%;\n",
              "    cursor: pointer;\n",
              "    display: none;\n",
              "    fill: var(--fill-color);\n",
              "    height: 32px;\n",
              "    padding: 0;\n",
              "    width: 32px;\n",
              "  }\n",
              "\n",
              "  .colab-df-quickchart:hover {\n",
              "    background-color: var(--hover-bg-color);\n",
              "    box-shadow: 0 1px 2px rgba(60, 64, 67, 0.3), 0 1px 3px 1px rgba(60, 64, 67, 0.15);\n",
              "    fill: var(--button-hover-fill-color);\n",
              "  }\n",
              "\n",
              "  .colab-df-quickchart-complete:disabled,\n",
              "  .colab-df-quickchart-complete:disabled:hover {\n",
              "    background-color: var(--disabled-bg-color);\n",
              "    fill: var(--disabled-fill-color);\n",
              "    box-shadow: none;\n",
              "  }\n",
              "\n",
              "  .colab-df-spinner {\n",
              "    border: 2px solid var(--fill-color);\n",
              "    border-color: transparent;\n",
              "    border-bottom-color: var(--fill-color);\n",
              "    animation:\n",
              "      spin 1s steps(1) infinite;\n",
              "  }\n",
              "\n",
              "  @keyframes spin {\n",
              "    0% {\n",
              "      border-color: transparent;\n",
              "      border-bottom-color: var(--fill-color);\n",
              "      border-left-color: var(--fill-color);\n",
              "    }\n",
              "    20% {\n",
              "      border-color: transparent;\n",
              "      border-left-color: var(--fill-color);\n",
              "      border-top-color: var(--fill-color);\n",
              "    }\n",
              "    30% {\n",
              "      border-color: transparent;\n",
              "      border-left-color: var(--fill-color);\n",
              "      border-top-color: var(--fill-color);\n",
              "      border-right-color: var(--fill-color);\n",
              "    }\n",
              "    40% {\n",
              "      border-color: transparent;\n",
              "      border-right-color: var(--fill-color);\n",
              "      border-top-color: var(--fill-color);\n",
              "    }\n",
              "    60% {\n",
              "      border-color: transparent;\n",
              "      border-right-color: var(--fill-color);\n",
              "    }\n",
              "    80% {\n",
              "      border-color: transparent;\n",
              "      border-right-color: var(--fill-color);\n",
              "      border-bottom-color: var(--fill-color);\n",
              "    }\n",
              "    90% {\n",
              "      border-color: transparent;\n",
              "      border-bottom-color: var(--fill-color);\n",
              "    }\n",
              "  }\n",
              "</style>\n",
              "\n",
              "  <script>\n",
              "    async function quickchart(key) {\n",
              "      const quickchartButtonEl =\n",
              "        document.querySelector('#' + key + ' button');\n",
              "      quickchartButtonEl.disabled = true;  // To prevent multiple clicks.\n",
              "      quickchartButtonEl.classList.add('colab-df-spinner');\n",
              "      try {\n",
              "        const charts = await google.colab.kernel.invokeFunction(\n",
              "            'suggestCharts', [key], {});\n",
              "      } catch (error) {\n",
              "        console.error('Error during call to suggestCharts:', error);\n",
              "      }\n",
              "      quickchartButtonEl.classList.remove('colab-df-spinner');\n",
              "      quickchartButtonEl.classList.add('colab-df-quickchart-complete');\n",
              "    }\n",
              "    (() => {\n",
              "      let quickchartButtonEl =\n",
              "        document.querySelector('#df-829fc72c-678f-46bb-bf6b-509e0bb3c68e button');\n",
              "      quickchartButtonEl.style.display =\n",
              "        google.colab.kernel.accessAllowed ? 'block' : 'none';\n",
              "    })();\n",
              "  </script>\n",
              "</div>\n",
              "\n",
              "    </div>\n",
              "  </div>\n"
            ],
            "text/plain": [
              "   user_id  Day  origin lat  origin lon  dest lat  dest lon  \\\n",
              "0        0    0      35.625      51.375    36.000    51.085   \n",
              "1        0    0      36.000      51.085    35.625    51.375   \n",
              "2        0    0      35.680      51.445    35.745    51.465   \n",
              "3        0    0      35.745      51.465    35.680    51.445   \n",
              "4        0    1      35.625      51.375    35.680    51.445   \n",
              "\n",
              "           start_time            end_time  price  \n",
              "0 2024-01-30 13:07:00 2024-01-30 14:43:00  43.99  \n",
              "1 2024-01-30 15:13:00 2024-01-30 16:49:00  36.66  \n",
              "2 2024-01-30 20:41:00 2024-01-30 20:54:00  15.08  \n",
              "3 2024-01-30 21:24:00 2024-01-30 21:37:00  10.00  \n",
              "4 2024-01-30 23:38:00 2024-01-30 23:58:00  19.48  "
            ]
          },
          "execution_count": 2,
          "metadata": {},
          "output_type": "execute_result"
        }
      ],
      "source": [
        "# TODO: Load the dataset for training\n",
        "train_dataset = pd.read_json('output.json')\n",
        "train_dataset.head()"
      ]
    },
    {
      "cell_type": "code",
      "execution_count": 3,
      "metadata": {
        "colab": {
          "base_uri": "https://localhost:8080/",
          "height": 206
        },
        "id": "ouoRY7c1q-UD",
        "outputId": "d0dd0f17-29c3-40ba-8817-38878ef14f8c"
      },
      "outputs": [
        {
          "data": {
            "text/html": [
              "\n",
              "  <div id=\"df-36f86a78-5e03-4e10-a8f5-59d509f81300\" class=\"colab-df-container\">\n",
              "    <div>\n",
              "<style scoped>\n",
              "    .dataframe tbody tr th:only-of-type {\n",
              "        vertical-align: middle;\n",
              "    }\n",
              "\n",
              "    .dataframe tbody tr th {\n",
              "        vertical-align: top;\n",
              "    }\n",
              "\n",
              "    .dataframe thead th {\n",
              "        text-align: right;\n",
              "    }\n",
              "</style>\n",
              "<table border=\"1\" class=\"dataframe\">\n",
              "  <thead>\n",
              "    <tr style=\"text-align: right;\">\n",
              "      <th></th>\n",
              "      <th>user_id</th>\n",
              "      <th>Day</th>\n",
              "      <th>origin lat</th>\n",
              "      <th>origin lon</th>\n",
              "      <th>dest lat</th>\n",
              "      <th>dest lon</th>\n",
              "      <th>start_time</th>\n",
              "      <th>end_time</th>\n",
              "      <th>price</th>\n",
              "    </tr>\n",
              "  </thead>\n",
              "  <tbody>\n",
              "    <tr>\n",
              "      <th>0</th>\n",
              "      <td>24</td>\n",
              "      <td>6</td>\n",
              "      <td>35.650</td>\n",
              "      <td>51.225</td>\n",
              "      <td>35.640</td>\n",
              "      <td>51.270</td>\n",
              "      <td>2024-01-30 11:58:00</td>\n",
              "      <td>2024-01-30 12:12:00</td>\n",
              "      <td>10.00</td>\n",
              "    </tr>\n",
              "    <tr>\n",
              "      <th>1</th>\n",
              "      <td>46</td>\n",
              "      <td>2</td>\n",
              "      <td>35.625</td>\n",
              "      <td>51.250</td>\n",
              "      <td>35.690</td>\n",
              "      <td>51.295</td>\n",
              "      <td>2024-01-30 21:58:00</td>\n",
              "      <td>2024-01-30 22:18:00</td>\n",
              "      <td>11.84</td>\n",
              "    </tr>\n",
              "    <tr>\n",
              "      <th>2</th>\n",
              "      <td>27</td>\n",
              "      <td>5</td>\n",
              "      <td>35.650</td>\n",
              "      <td>51.225</td>\n",
              "      <td>35.865</td>\n",
              "      <td>51.045</td>\n",
              "      <td>2024-01-30 20:05:00</td>\n",
              "      <td>2024-01-30 20:58:00</td>\n",
              "      <td>23.36</td>\n",
              "    </tr>\n",
              "    <tr>\n",
              "      <th>3</th>\n",
              "      <td>7</td>\n",
              "      <td>4</td>\n",
              "      <td>35.875</td>\n",
              "      <td>51.375</td>\n",
              "      <td>35.890</td>\n",
              "      <td>51.315</td>\n",
              "      <td>2024-01-30 17:39:00</td>\n",
              "      <td>2024-01-30 18:17:00</td>\n",
              "      <td>13.74</td>\n",
              "    </tr>\n",
              "    <tr>\n",
              "      <th>4</th>\n",
              "      <td>27</td>\n",
              "      <td>3</td>\n",
              "      <td>35.625</td>\n",
              "      <td>51.375</td>\n",
              "      <td>35.650</td>\n",
              "      <td>51.385</td>\n",
              "      <td>2024-01-30 13:16:00</td>\n",
              "      <td>2024-01-30 13:19:00</td>\n",
              "      <td>15.08</td>\n",
              "    </tr>\n",
              "  </tbody>\n",
              "</table>\n",
              "</div>\n",
              "    <div class=\"colab-df-buttons\">\n",
              "\n",
              "  <div class=\"colab-df-container\">\n",
              "    <button class=\"colab-df-convert\" onclick=\"convertToInteractive('df-36f86a78-5e03-4e10-a8f5-59d509f81300')\"\n",
              "            title=\"Convert this dataframe to an interactive table.\"\n",
              "            style=\"display:none;\">\n",
              "\n",
              "  <svg xmlns=\"http://www.w3.org/2000/svg\" height=\"24px\" viewBox=\"0 -960 960 960\">\n",
              "    <path d=\"M120-120v-720h720v720H120Zm60-500h600v-160H180v160Zm220 220h160v-160H400v160Zm0 220h160v-160H400v160ZM180-400h160v-160H180v160Zm440 0h160v-160H620v160ZM180-180h160v-160H180v160Zm440 0h160v-160H620v160Z\"/>\n",
              "  </svg>\n",
              "    </button>\n",
              "\n",
              "  <style>\n",
              "    .colab-df-container {\n",
              "      display:flex;\n",
              "      gap: 12px;\n",
              "    }\n",
              "\n",
              "    .colab-df-convert {\n",
              "      background-color: #E8F0FE;\n",
              "      border: none;\n",
              "      border-radius: 50%;\n",
              "      cursor: pointer;\n",
              "      display: none;\n",
              "      fill: #1967D2;\n",
              "      height: 32px;\n",
              "      padding: 0 0 0 0;\n",
              "      width: 32px;\n",
              "    }\n",
              "\n",
              "    .colab-df-convert:hover {\n",
              "      background-color: #E2EBFA;\n",
              "      box-shadow: 0px 1px 2px rgba(60, 64, 67, 0.3), 0px 1px 3px 1px rgba(60, 64, 67, 0.15);\n",
              "      fill: #174EA6;\n",
              "    }\n",
              "\n",
              "    .colab-df-buttons div {\n",
              "      margin-bottom: 4px;\n",
              "    }\n",
              "\n",
              "    [theme=dark] .colab-df-convert {\n",
              "      background-color: #3B4455;\n",
              "      fill: #D2E3FC;\n",
              "    }\n",
              "\n",
              "    [theme=dark] .colab-df-convert:hover {\n",
              "      background-color: #434B5C;\n",
              "      box-shadow: 0px 1px 3px 1px rgba(0, 0, 0, 0.15);\n",
              "      filter: drop-shadow(0px 1px 2px rgba(0, 0, 0, 0.3));\n",
              "      fill: #FFFFFF;\n",
              "    }\n",
              "  </style>\n",
              "\n",
              "    <script>\n",
              "      const buttonEl =\n",
              "        document.querySelector('#df-36f86a78-5e03-4e10-a8f5-59d509f81300 button.colab-df-convert');\n",
              "      buttonEl.style.display =\n",
              "        google.colab.kernel.accessAllowed ? 'block' : 'none';\n",
              "\n",
              "      async function convertToInteractive(key) {\n",
              "        const element = document.querySelector('#df-36f86a78-5e03-4e10-a8f5-59d509f81300');\n",
              "        const dataTable =\n",
              "          await google.colab.kernel.invokeFunction('convertToInteractive',\n",
              "                                                    [key], {});\n",
              "        if (!dataTable) return;\n",
              "\n",
              "        const docLinkHtml = 'Like what you see? Visit the ' +\n",
              "          '<a target=\"_blank\" href=https://colab.research.google.com/notebooks/data_table.ipynb>data table notebook</a>'\n",
              "          + ' to learn more about interactive tables.';\n",
              "        element.innerHTML = '';\n",
              "        dataTable['output_type'] = 'display_data';\n",
              "        await google.colab.output.renderOutput(dataTable, element);\n",
              "        const docLink = document.createElement('div');\n",
              "        docLink.innerHTML = docLinkHtml;\n",
              "        element.appendChild(docLink);\n",
              "      }\n",
              "    </script>\n",
              "  </div>\n",
              "\n",
              "\n",
              "<div id=\"df-f08eb15e-8ae7-4d35-89b0-eb0f28a74ea0\">\n",
              "  <button class=\"colab-df-quickchart\" onclick=\"quickchart('df-f08eb15e-8ae7-4d35-89b0-eb0f28a74ea0')\"\n",
              "            title=\"Suggest charts\"\n",
              "            style=\"display:none;\">\n",
              "\n",
              "<svg xmlns=\"http://www.w3.org/2000/svg\" height=\"24px\"viewBox=\"0 0 24 24\"\n",
              "     width=\"24px\">\n",
              "    <g>\n",
              "        <path d=\"M19 3H5c-1.1 0-2 .9-2 2v14c0 1.1.9 2 2 2h14c1.1 0 2-.9 2-2V5c0-1.1-.9-2-2-2zM9 17H7v-7h2v7zm4 0h-2V7h2v10zm4 0h-2v-4h2v4z\"/>\n",
              "    </g>\n",
              "</svg>\n",
              "  </button>\n",
              "\n",
              "<style>\n",
              "  .colab-df-quickchart {\n",
              "      --bg-color: #E8F0FE;\n",
              "      --fill-color: #1967D2;\n",
              "      --hover-bg-color: #E2EBFA;\n",
              "      --hover-fill-color: #174EA6;\n",
              "      --disabled-fill-color: #AAA;\n",
              "      --disabled-bg-color: #DDD;\n",
              "  }\n",
              "\n",
              "  [theme=dark] .colab-df-quickchart {\n",
              "      --bg-color: #3B4455;\n",
              "      --fill-color: #D2E3FC;\n",
              "      --hover-bg-color: #434B5C;\n",
              "      --hover-fill-color: #FFFFFF;\n",
              "      --disabled-bg-color: #3B4455;\n",
              "      --disabled-fill-color: #666;\n",
              "  }\n",
              "\n",
              "  .colab-df-quickchart {\n",
              "    background-color: var(--bg-color);\n",
              "    border: none;\n",
              "    border-radius: 50%;\n",
              "    cursor: pointer;\n",
              "    display: none;\n",
              "    fill: var(--fill-color);\n",
              "    height: 32px;\n",
              "    padding: 0;\n",
              "    width: 32px;\n",
              "  }\n",
              "\n",
              "  .colab-df-quickchart:hover {\n",
              "    background-color: var(--hover-bg-color);\n",
              "    box-shadow: 0 1px 2px rgba(60, 64, 67, 0.3), 0 1px 3px 1px rgba(60, 64, 67, 0.15);\n",
              "    fill: var(--button-hover-fill-color);\n",
              "  }\n",
              "\n",
              "  .colab-df-quickchart-complete:disabled,\n",
              "  .colab-df-quickchart-complete:disabled:hover {\n",
              "    background-color: var(--disabled-bg-color);\n",
              "    fill: var(--disabled-fill-color);\n",
              "    box-shadow: none;\n",
              "  }\n",
              "\n",
              "  .colab-df-spinner {\n",
              "    border: 2px solid var(--fill-color);\n",
              "    border-color: transparent;\n",
              "    border-bottom-color: var(--fill-color);\n",
              "    animation:\n",
              "      spin 1s steps(1) infinite;\n",
              "  }\n",
              "\n",
              "  @keyframes spin {\n",
              "    0% {\n",
              "      border-color: transparent;\n",
              "      border-bottom-color: var(--fill-color);\n",
              "      border-left-color: var(--fill-color);\n",
              "    }\n",
              "    20% {\n",
              "      border-color: transparent;\n",
              "      border-left-color: var(--fill-color);\n",
              "      border-top-color: var(--fill-color);\n",
              "    }\n",
              "    30% {\n",
              "      border-color: transparent;\n",
              "      border-left-color: var(--fill-color);\n",
              "      border-top-color: var(--fill-color);\n",
              "      border-right-color: var(--fill-color);\n",
              "    }\n",
              "    40% {\n",
              "      border-color: transparent;\n",
              "      border-right-color: var(--fill-color);\n",
              "      border-top-color: var(--fill-color);\n",
              "    }\n",
              "    60% {\n",
              "      border-color: transparent;\n",
              "      border-right-color: var(--fill-color);\n",
              "    }\n",
              "    80% {\n",
              "      border-color: transparent;\n",
              "      border-right-color: var(--fill-color);\n",
              "      border-bottom-color: var(--fill-color);\n",
              "    }\n",
              "    90% {\n",
              "      border-color: transparent;\n",
              "      border-bottom-color: var(--fill-color);\n",
              "    }\n",
              "  }\n",
              "</style>\n",
              "\n",
              "  <script>\n",
              "    async function quickchart(key) {\n",
              "      const quickchartButtonEl =\n",
              "        document.querySelector('#' + key + ' button');\n",
              "      quickchartButtonEl.disabled = true;  // To prevent multiple clicks.\n",
              "      quickchartButtonEl.classList.add('colab-df-spinner');\n",
              "      try {\n",
              "        const charts = await google.colab.kernel.invokeFunction(\n",
              "            'suggestCharts', [key], {});\n",
              "      } catch (error) {\n",
              "        console.error('Error during call to suggestCharts:', error);\n",
              "      }\n",
              "      quickchartButtonEl.classList.remove('colab-df-spinner');\n",
              "      quickchartButtonEl.classList.add('colab-df-quickchart-complete');\n",
              "    }\n",
              "    (() => {\n",
              "      let quickchartButtonEl =\n",
              "        document.querySelector('#df-f08eb15e-8ae7-4d35-89b0-eb0f28a74ea0 button');\n",
              "      quickchartButtonEl.style.display =\n",
              "        google.colab.kernel.accessAllowed ? 'block' : 'none';\n",
              "    })();\n",
              "  </script>\n",
              "</div>\n",
              "\n",
              "    </div>\n",
              "  </div>\n"
            ],
            "text/plain": [
              "   user_id  Day  origin lat  origin lon  dest lat  dest lon  \\\n",
              "0       24    6      35.650      51.225    35.640    51.270   \n",
              "1       46    2      35.625      51.250    35.690    51.295   \n",
              "2       27    5      35.650      51.225    35.865    51.045   \n",
              "3        7    4      35.875      51.375    35.890    51.315   \n",
              "4       27    3      35.625      51.375    35.650    51.385   \n",
              "\n",
              "           start_time            end_time  price  \n",
              "0 2024-01-30 11:58:00 2024-01-30 12:12:00  10.00  \n",
              "1 2024-01-30 21:58:00 2024-01-30 22:18:00  11.84  \n",
              "2 2024-01-30 20:05:00 2024-01-30 20:58:00  23.36  \n",
              "3 2024-01-30 17:39:00 2024-01-30 18:17:00  13.74  \n",
              "4 2024-01-30 13:16:00 2024-01-30 13:19:00  15.08  "
            ]
          },
          "execution_count": 3,
          "metadata": {},
          "output_type": "execute_result"
        }
      ],
      "source": [
        "# TODO: Load the dataset for testing\n",
        "test_dataset = pd.read_json('output_test.json')\n",
        "test_dataset.head()"
      ]
    },
    {
      "cell_type": "code",
      "execution_count": 4,
      "metadata": {
        "colab": {
          "base_uri": "https://localhost:8080/"
        },
        "id": "YUvk3d1mq-UE",
        "outputId": "f72aa3a2-7402-4524-fed1-24bfa679b17a"
      },
      "outputs": [
        {
          "name": "stdout",
          "output_type": "stream",
          "text": [
            "Number of unique users:  60\n",
            "Selected user:  30\n"
          ]
        }
      ],
      "source": [
        "# print out the number of unique users and also randomly select one user\n",
        "# TODO\n",
        "unique_users = train_dataset['user_id'].unique()\n",
        "print('Number of unique users: ', len(unique_users))\n",
        "selected_user = random.choice(unique_users)\n",
        "print('Selected user: ', selected_user)"
      ]
    },
    {
      "cell_type": "code",
      "execution_count": 5,
      "metadata": {
        "colab": {
          "base_uri": "https://localhost:8080/"
        },
        "id": "UqNswJqXq-UE",
        "outputId": "f0597707-2678-4f74-8671-c9bcf0982a5e"
      },
      "outputs": [
        {
          "name": "stdout",
          "output_type": "stream",
          "text": [
            "Collecting keplergl\n",
            "  Downloading keplergl-0.3.2.tar.gz (9.7 MB)\n",
            "\u001b[2K     \u001b[90m━━━━━━━━━━━━━━━━━━━━━━━━━━━━━━━━━━━━━━━━\u001b[0m \u001b[32m9.7/9.7 MB\u001b[0m \u001b[31m18.5 MB/s\u001b[0m eta \u001b[36m0:00:00\u001b[0m\n",
            "\u001b[?25h  Installing build dependencies ... \u001b[?25l\u001b[?25hdone\n",
            "  Getting requirements to build wheel ... \u001b[?25l\u001b[?25hdone\n",
            "  Preparing metadata (pyproject.toml) ... \u001b[?25l\u001b[?25hdone\n",
            "Requirement already satisfied: ipywidgets<8,>=7.0.0 in /usr/local/lib/python3.10/dist-packages (from keplergl) (7.7.1)\n",
            "Requirement already satisfied: traittypes>=0.2.1 in /usr/local/lib/python3.10/dist-packages (from keplergl) (0.2.1)\n",
            "Requirement already satisfied: geopandas>=0.5.0 in /usr/local/lib/python3.10/dist-packages (from keplergl) (0.13.2)\n",
            "Requirement already satisfied: pandas>=0.23.0 in /usr/local/lib/python3.10/dist-packages (from keplergl) (1.5.3)\n",
            "Requirement already satisfied: Shapely>=1.6.4.post2 in /usr/local/lib/python3.10/dist-packages (from keplergl) (2.0.2)\n",
            "Requirement already satisfied: fiona>=1.8.19 in /usr/local/lib/python3.10/dist-packages (from geopandas>=0.5.0->keplergl) (1.9.5)\n",
            "Requirement already satisfied: packaging in /usr/local/lib/python3.10/dist-packages (from geopandas>=0.5.0->keplergl) (23.2)\n",
            "Requirement already satisfied: pyproj>=3.0.1 in /usr/local/lib/python3.10/dist-packages (from geopandas>=0.5.0->keplergl) (3.6.1)\n",
            "Requirement already satisfied: ipykernel>=4.5.1 in /usr/local/lib/python3.10/dist-packages (from ipywidgets<8,>=7.0.0->keplergl) (5.5.6)\n",
            "Requirement already satisfied: ipython-genutils~=0.2.0 in /usr/local/lib/python3.10/dist-packages (from ipywidgets<8,>=7.0.0->keplergl) (0.2.0)\n",
            "Requirement already satisfied: traitlets>=4.3.1 in /usr/local/lib/python3.10/dist-packages (from ipywidgets<8,>=7.0.0->keplergl) (5.7.1)\n",
            "Requirement already satisfied: widgetsnbextension~=3.6.0 in /usr/local/lib/python3.10/dist-packages (from ipywidgets<8,>=7.0.0->keplergl) (3.6.6)\n",
            "Requirement already satisfied: ipython>=4.0.0 in /usr/local/lib/python3.10/dist-packages (from ipywidgets<8,>=7.0.0->keplergl) (7.34.0)\n",
            "Requirement already satisfied: jupyterlab-widgets>=1.0.0 in /usr/local/lib/python3.10/dist-packages (from ipywidgets<8,>=7.0.0->keplergl) (3.0.9)\n",
            "Requirement already satisfied: python-dateutil>=2.8.1 in /usr/local/lib/python3.10/dist-packages (from pandas>=0.23.0->keplergl) (2.8.2)\n",
            "Requirement already satisfied: pytz>=2020.1 in /usr/local/lib/python3.10/dist-packages (from pandas>=0.23.0->keplergl) (2023.3.post1)\n",
            "Requirement already satisfied: numpy>=1.21.0 in /usr/local/lib/python3.10/dist-packages (from pandas>=0.23.0->keplergl) (1.23.5)\n",
            "Requirement already satisfied: attrs>=19.2.0 in /usr/local/lib/python3.10/dist-packages (from fiona>=1.8.19->geopandas>=0.5.0->keplergl) (23.2.0)\n",
            "Requirement already satisfied: certifi in /usr/local/lib/python3.10/dist-packages (from fiona>=1.8.19->geopandas>=0.5.0->keplergl) (2023.11.17)\n",
            "Requirement already satisfied: click~=8.0 in /usr/local/lib/python3.10/dist-packages (from fiona>=1.8.19->geopandas>=0.5.0->keplergl) (8.1.7)\n",
            "Requirement already satisfied: click-plugins>=1.0 in /usr/local/lib/python3.10/dist-packages (from fiona>=1.8.19->geopandas>=0.5.0->keplergl) (1.1.1)\n",
            "Requirement already satisfied: cligj>=0.5 in /usr/local/lib/python3.10/dist-packages (from fiona>=1.8.19->geopandas>=0.5.0->keplergl) (0.7.2)\n",
            "Requirement already satisfied: six in /usr/local/lib/python3.10/dist-packages (from fiona>=1.8.19->geopandas>=0.5.0->keplergl) (1.16.0)\n",
            "Requirement already satisfied: setuptools in /usr/local/lib/python3.10/dist-packages (from fiona>=1.8.19->geopandas>=0.5.0->keplergl) (67.7.2)\n",
            "Requirement already satisfied: jupyter-client in /usr/local/lib/python3.10/dist-packages (from ipykernel>=4.5.1->ipywidgets<8,>=7.0.0->keplergl) (6.1.12)\n",
            "Requirement already satisfied: tornado>=4.2 in /usr/local/lib/python3.10/dist-packages (from ipykernel>=4.5.1->ipywidgets<8,>=7.0.0->keplergl) (6.3.2)\n",
            "Collecting jedi>=0.16 (from ipython>=4.0.0->ipywidgets<8,>=7.0.0->keplergl)\n",
            "  Using cached jedi-0.19.1-py2.py3-none-any.whl (1.6 MB)\n",
            "Requirement already satisfied: decorator in /usr/local/lib/python3.10/dist-packages (from ipython>=4.0.0->ipywidgets<8,>=7.0.0->keplergl) (4.4.2)\n",
            "Requirement already satisfied: pickleshare in /usr/local/lib/python3.10/dist-packages (from ipython>=4.0.0->ipywidgets<8,>=7.0.0->keplergl) (0.7.5)\n",
            "Requirement already satisfied: prompt-toolkit!=3.0.0,!=3.0.1,<3.1.0,>=2.0.0 in /usr/local/lib/python3.10/dist-packages (from ipython>=4.0.0->ipywidgets<8,>=7.0.0->keplergl) (3.0.43)\n",
            "Requirement already satisfied: pygments in /usr/local/lib/python3.10/dist-packages (from ipython>=4.0.0->ipywidgets<8,>=7.0.0->keplergl) (2.16.1)\n",
            "Requirement already satisfied: backcall in /usr/local/lib/python3.10/dist-packages (from ipython>=4.0.0->ipywidgets<8,>=7.0.0->keplergl) (0.2.0)\n",
            "Requirement already satisfied: matplotlib-inline in /usr/local/lib/python3.10/dist-packages (from ipython>=4.0.0->ipywidgets<8,>=7.0.0->keplergl) (0.1.6)\n",
            "Requirement already satisfied: pexpect>4.3 in /usr/local/lib/python3.10/dist-packages (from ipython>=4.0.0->ipywidgets<8,>=7.0.0->keplergl) (4.9.0)\n",
            "Requirement already satisfied: notebook>=4.4.1 in /usr/local/lib/python3.10/dist-packages (from widgetsnbextension~=3.6.0->ipywidgets<8,>=7.0.0->keplergl) (6.5.5)\n",
            "Requirement already satisfied: parso<0.9.0,>=0.8.3 in /usr/local/lib/python3.10/dist-packages (from jedi>=0.16->ipython>=4.0.0->ipywidgets<8,>=7.0.0->keplergl) (0.8.3)\n",
            "Requirement already satisfied: jinja2 in /usr/local/lib/python3.10/dist-packages (from notebook>=4.4.1->widgetsnbextension~=3.6.0->ipywidgets<8,>=7.0.0->keplergl) (3.1.3)\n",
            "Requirement already satisfied: pyzmq<25,>=17 in /usr/local/lib/python3.10/dist-packages (from notebook>=4.4.1->widgetsnbextension~=3.6.0->ipywidgets<8,>=7.0.0->keplergl) (23.2.1)\n",
            "Requirement already satisfied: argon2-cffi in /usr/local/lib/python3.10/dist-packages (from notebook>=4.4.1->widgetsnbextension~=3.6.0->ipywidgets<8,>=7.0.0->keplergl) (23.1.0)\n",
            "Requirement already satisfied: jupyter-core>=4.6.1 in /usr/local/lib/python3.10/dist-packages (from notebook>=4.4.1->widgetsnbextension~=3.6.0->ipywidgets<8,>=7.0.0->keplergl) (5.7.1)\n",
            "Requirement already satisfied: nbformat in /usr/local/lib/python3.10/dist-packages (from notebook>=4.4.1->widgetsnbextension~=3.6.0->ipywidgets<8,>=7.0.0->keplergl) (5.9.2)\n",
            "Requirement already satisfied: nbconvert>=5 in /usr/local/lib/python3.10/dist-packages (from notebook>=4.4.1->widgetsnbextension~=3.6.0->ipywidgets<8,>=7.0.0->keplergl) (6.5.4)\n",
            "Requirement already satisfied: nest-asyncio>=1.5 in /usr/local/lib/python3.10/dist-packages (from notebook>=4.4.1->widgetsnbextension~=3.6.0->ipywidgets<8,>=7.0.0->keplergl) (1.6.0)\n",
            "Requirement already satisfied: Send2Trash>=1.8.0 in /usr/local/lib/python3.10/dist-packages (from notebook>=4.4.1->widgetsnbextension~=3.6.0->ipywidgets<8,>=7.0.0->keplergl) (1.8.2)\n",
            "Requirement already satisfied: terminado>=0.8.3 in /usr/local/lib/python3.10/dist-packages (from notebook>=4.4.1->widgetsnbextension~=3.6.0->ipywidgets<8,>=7.0.0->keplergl) (0.18.0)\n",
            "Requirement already satisfied: prometheus-client in /usr/local/lib/python3.10/dist-packages (from notebook>=4.4.1->widgetsnbextension~=3.6.0->ipywidgets<8,>=7.0.0->keplergl) (0.19.0)\n",
            "Requirement already satisfied: nbclassic>=0.4.7 in /usr/local/lib/python3.10/dist-packages (from notebook>=4.4.1->widgetsnbextension~=3.6.0->ipywidgets<8,>=7.0.0->keplergl) (1.0.0)\n",
            "Requirement already satisfied: ptyprocess>=0.5 in /usr/local/lib/python3.10/dist-packages (from pexpect>4.3->ipython>=4.0.0->ipywidgets<8,>=7.0.0->keplergl) (0.7.0)\n",
            "Requirement already satisfied: wcwidth in /usr/local/lib/python3.10/dist-packages (from prompt-toolkit!=3.0.0,!=3.0.1,<3.1.0,>=2.0.0->ipython>=4.0.0->ipywidgets<8,>=7.0.0->keplergl) (0.2.13)\n",
            "Requirement already satisfied: platformdirs>=2.5 in /usr/local/lib/python3.10/dist-packages (from jupyter-core>=4.6.1->notebook>=4.4.1->widgetsnbextension~=3.6.0->ipywidgets<8,>=7.0.0->keplergl) (4.1.0)\n",
            "Requirement already satisfied: jupyter-server>=1.8 in /usr/local/lib/python3.10/dist-packages (from nbclassic>=0.4.7->notebook>=4.4.1->widgetsnbextension~=3.6.0->ipywidgets<8,>=7.0.0->keplergl) (1.24.0)\n",
            "Requirement already satisfied: notebook-shim>=0.2.3 in /usr/local/lib/python3.10/dist-packages (from nbclassic>=0.4.7->notebook>=4.4.1->widgetsnbextension~=3.6.0->ipywidgets<8,>=7.0.0->keplergl) (0.2.3)\n",
            "Requirement already satisfied: lxml in /usr/local/lib/python3.10/dist-packages (from nbconvert>=5->notebook>=4.4.1->widgetsnbextension~=3.6.0->ipywidgets<8,>=7.0.0->keplergl) (4.9.4)\n",
            "Requirement already satisfied: beautifulsoup4 in /usr/local/lib/python3.10/dist-packages (from nbconvert>=5->notebook>=4.4.1->widgetsnbextension~=3.6.0->ipywidgets<8,>=7.0.0->keplergl) (4.11.2)\n",
            "Requirement already satisfied: bleach in /usr/local/lib/python3.10/dist-packages (from nbconvert>=5->notebook>=4.4.1->widgetsnbextension~=3.6.0->ipywidgets<8,>=7.0.0->keplergl) (6.1.0)\n",
            "Requirement already satisfied: defusedxml in /usr/local/lib/python3.10/dist-packages (from nbconvert>=5->notebook>=4.4.1->widgetsnbextension~=3.6.0->ipywidgets<8,>=7.0.0->keplergl) (0.7.1)\n",
            "Requirement already satisfied: entrypoints>=0.2.2 in /usr/local/lib/python3.10/dist-packages (from nbconvert>=5->notebook>=4.4.1->widgetsnbextension~=3.6.0->ipywidgets<8,>=7.0.0->keplergl) (0.4)\n",
            "Requirement already satisfied: jupyterlab-pygments in /usr/local/lib/python3.10/dist-packages (from nbconvert>=5->notebook>=4.4.1->widgetsnbextension~=3.6.0->ipywidgets<8,>=7.0.0->keplergl) (0.3.0)\n",
            "Requirement already satisfied: MarkupSafe>=2.0 in /usr/local/lib/python3.10/dist-packages (from nbconvert>=5->notebook>=4.4.1->widgetsnbextension~=3.6.0->ipywidgets<8,>=7.0.0->keplergl) (2.1.4)\n",
            "Requirement already satisfied: mistune<2,>=0.8.1 in /usr/local/lib/python3.10/dist-packages (from nbconvert>=5->notebook>=4.4.1->widgetsnbextension~=3.6.0->ipywidgets<8,>=7.0.0->keplergl) (0.8.4)\n",
            "Requirement already satisfied: nbclient>=0.5.0 in /usr/local/lib/python3.10/dist-packages (from nbconvert>=5->notebook>=4.4.1->widgetsnbextension~=3.6.0->ipywidgets<8,>=7.0.0->keplergl) (0.9.0)\n",
            "Requirement already satisfied: pandocfilters>=1.4.1 in /usr/local/lib/python3.10/dist-packages (from nbconvert>=5->notebook>=4.4.1->widgetsnbextension~=3.6.0->ipywidgets<8,>=7.0.0->keplergl) (1.5.1)\n",
            "Requirement already satisfied: tinycss2 in /usr/local/lib/python3.10/dist-packages (from nbconvert>=5->notebook>=4.4.1->widgetsnbextension~=3.6.0->ipywidgets<8,>=7.0.0->keplergl) (1.2.1)\n",
            "Requirement already satisfied: fastjsonschema in /usr/local/lib/python3.10/dist-packages (from nbformat->notebook>=4.4.1->widgetsnbextension~=3.6.0->ipywidgets<8,>=7.0.0->keplergl) (2.19.1)\n",
            "Requirement already satisfied: jsonschema>=2.6 in /usr/local/lib/python3.10/dist-packages (from nbformat->notebook>=4.4.1->widgetsnbextension~=3.6.0->ipywidgets<8,>=7.0.0->keplergl) (4.19.2)\n",
            "Requirement already satisfied: argon2-cffi-bindings in /usr/local/lib/python3.10/dist-packages (from argon2-cffi->notebook>=4.4.1->widgetsnbextension~=3.6.0->ipywidgets<8,>=7.0.0->keplergl) (21.2.0)\n",
            "Requirement already satisfied: jsonschema-specifications>=2023.03.6 in /usr/local/lib/python3.10/dist-packages (from jsonschema>=2.6->nbformat->notebook>=4.4.1->widgetsnbextension~=3.6.0->ipywidgets<8,>=7.0.0->keplergl) (2023.12.1)\n",
            "Requirement already satisfied: referencing>=0.28.4 in /usr/local/lib/python3.10/dist-packages (from jsonschema>=2.6->nbformat->notebook>=4.4.1->widgetsnbextension~=3.6.0->ipywidgets<8,>=7.0.0->keplergl) (0.32.1)\n",
            "Requirement already satisfied: rpds-py>=0.7.1 in /usr/local/lib/python3.10/dist-packages (from jsonschema>=2.6->nbformat->notebook>=4.4.1->widgetsnbextension~=3.6.0->ipywidgets<8,>=7.0.0->keplergl) (0.17.1)\n",
            "Requirement already satisfied: anyio<4,>=3.1.0 in /usr/local/lib/python3.10/dist-packages (from jupyter-server>=1.8->nbclassic>=0.4.7->notebook>=4.4.1->widgetsnbextension~=3.6.0->ipywidgets<8,>=7.0.0->keplergl) (3.7.1)\n",
            "Requirement already satisfied: websocket-client in /usr/local/lib/python3.10/dist-packages (from jupyter-server>=1.8->nbclassic>=0.4.7->notebook>=4.4.1->widgetsnbextension~=3.6.0->ipywidgets<8,>=7.0.0->keplergl) (1.7.0)\n",
            "Requirement already satisfied: cffi>=1.0.1 in /usr/local/lib/python3.10/dist-packages (from argon2-cffi-bindings->argon2-cffi->notebook>=4.4.1->widgetsnbextension~=3.6.0->ipywidgets<8,>=7.0.0->keplergl) (1.16.0)\n",
            "Requirement already satisfied: soupsieve>1.2 in /usr/local/lib/python3.10/dist-packages (from beautifulsoup4->nbconvert>=5->notebook>=4.4.1->widgetsnbextension~=3.6.0->ipywidgets<8,>=7.0.0->keplergl) (2.5)\n",
            "Requirement already satisfied: webencodings in /usr/local/lib/python3.10/dist-packages (from bleach->nbconvert>=5->notebook>=4.4.1->widgetsnbextension~=3.6.0->ipywidgets<8,>=7.0.0->keplergl) (0.5.1)\n",
            "Requirement already satisfied: idna>=2.8 in /usr/local/lib/python3.10/dist-packages (from anyio<4,>=3.1.0->jupyter-server>=1.8->nbclassic>=0.4.7->notebook>=4.4.1->widgetsnbextension~=3.6.0->ipywidgets<8,>=7.0.0->keplergl) (3.6)\n",
            "Requirement already satisfied: sniffio>=1.1 in /usr/local/lib/python3.10/dist-packages (from anyio<4,>=3.1.0->jupyter-server>=1.8->nbclassic>=0.4.7->notebook>=4.4.1->widgetsnbextension~=3.6.0->ipywidgets<8,>=7.0.0->keplergl) (1.3.0)\n",
            "Requirement already satisfied: exceptiongroup in /usr/local/lib/python3.10/dist-packages (from anyio<4,>=3.1.0->jupyter-server>=1.8->nbclassic>=0.4.7->notebook>=4.4.1->widgetsnbextension~=3.6.0->ipywidgets<8,>=7.0.0->keplergl) (1.2.0)\n",
            "Requirement already satisfied: pycparser in /usr/local/lib/python3.10/dist-packages (from cffi>=1.0.1->argon2-cffi-bindings->argon2-cffi->notebook>=4.4.1->widgetsnbextension~=3.6.0->ipywidgets<8,>=7.0.0->keplergl) (2.21)\n",
            "Building wheels for collected packages: keplergl\n",
            "  Building wheel for keplergl (pyproject.toml) ... \u001b[?25l\u001b[?25hdone\n",
            "  Created wheel for keplergl: filename=keplergl-0.3.2-py2.py3-none-any.whl size=17922315 sha256=662f1bf7d93dbe6d68b04680a48c62c12d2ba4677aafeff93a3a54339d898560\n",
            "  Stored in directory: /root/.cache/pip/wheels/e5/e9/db/b8b8f2fcb5cb1cd7268d88959fce267bc00697cb8f50dcd0d9\n",
            "Successfully built keplergl\n",
            "Installing collected packages: jedi, keplergl\n",
            "Successfully installed jedi-0.19.1 keplergl-0.3.2\n"
          ]
        }
      ],
      "source": [
        "!pip install keplergl\n",
        "from keplergl import KeplerGl\n",
        "\n",
        "# Uncomment the following line if you are using Google Colab\n",
        "from google.colab import output\n",
        "output.enable_custom_widget_manager()"
      ]
    },
    {
      "cell_type": "code",
      "execution_count": 6,
      "metadata": {
        "colab": {
          "base_uri": "https://localhost:8080/",
          "height": 421,
          "referenced_widgets": [
            "4e6518c0cafe41febe3fc907af6011b0",
            "402bd766232246e3a04373c2a3308804"
          ]
        },
        "id": "K3qGD7smq-UE",
        "outputId": "121c5c60-3d5a-4db8-f1ff-19a6929ee528"
      },
      "outputs": [
        {
          "name": "stdout",
          "output_type": "stream",
          "text": [
            "User Guide: https://docs.kepler.gl/docs/keplergl-jupyter\n"
          ]
        },
        {
          "data": {
            "application/vnd.jupyter.widget-view+json": {
              "model_id": "4e6518c0cafe41febe3fc907af6011b0",
              "version_major": 2,
              "version_minor": 0
            },
            "text/plain": [
              "KeplerGl(data={'data_1':       dest lat  dest lon\n",
              "8883    35.875    51.375\n",
              "8884    35.775    51.400\n",
              "8885    35…"
            ]
          },
          "metadata": {
            "application/vnd.jupyter.widget-view+json": {
              "colab": {
                "custom_widget_manager": {
                  "url": "https://ssl.gstatic.com/colaboratory-static/widgets/colab-cdn-widget-manager/2b70e893a8ba7c0f/manager.min.js"
                }
              }
            }
          },
          "output_type": "display_data"
        }
      ],
      "source": [
        "# choose the data related to the randomly selected user\n",
        "user_data = train_dataset[train_dataset['user_id'] == selected_user]\n",
        "# show destinations of this user on map\n",
        "destinations = user_data[['dest lat', 'dest lon']]\n",
        "\n",
        "# You should Use Kepler.gl to visualize the data\n",
        "map_0 = KeplerGl(data={\"data_1\": destinations})\n",
        "map_0\n",
        "# TODO"
      ]
    },
    {
      "cell_type": "code",
      "execution_count": null,
      "metadata": {
        "id": "dZVsSQL0q-UF",
        "outputId": "4ca33732-f1c2-4fea-b7ef-2b154f013572"
      },
      "outputs": [
        {
          "data": {
            "image/png": "[encoded data removed]",
            "text/plain": [
              "<Figure size 1500x1000 with 1 Axes>"
            ]
          },
          "metadata": {},
          "output_type": "display_data"
        }
      ],
      "source": [
        "# Sample output:"
      ]
    },
    {
      "cell_type": "markdown",
      "metadata": {
        "id": "XVwD-nsGq-UF"
      },
      "source": [
        "Here, you should do feature engineering stuff! Extract the features that you think are important. Split the features into training set and also extract the related outputs (used for our model further). These outputs may be strings (name of destination) or destination's latitude/longitude or etc. Use your creativity!"
      ]
    },
    {
      "cell_type": "code",
      "execution_count": 7,
      "metadata": {
        "id": "zVlO271kq-UF"
      },
      "outputs": [],
      "source": [
        "# TODO\n",
        "train_features_for_user = train_dataset[['user_id','Day', 'origin lat','origin lon', 'start_time']]\n",
        "train_result_for_user = train_dataset[['dest lat', 'dest lon']]\n",
        "test_features_for_user = test_dataset[['user_id','Day', 'origin lat','origin lon', 'start_time']]\n",
        "test_result_for_user = test_dataset[['dest lat', 'dest lon']]"
      ]
    },
    {
      "cell_type": "code",
      "execution_count": 8,
      "metadata": {
        "colab": {
          "base_uri": "https://localhost:8080/"
        },
        "id": "OUVFUXxZq-UF",
        "outputId": "00a0eb6f-4879-4c12-e6c2-d1c7ad9eeb88"
      },
      "outputs": [
        {
          "name": "stdout",
          "output_type": "stream",
          "text": [
            "((17994, 5), (17994, 2)) (4499, 5) (4499, 2)\n"
          ]
        }
      ],
      "source": [
        "# print out the shape of the train and test dataframes\n",
        "# TODO\n",
        "print((train_features_for_user.shape, train_result_for_user.shape),test_features_for_user.shape, test_result_for_user.shape)"
      ]
    },
    {
      "cell_type": "markdown",
      "metadata": {
        "id": "WjjJxOTaq-UG"
      },
      "source": [
        "## KNN Model"
      ]
    },
    {
      "cell_type": "markdown",
      "metadata": {
        "id": "mgbKwTPLq-UG"
      },
      "source": [
        "In this section, we are going to implement our KNN model. For further information on how KNN works, please refer to [this](https://en.wikipedia.org/wiki/K-nearest_neighbors_algorithm) link. As you can see, it's a simple algorithm. We will start with this and see the results of our _destination suggestion_ system."
      ]
    },
    {
      "cell_type": "code",
      "execution_count": 429,
      "metadata": {
        "id": "G2fJX8erq-UG"
      },
      "outputs": [],
      "source": [
        "# Define the model\n",
        "# TODO: You can change the signature of functions and also add any function you need\n",
        "from statistics import mode\n",
        "\n",
        "class NearestNeighbor():\n",
        "    def __init__(self,K):\n",
        "      self.K = K\n",
        "\n",
        "    def fit(self, train_X, train_y):\n",
        "        self.X_train = train_X.to_numpy()\n",
        "        for i in range(len(self.X_train)):\n",
        "          self.X_train[i][4] = np.double(self.X_train[i][4].hour/5)\n",
        "          self.X_train[i][2] = np.double(self.X_train[i][2]/5)\n",
        "\n",
        "\n",
        "\n",
        "\n",
        "        self.X_train = np.array(self.X_train,dtype=np.float64)\n",
        "        self.Y_train = train_y.to_numpy()\n",
        "        self.train_count, self.featuers = train_X.shape\n",
        "\n",
        "    def predict(self, x: pd.DataFrame):\n",
        "\n",
        "        # initialize Y_predict\n",
        "        x = x.to_numpy()\n",
        "        for i in range(len(x)):\n",
        "          x[i][4] = np.double(x[i][4].hour/5)\n",
        "          x[i][2] = np.double(x[i][2]/5)\n",
        "\n",
        "\n",
        "        x = np.array(x,dtype=np.float64)\n",
        "\n",
        "        Y_predict = np.zeros( (len(x),2) )\n",
        "\n",
        "        for i in range(len(x) ) :\n",
        "\n",
        "            neighbors = self.find_neighbors( x[i] )\n",
        "            # calculate the mean of K nearest neighbors\n",
        "            new_y = []\n",
        "            for j in range(len(neighbors)) :\n",
        "              new_y.append((neighbors[j][0],neighbors[j][1]))\n",
        "            #print(new_y)\n",
        "            if i%5000==0:\n",
        "              print(i)\n",
        "            Y_predict[i] =mode( new_y )\n",
        "\n",
        "\n",
        "        return Y_predict\n",
        "\n",
        "\n",
        "    def find_neighbors( self, x ) :\n",
        "\n",
        "        # calculate all the euclidean distances between current test\n",
        "        # example x and training set X_train\n",
        "        tmp = np.array(self.X_train - x)\n",
        "        tmp[:,0] = np.where(tmp[:,0] != 0,0.75,tmp[:,0])\n",
        "        euclidean_distances = np.linalg.norm(tmp , axis=1 )\n",
        "\n",
        "\n",
        "        # sort Y_train according to euclidean_distance_array and\n",
        "        # store into Y_train_sorted\n",
        "\n",
        "        inds = euclidean_distances.argsort()\n",
        "\n",
        "        Y_train_sorted = self.Y_train[inds][:self.K]\n",
        "\n",
        "        return Y_train_sorted\n",
        "\n",
        "    # Function to calculate euclidean distance\n",
        "\n"
      ]
    },
    {
      "cell_type": "code",
      "execution_count": null,
      "metadata": {
        "id": "8ZK7oWtQq-UG"
      },
      "outputs": [],
      "source": [
        "# Fit the model on training data\n",
        "Knn = NearestNeighbor(3)\n",
        "Knn.fit(train_features_for_user,train_result_for_user)"
      ]
    },
    {
      "cell_type": "code",
      "execution_count": 9,
      "metadata": {
        "colab": {
          "base_uri": "https://localhost:8080/",
          "height": 245
        },
        "id": "26x6d3dYq-UG",
        "outputId": "553d445c-e26e-4b78-b62f-53c825b87a88"
      },
      "outputs": [
        {
          "ename": "NameError",
          "evalue": "name 'Knn' is not defined",
          "output_type": "error",
          "traceback": [
            "\u001b[0;31m---------------------------------------------------------------------------\u001b[0m",
            "\u001b[0;31mNameError\u001b[0m                                 Traceback (most recent call last)",
            "\u001b[0;32m<ipython-input-9-4d0910852960>\u001b[0m in \u001b[0;36m<cell line: 13>\u001b[0;34m()\u001b[0m\n\u001b[1;32m     11\u001b[0m \u001b[0;31m# Calculate the accuracy on training data\u001b[0m\u001b[0;34m\u001b[0m\u001b[0;34m\u001b[0m\u001b[0m\n\u001b[1;32m     12\u001b[0m \u001b[0;31m# TODO\u001b[0m\u001b[0;34m\u001b[0m\u001b[0;34m\u001b[0m\u001b[0m\n\u001b[0;32m---> 13\u001b[0;31m \u001b[0mpre\u001b[0m \u001b[0;34m=\u001b[0m \u001b[0mKnn\u001b[0m\u001b[0;34m.\u001b[0m\u001b[0mpredict\u001b[0m\u001b[0;34m(\u001b[0m\u001b[0mtrain_features_for_user\u001b[0m\u001b[0;34m)\u001b[0m\u001b[0;34m\u001b[0m\u001b[0;34m\u001b[0m\u001b[0m\n\u001b[0m\u001b[1;32m     14\u001b[0m \u001b[0;31m#print(pre)\u001b[0m\u001b[0;34m\u001b[0m\u001b[0;34m\u001b[0m\u001b[0m\n\u001b[1;32m     15\u001b[0m \u001b[0mprint\u001b[0m\u001b[0;34m(\u001b[0m\u001b[0maccuracy\u001b[0m\u001b[0;34m(\u001b[0m\u001b[0mtrain_result_for_user\u001b[0m\u001b[0;34m,\u001b[0m\u001b[0mpre\u001b[0m\u001b[0;34m)\u001b[0m\u001b[0;34m)\u001b[0m\u001b[0;34m\u001b[0m\u001b[0;34m\u001b[0m\u001b[0m\n",
            "\u001b[0;31mNameError\u001b[0m: name 'Knn' is not defined"
          ]
        }
      ],
      "source": [
        "def accuracy(res,pre):\n",
        "  res = res.to_numpy()\n",
        "  s = 0;\n",
        "  for i in range(len(res)):\n",
        "    if res[i][0]== pre[i][0] and res[i][1]== pre[i][1]:\n",
        "      s+=1\n",
        "  return s/len(res)\n",
        "\n",
        "\n",
        "\n",
        "# Calculate the accuracy on training data\n",
        "# TODO\n",
        "pre = Knn.predict(train_features_for_user)\n",
        "#print(pre)\n",
        "print(accuracy(train_result_for_user,pre))\n"
      ]
    },
    {
      "cell_type": "code",
      "execution_count": 10,
      "metadata": {
        "colab": {
          "base_uri": "https://localhost:8080/",
          "height": 245
        },
        "id": "fvEAh1vmq-UH",
        "outputId": "ca7d69bf-8091-416b-89e1-f654f5940cf8"
      },
      "outputs": [
        {
          "ename": "NameError",
          "evalue": "name 'Knn' is not defined",
          "output_type": "error",
          "traceback": [
            "\u001b[0;31m---------------------------------------------------------------------------\u001b[0m",
            "\u001b[0;31mNameError\u001b[0m                                 Traceback (most recent call last)",
            "\u001b[0;32m<ipython-input-10-c1b094f1e9da>\u001b[0m in \u001b[0;36m<cell line: 3>\u001b[0;34m()\u001b[0m\n\u001b[1;32m      1\u001b[0m \u001b[0;31m# Calculate the accuracy on test data\u001b[0m\u001b[0;34m\u001b[0m\u001b[0;34m\u001b[0m\u001b[0m\n\u001b[1;32m      2\u001b[0m \u001b[0;31m# TODO\u001b[0m\u001b[0;34m\u001b[0m\u001b[0;34m\u001b[0m\u001b[0m\n\u001b[0;32m----> 3\u001b[0;31m \u001b[0mpre\u001b[0m \u001b[0;34m=\u001b[0m \u001b[0mKnn\u001b[0m\u001b[0;34m.\u001b[0m\u001b[0mpredict\u001b[0m\u001b[0;34m(\u001b[0m\u001b[0mtest_features_for_user\u001b[0m\u001b[0;34m)\u001b[0m\u001b[0;34m\u001b[0m\u001b[0;34m\u001b[0m\u001b[0m\n\u001b[0m\u001b[1;32m      4\u001b[0m \u001b[0;31m#print(pre)\u001b[0m\u001b[0;34m\u001b[0m\u001b[0;34m\u001b[0m\u001b[0m\n\u001b[1;32m      5\u001b[0m \u001b[0mprint\u001b[0m\u001b[0;34m(\u001b[0m\u001b[0maccuracy\u001b[0m\u001b[0;34m(\u001b[0m\u001b[0mtest_result_for_user\u001b[0m\u001b[0;34m,\u001b[0m\u001b[0mpre\u001b[0m\u001b[0;34m)\u001b[0m\u001b[0;34m)\u001b[0m\u001b[0;34m\u001b[0m\u001b[0;34m\u001b[0m\u001b[0m\n",
            "\u001b[0;31mNameError\u001b[0m: name 'Knn' is not defined"
          ]
        }
      ],
      "source": [
        "# Calculate the accuracy on test data\n",
        "# TODO\n",
        "pre = Knn.predict(test_features_for_user)\n",
        "#print(pre)\n",
        "print(accuracy(test_result_for_user,pre))\n",
        "\n",
        "\n",
        "\n",
        "\n"
      ]
    },
    {
      "cell_type": "markdown",
      "metadata": {
        "id": "CarfDEFvq-UH"
      },
      "source": [
        "**QUESTION**: What do you think about this approach? Is it a good idea to use KNN for this problem? Why (or why not)? If the patterns in our datatset (passengers' history) get more complicated, will our model be robust to it in comparison to other models?\n",
        "\n",
        "استفاده از این روش ساده است و نتیجه قابل قبولی هم دارد، اما با پیچیده تر شدن مدل به خوبی عمل نخواهد کرد، همچنین تعیین ضرایب در آن ساده نیست .\n",
        "<br>\n",
        "در صورتی که دیتای ترین بزرگتر شود، بسیار کند خواهد بود..\n"
      ]
    },
    {
      "cell_type": "markdown",
      "metadata": {
        "id": "zi7ZHV-Tq-UH"
      },
      "source": [
        "# Second Approach: Using XGBoost"
      ]
    },
    {
      "cell_type": "markdown",
      "metadata": {
        "id": "Cp94dybhq-UH"
      },
      "source": [
        "In this part, we are going to use XGBoost to predict the next destination of the passenger. You can use `xgboost` library to implement this model. To learn more about XGBoost, please refer to [this](https://en.wikipedia.org/wiki/XGBoost) link. It should be familiar to you, as you saw decision trees in the class.\n",
        "\n",
        "For this part, you can use the same data (that you did all the processes on) from the previous part. Or, if you need, you can reload the dataset and do new preprocessings on it."
      ]
    },
    {
      "cell_type": "markdown",
      "metadata": {
        "id": "oD448qbEq-UH"
      },
      "source": [
        "You can see the overview of how XGBoost works in the image below:\n",
        "\n",
        "<dev style=\"text-align: center\">\n",
        "<img src=\"./Images/XGBoost.png\" />\n",
        "</dev>"
      ]
    },
    {
      "cell_type": "markdown",
      "metadata": {
        "id": "Gez-SGdaq-UH"
      },
      "source": [
        "Although, this is for more information and you **do not** need to implement `XGBoost` from scratch. You can use the library that we mentioned above."
      ]
    },
    {
      "cell_type": "code",
      "execution_count": null,
      "metadata": {
        "colab": {
          "base_uri": "https://localhost:8080/"
        },
        "id": "nevHy1Djq-UH",
        "outputId": "4a18e588-7f77-41f7-dd5a-d02ff3aa6b81"
      },
      "outputs": [
        {
          "name": "stdout",
          "output_type": "stream",
          "text": [
            "Requirement already satisfied: xgboost in /usr/local/lib/python3.10/dist-packages (2.0.3)\n",
            "Requirement already satisfied: numpy in /usr/local/lib/python3.10/dist-packages (from xgboost) (1.23.5)\n",
            "Requirement already satisfied: scipy in /usr/local/lib/python3.10/dist-packages (from xgboost) (1.11.4)\n"
          ]
        }
      ],
      "source": [
        "%pip install xgboost"
      ]
    },
    {
      "cell_type": "code",
      "execution_count": null,
      "metadata": {
        "id": "JJPQdZJZq-UI"
      },
      "outputs": [],
      "source": [
        "import xgboost as xgb\n",
        "\n",
        "# Defining the model\n",
        "# TODO: You can change the signature of functions and also add any function you need\n",
        "class Encoder():\n",
        "    def __init__(self,classifier):\n",
        "      self.classifier = classifier\n",
        "      self.trans_dic={}\n",
        "      self.invtrans_dic={}\n",
        "      self.j=0\n",
        "\n",
        "\n",
        "\n",
        "\n",
        "    def fit(self,x, y):\n",
        "      self.X_train = x.to_numpy()\n",
        "      for i in range(len(self.X_train)):\n",
        "        self.X_train[i][4] = np.double(self.X_train[i][4].hour)\n",
        "\n",
        "      self.X_train = np.array(self.X_train,dtype=np.float64)\n",
        "      self.Y_train = y.to_numpy()\n",
        "      for i in range(len(self.Y_train)):\n",
        "        if (self.Y_train[i][0] , self.Y_train[i][1]) not in self.trans_dic:\n",
        "          self.trans_dic[(self.Y_train[i][0] , self.Y_train[i][1])]= self.j\n",
        "          self.invtrans_dic[self.j]= self.Y_train[i]\n",
        "          self.j+=1\n",
        "\n",
        "      self.Y_train = self.transform(self.Y_train)\n",
        "      print(self.Y_train)\n",
        "\n",
        "\n",
        "\n",
        "      self.classifier.fit(self.X_train ,self.Y_train)\n",
        "\n",
        "    def transform(self, y):\n",
        "      ny= []\n",
        "      for i in range(len(y)):\n",
        "        ny.append(self.trans_dic[(y[i][0] , y[i][1])])\n",
        "      return ny\n",
        "\n",
        "    def inverse_transform(self, enc):\n",
        "      ny= []\n",
        "      for i in range(len(enc)):\n",
        "        ny.append(self.invtrans_dic[enc[i]])\n",
        "\n",
        "      return np.array(ny)\n",
        "\n",
        "    def predict(self, x):\n",
        "      x = x.to_numpy()\n",
        "      for i in range(len(x)):\n",
        "        x[i][4] = np.double(x[i][4].hour)\n",
        "\n",
        "      x = np.array(x,dtype=np.float64)\n",
        "      pre = self.classifier.predict(x)\n",
        "      return self.inverse_transform(pre)\n",
        "\n",
        "\n",
        "\n",
        "\n"
      ]
    },
    {
      "cell_type": "code",
      "execution_count": null,
      "metadata": {
        "id": "ecXYx1qcq-UJ"
      },
      "outputs": [],
      "source": [
        "# TODO: fit the Encoder on training data"
      ]
    },
    {
      "cell_type": "code",
      "execution_count": null,
      "metadata": {
        "colab": {
          "base_uri": "https://localhost:8080/"
        },
        "id": "UBVFbiNQq-UK",
        "outputId": "d780a0c4-0850-42d4-c047-c62e86b61077"
      },
      "outputs": [
        {
          "name": "stdout",
          "output_type": "stream",
          "text": [
            "[0, 1, 2, 3, 3, 1, 3, 1, 1, 4, 3, 1, 5, 1, 6, 3, 7, 3, 8, 1, 3, 9, 1, 3, 1, 10, 3, 3, 11, 1, 1, 3, 10, 3, 12, 3, 12, 3, 1, 1, 5, 1, 3, 1, 13, 1, 3, 4, 3, 5, 3, 1, 3, 14, 3, 12, 12, 3, 15, 15, 3, 1, 1, 3, 6, 3, 1, 3, 1, 3, 1, 3, 14, 3, 14, 12, 3, 16, 3, 1, 17, 1, 8, 5, 3, 1, 3, 18, 3, 1, 7, 1, 3, 3, 1, 19, 1, 3, 20, 3, 12, 21, 3, 1, 3, 3, 1, 3, 3, 1, 5, 1, 3, 4, 22, 1, 3, 1, 3, 3, 23, 3, 18, 3, 1, 2, 3, 3, 1, 3, 1, 1, 3, 1, 17, 3, 1, 19, 12, 3, 10, 1, 3, 1, 3, 5, 3, 1, 5, 3, 2, 3, 1, 10, 3, 1, 17, 1, 3, 3, 1, 3, 3, 3, 24, 3, 1, 3, 6, 3, 3, 1, 6, 3, 1, 3, 4, 3, 1, 3, 1, 18, 1, 3, 9, 3, 12, 1, 22, 3, 1, 3, 1, 3, 3, 1, 17, 1, 5, 1, 25, 1, 26, 12, 3, 3, 1, 5, 21, 1, 23, 3, 1, 3, 1, 27, 1, 5, 12, 3, 17, 3, 1, 3, 28, 1, 3, 3, 28, 3, 1, 3, 1, 11, 12, 3, 4, 3, 26, 3, 12, 3, 5, 3, 1, 8, 1, 3, 29, 3, 1, 3, 2, 3, 1, 1, 3, 4, 3, 13, 1, 6, 3, 28, 3, 1, 3, 30, 3, 1, 10, 1, 3, 31, 1, 3, 1, 3, 4, 3, 20, 1, 3, 29, 3, 3, 16, 3, 12, 3, 1, 2, 3, 1, 3, 29, 1, 1, 3, 3, 32, 3, 3, 12, 3, 1, 23, 1, 3, 1, 17, 1, 3, 33, 3, 1, 6, 1, 3, 1, 14, 1, 3, 1, 3, 18, 3, 11, 1, 3, 2, 3, 34, 35, 34, 9, 35, 34, 10, 36, 35, 31, 35, 35, 34, 35, 37, 35, 31, 35, 28, 34, 38, 39, 34, 22, 36, 18, 35, 34, 35, 40, 34, 35, 16, 36, 35, 36, 35, 25, 35, 34, 2, 35, 33, 34, 41, 35, 34, 34, 35, 36, 35, 34, 19, 34, 39, 35, 6, 34, 35, 35, 26, 36, 35, 34, 35, 25, 34, 42, 34, 35, 34, 35, 23, 35, 37, 34, 35, 14, 42, 35, 34, 10, 35, 9, 34, 35, 36, 35, 31, 35, 34, 35, 34, 29, 35, 18, 34, 4, 35, 34, 42, 34, 6, 34, 8, 34, 35, 34, 26, 35, 34, 35, 26, 34, 35, 10, 31, 35, 16, 34, 16, 34, 35, 23, 34, 35, 40, 34, 2, 35, 22, 36, 35, 18, 35, 34, 35, 34, 43, 34, 8, 34, 27, 34, 35, 8, 35, 36, 35, 32, 35, 34, 8, 34, 35, 36, 35, 10, 35, 34, 41, 35, 24, 34, 44, 34, 35, 34, 25, 34, 27, 34, 41, 35, 34, 41, 34, 31, 15, 34, 27, 21, 45, 46, 15, 34, 6, 45, 47, 45, 34, 34, 29, 45, 34, 28, 22, 34, 41, 45, 46, 45, 34, 45, 18, 0, 45, 48, 34, 6, 45, 34, 30, 49, 45, 20, 45, 4, 5, 34, 9, 50, 34, 34, 45, 34, 34, 45, 26, 45, 18, 45, 34, 23, 45, 34, 40, 37, 43, 45, 48, 34, 2, 34, 45, 34, 36, 45, 25, 45, 45, 9, 45, 22, 34, 45, 34, 34, 46, 34, 17, 45, 31, 45, 50, 45, 42, 45, 34, 5, 45, 34, 9, 45, 34, 2, 45, 46, 34, 6, 45, 17, 45, 46, 45, 18, 45, 34, 51, 45, 34, 41, 41, 45, 46, 34, 20, 45, 29, 45, 36, 45, 46, 45, 16, 45, 34, 9, 45, 31, 45, 15, 45, 52, 34, 31, 34, 45, 47, 45, 18, 45, 34, 26, 34, 45, 17, 45, 29, 34, 46, 34, 28, 34, 16, 45, 4, 45, 47, 45, 10, 45, 11, 45, 34, 26, 34, 0, 34, 48, 34, 6, 34, 17, 45, 36, 45, 45, 45, 25, 45, 5, 34, 34, 8, 45, 52, 34, 42, 34, 34, 24, 45, 50, 45, 34, 2, 34, 45, 34, 10, 34, 51, 45, 14, 45, 36, 45, 46, 45, 15, 28, 34, 46, 34, 26, 34, 0, 34, 6, 34, 8, 46, 45, 13, 45, 34, 15, 45, 34, 26, 1, 1, 1, 6, 1, 28, 53, 1, 1, 12, 23, 53, 1, 1, 53, 53, 1, 53, 0, 53, 1, 53, 1, 1, 53, 12, 53, 27, 53, 14, 53, 1, 53, 1, 8, 1, 53, 1, 4, 1, 53, 14, 53, 1, 4, 53, 1, 2, 1, 53, 53, 12, 2, 53, 22, 53, 12, 53, 26, 53, 1, 8, 1, 53, 1, 53, 1, 53, 1, 5, 1, 18, 1, 12, 53, 51, 53, 0, 53, 1, 1, 1, 17, 1, 53, 1, 53, 1, 33, 1, 53, 28, 53, 1, 28, 1, 53, 12, 53, 6, 53, 53, 1, 19, 1, 53, 1, 53, 1, 23, 53, 1, 53, 53, 31, 53, 1, 6, 1, 1, 53, 1, 5, 1, 1, 53, 1, 26, 1, 53, 12, 53, 6, 53, 12, 53, 8, 1, 1, 6, 53, 1, 22, 1, 53, 1, 30, 1, 53, 12, 53, 20, 53, 18, 1, 53, 9, 1, 1, 53, 53, 1, 20, 1, 12, 26, 53, 12, 53, 1, 1, 53, 42, 53, 1, 1, 33, 1, 5, 1, 6, 53, 5, 53, 12, 53, 28, 21, 53, 1, 6, 1, 53, 1, 53, 11, 1, 53, 14, 1, 1, 20, 53, 12, 2, 53, 1, 53, 1, 53, 17, 1, 8, 1, 1, 53, 39, 53, 1, 5, 53, 1, 23, 1, 9, 1, 53, 1, 16, 1, 53, 1, 2, 1, 12, 53, 20, 53, 53, 39, 53, 1, 17, 1, 53, 1, 0, 53, 1, 10, 1, 53, 1, 53, 1, 6, 1, 53, 6, 53, 11, 53, 1, 2, 1, 53, 1, 21, 1, 53, 1, 28, 1, 53, 1, 2, 1, 53, 33, 21, 53, 12, 53, 1, 5, 1, 53, 39, 1, 53, 6, 53, 1, 1, 53, 16, 1, 53, 28, 53, 12, 53, 1, 53, 1, 32, 1, 53, 1, 6, 1, 4, 1, 6, 1, 53, 12, 53, 31, 53, 11, 53, 53, 1, 7, 1, 53, 34, 33, 34, 54, 42, 2, 54, 6, 27, 34, 54, 12, 54, 6, 54, 34, 34, 4, 34, 16, 34, 4, 37, 54, 29, 54, 34, 22, 34, 54, 32, 54, 54, 34, 41, 8, 34, 34, 6, 54, 34, 8, 34, 22, 34, 15, 34, 17, 8, 34, 22, 34, 54, 34, 54, 34, 4, 34, 54, 17, 34, 54, 34, 21, 34, 54, 34, 34, 15, 34, 54, 34, 25, 34, 21, 34, 54, 2, 34, 32, 54, 12, 54, 34, 41, 54, 34, 22, 54, 40, 34, 29, 34, 54, 34, 28, 34, 4, 54, 11, 12, 54, 34, 26, 29, 54, 34, 22, 34, 15, 34, 13, 34, 54, 12, 54, 2, 54, 34, 11, 54, 25, 34, 14, 34, 21, 34, 21, 34, 8, 34, 39, 54, 8, 54, 34, 54, 2, 34, 22, 54, 34, 5, 54, 34, 10, 34, 54, 34, 6, 54, 34, 4, 34, 34, 19, 54, 4, 0, 23, 34, 12, 54, 2, 54, 26, 34, 41, 54, 14, 34, 6, 2, 54, 54, 2, 54, 34, 54, 28, 34, 28, 34, 13, 54, 31, 34, 54, 34, 54, 34, 32, 54, 6, 54, 34, 4, 54, 34, 6, 54, 26, 54, 17, 34, 54, 34, 55, 34, 56, 33, 34, 56, 34, 56, 14, 34, 18, 56, 19, 56, 34, 21, 56, 55, 24, 34, 8, 34, 13, 56, 30, 34, 17, 34, 26, 56, 2, 36, 56, 34, 14, 56, 55, 34, 39, 34, 37, 34, 11, 26, 34, 21, 34, 4, 36, 56, 36, 56, 34, 55, 24, 34, 7, 11, 34, 25, 34, 8, 22, 34, 56, 56, 28, 56, 34, 21, 56, 50, 26, 34, 34, 24, 56, 34, 28, 34, 56, 51, 2, 47, 41, 34, 18, 34, 56, 41, 34, 56, 56, 34, 18, 6, 34, 56, 34, 5, 34, 6, 56, 39, 34, 22, 34, 56, 23, 56, 26, 56, 56, 34, 18, 10, 34, 34, 23, 34, 10, 34, 43, 34, 56, 34, 56, 34, 9, 34, 47, 4, 34, 34, 34, 56, 51, 18, 56, 51, 34, 23, 8, 36, 56, 8, 56, 10, 55, 34, 5, 56, 2, 56, 34, 37, 34, 31, 34, 56, 32, 34, 6, 56, 55, 11, 34, 34, 56, 21, 28, 34, 56, 34, 23, 56, 30, 56, 26, 56, 55, 34, 14, 34, 20, 56, 28, 6, 56, 4, 56, 36, 56, 34, 26, 34, 55, 4, 25, 34, 6, 6, 34, 40, 34, 26, 6, 36, 56, 23, 56, 34, 29, 55, 28, 34, 41, 56, 34, 34, 34, 5, 56, 34, 22, 56, 34, 56, 47, 9, 34, 56, 28, 57, 42, 57, 58, 57, 59, 22, 58, 57, 6, 57, 58, 57, 14, 43, 58, 57, 18, 59, 28, 57, 28, 58, 57, 22, 57, 58, 2, 57, 59, 57, 57, 58, 57, 2, 57, 58, 58, 57, 58, 9, 58, 57, 40, 57, 48, 60, 58, 60, 58, 20, 58, 57, 59, 57, 57, 30, 58, 58, 31, 57, 57, 40, 58, 24, 58, 58, 57, 58, 2, 58, 57, 13, 59, 58, 57, 57, 58, 4, 58, 16, 57, 59, 10, 58, 2, 58, 18, 58, 57, 57, 59, 40, 58, 57, 11, 57, 57, 6, 57, 58, 16, 49, 18, 58, 60, 13, 58, 28, 57, 58, 57, 50, 57, 39, 57, 57, 58, 17, 47, 10, 57, 16, 57, 58, 57, 58, 13, 57, 57, 59, 25, 57, 58, 8, 57, 59, 22, 58, 57, 16, 57, 58, 17, 57, 58, 57, 30, 57, 59, 44, 57, 10, 57, 58, 58, 57, 59, 58, 57, 58, 57, 57, 58, 2, 58, 57, 48, 15, 58, 2, 58, 57, 57, 49, 57, 16, 57, 58, 2, 58, 57, 7, 2, 48, 8, 58, 60, 58, 60, 58, 57, 59, 57, 58, 57, 8, 58, 57, 59, 16, 58, 40, 58, 17, 58, 4, 58, 57, 58, 5, 58, 57, 18, 57, 59, 28, 58, 57, 14, 57, 58, 58, 57, 21, 58, 57, 13, 57, 59, 32, 42, 58, 60, 58, 18, 58, 57, 42, 57, 57, 57, 31, 58, 57, 51, 58, 9, 58, 37, 60, 58, 32, 58, 57, 58, 26, 57, 57, 2, 57, 57, 57, 58, 32, 58, 57, 25, 57, 52, 60, 58, 2, 58, 60, 27, 57, 44, 57, 58, 25, 32, 57, 59, 18, 57, 2, 58, 57, 14, 57, 58, 9, 58, 57, 9, 60, 57, 57, 58, 48, 8, 58, 57, 58, 57, 57, 58, 13, 58, 57, 52, 17, 60, 58, 26, 58, 31, 57, 58, 4, 58, 57, 61, 62, 57, 62, 57, 9, 57, 62, 31, 62, 57, 62, 62, 63, 57, 61, 57, 62, 57, 62, 57, 62, 63, 14, 62, 11, 62, 57, 61, 57, 62, 17, 57, 17, 62, 57, 62, 15, 31, 57, 57, 61, 14, 62, 57, 62, 57, 20, 57, 62, 62, 5, 62, 4, 62, 29, 62, 15, 62, 57, 61, 57, 57, 62, 16, 62, 16, 62, 57, 22, 57, 57, 62, 7, 29, 62, 18, 57, 49, 57, 28, 57, 62, 62, 7, 57, 57, 0, 62, 63, 57, 61, 57, 16, 57, 62, 57, 57, 62, 14, 57, 62, 57, 61, 57, 2, 57, 57, 14, 57, 62, 40, 62, 10, 62, 13, 62, 63, 57, 61, 57, 22, 16, 57, 62, 62, 0, 62, 57, 4, 57, 11, 51, 62, 7, 62, 57, 61, 62, 57, 62, 62, 57, 22, 57, 62, 63, 62, 57, 50, 57, 62, 57, 62, 57, 8, 57, 57, 9, 57, 62, 63, 62, 23, 62, 63, 62, 2, 4, 49, 57, 62, 57, 62, 57, 62, 57, 33, 63, 62, 57, 20, 48, 57, 19, 57, 62, 62, 57, 62, 57, 62, 39, 41, 62, 9, 62, 57, 61, 57, 62, 57, 62, 57, 62, 57, 32, 57, 62, 2, 62, 11, 62, 57, 47, 57, 62, 57, 13, 62, 57, 14, 57, 57, 62, 29, 63, 29, 48, 62, 57, 62, 57, 62, 57, 63, 14, 62, 57, 61, 57, 57, 62, 57, 62, 57, 62, 62, 20, 62, 57, 19, 57, 61, 62, 19, 64, 14, 65, 64, 65, 42, 65, 64, 46, 64, 22, 64, 65, 19, 65, 12, 65, 20, 65, 31, 65, 12, 65, 64, 52, 65, 65, 11, 65, 64, 65, 13, 65, 64, 50, 64, 14, 64, 65, 0, 65, 12, 65, 65, 18, 64, 46, 64, 16, 65, 64, 4, 65, 64, 52, 29, 65, 64, 65, 39, 65, 12, 65, 12, 28, 65, 64, 27, 65, 64, 65, 64, 46, 21, 64, 31, 65, 12, 12, 64, 11, 65, 64, 65, 64, 22, 65, 64, 64, 65, 10, 65, 64, 0, 64, 11, 65, 64, 27, 64, 19, 64, 65, 18, 65, 64, 65, 64, 32, 65, 39, 65, 11, 64, 48, 14, 65, 64, 65, 64, 65, 5, 64, 52, 6, 65, 64, 22, 65, 7, 65, 51, 64, 64, 39, 65, 64, 2, 64, 65, 14, 65, 29, 64, 49, 65, 64, 65, 8, 65, 46, 65, 64, 20, 64, 65, 6, 64, 65, 4, 64, 49, 65, 64, 65, 18, 65, 65, 65, 64, 15, 65, 64, 65, 64, 65, 4, 65, 64, 50, 64, 65, 65, 12, 65, 65, 64, 28, 64, 52, 64, 64, 65, 65, 65, 6, 65, 64, 15, 11, 65, 64, 65, 13, 65, 42, 65, 28, 64, 50, 0, 64, 14, 64, 65, 9, 65, 64, 65, 64, 42, 65, 64, 64, 19, 65, 64, 65, 23, 65, 64, 37, 64, 31, 47, 64, 65, 9, 65, 12, 65, 14, 65, 64, 0, 64, 7, 65, 64, 65, 64, 52, 9, 65, 64, 65, 12, 65, 64, 21, 64, 47, 6, 65, 64, 65, 26, 65, 64, 20, 65, 64, 65, 64, 22, 64, 65, 14, 65, 12, 65, 29, 65, 64, 26, 64, 46, 65, 8, 65, 64, 65, 6, 64, 46, 10, 64, 23, 65, 12, 65, 52, 5, 65, 64, 64, 11, 64, 65, 27, 65, 46, 65, 23, 65, 5, 65, 64, 22, 64, 4, 65, 8, 66, 0, 66, 22, 64, 64, 59, 64, 30, 64, 66, 28, 64, 66, 60, 66, 7, 66, 64, 66, 64, 51, 64, 50, 64, 49, 64, 66, 64, 22, 64, 66, 60, 64, 4, 64, 47, 66, 64, 25, 64, 14, 66, 5, 66, 64, 29, 66, 60, 66, 32, 38, 64, 18, 66, 5, 64, 64, 66, 64, 5, 64, 52, 66, 64, 21, 64, 64, 10, 66, 10, 66, 64, 64, 26, 64, 59, 64, 59, 0, 64, 66, 64, 64, 6, 60, 66, 60, 66, 38, 66, 8, 66, 64, 16, 64, 66, 64, 31, 64, 59, 64, 14, 64, 59, 64, 66, 64, 64, 66, 29, 66, 64, 29, 64, 66, 8, 64, 47, 64, 10, 64, 59, 64, 66, 64, 22, 64, 66, 60, 66, 39, 60, 66, 15, 66, 33, 66, 64, 28, 64, 66, 64, 11, 64, 59, 64, 21, 64, 59, 64, 64, 66, 64, 22, 64, 60, 66, 64, 21, 64, 66, 64, 52, 64, 52, 66, 64, 32, 64, 64, 64, 66, 22, 66, 26, 66, 38, 66, 64, 9, 66, 64, 21, 64, 59, 15, 64, 64, 26, 64, 66, 64, 22, 64, 66, 6, 66, 60, 66, 17, 64, 19, 64, 66, 64, 4, 64, 59, 64, 52, 64, 4, 66, 64, 64, 66, 37, 60, 66, 8, 66, 64, 10, 66, 64, 31, 64, 59, 64, 27, 64, 50, 64, 66, 64, 66, 60, 66, 30, 66, 6, 66, 64, 64, 66, 64, 59, 64, 22, 64, 52, 66, 8, 64, 66, 64, 21, 66, 5, 66, 2, 66, 17, 66, 64, 10, 64, 66, 64, 52, 64, 11, 64, 50, 64, 26, 64, 64, 66, 19, 66, 60, 66, 64, 22, 64, 66, 64, 28, 64, 52, 28, 66, 64, 59, 64, 66, 28, 64, 66, 66, 60, 66, 66, 64, 66, 64, 15, 59, 25, 66, 64, 14, 64, 59, 7, 64, 37, 6, 66, 66, 26, 64, 59, 64, 22, 64, 59, 11, 64, 66, 8, 66, 64, 8, 66, 66, 60, 66, 21, 66, 32, 66, 1, 67, 27, 1, 37, 67, 1, 67, 1, 1, 67, 26, 28, 67, 1, 67, 31, 1, 67, 26, 1, 67, 1, 51, 27, 67, 1, 28, 1, 12, 67, 39, 1, 5, 1, 67, 1, 13, 1, 67, 67, 9, 1, 1, 67, 12, 67, 67, 17, 67, 1, 1, 20, 67, 1, 11, 1, 67, 8, 67, 1, 5, 67, 12, 33, 1, 21, 1, 1, 2, 1, 67, 1, 18, 1, 67, 1, 10, 1, 67, 5, 1, 67, 12, 0, 12, 5, 1, 5, 1, 67, 38, 67, 1, 67, 1, 25, 1, 12, 67, 67, 17, 67, 67, 21, 67, 1, 67, 1, 11, 1, 67, 1, 22, 1, 67, 1, 51, 1, 67, 1, 17, 67, 28, 67, 1, 1, 67, 1, 67, 1, 67, 1, 10, 1, 67, 12, 67, 12, 67, 67, 13, 67, 1, 2, 5, 1, 67, 31, 2, 1, 67, 8, 67, 1, 67, 1, 5, 1, 67, 4, 67, 12, 5, 67, 1, 16, 1, 67, 1, 18, 1, 67, 19, 1, 67, 1, 67, 12, 28, 67, 1, 2, 1, 67, 17, 67, 1, 67, 5, 1, 25, 1, 6, 1, 67, 17, 17, 67, 30, 67, 67, 1, 67, 1, 14, 1, 67, 1, 5, 1, 67, 1, 14, 1, 67, 1, 5, 1, 67, 32, 67, 13, 67, 12, 67, 2, 1, 67, 28, 67, 1, 8, 67, 1, 38, 1, 67, 21, 67, 67, 1, 6, 67, 1, 28, 1, 67, 1, 39, 1, 14, 67, 1, 5, 1, 67, 5, 67, 12, 41, 67, 1, 23, 1, 67, 1, 67, 67, 5, 1, 67, 4, 67, 1, 14, 67, 12, 67, 67, 1, 5, 1, 67, 1, 18, 1, 1, 32, 1, 67, 14, 67, 1, 13, 67, 43, 67, 1, 1, 9, 67, 1, 67, 40, 1, 15, 1, 67, 1, 67, 67, 23, 4, 1, 23, 68, 69, 9, 68, 55, 24, 69, 68, 25, 68, 69, 68, 19, 68, 30, 69, 63, 55, 69, 69, 22, 68, 69, 8, 69, 68, 47, 69, 68, 69, 9, 69, 31, 69, 68, 69, 7, 69, 63, 55, 69, 69, 9, 69, 0, 48, 28, 69, 68, 68, 17, 68, 4, 69, 68, 69, 9, 69, 48, 69, 68, 68, 55, 39, 69, 68, 9, 69, 68, 40, 68, 69, 18, 69, 68, 29, 63, 69, 69, 29, 68, 11, 68, 69, 8, 68, 16, 69, 69, 6, 69, 68, 69, 68, 28, 68, 69, 69, 43, 69, 9, 47, 69, 68, 28, 68, 69, 69, 68, 48, 9, 69, 68, 69, 68, 69, 68, 69, 9, 69, 63, 69, 42, 69, 52, 68, 69, 5, 69, 68, 47, 26, 69, 68, 41, 68, 69, 8, 69, 68, 69, 29, 69, 68, 15, 11, 69, 48, 68, 69, 50, 14, 69, 68, 69, 25, 68, 69, 68, 69, 32, 69, 8, 68, 69, 9, 69, 68, 69, 68, 69, 68, 69, 68, 18, 68, 69, 69, 69, 18, 69, 6, 69, 51, 68, 69, 47, 69, 69, 69, 68, 32, 68, 69, 22, 68, 69, 25, 69, 63, 69, 55, 69, 51, 68, 25, 68, 69, 68, 26, 68, 25, 68, 69, 68, 69, 9, 69, 69, 63, 69, 55, 41, 68, 9, 68, 69, 69, 55, 68, 69, 69, 68, 68, 69, 69, 68, 63, 69, 26, 69, 48, 69, 17, 68, 69, 68, 50, 24, 69, 68, 25, 68, 69, 68, 69, 0, 69, 68, 9, 68, 69, 37, 69, 63, 69, 69, 68, 69, 18, 68, 55, 44, 40, 68, 69, 14, 68, 7, 68, 69, 26, 69, 68, 15, 9, 69, 17, 69, 55, 69, 68, 68, 68, 47, 5, 69, 68, 8, 68, 42, 69, 69, 68, 68, 69, 29, 69, 63, 31, 69, 11, 69, 55, 6, 69, 68, 31, 68, 69, 29, 69, 68, 8, 68, 55, 51, 69, 68, 69, 69, 69, 48, 69, 7, 69, 68, 14, 68, 69, 69, 68, 52, 13, 69, 68, 68, 69, 69, 68, 69, 29, 69, 55, 69, 68, 69, 14, 69, 70, 70, 56, 11, 70, 15, 13, 56, 39, 70, 31, 56, 9, 56, 20, 56, 25, 56, 21, 70, 13, 56, 7, 56, 9, 70, 11, 70, 25, 56, 44, 70, 8, 56, 10, 70, 11, 56, 0, 70, 32, 56, 17, 70, 7, 70, 12, 56, 56, 20, 70, 9, 70, 13, 56, 70, 56, 5, 70, 11, 56, 70, 9, 56, 9, 56, 70, 56, 70, 70, 18, 70, 56, 21, 56, 17, 70, 11, 70, 13, 56, 7, 70, 56, 29, 70, 18, 12, 56, 12, 56, 29, 56, 16, 23, 14, 70, 13, 44, 70, 8, 56, 70, 10, 56, 70, 11, 56, 22, 70, 16, 56, 70, 56, 15, 56, 12, 56, 28, 56, 70, 5, 56, 23, 56, 28, 70, 70, 56, 70, 0, 56, 17, 70, 70, 56, 14, 56, 70, 32, 56, 2, 56, 70, 39, 70, 51, 56, 2, 70, 20, 56, 12, 56, 70, 70, 56, 5, 56, 70, 70, 56, 28, 70, 31, 4, 56, 16, 56, 43, 56, 2, 56, 70, 13, 70, 56, 20, 70, 18, 70, 56, 16, 70, 42, 70, 31, 70, 29, 12, 56, 70, 56, 2, 70, 70, 56, 70, 29, 56, 31, 12, 56, 70, 56, 23, 70, 28, 70, 56, 6, 70, 5, 56, 70, 32, 29, 56, 38, 56, 12, 56, 70, 70, 56, 42, 1, 18, 1, 2, 1, 30, 1, 47, 1, 1, 2, 1, 23, 1, 46, 1, 63, 2, 63, 2, 1, 17, 1, 2, 1, 46, 1, 13, 1, 46, 32, 5, 1, 2, 1, 5, 1, 1, 25, 1, 11, 1, 8, 1, 2, 1, 51, 1, 48, 1, 8, 1, 8, 2, 1, 5, 2, 6, 1, 46, 1, 25, 1, 5, 1, 46, 1, 5, 63, 2, 9, 1, 6, 1, 2, 1, 8, 1, 33, 1, 1, 16, 1, 41, 2, 63, 2, 1, 30, 1, 14, 2, 28, 1, 52, 1, 5, 1, 2, 1, 46, 42, 1, 2, 63, 2, 1, 1, 25, 1, 52, 1, 2, 1, 5, 46, 1, 28, 1, 2, 63, 2, 4, 1, 1, 46, 1, 1, 2, 1, 11, 1, 46, 26, 1, 63, 2, 63, 2, 1, 5, 1, 2, 1, 46, 18, 1, 5, 1, 46, 2, 63, 2, 63, 2, 1, 4, 1, 48, 1, 27, 1, 1, 1, 48, 1, 18, 63, 2, 1, 51, 1, 2, 1, 20, 1, 1, 1, 0, 1, 52, 1, 13, 1, 2, 2, 1, 16, 1, 5, 1, 1, 0, 1, 2, 1, 1, 1, 2, 63, 2, 1, 5, 47, 1, 5, 1, 1, 28, 1, 49, 1, 2, 63, 2, 2, 1, 8, 1, 2, 1, 1, 11, 18, 1, 50, 8, 2, 1, 5, 1, 63, 2, 2, 2, 63, 6, 2, 1, 19, 1, 1, 46, 1, 20, 1, 2, 4, 1, 52, 1, 5, 2, 1, 2, 47, 5, 1, 14, 1, 5, 1, 63, 2, 63, 2, 1, 9, 1, 2, 1, 1, 46, 1, 4, 1, 2, 1, 33, 1, 49, 1, 2, 2, 2, 2, 1, 9, 1, 68, 68, 71, 68, 68, 71, 68, 14, 68, 55, 39, 71, 68, 6, 68, 71, 60, 71, 71, 68, 32, 71, 68, 26, 68, 71, 68, 0, 68, 71, 68, 39, 68, 68, 71, 71, 17, 71, 60, 22, 71, 68, 26, 71, 71, 24, 71, 42, 71, 68, 68, 48, 68, 30, 68, 71, 32, 71, 9, 71, 68, 26, 68, 71, 68, 68, 71, 68, 51, 68, 71, 68, 7, 68, 55, 68, 15, 71, 14, 71, 6, 71, 60, 71, 68, 26, 71, 68, 14, 71, 68, 42, 68, 71, 68, 29, 68, 68, 71, 60, 71, 71, 68, 20, 68, 39, 68, 71, 68, 71, 20, 49, 68, 68, 71, 71, 60, 8, 7, 8, 71, 68, 71, 68, 71, 68, 71, 68, 0, 68, 55, 68, 44, 68, 71, 60, 71, 8, 71, 8, 71, 68, 42, 68, 71, 68, 0, 71, 39, 68, 8, 68, 71, 68, 25, 68, 55, 68, 60, 71, 68, 51, 71, 68, 39, 71, 68, 2, 68, 71, 68, 25, 68, 55, 68, 71, 8, 71, 68, 68, 71, 68, 0, 68, 68, 23, 68, 14, 71, 68, 49, 23, 60, 71, 60, 71, 14, 71, 68, 71, 68, 71, 68, 68, 71, 68, 9, 68, 55, 68, 21, 68, 71, 6, 14, 71, 60, 71, 28, 71, 68, 71, 68, 29, 71, 28, 68, 71, 55, 68, 71, 60, 71, 16, 71, 18, 71, 68, 71, 9, 68, 71, 71, 68, 25, 68, 71, 68, 47, 68, 71, 9, 6, 71, 68, 6, 68, 71, 9, 71, 68, 44, 68, 71, 29, 68, 68, 49, 71, 68, 68, 71, 60, 71, 6, 71, 18, 71, 60, 9, 71, 68, 71, 68, 2, 68, 71, 68, 71, 68, 39, 68, 68, 71, 60, 71, 68, 2, 68, 68, 71, 11, 71, 68, 10, 68, 71, 25, 71, 68, 8, 68, 55, 68, 68, 71, 71, 29, 71, 71, 68, 40, 68, 71, 71, 33, 68, 10, 68, 71, 60, 71, 8, 71, 71, 51, 68, 71, 64, 28, 64, 72, 64, 64, 72, 72, 38, 72, 64, 6, 72, 64, 16, 64, 72, 60, 72, 2, 72, 51, 14, 64, 72, 64, 6, 72, 72, 64, 27, 64, 72, 64, 28, 72, 22, 72, 64, 27, 64, 72, 64, 21, 64, 72, 64, 72, 18, 64, 72, 72, 22, 72, 6, 72, 64, 41, 72, 64, 38, 72, 64, 19, 64, 64, 72, 64, 25, 64, 72, 40, 72, 64, 72, 8, 64, 72, 64, 51, 64, 72, 64, 42, 64, 10, 64, 72, 22, 72, 72, 64, 27, 64, 72, 22, 64, 72, 64, 22, 64, 6, 64, 72, 64, 26, 64, 72, 60, 25, 72, 60, 72, 64, 64, 72, 42, 64, 8, 64, 72, 64, 40, 64, 72, 64, 6, 64, 72, 23, 64, 11, 64, 72, 60, 60, 72, 72, 25, 72, 64, 9, 64, 72, 31, 64, 18, 64, 64, 72, 64, 64, 64, 64, 72, 60, 72, 60, 72, 38, 64, 6, 64, 17, 64, 41, 64, 64, 19, 64, 64, 72, 60, 72, 37, 72, 22, 64, 72, 19, 64, 72, 64, 41, 72, 64, 60, 72, 60, 72, 72, 64, 28, 64, 72, 37, 64, 72, 64, 2, 72, 64, 72, 11, 72, 64, 64, 64, 32, 64, 72, 42, 64, 72, 72, 64, 21, 72, 21, 72, 64, 26, 64, 10, 64, 72, 64, 18, 64, 64, 17, 64, 72, 64, 22, 64, 72, 60, 72, 64, 64, 64, 72, 4, 64, 72, 64, 22, 72, 11, 64, 60, 72, 25, 72, 22, 72, 64, 72, 64, 72, 64, 27, 72, 64, 31, 64, 21, 64, 72, 22, 72, 72, 8, 72, 64, 17, 64, 72, 64, 72, 72, 64, 25, 64, 72, 72, 64, 37, 64, 72, 64, 27, 64, 72, 60, 72, 60, 72, 0, 64, 72, 64, 72, 64, 9, 64, 72, 64, 23, 64, 72, 64, 32, 64, 72, 60, 64, 64, 72, 64, 17, 64, 73, 64, 32, 73, 64, 16, 73, 64, 73, 52, 73, 73, 19, 73, 73, 21, 73, 9, 64, 73, 64, 64, 52, 73, 64, 10, 64, 73, 64, 29, 64, 73, 31, 64, 73, 46, 73, 32, 46, 13, 73, 64, 18, 64, 73, 64, 26, 64, 47, 73, 4, 64, 64, 8, 73, 64, 42, 64, 73, 50, 73, 73, 46, 73, 40, 64, 73, 64, 64, 46, 73, 64, 73, 10, 64, 51, 64, 48, 39, 73, 64, 64, 73, 64, 26, 64, 6, 64, 10, 64, 64, 23, 73, 64, 21, 64, 73, 73, 73, 46, 73, 28, 73, 64, 38, 64, 73, 64, 52, 73, 64, 11, 64, 18, 64, 73, 64, 73, 48, 73, 73, 64, 17, 64, 73, 64, 22, 64, 73, 64, 21, 64, 64, 29, 64, 73, 64, 48, 73, 46, 64, 64, 73, 64, 22, 64, 52, 73, 64, 0, 64, 64, 73, 64, 73, 52, 73, 37, 73, 64, 44, 64, 73, 64, 28, 64, 64, 26, 64, 73, 64, 73, 64, 21, 73, 48, 29, 73, 64, 0, 64, 73, 31, 64, 47, 64, 26, 64, 73, 13, 64, 73, 14, 73, 64, 73, 46, 73, 6, 73, 22, 52, 9, 73, 64, 64, 73, 64, 42, 64, 47, 18, 73, 64, 73, 6, 64, 73, 27, 73, 46, 73, 0, 73, 64, 10, 64, 73, 5, 64, 64, 15, 64, 73, 64, 73, 37, 64, 73, 73, 73, 64, 11, 73, 64, 46, 25, 64, 73, 64, 13, 64, 73, 64, 22, 64, 49, 23, 73, 6, 73, 26, 73, 64, 73, 64, 6, 47, 26, 64, 73, 64, 14, 64, 73, 64, 31, 64, 46, 48, 73, 73, 19, 73, 64, 19, 64, 64, 64, 46, 7, 64, 73, 64, 31, 64, 73, 64, 40, 64, 73, 52, 11, 73, 47, 14, 73, 31, 64, 73, 64, 19, 50, 64, 64, 64, 73, 64, 73, 50, 73, 52, 73, 21, 73, 64, 64, 64, 50, 64, 5, 64, 64, 19, 64, 64, 26, 64, 73, 73, 46, 73, 26, 73, 64, 8, 73, 16, 2, 70, 11, 62, 70, 31, 6, 70, 2, 62, 52, 70, 5, 70, 62, 55, 62, 7, 62, 13, 70, 21, 70, 11, 62, 70, 62, 70, 11, 62, 70, 62, 55, 62, 4, 62, 55, 62, 18, 62, 9, 62, 70, 14, 62, 18, 70, 62, 52, 11, 62, 52, 50, 62, 15, 70, 11, 62, 70, 9, 70, 0, 70, 9, 39, 62, 48, 70, 9, 70, 55, 49, 14, 62, 26, 62, 21, 70, 7, 8, 62, 70, 18, 70, 14, 70, 5, 62, 52, 62, 0, 62, 55, 62, 70, 70, 70, 62, 22, 70, 62, 55, 70, 18, 70, 62, 49, 62, 32, 62, 62, 20, 62, 70, 11, 62, 2, 70, 14, 70, 62, 70, 16, 62, 70, 23, 70, 47, 20, 62, 9, 50, 28, 62, 55, 62, 62, 24, 70, 62, 19, 70, 17, 62, 70, 5, 62, 29, 49, 70, 7, 70, 55, 62, 6, 62, 49, 62, 14, 62, 2, 70, 39, 62, 31, 39, 62, 55, 26, 55, 62, 16, 55, 62, 7, 62, 70, 8, 62, 6, 70, 70, 21, 55, 70, 4, 70, 62, 52, 62, 52, 70, 29, 62, 7, 62, 62, 70, 15, 70, 55, 29, 62, 70, 11, 2, 50, 18, 62, 62, 25, 62, 16, 62, 70, 62, 70, 70, 62, 55, 0, 62, 55, 62, 40, 62, 52, 62, 70, 9, 70, 11, 62, 6, 70, 28, 70, 11, 70, 62, 48, 70, 42, 62, 49, 62, 52, 62, 9, 70, 7, 62, 70, 29, 62, 51, 70, 62, 70, 62, 44, 62, 62, 55, 62, 48, 70, 29, 62, 70, 0, 70, 39, 62, 34, 74, 24, 74, 39, 74, 34, 74, 23, 49, 74, 30, 74, 34, 55, 74, 16, 74, 74, 74, 55, 74, 32, 74, 11, 74, 34, 74, 55, 39, 74, 34, 74, 55, 18, 39, 74, 55, 44, 74, 74, 34, 74, 11, 34, 74, 23, 74, 17, 74, 55, 0, 34, 74, 14, 34, 74, 20, 47, 74, 20, 74, 34, 34, 34, 20, 55, 74, 74, 63, 74, 55, 74, 34, 74, 34, 10, 34, 50, 74, 74, 55, 74, 34, 34, 8, 41, 55, 74, 63, 74, 16, 74, 34, 74, 34, 74, 55, 11, 74, 34, 50, 34, 74, 34, 8, 74, 11, 50, 74, 18, 74, 63, 74, 16, 74, 34, 47, 34, 74, 16, 74, 34, 74, 34, 26, 74, 55, 74, 11, 74, 34, 28, 34, 9, 34, 8, 34, 55, 74, 16, 74, 74, 74, 55, 34, 4, 74, 30, 34, 34, 4, 34, 23, 55, 34, 74, 11, 34, 74, 16, 74, 34, 74, 32, 50, 74, 63, 74, 34, 74, 55, 74, 68, 75, 4, 68, 59, 15, 75, 68, 10, 68, 75, 5, 68, 25, 68, 42, 75, 68, 4, 68, 75, 59, 75, 5, 75, 68, 75, 75, 68, 49, 75, 42, 68, 14, 68, 75, 75, 68, 20, 68, 59, 75, 36, 5, 68, 0, 75, 68, 11, 68, 49, 13, 75, 18, 68, 68, 42, 59, 75, 40, 75, 25, 75, 39, 75, 28, 68, 75, 68, 18, 59, 75, 68, 29, 75, 75, 68, 75, 68, 75, 75, 14, 75, 68, 68, 75, 25, 75, 68, 6, 68, 52, 6, 68, 75, 68, 44, 68, 75, 68, 6, 68, 75, 59, 75, 75, 68, 68, 16, 11, 59, 75, 68, 32, 68, 75, 68, 68, 75, 68, 31, 68, 75, 48, 75, 29, 75, 36, 8, 75, 68, 11, 68, 75, 17, 68, 18, 68, 75, 8, 68, 75, 68, 68, 75, 9, 75, 59, 75, 22, 75, 40, 75, 11, 75, 68, 16, 68, 47, 31, 68, 68, 75, 7, 75, 68, 75, 4, 59, 75, 11, 75, 2, 75, 36, 25, 75, 68, 9, 75, 42, 68, 40, 68, 68, 44, 68, 75, 68, 59, 75, 8, 75, 28, 68, 75, 31, 68, 68, 47, 68, 10, 68, 75, 68, 75, 43, 75, 68, 40, 68, 75, 24, 59, 10, 75, 8, 26, 68, 75, 2, 68, 59, 68, 31, 68, 75, 8, 75, 68, 39, 75, 68, 43, 68, 75, 59, 75, 36, 75, 68, 68, 68, 48, 68, 40, 68, 75, 42, 75, 68, 29, 75, 68, 40, 68, 50, 75, 36, 75, 11, 68, 75, 40, 75, 68, 68, 48, 39, 75, 68, 68, 17, 75, 68, 27, 68, 68, 18, 68, 75, 75, 59, 31, 75, 68, 39, 68, 75, 75, 68, 44, 68, 75, 68, 68, 75, 20, 68, 4, 68, 75, 68, 50, 36, 75, 5, 42, 68, 75, 68, 59, 44, 75, 68, 13, 68, 75, 9, 75, 68, 42, 68, 75, 68, 40, 68, 75, 52, 5, 75, 32, 75, 29, 68, 75, 10, 68, 75, 8, 75, 68, 29, 68, 68, 40, 68, 75, 59, 75, 36, 75, 24, 68, 75, 68, 42, 68, 59, 0, 75, 68, 68, 75, 68, 7, 68, 9, 75, 68, 24, 68, 75, 75, 75, 29, 68, 6, 68, 57, 16, 57, 57, 9, 57, 54, 6, 54, 44, 57, 57, 48, 23, 57, 14, 2, 54, 63, 37, 54, 57, 55, 57, 57, 18, 57, 54, 57, 49, 11, 54, 57, 42, 57, 39, 54, 63, 54, 5, 54, 57, 28, 57, 55, 16, 54, 57, 2, 57, 54, 28, 54, 57, 4, 54, 57, 57, 50, 28, 54, 57, 40, 57, 54, 13, 63, 54, 54, 57, 26, 57, 49, 8, 54, 57, 18, 57, 54, 15, 54, 57, 7, 57, 18, 57, 0, 57, 55, 18, 54, 57, 29, 57, 18, 54, 6, 40, 57, 41, 57, 55, 39, 54, 57, 7, 57, 0, 54, 57, 57, 25, 57, 2, 57, 18, 57, 0, 57, 63, 5, 14, 57, 47, 37, 57, 14, 57, 54, 54, 6, 54, 57, 57, 55, 39, 54, 40, 57, 54, 19, 63, 54, 57, 43, 57, 55, 14, 54, 57, 57, 2, 54, 57, 57, 54, 57, 55, 13, 54, 57, 54, 57, 8, 57, 55, 57, 27, 54, 32, 57, 39, 54, 57, 15, 57, 55, 43, 57, 54, 22, 54, 6, 54, 63, 54, 54, 4, 54, 57, 57, 57, 16, 57, 54, 57, 28, 57, 54, 57, 57, 54, 57, 11, 57, 6, 63, 63, 54, 11, 57, 7, 57, 55, 11, 54, 57, 7, 57, 54, 57, 57, 9, 54, 57, 22, 57, 55, 57, 57, 14, 54, 63, 54, 4, 54, 7, 54, 63, 54, 16, 54, 39, 32, 57, 31, 57, 10, 57, 18, 54, 57, 8, 57, 57, 26, 57, 54, 2, 54, 7, 54, 57, 39, 57, 55, 57, 51, 57, 11, 54, 57, 2, 57, 54, 2, 54, 57, 40, 57, 28, 57, 54, 14, 54, 63, 54, 54, 57, 57, 47, 27, 54, 57, 11, 57, 57, 49, 21, 26, 54, 63, 54, 57, 24, 47, 57, 2, 57, 54, 54, 57, 57, 54, 19, 17, 57, 55, 57, 30, 57, 54, 28, 54, 7, 57, 14, 57, 13, 57, 54, 57, 10, 57, 54, 54, 57, 18, 57, 54, 57, 7, 57, 54, 63, 7, 54, 33, 54, 57, 4, 57, 48, 8, 54, 57, 57, 54, 26, 54, 18, 57, 54, 17, 54, 57, 30, 57, 55, 57, 18, 57, 4, 54, 63, 54, 5, 54, 57, 47, 57, 24, 57, 54, 54, 57, 28, 57, 54, 26, 28, 57, 47, 8, 54, 57, 57, 54, 41, 54, 54, 57, 2, 57, 49, 16, 54, 34, 76, 47, 11, 76, 34, 2, 34, 76, 27, 34, 22, 37, 77, 76, 8, 14, 34, 77, 21, 34, 76, 43, 34, 76, 5, 34, 9, 76, 8, 34, 22, 63, 76, 9, 76, 76, 77, 28, 76, 34, 76, 34, 4, 34, 5, 76, 76, 49, 34, 26, 34, 76, 34, 32, 34, 41, 15, 76, 9, 76, 48, 76, 27, 9, 76, 47, 8, 34, 76, 27, 33, 34, 76, 26, 34, 2, 34, 0, 76, 2, 48, 34, 34, 26, 76, 9, 32, 28, 34, 4, 77, 76, 15, 76, 77, 17, 34, 76, 34, 29, 76, 34, 34, 29, 77, 76, 34, 23, 34, 76, 20, 34, 41, 34, 76, 42, 34, 8, 34, 76, 18, 76, 76, 48, 76, 27, 48, 34, 32, 34, 76, 76, 76, 34, 27, 34, 77, 32, 34, 17, 34, 17, 34, 26, 34, 8, 76, 77, 76, 43, 76, 34, 6, 34, 76, 13, 34, 41, 34, 76, 76, 22, 63, 76, 48, 22, 47, 14, 76, 34, 76, 41, 34, 34, 76, 34, 41, 34, 9, 34, 76, 23, 76, 77, 76, 76, 77, 34, 76, 28, 28, 34, 76, 63, 76, 76, 50, 29, 76, 34, 34, 77, 26, 34, 76, 4, 26, 76, 34, 76, 76, 9, 34, 76, 47, 76, 37, 76, 70, 41, 70, 11, 70, 78, 17, 70, 8, 78, 9, 78, 70, 78, 70, 11, 78, 9, 78, 36, 78, 6, 59, 78, 40, 78, 70, 18, 70, 78, 4, 70, 6, 78, 11, 78, 0, 70, 78, 7, 70, 25, 70, 8, 78, 50, 70, 15, 70, 78, 4, 78, 78, 11, 78, 70, 0, 78, 70, 11, 70, 70, 78, 0, 70, 26, 29, 70, 16, 78, 59, 78, 70, 78, 39, 78, 2, 2, 70, 78, 78, 59, 78, 70, 9, 70, 70, 78, 29, 70, 11, 78, 11, 6, 70, 36, 78, 22, 78, 78, 14, 78, 78, 11, 70, 11, 78, 16, 70, 32, 78, 59, 78, 70, 78, 70, 70, 78, 13, 70, 39, 70, 70, 78, 15, 78, 78, 70, 70, 11, 70, 78, 26, 78, 11, 78, 70, 18, 78, 11, 78, 4, 78, 78, 6, 78, 70, 70, 78, 70, 70, 28, 70, 16, 78, 70, 11, 70, 32, 30, 70, 9, 70, 78, 39, 32, 9, 14, 78, 29, 78, 39, 36, 78, 78, 59, 70, 78, 16, 70, 39, 78, 32, 70, 78, 70, 27, 78, 70, 78, 29, 78, 70, 25, 70, 78, 70, 11, 11, 78, 23, 78, 36, 78, 48, 78, 28, 70, 6, 78, 32, 70, 11, 70, 11, 78, 16, 78, 32, 70, 78, 26, 78, 78, 29, 78, 70, 25, 78, 78, 70, 29, 70, 68, 68, 49, 0, 68, 79, 42, 68, 79, 68, 21, 68, 79, 68, 18, 68, 79, 79, 7, 68, 55, 79, 68, 68, 41, 68, 79, 68, 68, 79, 68, 15, 79, 36, 36, 79, 6, 79, 15, 79, 68, 11, 68, 68, 42, 79, 68, 14, 68, 5, 79, 68, 13, 68, 79, 36, 32, 79, 68, 25, 68, 50, 17, 79, 68, 17, 68, 79, 68, 79, 68, 26, 68, 68, 79, 36, 79, 39, 79, 68, 68, 55, 79, 68, 0, 68, 79, 68, 11, 68, 79, 68, 37, 68, 79, 36, 79, 68, 68, 48, 68, 2, 68, 79, 68, 8, 68, 79, 18, 68, 79, 68, 42, 68, 79, 31, 79, 2, 68, 47, 68, 26, 68, 44, 79, 68, 42, 68, 79, 68, 68, 68, 36, 79, 39, 68, 14, 68, 49, 4, 79, 68, 68, 79, 79, 68, 31, 68, 26, 79, 79, 0, 36, 25, 79, 7, 79, 25, 68, 48, 28, 68, 79, 24, 79, 68, 31, 79, 39, 79, 68, 79, 36, 25, 68, 29, 68, 55, 9, 79, 42, 68, 79, 68, 42, 68, 39, 79, 68, 79, 68, 68, 79, 44, 36, 79, 68, 18, 79, 68, 31, 68, 79, 2, 68, 16, 68, 79, 68, 79, 68, 14, 36, 79, 14, 68, 68, 68, 79, 68, 15, 79, 23, 68, 15, 68, 79, 39, 79, 68, 79, 11, 79, 39, 36, 17, 79, 68, 39, 55, 79, 68, 5, 68, 79, 68, 6, 68, 79, 68, 40, 68, 79, 2, 68, 11, 68, 79, 79, 36, 23, 68, 55, 79, 68, 68, 79, 79, 11, 79, 68, 22, 68, 8, 79, 79, 16, 31, 79, 29, 68, 48, 14, 79, 68, 16, 79, 68, 13, 68, 79, 68, 8, 68, 79, 68, 22, 68, 25, 79, 36, 79, 42, 79, 52, 68, 68, 79, 68, 13, 79, 68, 11, 68, 79, 14, 36, 68, 55, 68, 0, 79, 68, 7, 68, 68, 68, 79, 32, 36, 79, 0, 79, 36, 79, 68, 42, 68, 47, 79, 1, 80, 1, 28, 1, 80, 27, 80, 1, 48, 80, 1, 1, 80, 1, 80, 9, 80, 28, 80, 47, 80, 1, 41, 80, 1, 80, 1, 1, 80, 16, 1, 18, 11, 80, 49, 1, 48, 80, 5, 1, 80, 46, 80, 1, 80, 1, 5, 1, 5, 52, 80, 37, 80, 1, 52, 80, 1, 18, 1, 80, 4, 1, 46, 23, 1, 80, 80, 1, 80, 63, 80, 51, 80, 47, 80, 39, 80, 46, 5, 80, 1, 1, 1, 80, 1, 2, 1, 80, 20, 63, 8, 80, 6, 80, 17, 80, 1, 46, 6, 80, 10, 1, 13, 1, 46, 80, 1, 80, 1, 5, 1, 80, 25, 28, 80, 46, 7, 1, 46, 80, 1, 5, 1, 80, 1, 25, 1, 80, 1, 2, 1, 80, 1, 8, 1, 7, 80, 80, 28, 80, 1, 10, 1, 11, 80, 1, 80, 1, 46, 1, 80, 1, 19, 80, 80, 16, 1, 8, 1, 52, 80, 1, 1, 6, 80, 1, 14, 1, 46, 1, 1, 29, 80, 17, 80, 26, 80, 46, 80, 1, 5, 48, 80, 1, 1, 1, 5, 1, 46, 1, 28, 5, 1, 80, 28, 80, 80, 80, 17, 80, 1, 46, 1, 5, 1, 80, 23, 80, 46, 80, 1, 1, 80, 80, 47, 6, 80, 1, 52, 1, 80, 1, 47, 1, 21, 80, 1, 37, 1, 47, 1, 46, 80, 1, 1, 80, 15, 80, 1, 80, 33, 80, 80, 1, 28, 1, 46, 14, 80, 1, 80, 41, 80, 46, 80, 1, 80, 41, 1, 80, 47, 80, 41, 80, 1, 52, 1, 80, 6, 1, 1, 46, 80, 1, 29, 1, 80, 1, 6, 1, 80, 13, 80, 63, 80, 40, 80, 33, 80, 1, 8, 80, 1, 5, 1, 80, 21, 80, 1, 31, 1, 46, 10, 80, 1, 41, 80, 16, 1, 80, 16, 80, 8, 80, 46, 10, 46, 1, 80, 1, 46, 8, 80, 80, 2, 80, 1, 80, 14, 80, 80, 48, 80, 51, 1, 68, 0, 68, 77, 6, 44, 68, 81, 68, 81, 68, 81, 50, 77, 81, 7, 81, 4, 47, 31, 81, 68, 81, 81, 26, 81, 68, 39, 68, 81, 24, 81, 68, 81, 8, 81, 77, 68, 2, 68, 52, 81, 68, 28, 68, 81, 68, 81, 68, 21, 68, 81, 77, 14, 81, 68, 50, 21, 81, 68, 81, 68, 22, 81, 68, 10, 68, 81, 68, 68, 81, 50, 29, 8, 52, 68, 68, 32, 81, 68, 14, 68, 81, 68, 81, 77, 5, 81, 77, 68, 26, 81, 68, 81, 81, 42, 81, 68, 68, 26, 68, 14, 77, 68, 0, 68, 50, 68, 81, 29, 81, 68, 81, 68, 26, 68, 77, 26, 81, 81, 17, 68, 42, 68, 47, 68, 11, 68, 81, 68, 51, 68, 68, 14, 68, 33, 68, 81, 77, 81, 68, 77, 68, 8, 68, 81, 68, 10, 68, 81, 68, 81, 68, 15, 81, 81, 77, 26, 81, 77, 16, 68, 18, 68, 47, 81, 68, 15, 68, 81, 68, 81, 68, 51, 68, 81, 47, 8, 81, 48, 81, 14, 81, 68, 0, 68, 81, 32, 68, 81, 68, 68, 32, 68, 81, 25, 81, 68, 81, 77, 81, 77, 39, 29, 68, 68, 32, 81, 68, 0, 68, 6, 32, 68, 81, 47, 81, 40, 81, 68, 2, 68, 77, 68, 44, 68, 81, 68, 40, 81, 29, 68, 22, 68, 81, 81, 4, 47, 68, 77, 68, 11, 68, 81, 26, 81, 68, 16, 68, 81, 10, 68, 81, 68, 42, 68, 81, 48, 81, 47, 81, 5, 81, 68, 52, 68, 68, 81, 29, 68, 50, 81, 81, 77, 81, 51, 81, 9, 81, 68, 77, 81, 68, 81, 68, 68, 10, 50, 19, 77, 81, 68, 22, 68, 77, 68, 42, 68, 81, 68, 44, 68, 81, 9, 68, 81, 81, 77, 81, 81, 47, 81, 11, 81, 68, 68, 49, 68, 44, 82, 68, 68, 82, 68, 68, 68, 50, 82, 5, 68, 82, 48, 82, 0, 82, 39, 82, 68, 18, 68, 68, 15, 68, 39, 68, 17, 82, 68, 42, 82, 48, 82, 36, 82, 25, 68, 11, 68, 8, 68, 32, 68, 48, 9, 68, 32, 68, 82, 43, 68, 77, 14, 82, 68, 25, 68, 82, 51, 82, 26, 0, 0, 82, 68, 14, 68, 68, 41, 68, 15, 82, 6, 68, 77, 68, 7, 68, 82, 25, 82, 77, 27, 82, 36, 68, 28, 68, 82, 43, 14, 77, 82, 68, 28, 68, 29, 68, 68, 77, 16, 82, 68, 82, 49, 82, 44, 82, 22, 36, 0, 82, 68, 25, 82, 42, 82, 68, 48, 41, 82, 68, 18, 68, 16, 82, 68, 18, 68, 49, 23, 68, 82, 52, 82, 36, 82, 68, 42, 24, 82, 19, 68, 77, 82, 68, 28, 31, 68, 10, 77, 11, 68, 82, 48, 82, 82, 43, 82, 82, 9, 68, 29, 68, 52, 31, 82, 68, 40, 82, 8, 82, 68, 50, 68, 68, 82, 77, 82, 68, 68, 82, 51, 82, 68, 27, 68, 77, 68, 68, 82, 7, 82, 68, 77, 68, 2, 68, 82, 21, 77, 82, 82, 33, 82, 39, 82, 68, 68, 82, 11, 82, 68, 68, 22, 68, 82, 82, 68, 42, 68, 39, 68, 77, 82, 11, 82, 82, 68, 31, 68, 18, 82, 68, 49, 13, 82, 68, 11, 68, 82, 13, 68, 77, 8, 68, 29, 68, 82, 77, 82, 25, 82, 82, 68, 41, 68, 6, 68, 32, 68, 77, 9, 68, 82, 68, 2, 68, 77, 68, 10, 68, 82, 51, 82, 77, 82, 36, 82, 38, 68, 68, 68, 23, 68, 51, 82, 68, 11, 82, 68, 6, 68, 23, 68, 11, 68, 82, 52, 82, 82, 36, 11, 82, 2, 82, 21, 68, 44, 68, 77, 20, 68, 82, 7, 82, 68, 15, 68, 77, 21, 82, 51, 82, 30, 77, 82, 42, 82, 68, 20, 68, 82, 51, 82, 29, 68, 77, 26, 82, 68, 15, 68, 32, 82, 68, 37, 68, 47, 68, 68, 82, 4, 82, 68, 17, 68, 82, 42, 82, 68, 50, 16, 68, 29, 68, 82, 18, 82, 13, 68, 77, 26, 82, 68, 17, 68, 82, 16, 82, 7, 82, 36, 82, 68, 6, 68, 82, 0, 68, 13, 49, 68, 32, 68, 4, 68, 48, 14, 82, 68, 68, 82, 77, 9, 82, 42, 82, 36, 82, 82, 40, 82, 68, 42, 68, 0, 82, 1, 20, 1, 83, 1, 2, 1, 83, 83, 1, 7, 1, 47, 83, 83, 1, 13, 1, 83, 1, 22, 1, 83, 1, 83, 7, 1, 83, 11, 1, 48, 61, 8, 83, 19, 83, 12, 83, 1, 83, 1, 1, 1, 83, 1, 50, 12, 39, 1, 83, 1, 1, 5, 1, 1, 5, 1, 83, 61, 52, 83, 83, 13, 83, 1, 5, 83, 5, 1, 1, 8, 1, 83, 83, 1, 48, 41, 83, 49, 83, 83, 14, 83, 1, 6, 1, 83, 1, 10, 1, 83, 1, 8, 1, 83, 1, 83, 61, 83, 12, 83, 28, 83, 16, 1, 83, 1, 83, 1, 61, 83, 1, 83, 1, 83, 39, 1, 1, 1, 83, 14, 83, 4, 83, 7, 1, 83, 1, 18, 1, 1, 83, 1, 6, 1, 83, 47, 83, 83, 1, 18, 1, 1, 83, 1, 15, 83, 1, 26, 1, 47, 83, 12, 83, 38, 1, 8, 83, 1, 2, 1, 83, 1, 8, 1, 83, 1, 1, 61, 83, 47, 42, 83, 9, 20, 1, 83, 1, 5, 1, 83, 1, 50, 83, 1, 5, 1, 83, 1, 83, 1, 10, 1, 61, 16, 48, 83, 0, 83, 31, 1, 83, 83, 2, 1, 15, 1, 83, 83, 1, 19, 1, 47, 61, 83, 12, 23, 83, 1, 5, 21, 83, 1, 7, 1, 83, 1, 61, 52, 19, 83, 2, 1, 83, 17, 1, 33, 1, 5, 1, 83, 1, 61, 83, 50, 83, 4, 12, 83, 32, 1, 1, 83, 1, 27, 1, 83, 1, 83, 44, 1, 83, 1, 9, 1, 49, 30, 83, 37, 1, 42, 1, 25, 70, 84, 42, 84, 55, 84, 70, 42, 84, 70, 84, 70, 32, 84, 84, 70, 70, 18, 84, 47, 70, 11, 84, 84, 63, 84, 84, 70, 32, 49, 70, 11, 84, 70, 84, 31, 84, 18, 84, 48, 70, 52, 9, 70, 84, 70, 18, 70, 84, 70, 11, 70, 84, 13, 84, 24, 84, 70, 84, 52, 70, 84, 55, 84, 70, 5, 70, 84, 70, 84, 32, 48, 84, 42, 84, 48, 70, 70, 52, 84, 70, 9, 84, 40, 63, 84, 84, 49, 84, 39, 84, 5, 84, 48, 70, 84, 55, 70, 24, 63, 84, 55, 84, 9, 84, 70, 70, 84, 70, 15, 84, 49, 70, 32, 84, 84, 84, 0, 84, 70, 37, 84, 48, 70, 55, 84, 18, 70, 43, 84, 70, 84, 39, 84, 48, 84, 16, 49, 70, 11, 70, 48, 70, 11, 84, 42, 84, 70, 84, 84, 55, 84, 5, 84, 70, 9, 70, 84, 48, 84, 47, 70, 42, 70, 9, 84, 70, 84, 84, 70, 55, 70, 11, 84, 70, 11, 84, 70, 70, 63, 84, 48, 84, 26, 84, 70, 11, 70, 84, 70, 11, 84, 70, 15, 84, 26, 70, 14, 70, 84, 7, 84, 55, 84, 70, 7, 84, 55, 84, 70, 49, 70, 13, 70, 11, 70, 11, 63, 84, 84, 70, 84, 55, 84, 70, 48, 57, 57, 57, 10, 57, 85, 57, 11, 57, 18, 57, 57, 77, 19, 57, 21, 77, 57, 57, 85, 57, 32, 57, 29, 57, 13, 57, 49, 85, 19, 57, 77, 57, 57, 57, 85, 57, 57, 85, 57, 18, 77, 60, 85, 60, 85, 85, 57, 57, 85, 57, 7, 57, 85, 57, 7, 57, 85, 57, 39, 57, 85, 57, 2, 57, 77, 0, 57, 77, 57, 57, 57, 30, 57, 85, 28, 85, 29, 57, 85, 85, 57, 4, 77, 85, 26, 85, 57, 23, 57, 85, 57, 9, 57, 85, 57, 6, 57, 85, 13, 57, 60, 85, 4, 85, 0, 60, 85, 38, 85, 57, 49, 85, 32, 57, 85, 57, 85, 30, 57, 14, 85, 57, 11, 57, 49, 85, 14, 85, 60, 57, 18, 57, 48, 57, 9, 57, 8, 85, 57, 85, 57, 57, 85, 31, 57, 57, 77, 19, 85, 18, 85, 60, 85, 57, 57, 77, 57, 29, 57, 85, 57, 57, 28, 57, 85, 4, 57, 77, 4, 60, 85, 30, 85, 57, 77, 23, 85, 57, 26, 57, 85, 18, 85, 57, 31, 57, 57, 57, 85, 77, 20, 85, 0, 57, 77, 57, 40, 57, 85, 57, 57, 85, 57, 2, 57, 85, 14, 85, 60, 85, 85, 13, 57, 57, 47, 57, 11, 57, 57, 13, 57, 85, 57, 16, 57, 20, 57, 47, 57, 18, 57, 77, 11, 85, 57, 7, 57, 4, 85, 57, 2, 43, 57, 32, 85, 16, 57, 18, 85, 60, 32, 85, 57, 18, 57, 77, 57, 20, 57, 23, 57, 16, 57, 85, 57, 48, 60, 85, 85, 6, 57, 22, 10, 57, 85, 57, 17, 57, 85, 0, 85, 57, 6, 57, 5, 57, 49, 85, 60, 85, 60, 85, 16, 57, 57, 57, 85, 7, 57, 85, 14, 57, 85, 57, 22, 57, 60, 85, 57, 23, 77, 57, 16, 57, 85, 9, 85, 57, 8, 57, 85, 57, 13, 85, 57, 57, 77, 57, 6, 57, 57, 86, 57, 50, 13, 49, 86, 57, 17, 57, 86, 86, 10, 57, 16, 86, 57, 42, 57, 61, 57, 49, 23, 86, 57, 31, 57, 61, 31, 63, 40, 86, 57, 86, 86, 57, 39, 86, 57, 57, 57, 47, 63, 86, 57, 86, 57, 86, 57, 11, 57, 61, 29, 49, 2, 86, 57, 49, 86, 63, 51, 86, 25, 57, 61, 11, 57, 61, 57, 16, 48, 86, 63, 25, 63, 6, 86, 57, 61, 9, 86, 57, 57, 61, 86, 57, 49, 14, 63, 25, 86, 86, 57, 61, 57, 61, 9, 57, 22, 86, 63, 14, 86, 86, 16, 86, 57, 86, 10, 86, 86, 57, 16, 57, 61, 57, 7, 57, 49, 86, 16, 86, 63, 57, 86, 57, 86, 49, 4, 86, 57, 7, 57, 61, 49, 86, 63, 57, 86, 7, 86, 86, 5, 86, 57, 61, 23, 86, 57, 57, 57, 38, 57, 63, 28, 86, 57, 86, 57, 39, 48, 57, 16, 57, 49, 13, 86, 57, 38, 57, 48, 17, 86, 57, 57, 32, 86, 57, 86, 57, 8, 52, 57, 57, 5, 57, 61, 57, 86, 57, 86, 86, 57, 14, 57, 50, 57, 61, 57, 63, 63, 86, 57, 14, 57, 86, 57, 86, 49, 86, 57, 61, 19, 86, 57, 57, 48, 86, 86, 5, 86, 6, 86, 57, 37, 57, 86, 57, 61, 86, 57, 25, 57, 4, 57, 61, 23, 86, 20, 57, 57, 57, 86, 57, 28, 57, 47, 33, 57, 52, 57, 49, 86, 28, 86, 13, 86, 86, 57, 86, 57, 48, 57, 18, 57, 33, 86, 13, 57, 49, 2, 86, 18, 86, 2, 86, 2, 86, 34, 74, 29, 74, 34, 8, 74, 74, 4, 74, 31, 34, 0, 23, 34, 55, 74, 36, 74, 5, 74, 34, 2, 74, 34, 26, 34, 74, 18, 36, 74, 21, 74, 8, 17, 74, 14, 34, 6, 34, 43, 34, 52, 8, 74, 74, 34, 74, 7, 31, 34, 74, 8, 74, 6, 74, 50, 30, 36, 74, 7, 74, 34, 11, 74, 30, 34, 5, 74, 34, 34, 74, 48, 29, 36, 74, 74, 34, 34, 74, 29, 34, 42, 34, 55, 74, 34, 22, 74, 34, 41, 55, 74, 10, 74, 31, 34, 28, 34, 6, 34, 74, 19, 34, 74, 41, 74, 8, 74, 34, 74, 34, 5, 74, 7, 34, 74, 55, 36, 74, 34, 25, 0, 74, 34, 11, 74, 34, 4, 74, 34, 6, 74, 55, 74, 74, 6, 74, 14, 74, 51, 34, 26, 34, 34, 28, 34, 10, 34, 26, 74, 55, 74, 34, 6, 74, 11, 34, 34, 25, 34, 52, 13, 74, 10, 34, 74, 34, 6, 34, 74, 74, 55, 16, 74, 36, 16, 39, 74, 28, 74, 34, 20, 34, 74, 74, 18, 74, 34, 41, 74, 11, 74, 70, 11, 70, 86, 70, 86, 61, 86, 49, 86, 42, 50, 86, 6, 86, 70, 86, 0, 86, 61, 70, 86, 61, 86, 14, 86, 70, 86, 70, 16, 86, 86, 52, 19, 86, 49, 14, 86, 86, 70, 86, 70, 86, 70, 11, 86, 49, 18, 86, 4, 86, 70, 86, 8, 70, 48, 70, 86, 61, 36, 86, 86, 86, 70, 9, 70, 14, 70, 61, 70, 86, 49, 36, 86, 86, 61, 70, 86, 70, 86, 70, 9, 70, 86, 49, 70, 61, 86, 70, 40, 70, 14, 70, 48, 86, 61, 86, 70, 86, 6, 70, 86, 70, 86, 6, 24, 86, 49, 86, 47, 43, 36, 86, 2, 86, 61, 86, 70, 86, 70, 86, 2, 86, 49, 29, 70, 36, 86, 61, 86, 70, 86, 70, 86, 49, 86, 61, 86, 70, 17, 70, 86, 48, 31, 70, 49, 30, 86, 49, 86, 70, 86, 29, 70, 86, 70, 86, 29, 70, 48, 86, 49, 86, 22, 70, 20, 70, 86, 70, 70, 61, 50, 86, 1, 87, 17, 17, 17, 87, 1, 87, 1, 87, 36, 87, 21, 1, 1, 87, 6, 87, 87, 5, 87, 36, 25, 87, 1, 87, 5, 1, 1, 87, 5, 87, 1, 7, 44, 87, 29, 87, 36, 87, 1, 1, 13, 87, 1, 5, 87, 19, 87, 13, 1, 87, 1, 5, 87, 15, 87, 1, 13, 1, 87, 1, 1, 87, 5, 36, 87, 87, 36, 87, 1, 1, 30, 87, 5, 1, 87, 38, 87, 5, 87, 1, 1, 87, 1, 87, 87, 16, 87, 36, 87, 1, 87, 38, 87, 1, 87, 19, 22, 5, 1, 17, 1, 87, 0, 1, 87, 6, 87, 87, 8, 87, 1, 5, 1, 30, 1, 87, 17, 87, 1, 40, 1, 87, 18, 87, 36, 87, 87, 36, 5, 87, 1, 87, 1, 87, 2, 1, 29, 25, 1, 28, 87, 1, 18, 1, 87, 6, 87, 36, 1, 6, 1, 6, 87, 9, 87, 1, 87, 1, 41, 87, 14, 87, 1, 8, 1, 87, 30, 36, 16, 8, 87, 15, 87, 1, 20, 87, 38, 87, 31, 1, 25, 1, 39, 1, 87, 87, 17, 87, 1, 87, 29, 87, 1, 87, 8, 87, 87, 8, 87, 1, 87, 87, 1, 30, 1, 87, 5, 87, 6, 36, 87, 1, 14, 1, 87, 1, 87, 5, 87, 1, 26, 1, 87, 36, 25, 87, 36, 87, 18, 87, 1, 18, 17, 87, 1, 17, 87, 87, 87, 36, 25, 87, 19, 87, 0, 87, 1, 8, 87, 1, 4, 1, 87, 87, 32, 87, 87, 36, 87, 2, 87, 36, 1, 6, 87, 37, 1, 87, 5, 87, 21, 87, 87, 22, 87, 87, 8, 87, 5, 87, 38, 87, 1, 18, 1, 39, 1, 88, 88, 1, 88, 5, 88, 1, 1, 88, 61, 88, 7, 88, 1, 88, 1, 1, 28, 1, 6, 88, 22, 1, 6, 88, 6, 88, 4, 88, 1, 44, 1, 88, 2, 88, 1, 88, 88, 1, 2, 1, 88, 17, 48, 88, 18, 88, 1, 5, 1, 88, 1, 6, 88, 1, 20, 20, 88, 1, 88, 1, 38, 88, 48, 88, 9, 88, 25, 88, 88, 1, 6, 1, 88, 23, 88, 4, 1, 1, 88, 61, 88, 88, 1, 6, 1, 1, 88, 38, 88, 1, 88, 5, 1, 61, 88, 26, 88, 1, 6, 88, 2, 88, 1, 14, 88, 6, 88, 88, 6, 88, 88, 88, 38, 48, 12, 88, 23, 88, 1, 1, 88, 1, 31, 32, 1, 88, 1, 88, 61, 21, 88, 1, 5, 1, 88, 1, 20, 1, 1, 6, 1, 1, 1, 88, 1, 88, 61, 88, 10, 88, 88, 1, 14, 1, 88, 1, 6, 1, 88, 1, 88, 1, 48, 88, 12, 88, 33, 1, 88, 4, 1, 6, 1, 1, 1, 6, 1, 27, 88, 1, 5, 1, 88, 50, 19, 88, 23, 88, 5, 88, 1, 1, 88, 37, 88, 1, 11, 1, 27, 88, 88, 23, 88, 49, 88, 1, 20, 1, 88, 42, 28, 88, 1, 1, 88, 1, 19, 1, 88, 15, 88, 1, 5, 88, 49, 88, 12, 1, 17, 1, 1, 88, 2, 88, 1, 88, 88, 61, 44, 88, 17, 88, 1, 88, 40, 1, 88, 23, 88, 1, 61, 19, 12, 88, 23, 88, 14, 0, 1, 88, 13, 88, 17, 1, 88, 38, 1, 88, 88, 1, 51, 1, 61, 88, 26, 88, 12, 88, 1, 1, 88, 23, 88, 1, 25, 1, 32, 1, 1, 88, 23, 1, 88, 5, 88, 24, 88, 12, 88, 18, 88, 1, 88, 57, 89, 13, 14, 57, 89, 7, 89, 57, 10, 7, 89, 89, 57, 89, 89, 36, 57, 89, 7, 89, 57, 6, 57, 89, 89, 57, 14, 89, 22, 57, 5, 89, 89, 57, 57, 89, 25, 89, 10, 11, 89, 11, 89, 40, 57, 89, 11, 89, 57, 26, 57, 89, 57, 5, 6, 89, 57, 89, 6, 89, 14, 89, 22, 57, 15, 89, 26, 57, 89, 11, 89, 57, 29, 57, 89, 14, 89, 89, 36, 7, 89, 31, 57, 57, 6, 89, 57, 89, 6, 57, 57, 89, 57, 89, 89, 36, 89, 57, 26, 57, 89, 26, 57, 7, 89, 57, 89, 89, 57, 11, 57, 89, 51, 36, 25, 89, 57, 28, 57, 89, 57, 15, 89, 57, 89, 89, 57, 29, 57, 89, 57, 22, 57, 89, 7, 89, 36, 89, 16, 89, 40, 89, 36, 57, 89, 0, 89, 57, 4, 57, 89, 89, 57, 25, 89, 13, 89, 57, 7, 89, 57, 89, 16, 89, 36, 89, 25, 57, 29, 57, 89, 17, 57, 9, 89, 57, 14, 57, 7, 89, 57, 57, 89, 89, 57, 14, 57, 89, 7, 89, 36, 89, 57, 11, 89, 57, 89, 10, 89, 11, 89, 30, 89, 57, 89, 41, 89, 57, 32, 57, 16, 89, 89, 89, 32, 89, 89, 15, 89, 8, 89, 6, 57, 89, 89, 57, 89, 57, 57, 89, 7, 89, 89, 57, 57, 4, 57, 89, 9, 57, 57, 89, 57, 30, 57, 89, 26, 57, 42, 57, 89, 9, 89, 36, 89, 0, 89, 36, 89, 57, 39, 89, 57, 16, 57, 57, 7, 57, 89, 16, 57, 89, 57, 16, 57, 89, 5, 89, 57, 7, 57, 89, 28, 89, 14, 57, 89, 30, 89, 57, 11, 89, 57, 89, 57, 89, 36, 89, 36, 51, 57, 6, 57, 89, 6, 89, 57, 11, 57, 89, 57, 57, 89, 32, 57, 89, 0, 57, 27, 57, 89, 26, 36, 89, 89, 57, 26, 57, 89, 14, 89, 57, 16, 57, 6, 42, 57, 89, 57, 89, 16, 89, 89, 36, 57, 7, 89, 57, 23, 89, 7, 89, 57, 11, 57, 89, 15, 57, 17, 57, 89, 25, 57, 57, 89, 14, 89, 36, 89, 32, 89, 57, 89, 21, 64, 76, 64, 76, 64, 76, 64, 40, 64, 76, 64, 76, 60, 76, 42, 60, 76, 23, 76, 64, 14, 64, 76, 64, 6, 64, 76, 76, 64, 28, 51, 64, 76, 60, 30, 76, 64, 64, 76, 64, 76, 64, 31, 64, 76, 64, 40, 64, 76, 76, 76, 22, 76, 76, 64, 6, 76, 64, 28, 64, 76, 64, 76, 64, 26, 64, 43, 76, 64, 76, 64, 64, 18, 64, 64, 76, 64, 64, 76, 60, 76, 27, 8, 76, 8, 76, 10, 64, 76, 64, 22, 64, 76, 64, 31, 64, 76, 13, 76, 64, 41, 64, 76, 64, 9, 64, 76, 60, 9, 76, 0, 76, 76, 64, 39, 64, 76, 64, 64, 76, 64, 32, 64, 76, 64, 76, 60, 64, 64, 37, 64, 76, 76, 64, 76, 76, 60, 76, 15, 60, 76, 64, 76, 0, 76, 64, 31, 76, 37, 76, 64, 64, 64, 31, 76, 60, 8, 76, 64, 64, 76, 64, 25, 64, 42, 64, 14, 76, 64, 76, 64, 60, 28, 76, 64, 37, 76, 64, 76, 64, 76, 64, 10, 64, 37, 76, 76, 31, 28, 76, 64, 26, 64, 76, 7, 76, 64, 21, 26, 64, 76, 64, 14, 5, 64, 76, 15, 76, 76, 76, 9, 64, 64, 76, 64, 76, 64, 76, 5, 76, 26, 64, 76, 64, 14, 64, 76, 18, 76, 60, 76, 60, 10, 76, 64, 76, 64, 22, 64, 64, 76, 64, 0, 64, 76, 64, 9, 76, 76, 43, 60, 76, 9, 76, 64, 8, 76, 21, 64, 76, 64, 76, 64, 28, 64, 76, 43, 21, 64, 76, 60, 76, 64, 19, 64, 64, 26, 64, 76, 64, 2, 64, 76, 37, 76, 64, 64, 9, 76, 64, 51, 76, 6, 76, 60, 76, 64, 76, 10, 64, 76, 64, 64, 64, 31, 76, 43, 60, 76, 60, 76, 43, 76, 76, 64, 76, 57, 57, 31, 90, 57, 22, 57, 90, 57, 40, 57, 24, 90, 57, 90, 37, 90, 90, 57, 7, 57, 90, 90, 57, 90, 39, 90, 11, 90, 57, 9, 57, 90, 17, 90, 57, 49, 90, 12, 90, 18, 90, 57, 14, 57, 90, 57, 21, 57, 10, 57, 41, 90, 57, 90, 90, 59, 32, 90, 49, 18, 90, 57, 2, 57, 57, 16, 57, 90, 42, 57, 13, 57, 14, 90, 52, 90, 49, 90, 10, 57, 14, 57, 90, 14, 90, 57, 57, 90, 27, 90, 57, 90, 7, 90, 42, 57, 59, 90, 90, 57, 31, 57, 90, 57, 10, 57, 2, 57, 90, 4, 57, 7, 90, 4, 57, 59, 47, 90, 0, 90, 16, 90, 57, 90, 57, 26, 57, 8, 90, 57, 8, 57, 90, 57, 90, 57, 32, 57, 90, 59, 90, 14, 90, 12, 8, 90, 57, 90, 57, 90, 57, 7, 90, 23, 57, 90, 57, 57, 49, 31, 90, 59, 90, 26, 90, 12, 90, 57, 14, 57, 90, 57, 28, 57, 9, 57, 90, 6, 90, 57, 90, 8, 90, 57, 59, 47, 90, 12, 57, 90, 57, 57, 57, 16, 57, 90, 90, 57, 59, 23, 57, 90, 57, 90, 57, 14, 57, 30, 90, 59, 90, 18, 90, 57, 14, 90, 57, 90, 10, 57, 90, 57, 90, 57, 49, 26, 90, 59, 90, 13, 90, 12, 90, 11, 90, 57, 90, 13, 57, 18, 57, 90, 57, 90, 4, 57, 90, 90, 57, 47, 10, 59, 40, 90, 12, 90, 2, 57, 90, 57, 13, 57, 90, 18, 90, 57, 8, 57, 57, 14, 57, 49, 90, 59, 90, 4, 57, 90, 90, 57, 57, 57, 90, 18, 90, 57, 31, 90, 57, 18, 57, 59, 90, 59, 6, 90, 43, 90, 57, 44, 57, 90, 14, 90, 2, 57, 90, 2, 90, 57, 25, 57, 90, 57, 57, 59, 26, 90, 90, 57, 39, 57, 90, 18, 90, 57, 8, 90, 57, 48, 59, 90, 20, 90, 28, 90, 90, 57, 90, 64, 91, 2, 52, 91, 91, 27, 91, 64, 64, 50, 64, 33, 64, 91, 43, 91, 36, 91, 7, 91, 47, 91, 18, 91, 10, 91, 64, 33, 64, 91, 19, 64, 64, 59, 31, 64, 21, 64, 91, 20, 91, 64, 64, 91, 31, 91, 36, 25, 91, 50, 4, 64, 91, 24, 91, 64, 26, 64, 18, 91, 10, 91, 64, 64, 91, 15, 91, 20, 91, 11, 91, 59, 26, 91, 64, 91, 43, 91, 64, 0, 64, 59, 7, 91, 64, 41, 64, 91, 7, 91, 64, 10, 64, 59, 91, 64, 91, 26, 36, 91, 31, 91, 59, 21, 91, 26, 91, 64, 91, 29, 64, 31, 64, 52, 64, 42, 64, 91, 20, 91, 64, 19, 64, 59, 27, 91, 64, 91, 42, 91, 47, 91, 29, 91, 10, 91, 64, 25, 64, 91, 64, 6, 64, 59, 91, 64, 7, 64, 91, 17, 91, 64, 22, 64, 52, 22, 64, 17, 64, 91, 36, 47, 91, 64, 91, 39, 91, 64, 48, 7, 91, 64, 10, 91, 31, 91, 64, 19, 64, 59, 29, 64, 44, 22, 91, 42, 91, 48, 91, 31, 91, 64, 64, 91, 10, 91, 64, 5, 64, 50, 5, 64, 91, 28, 91, 64, 64, 52, 9, 91, 64, 64, 91, 52, 64, 64, 91, 64, 49, 6, 91, 64, 64, 91, 15, 91, 64, 59, 40, 4, 64, 91, 36, 91, 59, 10, 64, 91, 91, 64, 52, 64, 8, 9, 91, 64, 52, 2, 91, 64, 0, 91, 18, 91, 36, 91, 91, 42, 91, 17, 91, 64, 59, 91, 64, 91, 9, 64, 59, 29, 91, 64, 36, 91, 4, 91, 13, 64, 31, 64, 91, 10, 64, 49, 9, 91, 64, 37, 64, 32, 91, 59, 31, 64, 91, 51, 47, 14, 64, 32, 64, 26, 91, 64, 29, 64, 50, 8, 91, 64, 8, 64, 91, 91, 0, 59, 5, 64, 91, 59, 91, 22, 91, 64, 8, 64, 91, 31, 91, 64, 47, 2, 91, 64, 91, 27, 91, 26, 64, 13, 91, 64, 32, 64, 91, 10, 91, 36, 91, 2, 64, 17, 64, 91, 6, 64, 40, 64, 59, 14, 64, 91, 4, 91, 5, 64, 59, 42, 64, 91, 27, 91, 59, 91, 22, 4, 64, 59, 91, 64, 91, 22, 91, 64, 9, 64, 47, 91, 64, 23, 64, 91, 40, 50, 91, 91, 4, 91, 64, 0, 64, 91, 91, 28, 91, 64, 91, 22, 91, 64, 13, 59, 10, 91, 64, 22, 91, 36, 4, 91, 32, 91, 52, 91, 31, 91, 64, 91, 1, 33, 1, 59, 0, 92, 92, 17, 92, 1, 33, 92, 1, 44, 1, 5, 92, 1, 0, 92, 92, 38, 21, 1, 49, 30, 92, 1, 11, 1, 92, 17, 1, 28, 17, 92, 1, 8, 1, 92, 21, 92, 28, 1, 59, 25, 60, 43, 92, 1, 47, 92, 1, 1, 92, 16, 1, 8, 1, 92, 42, 1, 92, 17, 92, 1, 8, 48, 13, 1, 5, 1, 47, 14, 92, 1, 39, 1, 92, 51, 1, 8, 1, 92, 22, 92, 1, 5, 92, 92, 1, 11, 1, 49, 26, 92, 60, 60, 26, 92, 1, 24, 1, 50, 25, 1, 6, 92, 1, 33, 92, 7, 1, 29, 1, 92, 17, 92, 1, 47, 92, 60, 28, 92, 1, 41, 1, 47, 28, 92, 1, 1, 92, 17, 92, 1, 33, 38, 92, 92, 10, 1, 59, 25, 92, 60, 92, 92, 19, 1, 59, 1, 17, 92, 1, 92, 1, 6, 1, 92, 92, 1, 6, 1, 60, 92, 60, 92, 92, 1, 28, 1, 59, 5, 92, 1, 31, 1, 92, 17, 92, 38, 1, 92, 23, 28, 1, 92, 17, 1, 5, 1, 40, 92, 1, 31, 52, 0, 92, 1, 5, 92, 14, 92, 1, 6, 92, 23, 92, 1, 11, 1, 92, 21, 1, 59, 92, 60, 92, 17, 92, 60, 1, 1, 27, 1, 92, 22, 92, 5, 1, 92, 17, 92, 20, 1, 17, 92, 1, 8, 1, 59, 29, 60, 92, 6, 92, 60, 1, 1, 59, 92, 1, 26, 1, 26, 92, 1, 8, 1, 92, 16, 1, 6, 92, 1, 8, 1, 48, 17, 60, 92, 10, 92, 17, 60, 92, 92, 1, 33, 1, 50, 51, 1, 15, 1, 92, 6, 92, 6, 1, 92, 1, 39, 1, 1, 22, 92, 26, 92, 1, 9, 1, 59, 0, 92, 1, 41, 1, 92, 2, 92, 1, 92, 6, 92, 1, 92, 13, 92, 1, 16, 1, 10, 60, 10, 92, 92, 1, 1, 48, 32, 1, 38, 1, 92, 17, 92, 1, 5, 1, 92, 11, 1, 10, 1, 8, 49, 14, 92, 6, 1, 59, 8, 92, 1, 92, 92, 1, 1, 92, 10, 1, 9, 1, 92, 26, 92, 1, 48, 28, 92, 60, 92, 92, 1, 28, 1, 59, 92, 1, 20, 1, 92, 20, 92, 1, 9, 1, 92, 92, 1, 14, 1, 6, 92, 1, 6, 59, 5, 60, 1, 20, 1, 59, 6, 92, 1, 8, 1, 92, 51, 1, 18, 1, 92, 13, 1, 17, 1, 17, 92, 1, 6, 1, 59, 92, 11, 1, 26, 1, 64, 46, 0, 64, 31, 64, 50, 26, 93, 64, 17, 64, 93, 21, 93, 64, 93, 64, 93, 27, 93, 64, 52, 31, 93, 64, 25, 64, 15, 64, 11, 64, 93, 26, 19, 93, 32, 19, 93, 64, 50, 17, 64, 22, 64, 31, 64, 93, 25, 64, 93, 93, 12, 93, 29, 93, 64, 52, 10, 64, 64, 49, 93, 30, 93, 64, 22, 93, 64, 93, 20, 93, 12, 93, 30, 93, 14, 93, 64, 64, 64, 64, 93, 64, 16, 64, 93, 28, 93, 64, 22, 20, 93, 64, 22, 93, 12, 93, 27, 93, 64, 64, 9, 93, 64, 48, 64, 93, 64, 10, 64, 93, 93, 20, 93, 12, 93, 12, 93, 19, 93, 64, 37, 64, 50, 31, 64, 52, 39, 64, 7, 64, 64, 93, 21, 93, 64, 19, 64, 93, 25, 93, 64, 21, 64, 46, 40, 64, 52, 42, 93, 64, 13, 64, 64, 37, 93, 64, 18, 64, 21, 93, 31, 93, 15, 93, 12, 93, 17, 93, 64, 6, 64, 52, 64, 64, 48, 41, 64, 0, 64, 93, 64, 93, 18, 93, 26, 93, 12, 93, 93, 64, 46, 5, 93, 64, 48, 7, 64, 93, 26, 93, 22, 64, 93, 25, 64, 0, 93, 12, 40, 93, 2, 64, 64, 41, 93, 39, 64, 46, 2, 64, 93, 14, 93, 64, 26, 64, 93, 23, 93, 64, 6, 93, 12, 93, 64, 46, 93, 64, 64, 52, 93, 64, 64, 93, 22, 93, 33, 93, 12, 93, 21, 93, 64, 19, 93, 46, 93, 64, 2, 64, 93, 93, 64, 93, 64, 17, 64, 93, 22, 93, 29, 93, 15, 93, 93, 64, 31, 46, 42, 64, 22, 64, 52, 93, 64, 93, 21, 93, 64, 28, 93, 64, 93, 21, 93, 93, 17, 64, 50, 93, 64, 50, 21, 93, 64, 93, 21, 93, 64, 27, 64, 93, 21, 93, 64, 64, 93, 93, 17, 93, 12, 93, 9, 93, 22, 93, 64, 46, 6, 93, 64, 5, 64, 46, 5, 93, 64, 42, 64, 6, 64, 12, 7, 93, 93, 64, 52, 93, 64, 50, 42, 64, 93, 64, 22, 93, 64, 31, 64, 44, 93, 12, 93, 64, 29, 64, 52, 43, 93, 64, 26, 64, 94, 64, 19, 64, 50, 64, 94, 64, 22, 64, 52, 64, 64, 60, 94, 8, 94, 64, 26, 64, 94, 64, 0, 64, 61, 64, 20, 64, 94, 64, 11, 64, 61, 39, 64, 94, 60, 94, 60, 28, 94, 64, 41, 64, 94, 64, 10, 64, 61, 64, 18, 47, 11, 64, 60, 94, 14, 94, 25, 64, 22, 64, 50, 94, 64, 10, 64, 94, 64, 8, 64, 61, 64, 11, 94, 60, 94, 64, 94, 64, 6, 64, 61, 64, 94, 64, 43, 50, 64, 64, 42, 17, 94, 64, 17, 64, 50, 94, 64, 23, 94, 64, 42, 64, 61, 64, 26, 64, 94, 60, 22, 94, 60, 94, 64, 28, 64, 94, 64, 64, 61, 64, 8, 64, 94, 64, 42, 64, 47, 21, 64, 94, 60, 94, 28, 94, 64, 43, 64, 94, 22, 64, 64, 13, 94, 64, 29, 64, 61, 64, 14, 22, 94, 42, 94, 60, 22, 94, 21, 64, 22, 64, 64, 64, 64, 61, 64, 28, 94, 22, 94, 64, 9, 64, 94, 64, 64, 61, 64, 94, 40, 64, 47, 42, 60, 4, 60, 94, 21, 94, 64, 40, 64, 94, 64, 13, 64, 47, 64, 42, 94, 9, 64, 64, 94, 60, 22, 94, 64, 22, 64, 94, 64, 14, 64, 64, 6, 64, 94, 64, 64, 61, 64, 37, 64, 94, 94, 60, 20, 94, 64, 64, 94, 64, 64, 94, 64, 16, 64, 94, 14, 64, 52, 94, 64, 23, 64, 94, 21, 94, 94, 21, 94, 64, 10, 64, 94, 64, 22, 52, 64, 64, 94, 64, 17, 61, 31, 64, 14, 94, 60, 94, 24, 64, 28, 94, 6, 64, 23, 64, 52, 64, 11, 64, 64, 19, 64, 61, 64, 15, 64, 94, 60, 94, 64, 11, 64, 94, 64, 51, 64, 61, 64, 28, 64, 94, 64, 13, 61, 64, 64, 94, 28, 94, 60, 94, 27, 94, 8, 94, 24, 64, 94, 61, 6, 64, 61, 64, 2, 64, 94, 60, 32, 64, 21, 94, 57, 39, 57, 61, 7, 95, 95, 39, 95, 57, 49, 14, 57, 95, 95, 57, 95, 12, 57, 49, 57, 57, 95, 31, 12, 95, 57, 61, 57, 57, 95, 57, 16, 57, 49, 17, 57, 95, 22, 57, 11, 57, 95, 12, 16, 14, 18, 95, 57, 0, 57, 47, 57, 28, 57, 95, 57, 22, 57, 95, 16, 95, 57, 4, 57, 95, 95, 57, 32, 57, 61, 57, 95, 7, 57, 52, 42, 57, 95, 57, 22, 57, 95, 12, 30, 57, 57, 49, 5, 95, 95, 2, 57, 61, 6, 95, 57, 24, 57, 95, 13, 57, 25, 57, 95, 39, 2, 95, 13, 57, 49, 14, 95, 57, 7, 57, 39, 95, 57, 61, 13, 95, 57, 8, 95, 57, 39, 57, 61, 2, 95, 57, 95, 31, 57, 47, 15, 95, 57, 25, 57, 12, 0, 95, 6, 95, 57, 61, 20, 95, 57, 95, 4, 95, 57, 31, 52, 22, 57, 16, 57, 6, 95, 57, 6, 95, 12, 12, 95, 95, 7, 95, 57, 47, 0, 57, 95, 8, 95, 57, 57, 48, 95, 20, 57, 10, 57, 18, 95, 12, 95, 51, 95, 7, 95, 57, 50, 8, 95, 57, 5, 57, 57, 50, 95, 57, 16, 57, 57, 95, 0, 95, 4, 95, 95, 95, 57, 61, 95, 57, 95, 11, 95, 57, 7, 57, 48, 95, 57, 27, 95, 57, 95, 95, 95, 6, 95, 95, 25, 95, 7, 95, 57, 47, 40, 57, 95, 30, 95, 95, 5, 95, 57, 61, 24, 57, 95, 17, 57, 28, 57, 95, 57, 8, 95, 38, 95, 95, 50, 19, 57, 57, 95, 57, 61, 95, 57, 11, 95, 11, 57, 95, 13, 95, 95, 7, 95, 0, 57, 61, 2, 95, 57, 95, 57, 61, 17, 57, 95, 7, 95, 57, 6, 95, 17, 12, 95, 21, 15, 95, 57, 57, 2, 95, 42, 57, 95, 6, 95, 57, 48, 28, 95, 64, 64, 18, 64, 96, 41, 64, 14, 64, 96, 13, 96, 64, 96, 64, 4, 64, 96, 6, 96, 96, 22, 96, 12, 96, 96, 6, 96, 64, 22, 64, 96, 96, 64, 40, 64, 96, 96, 64, 96, 52, 96, 26, 96, 12, 31, 96, 64, 64, 64, 28, 64, 4, 96, 64, 42, 64, 96, 23, 96, 64, 96, 46, 96, 31, 96, 12, 96, 96, 26, 64, 96, 96, 64, 96, 6, 96, 64, 26, 64, 96, 6, 96, 48, 96, 17, 96, 5, 96, 96, 24, 96, 64, 96, 64, 96, 64, 29, 64, 96, 26, 96, 46, 96, 96, 12, 96, 23, 96, 64, 40, 96, 64, 96, 6, 96, 17, 64, 64, 31, 64, 96, 64, 96, 37, 96, 46, 12, 96, 96, 64, 17, 64, 96, 28, 64, 96, 64, 64, 96, 13, 64, 96, 64, 96, 12, 96, 29, 96, 40, 64, 96, 64, 6, 96, 5, 64, 96, 64, 64, 44, 64, 96, 52, 96, 41, 96, 64, 7, 22, 64, 64, 96, 64, 26, 64, 96, 64, 21, 64, 96, 46, 96, 5, 96, 23, 64, 96, 20, 96, 64, 96, 64, 25, 96, 22, 64, 96, 43, 96, 64, 46, 96, 26, 96, 29, 96, 12, 96, 64, 13, 64, 96, 64, 13, 96, 96, 8, 96, 96, 47, 96, 12, 96, 10, 96, 22, 96, 64, 11, 64, 96, 10, 64, 41, 96, 64, 96, 64, 15, 64, 46, 96, 96, 6, 64, 17, 96, 64, 96, 6, 96, 96, 64, 96, 21, 64, 28, 96, 96, 12, 64, 20, 64, 26, 96, 64, 21, 96, 64, 96, 28, 96, 10, 96, 47, 96, 96, 64, 96, 64, 26, 64, 8, 64, 96, 29, 96, 64, 22, 64, 64, 64, 96, 46, 0, 12, 32, 96, 37, 64, 96, 14, 64, 96, 64, 96, 64, 14, 64, 64, 22, 64, 96, 52, 32, 12, 96, 64, 96, 43, 96, 64, 8, 64, 96, 17, 64, 96, 64, 64, 96, 64, 10, 64, 96, 46, 7, 96, 26, 28, 96, 22, 64, 96, 34, 15, 97, 34, 8, 34, 97, 16, 97, 34, 21, 34, 29, 97, 63, 97, 97, 97, 34, 8, 34, 28, 97, 13, 97, 29, 34, 22, 34, 34, 97, 97, 49, 97, 34, 17, 34, 97, 34, 23, 34, 33, 34, 20, 97, 55, 97, 9, 34, 97, 34, 4, 97, 34, 16, 97, 47, 97, 34, 21, 34, 97, 26, 97, 34, 97, 9, 49, 97, 0, 97, 34, 41, 97, 14, 34, 97, 97, 34, 97, 25, 97, 34, 26, 97, 34, 97, 18, 34, 14, 97, 55, 97, 34, 97, 34, 10, 15, 2, 34, 6, 97, 8, 63, 97, 14, 97, 97, 34, 97, 34, 34, 17, 34, 41, 97, 34, 6, 34, 2, 34, 5, 97, 97, 49, 97, 34, 97, 40, 14, 97, 34, 14, 24, 97, 34, 28, 8, 34, 17, 63, 52, 97, 11, 97, 34, 14, 97, 19, 34, 6, 97, 23, 34, 6, 34, 14, 34, 97, 7, 97, 43, 34, 6, 34, 97, 39, 34, 34, 17, 34, 6, 97, 49, 97, 34, 97, 26, 34, 34, 97, 11, 34, 51, 34, 97, 2, 4, 97, 34, 14, 34, 8, 97, 20, 97, 34, 8, 4, 97, 47, 97, 34, 29, 97, 6, 34, 11, 34, 70, 39, 98, 51, 70, 98, 61, 14, 98, 47, 98, 9, 40, 98, 70, 22, 70, 18, 29, 70, 98, 31, 70, 40, 98, 70, 9, 98, 28, 98, 5, 98, 63, 98, 6, 70, 98, 8, 47, 2, 70, 24, 70, 98, 15, 98, 63, 98, 70, 13, 70, 2, 70, 98, 22, 98, 48, 98, 19, 98, 14, 63, 98, 25, 98, 70, 98, 48, 5, 98, 14, 98, 70, 25, 98, 9, 98, 28, 98, 41, 70, 61, 38, 70, 11, 70, 61, 38, 70, 9, 98, 98, 20, 98, 63, 98, 28, 18, 98, 47, 21, 70, 98, 47, 26, 70, 15, 98, 5, 70, 70, 40, 98, 5, 6, 70, 70, 4, 98, 61, 18, 70, 70, 49, 29, 98, 70, 98, 13, 63, 98, 98, 11, 70, 18, 39, 70, 98, 70, 70, 98, 61, 70, 28, 98, 70, 98, 98, 22, 98, 11, 19, 70, 9, 61, 23, 70, 48, 70, 0, 98, 98, 70, 18, 70, 6, 98, 70, 61, 20, 70, 11, 70, 61, 23, 16, 98, 10, 11, 63, 17, 98, 70, 23, 0, 70, 14, 61, 70, 48, 14, 2, 98, 28, 98, 15, 98, 19, 98, 8, 61, 70, 28, 98, 48, 14, 11, 98, 25, 70, 17, 8, 98, 8, 98, 70, 2, 98, 32, 98, 48, 98, 70, 32, 98, 4, 70, 9, 98, 6, 70, 11, 98, 61, 34, 47, 24, 99, 17, 99, 36, 99, 52, 34, 99, 0, 39, 99, 34, 99, 99, 50, 34, 99, 34, 31, 99, 34, 29, 99, 34, 99, 18, 99, 34, 99, 34, 99, 36, 31, 99, 40, 99, 34, 99, 34, 99, 11, 34, 99, 34, 99, 9, 99, 34, 99, 34, 55, 44, 34, 99, 23, 99, 29, 34, 55, 34, 99, 34, 99, 34, 17, 99, 34, 99, 34, 34, 29, 99, 36, 36, 99, 34, 99, 34, 99, 48, 34, 99, 23, 34, 99, 6, 34, 99, 28, 99, 34, 47, 34, 99, 34, 99, 5, 99, 34, 99, 29, 55, 99, 34, 6, 34, 99, 34, 36, 99, 39, 34, 38, 34, 99, 47, 99, 7, 34, 14, 34, 36, 99, 44, 99, 34, 34, 5, 99, 34, 0, 34, 8, 99, 29, 99, 99, 44, 99, 34, 99, 55, 99, 34, 34, 8, 16, 99, 34, 16, 34, 55, 0, 8, 68, 17, 68, 8, 68, 68, 100, 8, 100, 68, 7, 68, 100, 68, 52, 63, 100, 37, 100, 16, 100, 68, 25, 68, 100, 68, 100, 100, 68, 32, 100, 68, 42, 100, 68, 4, 100, 9, 29, 100, 68, 8, 100, 68, 68, 100, 68, 68, 68, 100, 4, 100, 68, 59, 7, 100, 31, 68, 100, 68, 25, 68, 100, 68, 100, 68, 100, 68, 31, 68, 59, 14, 100, 9, 100, 32, 100, 68, 32, 68, 100, 25, 100, 68, 18, 68, 100, 14, 68, 100, 52, 63, 100, 38, 100, 68, 100, 68, 7, 100, 68, 51, 68, 100, 68, 11, 68, 100, 68, 44, 68, 49, 63, 100, 68, 68, 100, 68, 9, 100, 68, 50, 63, 100, 68, 31, 68, 100, 100, 68, 100, 68, 21, 68, 68, 25, 68, 15, 100, 68, 28, 68, 49, 4, 26, 68, 43, 100, 68, 24, 100, 68, 100, 24, 100, 68, 68, 100, 68, 48, 0, 100, 100, 27, 100, 63, 100, 68, 100, 51, 68, 100, 68, 100, 11, 100, 8, 68, 52, 21, 100, 17, 100, 63, 100, 68, 100, 68, 68, 100, 68, 59, 63, 100, 29, 100, 31, 100, 63, 100, 68, 68, 100, 68, 100, 68, 11, 100, 40, 68, 68, 47, 9, 100, 68, 100, 100, 29, 100, 68, 100, 68, 100, 68, 59, 31, 100, 100, 68, 68, 100, 68, 100, 68, 100, 11, 100, 68, 68, 100, 68, 49, 63, 100, 68, 4, 100, 68, 100, 39, 100, 68, 100, 68, 0, 100, 40, 100, 49, 13, 100, 100, 63, 68, 0, 68, 100, 100, 68, 100, 68, 32, 68, 100, 68, 31, 100, 63, 100, 11, 100, 68, 18, 100, 68, 24, 68, 100, 6, 100, 18, 68, 29, 68, 10, 68, 100, 68, 50, 9, 100, 100, 68, 40, 100, 70, 101, 9, 70, 14, 70, 4, 70, 42, 101, 61, 23, 101, 28, 16, 2, 70, 11, 22, 70, 101, 20, 70, 26, 70, 61, 13, 18, 101, 44, 101, 70, 101, 70, 4, 70, 70, 101, 61, 70, 52, 13, 70, 11, 101, 6, 36, 101, 39, 101, 31, 101, 70, 101, 47, 23, 70, 70, 43, 41, 101, 70, 70, 11, 70, 101, 29, 70, 101, 33, 70, 101, 30, 101, 70, 11, 101, 31, 70, 6, 70, 42, 61, 70, 49, 6, 70, 101, 14, 36, 101, 36, 101, 16, 70, 11, 101, 31, 70, 11, 101, 70, 50, 70, 52, 70, 32, 70, 101, 31, 101, 22, 101, 70, 101, 61, 70, 52, 14, 70, 29, 15, 70, 11, 70, 101, 61, 18, 36, 101, 15, 70, 101, 6, 70, 101, 15, 61, 49, 70, 44, 101, 70, 44, 101, 39, 70, 101, 26, 70, 11, 70, 61, 101, 61, 70, 36, 101, 16, 101, 31, 101, 70, 19, 70, 101, 31, 101, 70, 101, 8, 70, 70, 101, 50, 70, 14, 101, 36, 101, 70, 0, 70, 11, 70, 29, 70, 5, 101, 70, 61, 15, 101, 70, 31, 101, 70, 101, 16, 70, 101, 70, 52, 21, 70, 17, 101, 33, 101, 11, 70, 93, 17, 70, 16, 93, 70, 0, 93, 77, 49, 93, 44, 93, 26, 93, 70, 93, 26, 93, 93, 52, 26, 19, 93, 70, 11, 11, 93, 26, 70, 9, 70, 93, 77, 32, 77, 93, 8, 93, 70, 26, 70, 93, 17, 70, 6, 70, 14, 70, 77, 21, 93, 77, 93, 93, 93, 93, 26, 93, 93, 70, 18, 70, 77, 19, 52, 22, 93, 19, 93, 70, 2, 70, 11, 70, 93, 22, 9, 93, 11, 93, 77, 21, 77, 70, 93, 70, 93, 8, 70, 93, 26, 93, 93, 19, 93, 70, 93, 77, 93, 40, 93, 70, 11, 93, 21, 70, 93, 26, 18, 70, 77, 52, 93, 63, 70, 93, 11, 93, 14, 70, 10, 93, 28, 70, 7, 48, 22, 93, 93, 70, 93, 19, 93, 70, 0, 16, 70, 52, 93, 70, 11, 93, 27, 70, 93, 93, 70, 93, 70, 77, 77, 93, 39, 93, 63, 93, 9, 70, 70, 70, 93, 70, 29, 70, 93, 52, 93, 8, 70, 93, 21, 93, 70, 9, 93, 0, 29, 7, 70, 39, 70, 31, 70, 77, 93, 63, 93, 70, 93, 70, 93, 26, 68, 55, 68, 32, 68, 102, 68, 68, 68, 102, 102, 55, 68, 42, 102, 68, 25, 68, 102, 29, 68, 42, 102, 68, 102, 68, 0, 102, 26, 102, 47, 102, 51, 102, 68, 47, 68, 102, 19, 102, 68, 102, 102, 68, 68, 36, 102, 102, 48, 102, 25, 68, 49, 68, 102, 68, 102, 68, 68, 102, 102, 68, 49, 16, 102, 68, 102, 68, 102, 68, 68, 102, 68, 102, 52, 102, 10, 102, 68, 55, 68, 102, 68, 102, 102, 102, 102, 36, 47, 5, 102, 29, 102, 49, 102, 68, 102, 68, 7, 68, 102, 102, 68, 21, 68, 102, 47, 102, 15, 102, 42, 24, 55, 68, 102, 68, 102, 68, 11, 68, 102, 102, 68, 50, 102, 41, 68, 25, 68, 52, 68, 102, 68, 102, 102, 42, 102, 68, 102, 102, 102, 22, 102, 68, 40, 68, 49, 102, 29, 102, 39, 68, 68, 102, 68, 102, 36, 102, 25, 102, 55, 102, 32, 102, 68, 55, 68, 32, 102, 68, 102, 68, 102, 68, 31, 102, 55, 102, 68, 50, 68, 102, 6, 102, 68, 0, 68, 68, 48, 102, 102, 68, 52, 68, 42, 102, 68, 102, 39, 68, 102, 13, 102, 102, 40, 102, 102, 32, 102, 68, 48, 68, 0, 68, 102, 68, 102, 102, 68, 48, 13, 68, 102, 68, 31, 102, 68, 22, 9, 102, 55, 102, 68, 52, 68, 102, 68, 102, 102, 40, 102, 29, 68, 102, 15, 36, 102, 17, 49, 102, 51, 102, 68, 33, 68, 55, 68, 42, 102, 68, 102, 51, 102, 68, 102, 68, 102, 22, 102, 18, 102, 102, 68, 55, 16, 102, 68, 16, 68, 101, 29, 68, 101, 101, 68, 10, 68, 101, 68, 101, 42, 68, 101, 68, 101, 31, 101, 68, 29, 101, 68, 5, 68, 101, 68, 101, 14, 101, 101, 68, 68, 101, 68, 68, 101, 28, 68, 43, 68, 101, 10, 101, 68, 101, 68, 101, 26, 101, 68, 25, 68, 101, 68, 101, 68, 101, 68, 101, 101, 6, 101, 101, 60, 101, 68, 101, 68, 0, 68, 101, 15, 101, 68, 0, 68, 101, 101, 68, 68, 68, 101, 37, 101, 68, 101, 68, 22, 68, 101, 68, 101, 31, 101, 68, 101, 40, 101, 101, 68, 101, 68, 101, 68, 101, 68, 101, 26, 101, 68, 101, 11, 101, 60, 101, 26, 101, 60, 101, 68, 101, 68, 101, 11, 101, 68, 20, 68, 101, 68, 5, 68, 101, 68, 29, 101, 11, 101, 60, 101, 68, 101, 101, 68, 101, 68, 14, 68, 68, 101, 101, 68, 101, 68, 10, 68, 101, 42, 68, 101, 68, 9, 68, 101, 101, 101, 43, 101, 18, 101, 68, 101, 26, 101, 68, 101, 29, 68, 51, 68, 101, 42, 101, 19, 68, 101, 25, 101, 68, 101, 42, 101, 25, 101, 60, 101, 101, 37, 101, 68, 101, 68, 2, 68, 5, 68, 25, 68, 101, 16, 101, 10, 101, 21, 101, 16, 68, 101, 7, 101, 68, 101, 68, 39, 68, 101, 31, 68, 101, 60, 68, 31, 68, 101, 68, 7, 68, 101, 101, 68, 42, 68, 101, 68, 101, 68, 101, 13, 6, 101, 68, 101, 68, 68, 101, 10, 101, 68, 101, 68, 101, 15, 101, 60, 101, 39, 101, 40, 101, 68, 40, 68, 101, 101, 11, 101, 11, 101, 15, 68, 101, 14, 101, 2, 68, 101, 31, 101, 68, 40, 68, 101, 68, 101, 101, 39, 101, 68, 16, 68, 101, 37, 101, 68, 101, 101, 101, 60, 101, 68, 101, 64, 64, 103, 37, 103, 64, 4, 103, 64, 103, 9, 64, 44, 18, 64, 16, 64, 103, 103, 59, 103, 103, 60, 103, 26, 103, 64, 103, 6, 64, 22, 64, 28, 103, 17, 64, 103, 64, 7, 64, 103, 103, 22, 103, 50, 22, 103, 22, 64, 29, 64, 103, 17, 103, 64, 59, 14, 103, 64, 29, 64, 103, 21, 103, 64, 103, 64, 103, 40, 103, 19, 22, 103, 64, 103, 21, 103, 48, 103, 64, 42, 64, 103, 39, 64, 32, 40, 103, 64, 103, 15, 103, 49, 103, 9, 103, 51, 103, 64, 103, 10, 103, 103, 64, 8, 64, 103, 22, 22, 64, 22, 103, 29, 64, 22, 103, 59, 103, 10, 103, 64, 103, 22, 103, 64, 21, 64, 48, 14, 103, 64, 64, 26, 103, 64, 103, 18, 64, 8, 64, 103, 22, 21, 103, 103, 22, 103, 64, 103, 40, 64, 103, 22, 103, 64, 103, 26, 64, 23, 64, 103, 41, 103, 52, 103, 2, 103, 10, 103, 60, 19, 64, 19, 22, 103, 64, 9, 64, 9, 103, 64, 21, 64, 103, 31, 103, 64, 24, 64, 103, 25, 64, 103, 21, 103, 59, 103, 64, 103, 64, 64, 18, 64, 30, 64, 103, 0, 64, 26, 103, 64, 38, 103, 10, 103, 59, 103, 43, 103, 60, 18, 64, 103, 10, 103, 64, 50, 103, 64, 5, 64, 8, 103, 9, 64, 103, 22, 103, 32, 64, 103, 17, 103, 2, 16, 60, 17, 103, 64, 103, 18, 103, 64, 17, 52, 26, 103, 42, 6, 103, 64, 0, 64, 103, 21, 103, 64, 22, 103, 59, 103, 39, 103, 64, 24, 103, 19, 9, 64, 59, 11, 64, 29, 64, 21, 103, 64, 37, 64, 103, 103, 25, 64, 103, 17, 103, 59, 103, 6, 60, 103, 64, 38, 23, 64, 47, 8, 103, 64, 103, 103, 103, 64, 40, 64, 103, 26, 103, 59, 103, 29, 103, 38, 103, 64, 103, 26, 64, 50, 23, 64, 24, 26, 103, 22, 64, 103, 31, 0, 103, 22, 103, 59, 103, 64, 103, 8, 64, 21, 64, 64, 17, 64, 103, 22, 103, 64, 11, 64, 103, 103, 64, 103, 40, 103, 50, 103, 11, 103, 60, 64, 8, 64, 103, 22, 103, 64, 6, 64, 59, 103, 64, 15, 64, 22, 64, 10, 64, 21, 64, 2, 64, 19, 59, 103, 22, 27, 103, 64, 0, 103, 40, 103, 64, 28, 52, 26, 103, 64, 64, 42, 64, 40, 64, 22, 64, 103, 43, 103, 103, 14, 103, 37, 103, 64, 26, 64, 103, 21, 7, 57, 104, 57, 7, 57, 104, 19, 57, 104, 57, 41, 104, 57, 104, 25, 63, 9, 104, 57, 57, 104, 57, 9, 104, 57, 104, 104, 20, 104, 63, 104, 7, 104, 57, 43, 57, 57, 104, 57, 104, 5, 104, 23, 57, 104, 104, 104, 63, 104, 57, 9, 57, 104, 57, 6, 104, 57, 7, 57, 104, 15, 104, 57, 7, 57, 104, 16, 104, 63, 28, 104, 63, 7, 104, 57, 5, 57, 39, 104, 104, 7, 104, 57, 57, 104, 57, 18, 57, 9, 104, 2, 104, 63, 44, 104, 29, 104, 57, 57, 104, 57, 104, 57, 57, 104, 57, 51, 57, 104, 104, 57, 57, 104, 104, 63, 13, 104, 57, 21, 57, 51, 104, 57, 104, 57, 104, 2, 104, 57, 104, 57, 104, 8, 104, 104, 57, 104, 31, 104, 57, 57, 14, 57, 104, 57, 4, 57, 104, 18, 104, 63, 8, 104, 63, 57, 29, 104, 57, 18, 104, 57, 104, 57, 57, 13, 57, 18, 57, 104, 63, 57, 104, 25, 57, 104, 40, 57, 104, 57, 57, 104, 104, 57, 57, 104, 28, 104, 63, 104, 5, 104, 104, 57, 30, 57, 104, 9, 104, 13, 57, 26, 37, 104, 63, 104, 57, 104, 11, 104, 57, 104, 51, 57, 104, 8, 57, 57, 104, 104, 11, 63, 104, 57, 104, 28, 104, 28, 57, 104, 20, 104, 57, 17, 57, 16, 104, 57, 18, 57, 32, 57, 104, 63, 0, 104, 63, 104, 14, 104, 57, 57, 104, 57, 17, 57, 104, 13, 104, 57, 104, 5, 104, 57, 17, 63, 104, 28, 104, 2, 104, 57, 104, 28, 104, 57, 7, 57, 104, 57, 104, 8, 104, 104, 63, 104, 5, 104, 57, 18, 57, 104, 9, 57, 104, 14, 57, 24, 104, 57, 104, 57, 11, 57, 21, 57, 6, 104, 57, 14, 104, 57, 104, 57, 6, 57, 104, 17, 104, 57, 16, 57, 104, 104, 13, 104, 42, 2, 104, 9, 57, 18, 104, 11, 64, 105, 8, 105, 64, 17, 64, 77, 26, 105, 64, 64, 105, 29, 105, 64, 7, 64, 16, 105, 64, 105, 64, 64, 77, 11, 105, 64, 37, 105, 64, 40, 64, 105, 105, 105, 63, 105, 18, 64, 28, 105, 64, 50, 22, 105, 64, 6, 105, 20, 105, 64, 64, 64, 105, 26, 64, 105, 40, 105, 64, 21, 64, 77, 25, 26, 105, 28, 105, 64, 26, 64, 105, 64, 105, 17, 63, 105, 37, 105, 63, 105, 24, 105, 64, 105, 26, 105, 64, 77, 26, 105, 105, 27, 105, 64, 29, 21, 64, 51, 63, 105, 64, 77, 64, 26, 64, 43, 105, 26, 105, 64, 31, 64, 105, 64, 105, 0, 105, 64, 105, 64, 105, 64, 42, 64, 105, 64, 18, 64, 105, 63, 105, 17, 105, 64, 105, 43, 105, 64, 49, 64, 105, 9, 105, 64, 21, 64, 105, 9, 105, 64, 17, 64, 105, 63, 28, 28, 63, 105, 64, 105, 28, 105, 64, 44, 64, 8, 105, 64, 105, 17, 105, 64, 4, 105, 105, 105, 64, 77, 9, 105, 64, 105, 26, 105, 26, 105, 64, 22, 64, 28, 8, 105, 105, 64, 37, 64, 22, 105, 64, 105, 40, 64, 25, 105, 42, 105, 63, 105, 105, 64, 27, 105, 64, 64, 105, 64, 41, 105, 64, 105, 13, 105, 64, 31, 64, 105, 105, 105, 64, 105, 6, 105, 64, 26, 77, 9, 64, 105, 64, 105, 64, 105, 63, 0, 105, 105, 14, 64, 21, 64, 105, 64, 77, 18, 105, 27, 18, 105, 64, 64, 63, 105, 40, 64, 105, 40, 64, 77, 105, 64, 105, 42, 105, 105, 6, 105, 5, 105, 64, 105, 105, 50, 4, 64, 8, 105, 64, 105, 63, 105, 10, 105, 63, 105, 105, 5, 64, 105, 14, 105, 64, 64, 105, 64, 64, 105, 42, 105, 105, 20, 105, 63, 105, 6, 105, 64, 105, 28, 105, 34, 6, 34, 81, 8, 81, 9, 81, 34, 16, 34, 43, 13, 81, 34, 17, 34, 81, 55, 81, 55, 81, 47, 81, 34, 40, 34, 81, 34, 6, 34, 13, 34, 8, 32, 34, 15, 81, 55, 11, 81, 2, 81, 55, 81, 81, 34, 10, 81, 34, 0, 16, 34, 26, 34, 13, 34, 0, 34, 41, 81, 49, 81, 47, 81, 55, 81, 18, 81, 34, 28, 34, 21, 34, 81, 34, 5, 34, 34, 27, 34, 6, 81, 49, 9, 81, 48, 81, 10, 81, 49, 81, 81, 34, 0, 81, 34, 30, 34, 6, 8, 34, 81, 34, 15, 81, 50, 21, 55, 81, 11, 81, 55, 81, 14, 34, 81, 34, 8, 34, 40, 34, 18, 81, 8, 34, 39, 81, 14, 34, 55, 29, 81, 34, 6, 34, 81, 31, 4, 81, 51, 81, 13, 34, 37, 17, 34, 44, 52, 81, 55, 81, 5, 81, 34, 26, 81, 9, 24, 81, 34, 81, 34, 5, 17, 7, 34, 81, 81, 55, 81, 17, 81, 16, 34, 18, 34, 81, 33, 34, 34, 28, 34, 81, 55, 52, 49, 34, 5, 34, 41, 34, 34, 8, 34, 13, 34, 17, 34, 13, 81, 48, 81, 55, 34, 18, 81, 81, 34, 34, 81, 9, 81, 34, 81, 34, 17, 81, 55, 39, 47, 81, 28, 81, 81, 5, 81, 9, 34, 6, 81, 41, 81, 29, 81, 34, 34, 52, 55, 81, 16, 81, 55, 81, 34, 17, 34, 8, 81, 2, 34, 81, 44, 34, 14, 34, 8, 34, 81, 55, 11, 81, 81, 18, 81, 52, 81, 51, 81, 34, 5, 81, 81, 34, 81, 40, 8, 34, 27, 34, 81, 50, 5, 55, 81, 29, 81, 50, 34, 81, 34, 9, 57, 57, 57, 31, 57, 106, 57, 57, 106, 106, 6, 57, 106, 60, 106, 26, 106, 22, 106, 2, 55, 57, 106, 7, 57, 57, 106, 57, 13, 57, 106, 106, 11, 106, 57, 13, 57, 50, 57, 57, 106, 57, 106, 106, 60, 106, 32, 106, 60, 57, 18, 57, 49, 106, 57, 57, 106, 57, 106, 39, 57, 57, 32, 57, 106, 106, 33, 106, 60, 106, 17, 57, 40, 57, 49, 57, 5, 57, 106, 11, 57, 106, 16, 57, 57, 60, 22, 23, 106, 13, 106, 57, 57, 55, 57, 106, 57, 9, 106, 57, 106, 57, 19, 57, 106, 60, 8, 106, 40, 55, 106, 57, 106, 57, 31, 57, 106, 57, 106, 106, 60, 106, 57, 24, 57, 55, 106, 57, 17, 15, 57, 106, 57, 4, 57, 60, 106, 11, 106, 60, 106, 30, 106, 14, 55, 57, 106, 57, 0, 57, 106, 60, 20, 106, 60, 57, 49, 57, 106, 57, 29, 57, 106, 57, 18, 57, 106, 60, 106, 106, 57, 18, 57, 49, 106, 7, 57, 106, 57, 7, 57, 106, 57, 106, 26, 106, 4, 106, 57, 55, 57, 106, 57, 2, 57, 57, 10, 57, 106, 60, 21, 106, 57, 6, 57, 55, 57, 0, 57, 106, 57, 106, 57, 11, 57, 11, 106, 60, 57, 49, 57, 106, 57, 57, 106, 57, 7, 57, 11, 57, 106, 60, 106, 8, 106, 60, 106, 23, 55, 57, 57, 106, 57, 57, 106, 57, 106, 57, 106, 106, 57, 18, 57, 55, 57, 14, 57, 106, 57, 39, 57, 106, 57, 5, 57, 106, 4, 57, 106, 39, 106, 106, 15, 106, 57, 13, 55, 57, 22, 57, 106, 57, 43, 57, 106, 57, 39, 106, 106, 23, 106, 48, 57, 2, 57, 107, 39, 57, 59, 57, 107, 57, 19, 57, 57, 40, 57, 12, 107, 14, 107, 50, 107, 13, 107, 107, 57, 57, 57, 41, 57, 107, 13, 57, 107, 14, 107, 57, 107, 12, 49, 107, 2, 107, 57, 0, 57, 107, 16, 57, 52, 6, 57, 57, 57, 14, 57, 107, 18, 107, 57, 11, 57, 107, 57, 59, 57, 5, 57, 107, 57, 14, 57, 57, 8, 57, 107, 107, 32, 59, 40, 107, 57, 23, 107, 57, 16, 57, 57, 107, 57, 2, 57, 107, 57, 107, 59, 107, 107, 57, 28, 57, 107, 57, 57, 59, 57, 6, 107, 57, 37, 57, 0, 57, 12, 52, 107, 18, 107, 57, 107, 7, 57, 59, 57, 107, 57, 107, 57, 4, 57, 11, 107, 59, 57, 32, 57, 107, 57, 18, 57, 107, 57, 107, 57, 57, 107, 57, 107, 12, 107, 18, 107, 50, 107, 11, 107, 57, 22, 107, 57, 18, 57, 59, 57, 14, 57, 57, 18, 107, 57, 48, 107, 9, 107, 57, 107, 57, 59, 57, 39, 9, 57, 107, 4, 57, 48, 14, 107, 57, 14, 57, 57, 11, 57, 48, 57, 107, 57, 107, 57, 21, 107, 59, 107, 57, 13, 18, 59, 57, 22, 57, 107, 57, 0, 57, 30, 57, 107, 49, 57, 57, 107, 18, 57, 57, 2, 57, 57, 14, 57, 57, 16, 57, 59, 107, 18, 107, 107, 57, 8, 57, 107, 57, 11, 52, 57, 28, 57, 107, 57, 57, 107, 17, 57, 107, 12, 107, 8, 107, 48, 8, 57, 107, 57, 30, 57, 48, 57, 17, 57, 107, 23, 16, 57, 107, 14, 107, 29, 59, 107, 2, 57, 107, 57, 16, 57, 59, 57, 2, 107, 57, 5, 57, 31, 57, 107, 12, 107, 18, 107, 59, 107, 57, 57, 107, 57, 14, 59, 57, 57, 107, 57, 57, 107, 57, 29, 57, 107, 13, 107, 59, 107, 29, 107, 57, 51, 57, 107, 68, 68, 108, 108, 32, 68, 68, 40, 68, 55, 63, 108, 24, 108, 31, 68, 108, 68, 68, 108, 40, 68, 108, 68, 55, 5, 39, 108, 68, 5, 68, 108, 68, 108, 68, 68, 28, 108, 22, 68, 108, 68, 55, 13, 108, 63, 108, 28, 108, 68, 4, 68, 108, 68, 5, 68, 108, 68, 6, 68, 108, 31, 108, 63, 108, 5, 29, 108, 68, 68, 108, 6, 108, 108, 2, 68, 108, 68, 49, 63, 18, 108, 68, 108, 68, 42, 68, 108, 31, 68, 108, 68, 108, 68, 22, 68, 48, 63, 29, 108, 68, 108, 68, 108, 68, 6, 68, 108, 68, 108, 68, 51, 68, 55, 108, 108, 0, 108, 63, 108, 26, 68, 68, 108, 68, 68, 0, 108, 68, 108, 68, 18, 68, 47, 26, 108, 108, 63, 108, 51, 108, 68, 6, 68, 108, 68, 28, 68, 108, 108, 68, 18, 108, 68, 68, 68, 37, 48, 63, 9, 63, 108, 39, 108, 68, 42, 68, 108, 68, 43, 68, 108, 68, 9, 108, 0, 108, 68, 55, 63, 0, 108, 6, 108, 68, 108, 8, 108, 68, 108, 68, 0, 108, 68, 10, 68, 55, 44, 108, 20, 108, 29, 108, 68, 15, 68, 108, 68, 6, 68, 108, 68, 11, 108, 63, 108, 32, 15, 108, 68, 39, 68, 108, 108, 68, 23, 68, 108, 68, 9, 108, 68, 32, 68, 68, 24, 68, 108, 68, 25, 68, 50, 63, 16, 108, 68, 8, 68, 108, 68, 108, 68, 108, 68, 48, 108, 63, 108, 40, 108, 9, 108, 68, 68, 8, 68, 39, 108, 68, 0, 48, 108, 5, 108, 63, 10, 108, 0, 68, 68, 108, 68, 68, 108, 68, 48, 108, 63, 68, 25, 108, 68, 13, 68, 21, 68, 13, 68, 109, 39, 109, 42, 68, 109, 32, 109, 68, 37, 109, 39, 109, 68, 16, 68, 13, 63, 15, 109, 63, 17, 109, 68, 52, 68, 28, 68, 109, 17, 109, 68, 4, 68, 2, 109, 68, 11, 109, 63, 109, 39, 68, 26, 68, 46, 68, 109, 39, 68, 7, 109, 68, 5, 68, 109, 68, 32, 68, 16, 109, 63, 18, 109, 68, 68, 50, 109, 68, 32, 109, 11, 109, 68, 109, 11, 109, 68, 109, 44, 109, 109, 39, 109, 109, 9, 109, 11, 109, 68, 68, 46, 27, 109, 68, 31, 68, 109, 109, 68, 8, 68, 109, 14, 68, 109, 4, 32, 68, 109, 2, 109, 63, 109, 0, 109, 63, 40, 28, 109, 2, 68, 11, 109, 9, 68, 109, 24, 109, 68, 13, 68, 109, 16, 109, 109, 0, 109, 109, 10, 109, 16, 68, 49, 68, 11, 68, 5, 68, 7, 68, 109, 9, 109, 68, 13, 68, 109, 44, 109, 68, 10, 68, 109, 109, 63, 109, 18, 109, 29, 109, 68, 29, 68, 68, 109, 15, 109, 16, 68, 68, 109, 27, 109, 68, 24, 68, 109, 63, 109, 39, 109, 68, 2, 68, 52, 109, 68, 109, 7, 109, 68, 24, 68, 109, 44, 109, 68, 68, 109, 28, 68, 32, 68, 109, 109, 68, 26, 109, 68, 109, 68, 39, 68, 109, 68, 22, 109, 68, 42, 68, 109, 63, 109, 68, 22, 68, 46, 68, 11, 68, 109, 31, 109, 68, 23, 25, 68, 109, 16, 109, 68, 0, 109, 63, 109, 14, 109, 63, 68, 48, 109, 68, 16, 68, 109, 51, 68, 37, 68, 109, 16, 109, 68, 31, 68, 109, 26, 109, 68, 43, 68, 109, 109, 63, 109, 32, 63, 109, 11, 109, 68, 23, 68, 109, 68, 5, 68, 109, 68, 10, 109, 29, 109, 68, 40, 109, 24, 109, 68, 33, 68, 17, 109, 32, 11, 68, 46, 68, 6, 68, 109, 68, 40, 68, 109, 109, 42, 109, 109, 68, 51, 109, 18, 109, 63, 16, 109, 63, 28, 46, 25, 68, 10, 109, 4, 68, 27, 68, 109, 0, 109, 68, 16, 68, 68, 10, 32, 109, 109, 63, 19, 17, 68, 46, 21, 0, 24, 68, 51, 68, 109, 42, 109, 68, 40, 109, 13, 68, 39, 68, 32, 63, 109, 68, 68, 46, 26, 68, 31, 68, 109, 25, 68, 29, 68, 109, 68, 40, 68, 18, 109, 68, 37, 109, 63, 109, 29, 68, 8, 50, 18, 109]\n"
          ]
        },
        {
          "data": {
            "text/plain": [
              "Ellipsis"
            ]
          },
          "execution_count": 54,
          "metadata": {},
          "output_type": "execute_result"
        }
      ],
      "source": [
        "# TODO: transform the training and test data\n",
        "# and fit the model on training data\n",
        "classifier = xgb.XGBClassifier(objective='multi:softmax')\n",
        "enc = Encoder(classifier)\n",
        "enc.fit(train_features_for_user,train_result_for_user)\n",
        "..."
      ]
    },
    {
      "cell_type": "code",
      "execution_count": null,
      "metadata": {
        "colab": {
          "base_uri": "https://localhost:8080/"
        },
        "id": "5res55ehq-UK",
        "outputId": "db470688-e157-4439-b72a-dab74f4f869f"
      },
      "outputs": [
        {
          "name": "stdout",
          "output_type": "stream",
          "text": [
            "[  8   1   2 ...  46  18 109]\n",
            "0.8008224963876848\n"
          ]
        }
      ],
      "source": [
        "# TODO: print out train-data accuracy\n",
        "pre = enc.predict(train_features_for_user)\n",
        "\n",
        "print(accuracy(train_result_for_user,pre))"
      ]
    },
    {
      "cell_type": "code",
      "execution_count": null,
      "metadata": {
        "colab": {
          "base_uri": "https://localhost:8080/"
        },
        "id": "1oQmq5Njq-UK",
        "outputId": "6c8cfc7d-e35a-42ee-8905-df837eb6c79b"
      },
      "outputs": [
        {
          "name": "stdout",
          "output_type": "stream",
          "text": [
            "[80  6 83 ... 93 75 75]\n",
            "0.6717048232940653\n"
          ]
        }
      ],
      "source": [
        "# TODO: print out test-data accuracy\n",
        "pre = enc.predict(test_features_for_user)\n",
        "\n",
        "print(accuracy(test_result_for_user,pre))"
      ]
    },
    {
      "cell_type": "markdown",
      "metadata": {
        "id": "SiSPA9JAq-UK"
      },
      "source": [
        "**QUESTION**: What do you think about this approach? Is it a good idea to use XGBoost for this problem? Why (or why not)? If the patterns in our datatset (passengers' history) get more complicated, will our model be robust to it in comparison to other models?\n",
        "\n",
        "نسبت به مدل قبل بهتر عمل می کند، همچنین پردیکت در آن سریع تر است، اما در صورت بزرگ شدن و پیچیده شدن دیتاست ، ترین کند خواهد بود.، همچنین اسکیلبل نیست و با پیچیده شدن عملکرد آن افت خواهد کرد."
      ]
    },
    {
      "cell_type": "markdown",
      "metadata": {
        "id": "i03rneqNq-UL"
      },
      "source": [
        "**Question**: Please explain the problem of overfitting in XGBoost. How can you solve it? Provide a brief explanation.\n",
        "\n",
        "همانطور که مشخص است اورفیت در این مدل اتفاق افتاده است که برای کاهش آن میتوان پارامتر های مدل را ساده تر کرد، تا کاهش یابد ، همچنین استفاده از کراس ولیدیشن میتواند به بهبود آن کمک کند."
      ]
    },
    {
      "cell_type": "markdown",
      "metadata": {
        "id": "1xUBdJVtq-UL"
      },
      "source": [
        "# Third Approach: Classifier Using Neural Networks"
      ]
    },
    {
      "cell_type": "markdown",
      "metadata": {
        "id": "LAYPJWB_q-UL"
      },
      "source": [
        "In this approach, we are going to use a classifier using neural networks. You can think of this approach and how to model the problem as a classification problem in many ways! So, we are not going to restrict your creativity. Just a hint: You can consider each of the unique destinations (in whole dataset) as a class and then train a classifier to classify the destinations."
      ]
    },
    {
      "cell_type": "markdown",
      "metadata": {
        "id": "KK3u2yOUq-US"
      },
      "source": [
        "## Data for Neural Network"
      ]
    },
    {
      "cell_type": "markdown",
      "metadata": {
        "id": "DDAzCzsSq-US"
      },
      "source": [
        "Let's prepare the data for our neural network. Again, you should extract required features from the dataset and then split the dataset into train-test-val sets if necessary. For your ease, we prepared another version of `output.json` that helps you to extract features for this part, easier. So, please load `Data/trip_data.json` and use it for training set and validation set. You should use `Data/trip_data_test.json` for testing your model."
      ]
    },
    {
      "cell_type": "code",
      "execution_count": 11,
      "metadata": {
        "colab": {
          "base_uri": "https://localhost:8080/",
          "height": 206
        },
        "id": "2pwcHYEiq-US",
        "outputId": "e5e27d16-a352-4a2c-bdab-dd8bbdba3121"
      },
      "outputs": [
        {
          "data": {
            "text/html": [
              "\n",
              "  <div id=\"df-e38da8fb-e0a5-42e0-b469-1205c67f5ab3\" class=\"colab-df-container\">\n",
              "    <div>\n",
              "<style scoped>\n",
              "    .dataframe tbody tr th:only-of-type {\n",
              "        vertical-align: middle;\n",
              "    }\n",
              "\n",
              "    .dataframe tbody tr th {\n",
              "        vertical-align: top;\n",
              "    }\n",
              "\n",
              "    .dataframe thead th {\n",
              "        text-align: right;\n",
              "    }\n",
              "</style>\n",
              "<table border=\"1\" class=\"dataframe\">\n",
              "  <thead>\n",
              "    <tr style=\"text-align: right;\">\n",
              "      <th></th>\n",
              "      <th>user_id</th>\n",
              "      <th>Day</th>\n",
              "      <th>origin</th>\n",
              "      <th>destination</th>\n",
              "      <th>start_time</th>\n",
              "      <th>end_time</th>\n",
              "      <th>price</th>\n",
              "    </tr>\n",
              "  </thead>\n",
              "  <tbody>\n",
              "    <tr>\n",
              "      <th>0</th>\n",
              "      <td>0</td>\n",
              "      <td>0</td>\n",
              "      <td>[work, [35.625, 51.375]]</td>\n",
              "      <td>[restaurant, [36.0, 51.085]]</td>\n",
              "      <td>2024-01-30 13:07:00</td>\n",
              "      <td>2024-01-30 14:43:00</td>\n",
              "      <td>43.99</td>\n",
              "    </tr>\n",
              "    <tr>\n",
              "      <th>1</th>\n",
              "      <td>0</td>\n",
              "      <td>0</td>\n",
              "      <td>[restaurant, [36.0, 51.085]]</td>\n",
              "      <td>[work, [35.625, 51.375]]</td>\n",
              "      <td>2024-01-30 15:13:00</td>\n",
              "      <td>2024-01-30 16:49:00</td>\n",
              "      <td>36.66</td>\n",
              "    </tr>\n",
              "    <tr>\n",
              "      <th>2</th>\n",
              "      <td>0</td>\n",
              "      <td>0</td>\n",
              "      <td>[home, [35.68, 51.445]]</td>\n",
              "      <td>[restaurant, [35.745, 51.465]]</td>\n",
              "      <td>2024-01-30 20:41:00</td>\n",
              "      <td>2024-01-30 20:54:00</td>\n",
              "      <td>15.08</td>\n",
              "    </tr>\n",
              "    <tr>\n",
              "      <th>3</th>\n",
              "      <td>0</td>\n",
              "      <td>0</td>\n",
              "      <td>[restaurant, [35.745, 51.465]]</td>\n",
              "      <td>[home, [35.68, 51.445]]</td>\n",
              "      <td>2024-01-30 21:24:00</td>\n",
              "      <td>2024-01-30 21:37:00</td>\n",
              "      <td>10.00</td>\n",
              "    </tr>\n",
              "    <tr>\n",
              "      <th>4</th>\n",
              "      <td>0</td>\n",
              "      <td>1</td>\n",
              "      <td>[work, [35.625, 51.375]]</td>\n",
              "      <td>[home, [35.68, 51.445]]</td>\n",
              "      <td>2024-01-30 23:38:00</td>\n",
              "      <td>2024-01-30 23:58:00</td>\n",
              "      <td>19.48</td>\n",
              "    </tr>\n",
              "  </tbody>\n",
              "</table>\n",
              "</div>\n",
              "    <div class=\"colab-df-buttons\">\n",
              "\n",
              "  <div class=\"colab-df-container\">\n",
              "    <button class=\"colab-df-convert\" onclick=\"convertToInteractive('df-e38da8fb-e0a5-42e0-b469-1205c67f5ab3')\"\n",
              "            title=\"Convert this dataframe to an interactive table.\"\n",
              "            style=\"display:none;\">\n",
              "\n",
              "  <svg xmlns=\"http://www.w3.org/2000/svg\" height=\"24px\" viewBox=\"0 -960 960 960\">\n",
              "    <path d=\"M120-120v-720h720v720H120Zm60-500h600v-160H180v160Zm220 220h160v-160H400v160Zm0 220h160v-160H400v160ZM180-400h160v-160H180v160Zm440 0h160v-160H620v160ZM180-180h160v-160H180v160Zm440 0h160v-160H620v160Z\"/>\n",
              "  </svg>\n",
              "    </button>\n",
              "\n",
              "  <style>\n",
              "    .colab-df-container {\n",
              "      display:flex;\n",
              "      gap: 12px;\n",
              "    }\n",
              "\n",
              "    .colab-df-convert {\n",
              "      background-color: #E8F0FE;\n",
              "      border: none;\n",
              "      border-radius: 50%;\n",
              "      cursor: pointer;\n",
              "      display: none;\n",
              "      fill: #1967D2;\n",
              "      height: 32px;\n",
              "      padding: 0 0 0 0;\n",
              "      width: 32px;\n",
              "    }\n",
              "\n",
              "    .colab-df-convert:hover {\n",
              "      background-color: #E2EBFA;\n",
              "      box-shadow: 0px 1px 2px rgba(60, 64, 67, 0.3), 0px 1px 3px 1px rgba(60, 64, 67, 0.15);\n",
              "      fill: #174EA6;\n",
              "    }\n",
              "\n",
              "    .colab-df-buttons div {\n",
              "      margin-bottom: 4px;\n",
              "    }\n",
              "\n",
              "    [theme=dark] .colab-df-convert {\n",
              "      background-color: #3B4455;\n",
              "      fill: #D2E3FC;\n",
              "    }\n",
              "\n",
              "    [theme=dark] .colab-df-convert:hover {\n",
              "      background-color: #434B5C;\n",
              "      box-shadow: 0px 1px 3px 1px rgba(0, 0, 0, 0.15);\n",
              "      filter: drop-shadow(0px 1px 2px rgba(0, 0, 0, 0.3));\n",
              "      fill: #FFFFFF;\n",
              "    }\n",
              "  </style>\n",
              "\n",
              "    <script>\n",
              "      const buttonEl =\n",
              "        document.querySelector('#df-e38da8fb-e0a5-42e0-b469-1205c67f5ab3 button.colab-df-convert');\n",
              "      buttonEl.style.display =\n",
              "        google.colab.kernel.accessAllowed ? 'block' : 'none';\n",
              "\n",
              "      async function convertToInteractive(key) {\n",
              "        const element = document.querySelector('#df-e38da8fb-e0a5-42e0-b469-1205c67f5ab3');\n",
              "        const dataTable =\n",
              "          await google.colab.kernel.invokeFunction('convertToInteractive',\n",
              "                                                    [key], {});\n",
              "        if (!dataTable) return;\n",
              "\n",
              "        const docLinkHtml = 'Like what you see? Visit the ' +\n",
              "          '<a target=\"_blank\" href=https://colab.research.google.com/notebooks/data_table.ipynb>data table notebook</a>'\n",
              "          + ' to learn more about interactive tables.';\n",
              "        element.innerHTML = '';\n",
              "        dataTable['output_type'] = 'display_data';\n",
              "        await google.colab.output.renderOutput(dataTable, element);\n",
              "        const docLink = document.createElement('div');\n",
              "        docLink.innerHTML = docLinkHtml;\n",
              "        element.appendChild(docLink);\n",
              "      }\n",
              "    </script>\n",
              "  </div>\n",
              "\n",
              "\n",
              "<div id=\"df-2750ee60-3a09-478d-a3da-50354bf1ac56\">\n",
              "  <button class=\"colab-df-quickchart\" onclick=\"quickchart('df-2750ee60-3a09-478d-a3da-50354bf1ac56')\"\n",
              "            title=\"Suggest charts\"\n",
              "            style=\"display:none;\">\n",
              "\n",
              "<svg xmlns=\"http://www.w3.org/2000/svg\" height=\"24px\"viewBox=\"0 0 24 24\"\n",
              "     width=\"24px\">\n",
              "    <g>\n",
              "        <path d=\"M19 3H5c-1.1 0-2 .9-2 2v14c0 1.1.9 2 2 2h14c1.1 0 2-.9 2-2V5c0-1.1-.9-2-2-2zM9 17H7v-7h2v7zm4 0h-2V7h2v10zm4 0h-2v-4h2v4z\"/>\n",
              "    </g>\n",
              "</svg>\n",
              "  </button>\n",
              "\n",
              "<style>\n",
              "  .colab-df-quickchart {\n",
              "      --bg-color: #E8F0FE;\n",
              "      --fill-color: #1967D2;\n",
              "      --hover-bg-color: #E2EBFA;\n",
              "      --hover-fill-color: #174EA6;\n",
              "      --disabled-fill-color: #AAA;\n",
              "      --disabled-bg-color: #DDD;\n",
              "  }\n",
              "\n",
              "  [theme=dark] .colab-df-quickchart {\n",
              "      --bg-color: #3B4455;\n",
              "      --fill-color: #D2E3FC;\n",
              "      --hover-bg-color: #434B5C;\n",
              "      --hover-fill-color: #FFFFFF;\n",
              "      --disabled-bg-color: #3B4455;\n",
              "      --disabled-fill-color: #666;\n",
              "  }\n",
              "\n",
              "  .colab-df-quickchart {\n",
              "    background-color: var(--bg-color);\n",
              "    border: none;\n",
              "    border-radius: 50%;\n",
              "    cursor: pointer;\n",
              "    display: none;\n",
              "    fill: var(--fill-color);\n",
              "    height: 32px;\n",
              "    padding: 0;\n",
              "    width: 32px;\n",
              "  }\n",
              "\n",
              "  .colab-df-quickchart:hover {\n",
              "    background-color: var(--hover-bg-color);\n",
              "    box-shadow: 0 1px 2px rgba(60, 64, 67, 0.3), 0 1px 3px 1px rgba(60, 64, 67, 0.15);\n",
              "    fill: var(--button-hover-fill-color);\n",
              "  }\n",
              "\n",
              "  .colab-df-quickchart-complete:disabled,\n",
              "  .colab-df-quickchart-complete:disabled:hover {\n",
              "    background-color: var(--disabled-bg-color);\n",
              "    fill: var(--disabled-fill-color);\n",
              "    box-shadow: none;\n",
              "  }\n",
              "\n",
              "  .colab-df-spinner {\n",
              "    border: 2px solid var(--fill-color);\n",
              "    border-color: transparent;\n",
              "    border-bottom-color: var(--fill-color);\n",
              "    animation:\n",
              "      spin 1s steps(1) infinite;\n",
              "  }\n",
              "\n",
              "  @keyframes spin {\n",
              "    0% {\n",
              "      border-color: transparent;\n",
              "      border-bottom-color: var(--fill-color);\n",
              "      border-left-color: var(--fill-color);\n",
              "    }\n",
              "    20% {\n",
              "      border-color: transparent;\n",
              "      border-left-color: var(--fill-color);\n",
              "      border-top-color: var(--fill-color);\n",
              "    }\n",
              "    30% {\n",
              "      border-color: transparent;\n",
              "      border-left-color: var(--fill-color);\n",
              "      border-top-color: var(--fill-color);\n",
              "      border-right-color: var(--fill-color);\n",
              "    }\n",
              "    40% {\n",
              "      border-color: transparent;\n",
              "      border-right-color: var(--fill-color);\n",
              "      border-top-color: var(--fill-color);\n",
              "    }\n",
              "    60% {\n",
              "      border-color: transparent;\n",
              "      border-right-color: var(--fill-color);\n",
              "    }\n",
              "    80% {\n",
              "      border-color: transparent;\n",
              "      border-right-color: var(--fill-color);\n",
              "      border-bottom-color: var(--fill-color);\n",
              "    }\n",
              "    90% {\n",
              "      border-color: transparent;\n",
              "      border-bottom-color: var(--fill-color);\n",
              "    }\n",
              "  }\n",
              "</style>\n",
              "\n",
              "  <script>\n",
              "    async function quickchart(key) {\n",
              "      const quickchartButtonEl =\n",
              "        document.querySelector('#' + key + ' button');\n",
              "      quickchartButtonEl.disabled = true;  // To prevent multiple clicks.\n",
              "      quickchartButtonEl.classList.add('colab-df-spinner');\n",
              "      try {\n",
              "        const charts = await google.colab.kernel.invokeFunction(\n",
              "            'suggestCharts', [key], {});\n",
              "      } catch (error) {\n",
              "        console.error('Error during call to suggestCharts:', error);\n",
              "      }\n",
              "      quickchartButtonEl.classList.remove('colab-df-spinner');\n",
              "      quickchartButtonEl.classList.add('colab-df-quickchart-complete');\n",
              "    }\n",
              "    (() => {\n",
              "      let quickchartButtonEl =\n",
              "        document.querySelector('#df-2750ee60-3a09-478d-a3da-50354bf1ac56 button');\n",
              "      quickchartButtonEl.style.display =\n",
              "        google.colab.kernel.accessAllowed ? 'block' : 'none';\n",
              "    })();\n",
              "  </script>\n",
              "</div>\n",
              "\n",
              "    </div>\n",
              "  </div>\n"
            ],
            "text/plain": [
              "   user_id  Day                          origin  \\\n",
              "0        0    0        [work, [35.625, 51.375]]   \n",
              "1        0    0    [restaurant, [36.0, 51.085]]   \n",
              "2        0    0         [home, [35.68, 51.445]]   \n",
              "3        0    0  [restaurant, [35.745, 51.465]]   \n",
              "4        0    1        [work, [35.625, 51.375]]   \n",
              "\n",
              "                      destination          start_time            end_time  \\\n",
              "0    [restaurant, [36.0, 51.085]] 2024-01-30 13:07:00 2024-01-30 14:43:00   \n",
              "1        [work, [35.625, 51.375]] 2024-01-30 15:13:00 2024-01-30 16:49:00   \n",
              "2  [restaurant, [35.745, 51.465]] 2024-01-30 20:41:00 2024-01-30 20:54:00   \n",
              "3         [home, [35.68, 51.445]] 2024-01-30 21:24:00 2024-01-30 21:37:00   \n",
              "4         [home, [35.68, 51.445]] 2024-01-30 23:38:00 2024-01-30 23:58:00   \n",
              "\n",
              "   price  \n",
              "0  43.99  \n",
              "1  36.66  \n",
              "2  15.08  \n",
              "3  10.00  \n",
              "4  19.48  "
            ]
          },
          "execution_count": 11,
          "metadata": {},
          "output_type": "execute_result"
        }
      ],
      "source": [
        "# load the training dataset\n",
        "# TODO\n",
        "train_trip = pd.read_json('trip_data.json')\n",
        "train_trip.head()\n"
      ]
    },
    {
      "cell_type": "code",
      "execution_count": 12,
      "metadata": {
        "colab": {
          "base_uri": "https://localhost:8080/",
          "height": 206
        },
        "id": "w1FnFn2Sq-US",
        "outputId": "4b96d267-1e00-4c32-82f1-d9cb8780975a"
      },
      "outputs": [
        {
          "data": {
            "text/html": [
              "\n",
              "  <div id=\"df-a0991451-84fd-4324-899f-0bb41cd9911a\" class=\"colab-df-container\">\n",
              "    <div>\n",
              "<style scoped>\n",
              "    .dataframe tbody tr th:only-of-type {\n",
              "        vertical-align: middle;\n",
              "    }\n",
              "\n",
              "    .dataframe tbody tr th {\n",
              "        vertical-align: top;\n",
              "    }\n",
              "\n",
              "    .dataframe thead th {\n",
              "        text-align: right;\n",
              "    }\n",
              "</style>\n",
              "<table border=\"1\" class=\"dataframe\">\n",
              "  <thead>\n",
              "    <tr style=\"text-align: right;\">\n",
              "      <th></th>\n",
              "      <th>user_id</th>\n",
              "      <th>Day</th>\n",
              "      <th>origin</th>\n",
              "      <th>destination</th>\n",
              "      <th>start_time</th>\n",
              "      <th>end_time</th>\n",
              "      <th>price</th>\n",
              "    </tr>\n",
              "  </thead>\n",
              "  <tbody>\n",
              "    <tr>\n",
              "      <th>0</th>\n",
              "      <td>24</td>\n",
              "      <td>6</td>\n",
              "      <td>[pool, [35.65, 51.225]]</td>\n",
              "      <td>[home, [35.64, 51.27]]</td>\n",
              "      <td>2024-01-30 11:58:00</td>\n",
              "      <td>2024-01-30 12:12:00</td>\n",
              "      <td>10.00</td>\n",
              "    </tr>\n",
              "    <tr>\n",
              "      <th>1</th>\n",
              "      <td>46</td>\n",
              "      <td>2</td>\n",
              "      <td>[university, [35.625, 51.25]]</td>\n",
              "      <td>[restaurant, [35.69, 51.295]]</td>\n",
              "      <td>2024-01-30 21:58:00</td>\n",
              "      <td>2024-01-30 22:18:00</td>\n",
              "      <td>11.84</td>\n",
              "    </tr>\n",
              "    <tr>\n",
              "      <th>2</th>\n",
              "      <td>27</td>\n",
              "      <td>5</td>\n",
              "      <td>[pool, [35.65, 51.225]]</td>\n",
              "      <td>[restaurant, [35.865, 51.045]]</td>\n",
              "      <td>2024-01-30 20:05:00</td>\n",
              "      <td>2024-01-30 20:58:00</td>\n",
              "      <td>23.36</td>\n",
              "    </tr>\n",
              "    <tr>\n",
              "      <th>3</th>\n",
              "      <td>7</td>\n",
              "      <td>4</td>\n",
              "      <td>[work, [35.875, 51.375]]</td>\n",
              "      <td>[home, [35.89, 51.315]]</td>\n",
              "      <td>2024-01-30 17:39:00</td>\n",
              "      <td>2024-01-30 18:17:00</td>\n",
              "      <td>13.74</td>\n",
              "    </tr>\n",
              "    <tr>\n",
              "      <th>4</th>\n",
              "      <td>27</td>\n",
              "      <td>3</td>\n",
              "      <td>[work, [35.625, 51.375]]</td>\n",
              "      <td>[restaurant, [35.65, 51.385]]</td>\n",
              "      <td>2024-01-30 13:16:00</td>\n",
              "      <td>2024-01-30 13:19:00</td>\n",
              "      <td>15.08</td>\n",
              "    </tr>\n",
              "  </tbody>\n",
              "</table>\n",
              "</div>\n",
              "    <div class=\"colab-df-buttons\">\n",
              "\n",
              "  <div class=\"colab-df-container\">\n",
              "    <button class=\"colab-df-convert\" onclick=\"convertToInteractive('df-a0991451-84fd-4324-899f-0bb41cd9911a')\"\n",
              "            title=\"Convert this dataframe to an interactive table.\"\n",
              "            style=\"display:none;\">\n",
              "\n",
              "  <svg xmlns=\"http://www.w3.org/2000/svg\" height=\"24px\" viewBox=\"0 -960 960 960\">\n",
              "    <path d=\"M120-120v-720h720v720H120Zm60-500h600v-160H180v160Zm220 220h160v-160H400v160Zm0 220h160v-160H400v160ZM180-400h160v-160H180v160Zm440 0h160v-160H620v160ZM180-180h160v-160H180v160Zm440 0h160v-160H620v160Z\"/>\n",
              "  </svg>\n",
              "    </button>\n",
              "\n",
              "  <style>\n",
              "    .colab-df-container {\n",
              "      display:flex;\n",
              "      gap: 12px;\n",
              "    }\n",
              "\n",
              "    .colab-df-convert {\n",
              "      background-color: #E8F0FE;\n",
              "      border: none;\n",
              "      border-radius: 50%;\n",
              "      cursor: pointer;\n",
              "      display: none;\n",
              "      fill: #1967D2;\n",
              "      height: 32px;\n",
              "      padding: 0 0 0 0;\n",
              "      width: 32px;\n",
              "    }\n",
              "\n",
              "    .colab-df-convert:hover {\n",
              "      background-color: #E2EBFA;\n",
              "      box-shadow: 0px 1px 2px rgba(60, 64, 67, 0.3), 0px 1px 3px 1px rgba(60, 64, 67, 0.15);\n",
              "      fill: #174EA6;\n",
              "    }\n",
              "\n",
              "    .colab-df-buttons div {\n",
              "      margin-bottom: 4px;\n",
              "    }\n",
              "\n",
              "    [theme=dark] .colab-df-convert {\n",
              "      background-color: #3B4455;\n",
              "      fill: #D2E3FC;\n",
              "    }\n",
              "\n",
              "    [theme=dark] .colab-df-convert:hover {\n",
              "      background-color: #434B5C;\n",
              "      box-shadow: 0px 1px 3px 1px rgba(0, 0, 0, 0.15);\n",
              "      filter: drop-shadow(0px 1px 2px rgba(0, 0, 0, 0.3));\n",
              "      fill: #FFFFFF;\n",
              "    }\n",
              "  </style>\n",
              "\n",
              "    <script>\n",
              "      const buttonEl =\n",
              "        document.querySelector('#df-a0991451-84fd-4324-899f-0bb41cd9911a button.colab-df-convert');\n",
              "      buttonEl.style.display =\n",
              "        google.colab.kernel.accessAllowed ? 'block' : 'none';\n",
              "\n",
              "      async function convertToInteractive(key) {\n",
              "        const element = document.querySelector('#df-a0991451-84fd-4324-899f-0bb41cd9911a');\n",
              "        const dataTable =\n",
              "          await google.colab.kernel.invokeFunction('convertToInteractive',\n",
              "                                                    [key], {});\n",
              "        if (!dataTable) return;\n",
              "\n",
              "        const docLinkHtml = 'Like what you see? Visit the ' +\n",
              "          '<a target=\"_blank\" href=https://colab.research.google.com/notebooks/data_table.ipynb>data table notebook</a>'\n",
              "          + ' to learn more about interactive tables.';\n",
              "        element.innerHTML = '';\n",
              "        dataTable['output_type'] = 'display_data';\n",
              "        await google.colab.output.renderOutput(dataTable, element);\n",
              "        const docLink = document.createElement('div');\n",
              "        docLink.innerHTML = docLinkHtml;\n",
              "        element.appendChild(docLink);\n",
              "      }\n",
              "    </script>\n",
              "  </div>\n",
              "\n",
              "\n",
              "<div id=\"df-dc2a168e-7330-488a-b45e-eace07e0e1f2\">\n",
              "  <button class=\"colab-df-quickchart\" onclick=\"quickchart('df-dc2a168e-7330-488a-b45e-eace07e0e1f2')\"\n",
              "            title=\"Suggest charts\"\n",
              "            style=\"display:none;\">\n",
              "\n",
              "<svg xmlns=\"http://www.w3.org/2000/svg\" height=\"24px\"viewBox=\"0 0 24 24\"\n",
              "     width=\"24px\">\n",
              "    <g>\n",
              "        <path d=\"M19 3H5c-1.1 0-2 .9-2 2v14c0 1.1.9 2 2 2h14c1.1 0 2-.9 2-2V5c0-1.1-.9-2-2-2zM9 17H7v-7h2v7zm4 0h-2V7h2v10zm4 0h-2v-4h2v4z\"/>\n",
              "    </g>\n",
              "</svg>\n",
              "  </button>\n",
              "\n",
              "<style>\n",
              "  .colab-df-quickchart {\n",
              "      --bg-color: #E8F0FE;\n",
              "      --fill-color: #1967D2;\n",
              "      --hover-bg-color: #E2EBFA;\n",
              "      --hover-fill-color: #174EA6;\n",
              "      --disabled-fill-color: #AAA;\n",
              "      --disabled-bg-color: #DDD;\n",
              "  }\n",
              "\n",
              "  [theme=dark] .colab-df-quickchart {\n",
              "      --bg-color: #3B4455;\n",
              "      --fill-color: #D2E3FC;\n",
              "      --hover-bg-color: #434B5C;\n",
              "      --hover-fill-color: #FFFFFF;\n",
              "      --disabled-bg-color: #3B4455;\n",
              "      --disabled-fill-color: #666;\n",
              "  }\n",
              "\n",
              "  .colab-df-quickchart {\n",
              "    background-color: var(--bg-color);\n",
              "    border: none;\n",
              "    border-radius: 50%;\n",
              "    cursor: pointer;\n",
              "    display: none;\n",
              "    fill: var(--fill-color);\n",
              "    height: 32px;\n",
              "    padding: 0;\n",
              "    width: 32px;\n",
              "  }\n",
              "\n",
              "  .colab-df-quickchart:hover {\n",
              "    background-color: var(--hover-bg-color);\n",
              "    box-shadow: 0 1px 2px rgba(60, 64, 67, 0.3), 0 1px 3px 1px rgba(60, 64, 67, 0.15);\n",
              "    fill: var(--button-hover-fill-color);\n",
              "  }\n",
              "\n",
              "  .colab-df-quickchart-complete:disabled,\n",
              "  .colab-df-quickchart-complete:disabled:hover {\n",
              "    background-color: var(--disabled-bg-color);\n",
              "    fill: var(--disabled-fill-color);\n",
              "    box-shadow: none;\n",
              "  }\n",
              "\n",
              "  .colab-df-spinner {\n",
              "    border: 2px solid var(--fill-color);\n",
              "    border-color: transparent;\n",
              "    border-bottom-color: var(--fill-color);\n",
              "    animation:\n",
              "      spin 1s steps(1) infinite;\n",
              "  }\n",
              "\n",
              "  @keyframes spin {\n",
              "    0% {\n",
              "      border-color: transparent;\n",
              "      border-bottom-color: var(--fill-color);\n",
              "      border-left-color: var(--fill-color);\n",
              "    }\n",
              "    20% {\n",
              "      border-color: transparent;\n",
              "      border-left-color: var(--fill-color);\n",
              "      border-top-color: var(--fill-color);\n",
              "    }\n",
              "    30% {\n",
              "      border-color: transparent;\n",
              "      border-left-color: var(--fill-color);\n",
              "      border-top-color: var(--fill-color);\n",
              "      border-right-color: var(--fill-color);\n",
              "    }\n",
              "    40% {\n",
              "      border-color: transparent;\n",
              "      border-right-color: var(--fill-color);\n",
              "      border-top-color: var(--fill-color);\n",
              "    }\n",
              "    60% {\n",
              "      border-color: transparent;\n",
              "      border-right-color: var(--fill-color);\n",
              "    }\n",
              "    80% {\n",
              "      border-color: transparent;\n",
              "      border-right-color: var(--fill-color);\n",
              "      border-bottom-color: var(--fill-color);\n",
              "    }\n",
              "    90% {\n",
              "      border-color: transparent;\n",
              "      border-bottom-color: var(--fill-color);\n",
              "    }\n",
              "  }\n",
              "</style>\n",
              "\n",
              "  <script>\n",
              "    async function quickchart(key) {\n",
              "      const quickchartButtonEl =\n",
              "        document.querySelector('#' + key + ' button');\n",
              "      quickchartButtonEl.disabled = true;  // To prevent multiple clicks.\n",
              "      quickchartButtonEl.classList.add('colab-df-spinner');\n",
              "      try {\n",
              "        const charts = await google.colab.kernel.invokeFunction(\n",
              "            'suggestCharts', [key], {});\n",
              "      } catch (error) {\n",
              "        console.error('Error during call to suggestCharts:', error);\n",
              "      }\n",
              "      quickchartButtonEl.classList.remove('colab-df-spinner');\n",
              "      quickchartButtonEl.classList.add('colab-df-quickchart-complete');\n",
              "    }\n",
              "    (() => {\n",
              "      let quickchartButtonEl =\n",
              "        document.querySelector('#df-dc2a168e-7330-488a-b45e-eace07e0e1f2 button');\n",
              "      quickchartButtonEl.style.display =\n",
              "        google.colab.kernel.accessAllowed ? 'block' : 'none';\n",
              "    })();\n",
              "  </script>\n",
              "</div>\n",
              "\n",
              "    </div>\n",
              "  </div>\n"
            ],
            "text/plain": [
              "   user_id  Day                         origin  \\\n",
              "0       24    6        [pool, [35.65, 51.225]]   \n",
              "1       46    2  [university, [35.625, 51.25]]   \n",
              "2       27    5        [pool, [35.65, 51.225]]   \n",
              "3        7    4       [work, [35.875, 51.375]]   \n",
              "4       27    3       [work, [35.625, 51.375]]   \n",
              "\n",
              "                      destination          start_time            end_time  \\\n",
              "0          [home, [35.64, 51.27]] 2024-01-30 11:58:00 2024-01-30 12:12:00   \n",
              "1   [restaurant, [35.69, 51.295]] 2024-01-30 21:58:00 2024-01-30 22:18:00   \n",
              "2  [restaurant, [35.865, 51.045]] 2024-01-30 20:05:00 2024-01-30 20:58:00   \n",
              "3         [home, [35.89, 51.315]] 2024-01-30 17:39:00 2024-01-30 18:17:00   \n",
              "4   [restaurant, [35.65, 51.385]] 2024-01-30 13:16:00 2024-01-30 13:19:00   \n",
              "\n",
              "   price  \n",
              "0  10.00  \n",
              "1  11.84  \n",
              "2  23.36  \n",
              "3  13.74  \n",
              "4  15.08  "
            ]
          },
          "execution_count": 12,
          "metadata": {},
          "output_type": "execute_result"
        }
      ],
      "source": [
        "# load the test dataset\n",
        "# TODO\n",
        "test_trip = pd.read_json('trip_data_test.json')\n",
        "test_trip.head()"
      ]
    },
    {
      "cell_type": "code",
      "execution_count": 13,
      "metadata": {
        "colab": {
          "base_uri": "https://localhost:8080/",
          "height": 206
        },
        "id": "AQEXC4m2q-US",
        "outputId": "00f17a48-f970-4579-ec58-90d8d4498d6a"
      },
      "outputs": [
        {
          "data": {
            "text/html": [
              "\n",
              "  <div id=\"df-20c6c4aa-0103-4bda-8f76-63c7d42e992e\" class=\"colab-df-container\">\n",
              "    <div>\n",
              "<style scoped>\n",
              "    .dataframe tbody tr th:only-of-type {\n",
              "        vertical-align: middle;\n",
              "    }\n",
              "\n",
              "    .dataframe tbody tr th {\n",
              "        vertical-align: top;\n",
              "    }\n",
              "\n",
              "    .dataframe thead th {\n",
              "        text-align: right;\n",
              "    }\n",
              "</style>\n",
              "<table border=\"1\" class=\"dataframe\">\n",
              "  <thead>\n",
              "    <tr style=\"text-align: right;\">\n",
              "      <th></th>\n",
              "      <th>Origin Lat</th>\n",
              "      <th>Origin Long</th>\n",
              "      <th>origin</th>\n",
              "      <th>destination</th>\n",
              "      <th>Dest Lat</th>\n",
              "      <th>Dest Long</th>\n",
              "      <th>user_id</th>\n",
              "      <th>Day</th>\n",
              "      <th>start_time</th>\n",
              "      <th>end_time</th>\n",
              "      <th>price</th>\n",
              "    </tr>\n",
              "  </thead>\n",
              "  <tbody>\n",
              "    <tr>\n",
              "      <th>0</th>\n",
              "      <td>35.650</td>\n",
              "      <td>51.225</td>\n",
              "      <td>pool</td>\n",
              "      <td>home</td>\n",
              "      <td>35.640</td>\n",
              "      <td>51.270</td>\n",
              "      <td>24</td>\n",
              "      <td>6</td>\n",
              "      <td>2024-01-30 11:58:00</td>\n",
              "      <td>2024-01-30 12:12:00</td>\n",
              "      <td>10.00</td>\n",
              "    </tr>\n",
              "    <tr>\n",
              "      <th>1</th>\n",
              "      <td>35.625</td>\n",
              "      <td>51.250</td>\n",
              "      <td>university</td>\n",
              "      <td>restaurant</td>\n",
              "      <td>35.690</td>\n",
              "      <td>51.295</td>\n",
              "      <td>46</td>\n",
              "      <td>2</td>\n",
              "      <td>2024-01-30 21:58:00</td>\n",
              "      <td>2024-01-30 22:18:00</td>\n",
              "      <td>11.84</td>\n",
              "    </tr>\n",
              "    <tr>\n",
              "      <th>2</th>\n",
              "      <td>35.650</td>\n",
              "      <td>51.225</td>\n",
              "      <td>pool</td>\n",
              "      <td>restaurant</td>\n",
              "      <td>35.865</td>\n",
              "      <td>51.045</td>\n",
              "      <td>27</td>\n",
              "      <td>5</td>\n",
              "      <td>2024-01-30 20:05:00</td>\n",
              "      <td>2024-01-30 20:58:00</td>\n",
              "      <td>23.36</td>\n",
              "    </tr>\n",
              "    <tr>\n",
              "      <th>3</th>\n",
              "      <td>35.875</td>\n",
              "      <td>51.375</td>\n",
              "      <td>work</td>\n",
              "      <td>home</td>\n",
              "      <td>35.890</td>\n",
              "      <td>51.315</td>\n",
              "      <td>7</td>\n",
              "      <td>4</td>\n",
              "      <td>2024-01-30 17:39:00</td>\n",
              "      <td>2024-01-30 18:17:00</td>\n",
              "      <td>13.74</td>\n",
              "    </tr>\n",
              "    <tr>\n",
              "      <th>4</th>\n",
              "      <td>35.625</td>\n",
              "      <td>51.375</td>\n",
              "      <td>work</td>\n",
              "      <td>restaurant</td>\n",
              "      <td>35.650</td>\n",
              "      <td>51.385</td>\n",
              "      <td>27</td>\n",
              "      <td>3</td>\n",
              "      <td>2024-01-30 13:16:00</td>\n",
              "      <td>2024-01-30 13:19:00</td>\n",
              "      <td>15.08</td>\n",
              "    </tr>\n",
              "  </tbody>\n",
              "</table>\n",
              "</div>\n",
              "    <div class=\"colab-df-buttons\">\n",
              "\n",
              "  <div class=\"colab-df-container\">\n",
              "    <button class=\"colab-df-convert\" onclick=\"convertToInteractive('df-20c6c4aa-0103-4bda-8f76-63c7d42e992e')\"\n",
              "            title=\"Convert this dataframe to an interactive table.\"\n",
              "            style=\"display:none;\">\n",
              "\n",
              "  <svg xmlns=\"http://www.w3.org/2000/svg\" height=\"24px\" viewBox=\"0 -960 960 960\">\n",
              "    <path d=\"M120-120v-720h720v720H120Zm60-500h600v-160H180v160Zm220 220h160v-160H400v160Zm0 220h160v-160H400v160ZM180-400h160v-160H180v160Zm440 0h160v-160H620v160ZM180-180h160v-160H180v160Zm440 0h160v-160H620v160Z\"/>\n",
              "  </svg>\n",
              "    </button>\n",
              "\n",
              "  <style>\n",
              "    .colab-df-container {\n",
              "      display:flex;\n",
              "      gap: 12px;\n",
              "    }\n",
              "\n",
              "    .colab-df-convert {\n",
              "      background-color: #E8F0FE;\n",
              "      border: none;\n",
              "      border-radius: 50%;\n",
              "      cursor: pointer;\n",
              "      display: none;\n",
              "      fill: #1967D2;\n",
              "      height: 32px;\n",
              "      padding: 0 0 0 0;\n",
              "      width: 32px;\n",
              "    }\n",
              "\n",
              "    .colab-df-convert:hover {\n",
              "      background-color: #E2EBFA;\n",
              "      box-shadow: 0px 1px 2px rgba(60, 64, 67, 0.3), 0px 1px 3px 1px rgba(60, 64, 67, 0.15);\n",
              "      fill: #174EA6;\n",
              "    }\n",
              "\n",
              "    .colab-df-buttons div {\n",
              "      margin-bottom: 4px;\n",
              "    }\n",
              "\n",
              "    [theme=dark] .colab-df-convert {\n",
              "      background-color: #3B4455;\n",
              "      fill: #D2E3FC;\n",
              "    }\n",
              "\n",
              "    [theme=dark] .colab-df-convert:hover {\n",
              "      background-color: #434B5C;\n",
              "      box-shadow: 0px 1px 3px 1px rgba(0, 0, 0, 0.15);\n",
              "      filter: drop-shadow(0px 1px 2px rgba(0, 0, 0, 0.3));\n",
              "      fill: #FFFFFF;\n",
              "    }\n",
              "  </style>\n",
              "\n",
              "    <script>\n",
              "      const buttonEl =\n",
              "        document.querySelector('#df-20c6c4aa-0103-4bda-8f76-63c7d42e992e button.colab-df-convert');\n",
              "      buttonEl.style.display =\n",
              "        google.colab.kernel.accessAllowed ? 'block' : 'none';\n",
              "\n",
              "      async function convertToInteractive(key) {\n",
              "        const element = document.querySelector('#df-20c6c4aa-0103-4bda-8f76-63c7d42e992e');\n",
              "        const dataTable =\n",
              "          await google.colab.kernel.invokeFunction('convertToInteractive',\n",
              "                                                    [key], {});\n",
              "        if (!dataTable) return;\n",
              "\n",
              "        const docLinkHtml = 'Like what you see? Visit the ' +\n",
              "          '<a target=\"_blank\" href=https://colab.research.google.com/notebooks/data_table.ipynb>data table notebook</a>'\n",
              "          + ' to learn more about interactive tables.';\n",
              "        element.innerHTML = '';\n",
              "        dataTable['output_type'] = 'display_data';\n",
              "        await google.colab.output.renderOutput(dataTable, element);\n",
              "        const docLink = document.createElement('div');\n",
              "        docLink.innerHTML = docLinkHtml;\n",
              "        element.appendChild(docLink);\n",
              "      }\n",
              "    </script>\n",
              "  </div>\n",
              "\n",
              "\n",
              "<div id=\"df-69c91278-a109-4bfb-bd8a-b60b08781e30\">\n",
              "  <button class=\"colab-df-quickchart\" onclick=\"quickchart('df-69c91278-a109-4bfb-bd8a-b60b08781e30')\"\n",
              "            title=\"Suggest charts\"\n",
              "            style=\"display:none;\">\n",
              "\n",
              "<svg xmlns=\"http://www.w3.org/2000/svg\" height=\"24px\"viewBox=\"0 0 24 24\"\n",
              "     width=\"24px\">\n",
              "    <g>\n",
              "        <path d=\"M19 3H5c-1.1 0-2 .9-2 2v14c0 1.1.9 2 2 2h14c1.1 0 2-.9 2-2V5c0-1.1-.9-2-2-2zM9 17H7v-7h2v7zm4 0h-2V7h2v10zm4 0h-2v-4h2v4z\"/>\n",
              "    </g>\n",
              "</svg>\n",
              "  </button>\n",
              "\n",
              "<style>\n",
              "  .colab-df-quickchart {\n",
              "      --bg-color: #E8F0FE;\n",
              "      --fill-color: #1967D2;\n",
              "      --hover-bg-color: #E2EBFA;\n",
              "      --hover-fill-color: #174EA6;\n",
              "      --disabled-fill-color: #AAA;\n",
              "      --disabled-bg-color: #DDD;\n",
              "  }\n",
              "\n",
              "  [theme=dark] .colab-df-quickchart {\n",
              "      --bg-color: #3B4455;\n",
              "      --fill-color: #D2E3FC;\n",
              "      --hover-bg-color: #434B5C;\n",
              "      --hover-fill-color: #FFFFFF;\n",
              "      --disabled-bg-color: #3B4455;\n",
              "      --disabled-fill-color: #666;\n",
              "  }\n",
              "\n",
              "  .colab-df-quickchart {\n",
              "    background-color: var(--bg-color);\n",
              "    border: none;\n",
              "    border-radius: 50%;\n",
              "    cursor: pointer;\n",
              "    display: none;\n",
              "    fill: var(--fill-color);\n",
              "    height: 32px;\n",
              "    padding: 0;\n",
              "    width: 32px;\n",
              "  }\n",
              "\n",
              "  .colab-df-quickchart:hover {\n",
              "    background-color: var(--hover-bg-color);\n",
              "    box-shadow: 0 1px 2px rgba(60, 64, 67, 0.3), 0 1px 3px 1px rgba(60, 64, 67, 0.15);\n",
              "    fill: var(--button-hover-fill-color);\n",
              "  }\n",
              "\n",
              "  .colab-df-quickchart-complete:disabled,\n",
              "  .colab-df-quickchart-complete:disabled:hover {\n",
              "    background-color: var(--disabled-bg-color);\n",
              "    fill: var(--disabled-fill-color);\n",
              "    box-shadow: none;\n",
              "  }\n",
              "\n",
              "  .colab-df-spinner {\n",
              "    border: 2px solid var(--fill-color);\n",
              "    border-color: transparent;\n",
              "    border-bottom-color: var(--fill-color);\n",
              "    animation:\n",
              "      spin 1s steps(1) infinite;\n",
              "  }\n",
              "\n",
              "  @keyframes spin {\n",
              "    0% {\n",
              "      border-color: transparent;\n",
              "      border-bottom-color: var(--fill-color);\n",
              "      border-left-color: var(--fill-color);\n",
              "    }\n",
              "    20% {\n",
              "      border-color: transparent;\n",
              "      border-left-color: var(--fill-color);\n",
              "      border-top-color: var(--fill-color);\n",
              "    }\n",
              "    30% {\n",
              "      border-color: transparent;\n",
              "      border-left-color: var(--fill-color);\n",
              "      border-top-color: var(--fill-color);\n",
              "      border-right-color: var(--fill-color);\n",
              "    }\n",
              "    40% {\n",
              "      border-color: transparent;\n",
              "      border-right-color: var(--fill-color);\n",
              "      border-top-color: var(--fill-color);\n",
              "    }\n",
              "    60% {\n",
              "      border-color: transparent;\n",
              "      border-right-color: var(--fill-color);\n",
              "    }\n",
              "    80% {\n",
              "      border-color: transparent;\n",
              "      border-right-color: var(--fill-color);\n",
              "      border-bottom-color: var(--fill-color);\n",
              "    }\n",
              "    90% {\n",
              "      border-color: transparent;\n",
              "      border-bottom-color: var(--fill-color);\n",
              "    }\n",
              "  }\n",
              "</style>\n",
              "\n",
              "  <script>\n",
              "    async function quickchart(key) {\n",
              "      const quickchartButtonEl =\n",
              "        document.querySelector('#' + key + ' button');\n",
              "      quickchartButtonEl.disabled = true;  // To prevent multiple clicks.\n",
              "      quickchartButtonEl.classList.add('colab-df-spinner');\n",
              "      try {\n",
              "        const charts = await google.colab.kernel.invokeFunction(\n",
              "            'suggestCharts', [key], {});\n",
              "      } catch (error) {\n",
              "        console.error('Error during call to suggestCharts:', error);\n",
              "      }\n",
              "      quickchartButtonEl.classList.remove('colab-df-spinner');\n",
              "      quickchartButtonEl.classList.add('colab-df-quickchart-complete');\n",
              "    }\n",
              "    (() => {\n",
              "      let quickchartButtonEl =\n",
              "        document.querySelector('#df-69c91278-a109-4bfb-bd8a-b60b08781e30 button');\n",
              "      quickchartButtonEl.style.display =\n",
              "        google.colab.kernel.accessAllowed ? 'block' : 'none';\n",
              "    })();\n",
              "  </script>\n",
              "</div>\n",
              "\n",
              "    </div>\n",
              "  </div>\n"
            ],
            "text/plain": [
              "   Origin Lat  Origin Long      origin destination  Dest Lat  Dest Long  \\\n",
              "0      35.650       51.225        pool        home    35.640     51.270   \n",
              "1      35.625       51.250  university  restaurant    35.690     51.295   \n",
              "2      35.650       51.225        pool  restaurant    35.865     51.045   \n",
              "3      35.875       51.375        work        home    35.890     51.315   \n",
              "4      35.625       51.375        work  restaurant    35.650     51.385   \n",
              "\n",
              "   user_id  Day          start_time            end_time  price  \n",
              "0       24    6 2024-01-30 11:58:00 2024-01-30 12:12:00  10.00  \n",
              "1       46    2 2024-01-30 21:58:00 2024-01-30 22:18:00  11.84  \n",
              "2       27    5 2024-01-30 20:05:00 2024-01-30 20:58:00  23.36  \n",
              "3        7    4 2024-01-30 17:39:00 2024-01-30 18:17:00  13.74  \n",
              "4       27    3 2024-01-30 13:16:00 2024-01-30 13:19:00  15.08  "
            ]
          },
          "execution_count": 13,
          "metadata": {},
          "output_type": "execute_result"
        }
      ],
      "source": [
        "# Extract features and do preprocessing if needed\n",
        "# TODO\n",
        "test_proc = pd.DataFrame((pd.DataFrame(test_trip['origin'].tolist(),columns=['origin','ol']))['ol'].tolist(),columns=['Origin Lat','Origin Long'])\n",
        "test_proc =test_proc.merge(pd.DataFrame(test_trip['origin'].tolist(),columns=['origin','ol'])[['origin']],left_index=True, right_index=True)\n",
        "test_proc =test_proc.merge(pd.DataFrame(test_trip['destination'].tolist(),columns=['destination','ol'])[['destination']],left_index=True, right_index=True)\n",
        "test_proc =test_proc.merge(pd.DataFrame((pd.DataFrame(test_trip['destination'].tolist(),columns=['destination','ol']))['ol'].tolist(),columns=['Dest Lat','Dest Long']),left_index=True, right_index=True)\n",
        "test_proc =test_proc.merge(test_trip[['user_id','Day','start_time','end_time','price']],left_index=True, right_index=True)\n",
        "\n",
        "test_proc.head()\n",
        "\n",
        "#test_results_trip = test_trip[['dest lat', 'dest lon']]"
      ]
    },
    {
      "cell_type": "code",
      "execution_count": 14,
      "metadata": {
        "colab": {
          "base_uri": "https://localhost:8080/",
          "height": 206
        },
        "id": "yeLbC0Lfq-UT",
        "outputId": "44e08c2d-f5e2-44f9-ea4c-8cd373185807"
      },
      "outputs": [
        {
          "data": {
            "text/html": [
              "\n",
              "  <div id=\"df-d0c994ab-41f8-4268-a002-f23936de0162\" class=\"colab-df-container\">\n",
              "    <div>\n",
              "<style scoped>\n",
              "    .dataframe tbody tr th:only-of-type {\n",
              "        vertical-align: middle;\n",
              "    }\n",
              "\n",
              "    .dataframe tbody tr th {\n",
              "        vertical-align: top;\n",
              "    }\n",
              "\n",
              "    .dataframe thead th {\n",
              "        text-align: right;\n",
              "    }\n",
              "</style>\n",
              "<table border=\"1\" class=\"dataframe\">\n",
              "  <thead>\n",
              "    <tr style=\"text-align: right;\">\n",
              "      <th></th>\n",
              "      <th>Origin Lat</th>\n",
              "      <th>Origin Long</th>\n",
              "      <th>origin</th>\n",
              "      <th>destination</th>\n",
              "      <th>Dest Lat</th>\n",
              "      <th>Dest Long</th>\n",
              "      <th>user_id</th>\n",
              "      <th>Day</th>\n",
              "      <th>start_time</th>\n",
              "      <th>end_time</th>\n",
              "      <th>price</th>\n",
              "    </tr>\n",
              "  </thead>\n",
              "  <tbody>\n",
              "    <tr>\n",
              "      <th>0</th>\n",
              "      <td>35.625</td>\n",
              "      <td>51.375</td>\n",
              "      <td>work</td>\n",
              "      <td>restaurant</td>\n",
              "      <td>36.000</td>\n",
              "      <td>51.085</td>\n",
              "      <td>0</td>\n",
              "      <td>0</td>\n",
              "      <td>2024-01-30 13:07:00</td>\n",
              "      <td>2024-01-30 14:43:00</td>\n",
              "      <td>43.99</td>\n",
              "    </tr>\n",
              "    <tr>\n",
              "      <th>1</th>\n",
              "      <td>36.000</td>\n",
              "      <td>51.085</td>\n",
              "      <td>restaurant</td>\n",
              "      <td>work</td>\n",
              "      <td>35.625</td>\n",
              "      <td>51.375</td>\n",
              "      <td>0</td>\n",
              "      <td>0</td>\n",
              "      <td>2024-01-30 15:13:00</td>\n",
              "      <td>2024-01-30 16:49:00</td>\n",
              "      <td>36.66</td>\n",
              "    </tr>\n",
              "    <tr>\n",
              "      <th>2</th>\n",
              "      <td>35.680</td>\n",
              "      <td>51.445</td>\n",
              "      <td>home</td>\n",
              "      <td>restaurant</td>\n",
              "      <td>35.745</td>\n",
              "      <td>51.465</td>\n",
              "      <td>0</td>\n",
              "      <td>0</td>\n",
              "      <td>2024-01-30 20:41:00</td>\n",
              "      <td>2024-01-30 20:54:00</td>\n",
              "      <td>15.08</td>\n",
              "    </tr>\n",
              "    <tr>\n",
              "      <th>3</th>\n",
              "      <td>35.745</td>\n",
              "      <td>51.465</td>\n",
              "      <td>restaurant</td>\n",
              "      <td>home</td>\n",
              "      <td>35.680</td>\n",
              "      <td>51.445</td>\n",
              "      <td>0</td>\n",
              "      <td>0</td>\n",
              "      <td>2024-01-30 21:24:00</td>\n",
              "      <td>2024-01-30 21:37:00</td>\n",
              "      <td>10.00</td>\n",
              "    </tr>\n",
              "    <tr>\n",
              "      <th>4</th>\n",
              "      <td>35.625</td>\n",
              "      <td>51.375</td>\n",
              "      <td>work</td>\n",
              "      <td>home</td>\n",
              "      <td>35.680</td>\n",
              "      <td>51.445</td>\n",
              "      <td>0</td>\n",
              "      <td>1</td>\n",
              "      <td>2024-01-30 23:38:00</td>\n",
              "      <td>2024-01-30 23:58:00</td>\n",
              "      <td>19.48</td>\n",
              "    </tr>\n",
              "  </tbody>\n",
              "</table>\n",
              "</div>\n",
              "    <div class=\"colab-df-buttons\">\n",
              "\n",
              "  <div class=\"colab-df-container\">\n",
              "    <button class=\"colab-df-convert\" onclick=\"convertToInteractive('df-d0c994ab-41f8-4268-a002-f23936de0162')\"\n",
              "            title=\"Convert this dataframe to an interactive table.\"\n",
              "            style=\"display:none;\">\n",
              "\n",
              "  <svg xmlns=\"http://www.w3.org/2000/svg\" height=\"24px\" viewBox=\"0 -960 960 960\">\n",
              "    <path d=\"M120-120v-720h720v720H120Zm60-500h600v-160H180v160Zm220 220h160v-160H400v160Zm0 220h160v-160H400v160ZM180-400h160v-160H180v160Zm440 0h160v-160H620v160ZM180-180h160v-160H180v160Zm440 0h160v-160H620v160Z\"/>\n",
              "  </svg>\n",
              "    </button>\n",
              "\n",
              "  <style>\n",
              "    .colab-df-container {\n",
              "      display:flex;\n",
              "      gap: 12px;\n",
              "    }\n",
              "\n",
              "    .colab-df-convert {\n",
              "      background-color: #E8F0FE;\n",
              "      border: none;\n",
              "      border-radius: 50%;\n",
              "      cursor: pointer;\n",
              "      display: none;\n",
              "      fill: #1967D2;\n",
              "      height: 32px;\n",
              "      padding: 0 0 0 0;\n",
              "      width: 32px;\n",
              "    }\n",
              "\n",
              "    .colab-df-convert:hover {\n",
              "      background-color: #E2EBFA;\n",
              "      box-shadow: 0px 1px 2px rgba(60, 64, 67, 0.3), 0px 1px 3px 1px rgba(60, 64, 67, 0.15);\n",
              "      fill: #174EA6;\n",
              "    }\n",
              "\n",
              "    .colab-df-buttons div {\n",
              "      margin-bottom: 4px;\n",
              "    }\n",
              "\n",
              "    [theme=dark] .colab-df-convert {\n",
              "      background-color: #3B4455;\n",
              "      fill: #D2E3FC;\n",
              "    }\n",
              "\n",
              "    [theme=dark] .colab-df-convert:hover {\n",
              "      background-color: #434B5C;\n",
              "      box-shadow: 0px 1px 3px 1px rgba(0, 0, 0, 0.15);\n",
              "      filter: drop-shadow(0px 1px 2px rgba(0, 0, 0, 0.3));\n",
              "      fill: #FFFFFF;\n",
              "    }\n",
              "  </style>\n",
              "\n",
              "    <script>\n",
              "      const buttonEl =\n",
              "        document.querySelector('#df-d0c994ab-41f8-4268-a002-f23936de0162 button.colab-df-convert');\n",
              "      buttonEl.style.display =\n",
              "        google.colab.kernel.accessAllowed ? 'block' : 'none';\n",
              "\n",
              "      async function convertToInteractive(key) {\n",
              "        const element = document.querySelector('#df-d0c994ab-41f8-4268-a002-f23936de0162');\n",
              "        const dataTable =\n",
              "          await google.colab.kernel.invokeFunction('convertToInteractive',\n",
              "                                                    [key], {});\n",
              "        if (!dataTable) return;\n",
              "\n",
              "        const docLinkHtml = 'Like what you see? Visit the ' +\n",
              "          '<a target=\"_blank\" href=https://colab.research.google.com/notebooks/data_table.ipynb>data table notebook</a>'\n",
              "          + ' to learn more about interactive tables.';\n",
              "        element.innerHTML = '';\n",
              "        dataTable['output_type'] = 'display_data';\n",
              "        await google.colab.output.renderOutput(dataTable, element);\n",
              "        const docLink = document.createElement('div');\n",
              "        docLink.innerHTML = docLinkHtml;\n",
              "        element.appendChild(docLink);\n",
              "      }\n",
              "    </script>\n",
              "  </div>\n",
              "\n",
              "\n",
              "<div id=\"df-9152ccf2-ece4-47fa-951c-10601302fe9d\">\n",
              "  <button class=\"colab-df-quickchart\" onclick=\"quickchart('df-9152ccf2-ece4-47fa-951c-10601302fe9d')\"\n",
              "            title=\"Suggest charts\"\n",
              "            style=\"display:none;\">\n",
              "\n",
              "<svg xmlns=\"http://www.w3.org/2000/svg\" height=\"24px\"viewBox=\"0 0 24 24\"\n",
              "     width=\"24px\">\n",
              "    <g>\n",
              "        <path d=\"M19 3H5c-1.1 0-2 .9-2 2v14c0 1.1.9 2 2 2h14c1.1 0 2-.9 2-2V5c0-1.1-.9-2-2-2zM9 17H7v-7h2v7zm4 0h-2V7h2v10zm4 0h-2v-4h2v4z\"/>\n",
              "    </g>\n",
              "</svg>\n",
              "  </button>\n",
              "\n",
              "<style>\n",
              "  .colab-df-quickchart {\n",
              "      --bg-color: #E8F0FE;\n",
              "      --fill-color: #1967D2;\n",
              "      --hover-bg-color: #E2EBFA;\n",
              "      --hover-fill-color: #174EA6;\n",
              "      --disabled-fill-color: #AAA;\n",
              "      --disabled-bg-color: #DDD;\n",
              "  }\n",
              "\n",
              "  [theme=dark] .colab-df-quickchart {\n",
              "      --bg-color: #3B4455;\n",
              "      --fill-color: #D2E3FC;\n",
              "      --hover-bg-color: #434B5C;\n",
              "      --hover-fill-color: #FFFFFF;\n",
              "      --disabled-bg-color: #3B4455;\n",
              "      --disabled-fill-color: #666;\n",
              "  }\n",
              "\n",
              "  .colab-df-quickchart {\n",
              "    background-color: var(--bg-color);\n",
              "    border: none;\n",
              "    border-radius: 50%;\n",
              "    cursor: pointer;\n",
              "    display: none;\n",
              "    fill: var(--fill-color);\n",
              "    height: 32px;\n",
              "    padding: 0;\n",
              "    width: 32px;\n",
              "  }\n",
              "\n",
              "  .colab-df-quickchart:hover {\n",
              "    background-color: var(--hover-bg-color);\n",
              "    box-shadow: 0 1px 2px rgba(60, 64, 67, 0.3), 0 1px 3px 1px rgba(60, 64, 67, 0.15);\n",
              "    fill: var(--button-hover-fill-color);\n",
              "  }\n",
              "\n",
              "  .colab-df-quickchart-complete:disabled,\n",
              "  .colab-df-quickchart-complete:disabled:hover {\n",
              "    background-color: var(--disabled-bg-color);\n",
              "    fill: var(--disabled-fill-color);\n",
              "    box-shadow: none;\n",
              "  }\n",
              "\n",
              "  .colab-df-spinner {\n",
              "    border: 2px solid var(--fill-color);\n",
              "    border-color: transparent;\n",
              "    border-bottom-color: var(--fill-color);\n",
              "    animation:\n",
              "      spin 1s steps(1) infinite;\n",
              "  }\n",
              "\n",
              "  @keyframes spin {\n",
              "    0% {\n",
              "      border-color: transparent;\n",
              "      border-bottom-color: var(--fill-color);\n",
              "      border-left-color: var(--fill-color);\n",
              "    }\n",
              "    20% {\n",
              "      border-color: transparent;\n",
              "      border-left-color: var(--fill-color);\n",
              "      border-top-color: var(--fill-color);\n",
              "    }\n",
              "    30% {\n",
              "      border-color: transparent;\n",
              "      border-left-color: var(--fill-color);\n",
              "      border-top-color: var(--fill-color);\n",
              "      border-right-color: var(--fill-color);\n",
              "    }\n",
              "    40% {\n",
              "      border-color: transparent;\n",
              "      border-right-color: var(--fill-color);\n",
              "      border-top-color: var(--fill-color);\n",
              "    }\n",
              "    60% {\n",
              "      border-color: transparent;\n",
              "      border-right-color: var(--fill-color);\n",
              "    }\n",
              "    80% {\n",
              "      border-color: transparent;\n",
              "      border-right-color: var(--fill-color);\n",
              "      border-bottom-color: var(--fill-color);\n",
              "    }\n",
              "    90% {\n",
              "      border-color: transparent;\n",
              "      border-bottom-color: var(--fill-color);\n",
              "    }\n",
              "  }\n",
              "</style>\n",
              "\n",
              "  <script>\n",
              "    async function quickchart(key) {\n",
              "      const quickchartButtonEl =\n",
              "        document.querySelector('#' + key + ' button');\n",
              "      quickchartButtonEl.disabled = true;  // To prevent multiple clicks.\n",
              "      quickchartButtonEl.classList.add('colab-df-spinner');\n",
              "      try {\n",
              "        const charts = await google.colab.kernel.invokeFunction(\n",
              "            'suggestCharts', [key], {});\n",
              "      } catch (error) {\n",
              "        console.error('Error during call to suggestCharts:', error);\n",
              "      }\n",
              "      quickchartButtonEl.classList.remove('colab-df-spinner');\n",
              "      quickchartButtonEl.classList.add('colab-df-quickchart-complete');\n",
              "    }\n",
              "    (() => {\n",
              "      let quickchartButtonEl =\n",
              "        document.querySelector('#df-9152ccf2-ece4-47fa-951c-10601302fe9d button');\n",
              "      quickchartButtonEl.style.display =\n",
              "        google.colab.kernel.accessAllowed ? 'block' : 'none';\n",
              "    })();\n",
              "  </script>\n",
              "</div>\n",
              "\n",
              "    </div>\n",
              "  </div>\n"
            ],
            "text/plain": [
              "   Origin Lat  Origin Long      origin destination  Dest Lat  Dest Long  \\\n",
              "0      35.625       51.375        work  restaurant    36.000     51.085   \n",
              "1      36.000       51.085  restaurant        work    35.625     51.375   \n",
              "2      35.680       51.445        home  restaurant    35.745     51.465   \n",
              "3      35.745       51.465  restaurant        home    35.680     51.445   \n",
              "4      35.625       51.375        work        home    35.680     51.445   \n",
              "\n",
              "   user_id  Day          start_time            end_time  price  \n",
              "0        0    0 2024-01-30 13:07:00 2024-01-30 14:43:00  43.99  \n",
              "1        0    0 2024-01-30 15:13:00 2024-01-30 16:49:00  36.66  \n",
              "2        0    0 2024-01-30 20:41:00 2024-01-30 20:54:00  15.08  \n",
              "3        0    0 2024-01-30 21:24:00 2024-01-30 21:37:00  10.00  \n",
              "4        0    1 2024-01-30 23:38:00 2024-01-30 23:58:00  19.48  "
            ]
          },
          "execution_count": 14,
          "metadata": {},
          "output_type": "execute_result"
        }
      ],
      "source": [
        "# Extract features and do preprocessing if needed\n",
        "# TODO\n",
        "\n",
        "train_proc = pd.DataFrame((pd.DataFrame(train_trip['origin'].tolist(),columns=['origin','ol']))['ol'].tolist(),columns=['Origin Lat','Origin Long'])\n",
        "train_proc =train_proc.merge(pd.DataFrame(train_trip['origin'].tolist(),columns=['origin','ol'])[['origin']],left_index=True, right_index=True)\n",
        "train_proc =train_proc.merge(pd.DataFrame(train_trip['destination'].tolist(),columns=['destination','ol'])[['destination']],left_index=True, right_index=True)\n",
        "train_proc =train_proc.merge(pd.DataFrame((pd.DataFrame(train_trip['destination'].tolist(),columns=['destination','ol']))['ol'].tolist(),columns=['Dest Lat','Dest Long']),left_index=True, right_index=True)\n",
        "train_proc =train_proc.merge(train_trip[['user_id','Day','start_time','end_time','price']],left_index=True, right_index=True)\n",
        "train_proc.head()\n"
      ]
    },
    {
      "cell_type": "code",
      "execution_count": 15,
      "metadata": {
        "colab": {
          "base_uri": "https://localhost:8080/"
        },
        "id": "j10Uddzqq-UT",
        "outputId": "2f467caf-a780-4a85-d406-4d1e1b568ac5"
      },
      "outputs": [
        {
          "name": "stdout",
          "output_type": "stream",
          "text": [
            "Unique values in column 'Origin Lat': [35.65  35.625 35.875 35.745 35.785 35.7   36.    35.95  35.9   35.84\n",
            " 35.68  35.525 35.97  35.735 35.725 35.945 35.77  35.64  35.89  35.82\n",
            " 35.91  35.5   35.845 35.99  35.675 35.705 35.55  35.69  35.54  35.575\n",
            " 35.825 35.81  35.545 35.51  35.8   35.565 35.635 35.595 35.53  35.815\n",
            " 35.805 35.52  35.775 35.905 35.995 35.765 35.865 35.83  35.71  35.505\n",
            " 35.98  35.59  35.535 35.615 35.76  35.855 35.62  35.93  35.75  35.975\n",
            " 35.56  35.74  35.955 35.555]\n",
            "Unique values in column 'Origin Long': [51.225 51.25  51.375 51.275 51.125 51.465 51.435 51.115 51.    51.28\n",
            " 51.495 51.24  51.445 51.135 51.1   51.215 51.2   51.13  51.3   51.085\n",
            " 51.245 51.385 51.27  51.315 51.19  51.235 51.295 51.165 51.075 51.5\n",
            " 51.32  51.11  51.145 51.155 51.21  51.12  51.42  51.29  51.095 51.06\n",
            " 51.39  51.475 51.485 51.185 51.285 51.4   51.31  51.045 51.035 51.415\n",
            " 51.37  51.345 51.17  51.09  51.46  51.15  51.35  51.26  51.05  51.47\n",
            " 51.305 51.18  51.175 51.025 51.195]\n",
            "Unique values in column 'origin': ['pool' 'university' 'work' 'restaurant' 'home' 'park' 'gym']\n",
            "Unique values in column 'destination': ['home' 'restaurant' 'work' 'university' 'pool' 'park' 'gym']\n",
            "Unique values in column 'Dest Lat': [35.64  35.69  35.865 35.89  35.65  35.625 35.735 35.82  35.81  35.875\n",
            " 35.905 35.7   35.545 35.8   35.99  35.815 35.53  35.71  35.84  35.565\n",
            " 35.635 35.995 35.705 35.74  35.76  36.    35.95  35.75  35.97  35.595\n",
            " 35.54  35.68  35.5   35.805 35.765 35.77  35.945 35.575 35.675 35.785\n",
            " 35.745 35.9   35.62  35.525 35.775 35.825 35.505 35.975 35.55  35.52\n",
            " 35.535 35.93  35.555 35.91  35.56  35.615 35.98  35.855 35.51  35.725\n",
            " 35.83  35.845 35.59  35.955]\n",
            "Unique values in column 'Dest Long': [51.27  51.295 51.045 51.315 51.385 51.125 51.185 51.225 51.5   51.375\n",
            " 51.25  51.035 51.115 51.145 51.32  51.485 51.11  51.09  51.13  51.06\n",
            " 51.39  51.    51.2   51.435 51.26  51.21  51.37  51.475 51.135 51.345\n",
            " 51.085 51.075 51.245 51.24  51.17  51.42  51.31  51.445 51.215 51.095\n",
            " 51.47  51.415 51.29  51.465 51.1   51.35  51.025 51.275 51.46  51.4\n",
            " 51.18  51.165 51.285 51.305 51.235 51.19  51.175 51.05  51.155 51.3\n",
            " 51.495 51.28  51.15  51.12  51.195]\n",
            "Unique values in column 'user_id': [24 46 27  7 41 58 55  4 29  1 50 11 40 18 28 42 25  0 34 51 38 19 21 33\n",
            " 26 14 17  6 54 36 43 22 45 31 48 23  8 49 52 30 57  2 39 32  9  5 35 47\n",
            "  3 59 53 37 20 13 56 10 12 16 15 44]\n",
            "Unique values in column 'Day': [6 2 5 4 3 0 1]\n",
            "Unique values in column 'start_time': ['2024-01-30T11:58:00.000000000' '2024-01-30T21:58:00.000000000'\n",
            " '2024-01-30T20:05:00.000000000' '2024-01-30T17:39:00.000000000'\n",
            " '2024-01-30T13:16:00.000000000' '2024-01-30T13:44:00.000000000'\n",
            " '2024-01-30T21:17:00.000000000' '2024-01-30T23:34:00.000000000'\n",
            " '2024-01-30T07:21:00.000000000' '2024-01-30T08:22:00.000000000'\n",
            " '2024-01-30T17:44:00.000000000' '2024-01-30T12:15:00.000000000'\n",
            " '2024-01-30T13:51:00.000000000' '2024-01-30T16:16:00.000000000'\n",
            " '2024-01-30T17:51:00.000000000' '2024-01-30T14:31:00.000000000'\n",
            " '2024-01-30T06:53:00.000000000' '2024-01-30T06:06:00.000000000'\n",
            " '2024-01-30T20:25:00.000000000' '2024-01-30T17:05:00.000000000'\n",
            " '2024-01-30T21:41:00.000000000' '2024-01-30T11:21:00.000000000'\n",
            " '2024-01-30T17:32:00.000000000' '2024-01-30T14:00:00.000000000'\n",
            " '2024-01-30T20:30:00.000000000' '2024-01-30T16:37:00.000000000'\n",
            " '2024-01-30T14:58:00.000000000' '2024-01-30T06:35:00.000000000'\n",
            " '2024-01-30T14:21:00.000000000' '2024-01-30T07:03:00.000000000'\n",
            " '2024-01-30T06:59:00.000000000' '2024-01-30T19:23:00.000000000'\n",
            " '2024-01-30T21:14:00.000000000' '2024-01-30T22:17:00.000000000'\n",
            " '2024-01-30T22:16:00.000000000' '2024-01-30T11:46:00.000000000'\n",
            " '2024-01-30T07:01:00.000000000' '2024-01-30T21:18:00.000000000'\n",
            " '2024-01-30T07:28:00.000000000' '2024-01-30T12:19:00.000000000'\n",
            " '2024-01-30T13:48:00.000000000' '2024-01-30T09:37:00.000000000'\n",
            " '2024-01-30T13:13:00.000000000' '2024-01-30T06:11:00.000000000'\n",
            " '2024-01-30T06:28:00.000000000' '2024-01-30T11:15:00.000000000'\n",
            " '2024-01-30T08:12:00.000000000' '2024-01-30T19:26:00.000000000'\n",
            " '2024-01-30T20:19:00.000000000' '2024-01-30T07:58:00.000000000'\n",
            " '2024-01-30T14:22:00.000000000' '2024-01-30T08:13:00.000000000'\n",
            " '2024-01-30T12:37:00.000000000' '2024-01-30T20:11:00.000000000'\n",
            " '2024-01-30T21:11:00.000000000' '2024-01-30T07:52:00.000000000'\n",
            " '2024-01-30T12:53:00.000000000' '2024-01-30T09:47:00.000000000'\n",
            " '2024-01-30T20:40:00.000000000' '2024-01-30T17:40:00.000000000'\n",
            " '2024-01-30T16:52:00.000000000' '2024-01-30T08:43:00.000000000'\n",
            " '2024-01-30T14:57:00.000000000' '2024-01-30T06:33:00.000000000'\n",
            " '2024-01-30T11:07:00.000000000' '2024-01-30T21:34:00.000000000'\n",
            " '2024-01-30T13:08:00.000000000' '2024-01-30T06:32:00.000000000'\n",
            " '2024-01-30T06:07:00.000000000' '2024-01-30T06:42:00.000000000'\n",
            " '2024-01-30T13:56:00.000000000' '2024-01-30T08:03:00.000000000'\n",
            " '2024-01-30T09:23:00.000000000' '2024-01-30T14:35:00.000000000'\n",
            " '2024-01-30T16:32:00.000000000' '2024-01-30T12:35:00.000000000'\n",
            " '2024-01-30T21:57:00.000000000' '2024-01-30T14:48:00.000000000'\n",
            " '2024-01-30T13:09:00.000000000' '2024-01-30T09:01:00.000000000'\n",
            " '2024-01-30T20:22:00.000000000' '2024-01-30T06:40:00.000000000'\n",
            " '2024-01-30T06:15:00.000000000' '2024-01-30T16:48:00.000000000'\n",
            " '2024-01-30T07:13:00.000000000' '2024-01-30T17:13:00.000000000'\n",
            " '2024-01-30T21:02:00.000000000' '2024-01-30T20:37:00.000000000'\n",
            " '2024-01-30T14:32:00.000000000' '2024-01-30T20:46:00.000000000'\n",
            " '2024-01-30T14:40:00.000000000' '2024-01-30T20:06:00.000000000'\n",
            " '2024-01-30T21:10:00.000000000' '2024-01-30T07:22:00.000000000'\n",
            " '2024-01-30T07:46:00.000000000' '2024-01-30T16:54:00.000000000'\n",
            " '2024-01-30T15:54:00.000000000' '2024-01-30T07:32:00.000000000'\n",
            " '2024-01-30T21:21:00.000000000' '2024-01-30T14:44:00.000000000'\n",
            " '2024-01-30T22:55:00.000000000' '2024-01-30T16:36:00.000000000'\n",
            " '2024-01-30T15:01:00.000000000' '2024-01-30T22:00:00.000000000'\n",
            " '2024-01-30T14:54:00.000000000' '2024-01-30T14:18:00.000000000'\n",
            " '2024-01-30T07:23:00.000000000' '2024-01-30T14:04:00.000000000'\n",
            " '2024-01-30T06:22:00.000000000' '2024-01-30T07:34:00.000000000'\n",
            " '2024-01-30T20:53:00.000000000' '2024-01-30T08:35:00.000000000'\n",
            " '2024-01-30T14:08:00.000000000' '2024-01-30T22:44:00.000000000'\n",
            " '2024-01-30T13:29:00.000000000' '2024-01-30T21:37:00.000000000'\n",
            " '2024-01-30T16:31:00.000000000' '2024-01-30T22:08:00.000000000'\n",
            " '2024-01-30T16:49:00.000000000' '2024-01-30T12:24:00.000000000'\n",
            " '2024-01-30T13:42:00.000000000' '2024-01-30T09:13:00.000000000'\n",
            " '2024-01-30T16:22:00.000000000' '2024-01-30T21:25:00.000000000'\n",
            " '2024-01-30T06:21:00.000000000' '2024-01-30T20:07:00.000000000'\n",
            " '2024-01-30T15:35:00.000000000' '2024-01-30T17:49:00.000000000'\n",
            " '2024-01-30T20:45:00.000000000' '2024-01-30T16:19:00.000000000'\n",
            " '2024-01-30T06:48:00.000000000' '2024-01-30T17:41:00.000000000'\n",
            " '2024-01-30T21:48:00.000000000' '2024-01-30T17:23:00.000000000'\n",
            " '2024-01-30T11:12:00.000000000' '2024-01-30T06:49:00.000000000'\n",
            " '2024-01-30T16:24:00.000000000' '2024-01-30T15:08:00.000000000'\n",
            " '2024-01-30T11:55:00.000000000' '2024-01-30T22:37:00.000000000'\n",
            " '2024-01-30T07:59:00.000000000' '2024-01-30T21:28:00.000000000'\n",
            " '2024-01-30T06:24:00.000000000' '2024-01-30T20:44:00.000000000'\n",
            " '2024-01-30T13:53:00.000000000' '2024-01-30T16:30:00.000000000'\n",
            " '2024-01-30T12:51:00.000000000' '2024-01-30T09:45:00.000000000'\n",
            " '2024-01-30T21:50:00.000000000' '2024-01-30T14:09:00.000000000'\n",
            " '2024-01-30T16:05:00.000000000' '2024-01-30T15:13:00.000000000'\n",
            " '2024-01-30T13:39:00.000000000' '2024-01-30T14:50:00.000000000'\n",
            " '2024-01-30T20:00:00.000000000' '2024-01-30T13:31:00.000000000'\n",
            " '2024-01-30T21:46:00.000000000' '2024-01-30T12:06:00.000000000'\n",
            " '2024-01-30T12:42:00.000000000' '2024-01-30T16:27:00.000000000'\n",
            " '2024-01-30T22:02:00.000000000' '2024-01-30T06:57:00.000000000'\n",
            " '2024-01-30T16:09:00.000000000' '2024-01-30T16:46:00.000000000'\n",
            " '2024-01-30T17:42:00.000000000' '2024-01-30T07:40:00.000000000'\n",
            " '2024-01-30T16:50:00.000000000' '2024-01-30T07:02:00.000000000'\n",
            " '2024-01-30T09:11:00.000000000' '2024-01-30T06:01:00.000000000'\n",
            " '2024-01-30T22:39:00.000000000' '2024-01-30T06:02:00.000000000'\n",
            " '2024-01-30T14:15:00.000000000' '2024-01-30T16:43:00.000000000'\n",
            " '2024-01-30T07:00:00.000000000' '2024-01-30T20:48:00.000000000'\n",
            " '2024-01-30T07:15:00.000000000' '2024-01-30T23:30:00.000000000'\n",
            " '2024-01-30T17:54:00.000000000' '2024-01-30T06:10:00.000000000'\n",
            " '2024-01-30T12:55:00.000000000' '2024-01-30T22:29:00.000000000'\n",
            " '2024-01-30T20:26:00.000000000' '2024-01-30T16:20:00.000000000'\n",
            " '2024-01-30T21:43:00.000000000' '2024-01-30T21:13:00.000000000'\n",
            " '2024-01-30T17:14:00.000000000' '2024-01-30T20:28:00.000000000'\n",
            " '2024-01-30T12:36:00.000000000' '2024-01-30T16:29:00.000000000'\n",
            " '2024-01-30T17:20:00.000000000' '2024-01-30T16:17:00.000000000'\n",
            " '2024-01-30T13:33:00.000000000' '2024-01-30T13:15:00.000000000'\n",
            " '2024-01-30T08:23:00.000000000' '2024-01-30T13:57:00.000000000'\n",
            " '2024-01-30T16:14:00.000000000' '2024-01-30T17:37:00.000000000'\n",
            " '2024-01-30T21:40:00.000000000' '2024-01-30T21:45:00.000000000'\n",
            " '2024-01-30T11:34:00.000000000' '2024-01-30T17:24:00.000000000'\n",
            " '2024-01-30T15:40:00.000000000' '2024-01-30T13:18:00.000000000'\n",
            " '2024-01-30T07:47:00.000000000' '2024-01-30T07:12:00.000000000'\n",
            " '2024-01-30T13:23:00.000000000' '2024-01-30T14:17:00.000000000'\n",
            " '2024-01-30T13:59:00.000000000' '2024-01-30T11:16:00.000000000'\n",
            " '2024-01-30T20:09:00.000000000' '2024-01-30T21:19:00.000000000'\n",
            " '2024-01-30T22:30:00.000000000' '2024-01-30T08:17:00.000000000'\n",
            " '2024-01-30T23:47:00.000000000' '2024-01-30T07:37:00.000000000'\n",
            " '2024-01-30T17:06:00.000000000' '2024-01-30T06:50:00.000000000'\n",
            " '2024-01-30T06:45:00.000000000' '2024-01-30T20:35:00.000000000'\n",
            " '2024-01-30T20:50:00.000000000' '2024-01-30T20:39:00.000000000'\n",
            " '2024-01-30T07:08:00.000000000' '2024-01-30T12:31:00.000000000'\n",
            " '2024-01-30T13:55:00.000000000' '2024-01-30T13:10:00.000000000'\n",
            " '2024-01-30T20:43:00.000000000' '2024-01-30T07:05:00.000000000'\n",
            " '2024-01-30T12:26:00.000000000' '2024-01-30T07:51:00.000000000'\n",
            " '2024-01-30T16:04:00.000000000' '2024-01-30T07:50:00.000000000'\n",
            " '2024-01-30T21:30:00.000000000' '2024-01-30T16:11:00.000000000'\n",
            " '2024-01-30T06:00:00.000000000' '2024-01-30T17:29:00.000000000'\n",
            " '2024-01-30T09:19:00.000000000' '2024-01-30T12:49:00.000000000'\n",
            " '2024-01-30T21:22:00.000000000' '2024-01-30T17:38:00.000000000'\n",
            " '2024-01-30T06:41:00.000000000' '2024-01-30T12:33:00.000000000'\n",
            " '2024-01-30T20:51:00.000000000' '2024-01-30T21:04:00.000000000'\n",
            " '2024-01-30T09:46:00.000000000' '2024-01-30T06:17:00.000000000'\n",
            " '2024-01-30T13:01:00.000000000' '2024-01-30T07:39:00.000000000'\n",
            " '2024-01-30T16:18:00.000000000' '2024-01-30T12:57:00.000000000'\n",
            " '2024-01-30T17:46:00.000000000' '2024-01-30T21:06:00.000000000'\n",
            " '2024-01-30T13:19:00.000000000' '2024-01-30T08:59:00.000000000'\n",
            " '2024-01-30T13:20:00.000000000' '2024-01-30T17:26:00.000000000'\n",
            " '2024-01-30T20:17:00.000000000' '2024-01-30T09:54:00.000000000'\n",
            " '2024-01-30T07:35:00.000000000' '2024-01-30T12:45:00.000000000'\n",
            " '2024-01-30T06:09:00.000000000' '2024-01-30T10:53:00.000000000'\n",
            " '2024-01-30T08:45:00.000000000' '2024-01-30T06:27:00.000000000'\n",
            " '2024-01-30T21:42:00.000000000' '2024-01-30T20:34:00.000000000'\n",
            " '2024-01-30T17:19:00.000000000' '2024-01-30T21:35:00.000000000'\n",
            " '2024-01-30T13:35:00.000000000' '2024-01-30T21:32:00.000000000'\n",
            " '2024-01-30T14:59:00.000000000' '2024-01-30T12:16:00.000000000'\n",
            " '2024-01-30T12:58:00.000000000' '2024-01-30T17:45:00.000000000'\n",
            " '2024-01-30T14:43:00.000000000' '2024-01-30T17:00:00.000000000'\n",
            " '2024-01-30T12:52:00.000000000' '2024-01-30T12:48:00.000000000'\n",
            " '2024-01-30T12:44:00.000000000' '2024-01-30T11:38:00.000000000'\n",
            " '2024-01-30T07:33:00.000000000' '2024-01-30T08:34:00.000000000'\n",
            " '2024-01-30T22:43:00.000000000' '2024-01-30T13:21:00.000000000'\n",
            " '2024-01-30T13:36:00.000000000' '2024-01-30T21:24:00.000000000'\n",
            " '2024-01-30T17:15:00.000000000' '2024-01-30T07:18:00.000000000'\n",
            " '2024-01-30T14:03:00.000000000' '2024-01-30T16:58:00.000000000'\n",
            " '2024-01-30T07:56:00.000000000' '2024-01-30T06:12:00.000000000'\n",
            " '2024-01-30T20:56:00.000000000' '2024-01-30T14:49:00.000000000'\n",
            " '2024-01-30T14:41:00.000000000' '2024-01-30T07:36:00.000000000'\n",
            " '2024-01-30T13:45:00.000000000' '2024-01-30T17:53:00.000000000'\n",
            " '2024-01-30T13:47:00.000000000' '2024-01-30T12:46:00.000000000'\n",
            " '2024-01-30T17:47:00.000000000' '2024-01-30T15:58:00.000000000'\n",
            " '2024-01-30T16:42:00.000000000' '2024-01-30T21:07:00.000000000'\n",
            " '2024-01-30T13:49:00.000000000' '2024-01-30T11:53:00.000000000'\n",
            " '2024-01-30T11:29:00.000000000' '2024-01-30T08:02:00.000000000'\n",
            " '2024-01-30T17:56:00.000000000' '2024-01-30T07:19:00.000000000'\n",
            " '2024-01-30T21:53:00.000000000' '2024-01-30T07:57:00.000000000'\n",
            " '2024-01-30T22:46:00.000000000' '2024-01-30T09:59:00.000000000'\n",
            " '2024-01-30T17:58:00.000000000' '2024-01-30T14:34:00.000000000'\n",
            " '2024-01-30T20:21:00.000000000' '2024-01-30T12:27:00.000000000'\n",
            " '2024-01-30T22:05:00.000000000' '2024-01-30T09:12:00.000000000'\n",
            " '2024-01-30T06:26:00.000000000' '2024-01-30T23:52:00.000000000'\n",
            " '2024-01-30T16:44:00.000000000' '2024-01-30T07:24:00.000000000'\n",
            " '2024-01-30T20:49:00.000000000' '2024-01-30T08:46:00.000000000'\n",
            " '2024-01-30T14:14:00.000000000' '2024-01-30T20:59:00.000000000'\n",
            " '2024-01-30T16:13:00.000000000' '2024-01-30T07:44:00.000000000'\n",
            " '2024-01-30T07:10:00.000000000' '2024-01-30T07:07:00.000000000'\n",
            " '2024-01-30T22:20:00.000000000' '2024-01-30T13:58:00.000000000'\n",
            " '2024-01-30T07:55:00.000000000' '2024-01-30T13:05:00.000000000'\n",
            " '2024-01-30T06:39:00.000000000' '2024-01-30T12:56:00.000000000'\n",
            " '2024-01-30T12:01:00.000000000' '2024-01-30T12:04:00.000000000'\n",
            " '2024-01-30T14:13:00.000000000' '2024-01-30T14:30:00.000000000'\n",
            " '2024-01-30T07:29:00.000000000' '2024-01-30T16:34:00.000000000'\n",
            " '2024-01-30T08:06:00.000000000' '2024-01-30T07:11:00.000000000'\n",
            " '2024-01-30T20:38:00.000000000' '2024-01-30T23:32:00.000000000'\n",
            " '2024-01-30T06:16:00.000000000' '2024-01-30T18:14:00.000000000'\n",
            " '2024-01-30T16:21:00.000000000' '2024-01-30T21:54:00.000000000'\n",
            " '2024-01-30T08:05:00.000000000' '2024-01-30T13:11:00.000000000'\n",
            " '2024-01-30T17:33:00.000000000' '2024-01-30T17:50:00.000000000'\n",
            " '2024-01-30T11:18:00.000000000' '2024-01-30T10:35:00.000000000'\n",
            " '2024-01-30T17:30:00.000000000' '2024-01-30T06:44:00.000000000'\n",
            " '2024-01-30T12:09:00.000000000' '2024-01-30T11:47:00.000000000'\n",
            " '2024-01-30T14:05:00.000000000' '2024-01-30T11:56:00.000000000'\n",
            " '2024-01-30T08:19:00.000000000' '2024-01-30T06:31:00.000000000'\n",
            " '2024-01-30T21:00:00.000000000' '2024-01-30T07:30:00.000000000'\n",
            " '2024-01-30T08:11:00.000000000' '2024-01-30T13:02:00.000000000'\n",
            " '2024-01-30T14:11:00.000000000' '2024-01-30T17:07:00.000000000'\n",
            " '2024-01-30T12:21:00.000000000' '2024-01-30T17:18:00.000000000'\n",
            " '2024-01-30T22:18:00.000000000' '2024-01-30T21:03:00.000000000'\n",
            " '2024-01-30T21:08:00.000000000' '2024-01-30T14:36:00.000000000'\n",
            " '2024-01-30T13:28:00.000000000' '2024-01-30T11:19:00.000000000'\n",
            " '2024-01-30T20:58:00.000000000' '2024-01-30T11:05:00.000000000'\n",
            " '2024-01-30T14:25:00.000000000' '2024-01-30T14:06:00.000000000'\n",
            " '2024-01-30T12:47:00.000000000' '2024-01-30T07:16:00.000000000'\n",
            " '2024-01-30T13:06:00.000000000' '2024-01-30T10:46:00.000000000'\n",
            " '2024-01-30T12:20:00.000000000' '2024-01-30T07:25:00.000000000'\n",
            " '2024-01-30T06:51:00.000000000' '2024-01-30T06:47:00.000000000'\n",
            " '2024-01-30T20:01:00.000000000' '2024-01-30T20:10:00.000000000'\n",
            " '2024-01-30T21:15:00.000000000' '2024-01-30T22:26:00.000000000'\n",
            " '2024-01-30T07:06:00.000000000' '2024-01-30T21:27:00.000000000'\n",
            " '2024-01-30T12:18:00.000000000' '2024-01-30T17:09:00.000000000'\n",
            " '2024-01-30T21:39:00.000000000' '2024-01-30T21:23:00.000000000'\n",
            " '2024-01-30T19:31:00.000000000' '2024-01-30T21:44:00.000000000'\n",
            " '2024-01-30T11:51:00.000000000' '2024-01-30T07:48:00.000000000'\n",
            " '2024-01-30T12:39:00.000000000' '2024-01-30T07:38:00.000000000'\n",
            " '2024-01-30T13:07:00.000000000' '2024-01-30T14:27:00.000000000'\n",
            " '2024-01-30T20:27:00.000000000' '2024-01-30T11:06:00.000000000'\n",
            " '2024-01-30T18:40:00.000000000' '2024-01-30T08:42:00.000000000'\n",
            " '2024-01-30T20:36:00.000000000' '2024-01-30T13:12:00.000000000'\n",
            " '2024-01-30T15:19:00.000000000' '2024-01-30T07:41:00.000000000'\n",
            " '2024-01-30T21:56:00.000000000' '2024-01-30T14:53:00.000000000'\n",
            " '2024-01-30T10:52:00.000000000' '2024-01-30T14:26:00.000000000'\n",
            " '2024-01-30T20:33:00.000000000' '2024-01-30T09:29:00.000000000'\n",
            " '2024-01-30T06:37:00.000000000' '2024-01-30T07:31:00.000000000'\n",
            " '2024-01-30T11:30:00.000000000' '2024-01-30T22:01:00.000000000'\n",
            " '2024-01-30T22:40:00.000000000' '2024-01-30T23:57:00.000000000'\n",
            " '2024-01-30T08:24:00.000000000' '2024-01-30T11:33:00.000000000'\n",
            " '2024-01-30T06:55:00.000000000' '2024-01-30T15:14:00.000000000'\n",
            " '2024-01-30T16:00:00.000000000' '2024-01-30T08:57:00.000000000'\n",
            " '2024-01-30T09:17:00.000000000' '2024-01-30T23:37:00.000000000'\n",
            " '2024-01-30T12:08:00.000000000' '2024-01-30T18:47:00.000000000'\n",
            " '2024-01-30T12:32:00.000000000' '2024-01-30T12:50:00.000000000'\n",
            " '2024-01-30T15:39:00.000000000' '2024-01-30T08:04:00.000000000'\n",
            " '2024-01-30T09:28:00.000000000' '2024-01-30T17:11:00.000000000'\n",
            " '2024-01-30T16:06:00.000000000' '2024-01-30T14:56:00.000000000'\n",
            " '2024-01-30T20:18:00.000000000' '2024-01-30T07:49:00.000000000'\n",
            " '2024-01-30T11:57:00.000000000' '2024-01-30T07:17:00.000000000'\n",
            " '2024-01-30T22:07:00.000000000' '2024-01-30T06:38:00.000000000'\n",
            " '2024-01-30T11:11:00.000000000' '2024-01-30T16:28:00.000000000'\n",
            " '2024-01-30T12:43:00.000000000' '2024-01-30T23:44:00.000000000'\n",
            " '2024-01-30T21:01:00.000000000' '2024-01-30T15:38:00.000000000'\n",
            " '2024-01-30T18:46:00.000000000' '2024-01-30T12:10:00.000000000'\n",
            " '2024-01-30T13:17:00.000000000' '2024-01-30T21:12:00.000000000'\n",
            " '2024-01-30T12:23:00.000000000' '2024-01-30T20:13:00.000000000'\n",
            " '2024-01-30T08:08:00.000000000' '2024-01-30T22:32:00.000000000'\n",
            " '2024-01-30T10:22:00.000000000' '2024-01-30T23:00:00.000000000'\n",
            " '2024-01-30T09:57:00.000000000' '2024-01-30T17:08:00.000000000'\n",
            " '2024-01-30T13:00:00.000000000' '2024-01-30T09:03:00.000000000'\n",
            " '2024-01-30T22:12:00.000000000' '2024-01-30T12:12:00.000000000'\n",
            " '2024-01-30T22:47:00.000000000' '2024-01-30T13:30:00.000000000'\n",
            " '2024-01-30T13:27:00.000000000' '2024-01-30T09:15:00.000000000'\n",
            " '2024-01-30T14:23:00.000000000' '2024-01-30T16:07:00.000000000'\n",
            " '2024-01-30T23:55:00.000000000' '2024-01-30T08:15:00.000000000'\n",
            " '2024-01-30T17:02:00.000000000' '2024-01-30T15:41:00.000000000'\n",
            " '2024-01-30T12:29:00.000000000' '2024-01-30T20:23:00.000000000'\n",
            " '2024-01-30T14:16:00.000000000' '2024-01-30T08:36:00.000000000'\n",
            " '2024-01-30T17:21:00.000000000' '2024-01-30T07:09:00.000000000'\n",
            " '2024-01-30T15:32:00.000000000' '2024-01-30T14:47:00.000000000'\n",
            " '2024-01-30T21:09:00.000000000' '2024-01-30T16:26:00.000000000'\n",
            " '2024-01-30T15:55:00.000000000' '2024-01-30T13:40:00.000000000'\n",
            " '2024-01-30T17:22:00.000000000' '2024-01-30T23:33:00.000000000'\n",
            " '2024-01-30T06:04:00.000000000' '2024-01-30T07:42:00.000000000'\n",
            " '2024-01-30T08:09:00.000000000' '2024-01-30T23:31:00.000000000'\n",
            " '2024-01-30T09:26:00.000000000' '2024-01-30T22:52:00.000000000'\n",
            " '2024-01-30T08:18:00.000000000' '2024-01-30T13:41:00.000000000'\n",
            " '2024-01-30T07:26:00.000000000' '2024-01-30T13:22:00.000000000'\n",
            " '2024-01-30T17:28:00.000000000' '2024-01-30T15:33:00.000000000'\n",
            " '2024-01-30T07:20:00.000000000' '2024-01-30T06:54:00.000000000'\n",
            " '2024-01-30T17:16:00.000000000' '2024-01-30T12:34:00.000000000'\n",
            " '2024-01-30T22:03:00.000000000' '2024-01-30T14:39:00.000000000'\n",
            " '2024-01-30T14:19:00.000000000' '2024-01-30T16:08:00.000000000'\n",
            " '2024-01-30T06:18:00.000000000' '2024-01-30T06:13:00.000000000'\n",
            " '2024-01-30T06:23:00.000000000' '2024-01-30T07:43:00.000000000'\n",
            " '2024-01-30T16:51:00.000000000' '2024-01-30T08:20:00.000000000'\n",
            " '2024-01-30T13:46:00.000000000' '2024-01-30T15:03:00.000000000'\n",
            " '2024-01-30T21:52:00.000000000' '2024-01-30T09:50:00.000000000'\n",
            " '2024-01-30T13:26:00.000000000' '2024-01-30T06:29:00.000000000'\n",
            " '2024-01-30T17:04:00.000000000' '2024-01-30T14:38:00.000000000'\n",
            " '2024-01-30T12:13:00.000000000' '2024-01-30T14:07:00.000000000'\n",
            " '2024-01-30T17:27:00.000000000' '2024-01-30T16:56:00.000000000'\n",
            " '2024-01-30T11:31:00.000000000' '2024-01-30T08:53:00.000000000'\n",
            " '2024-01-30T08:28:00.000000000' '2024-01-30T17:48:00.000000000'\n",
            " '2024-01-30T19:20:00.000000000' '2024-01-30T13:38:00.000000000'\n",
            " '2024-01-30T22:13:00.000000000' '2024-01-30T20:24:00.000000000'\n",
            " '2024-01-30T12:02:00.000000000' '2024-01-30T15:24:00.000000000'\n",
            " '2024-01-30T08:16:00.000000000' '2024-01-30T12:05:00.000000000'\n",
            " '2024-01-30T11:24:00.000000000' '2024-01-30T09:31:00.000000000'\n",
            " '2024-01-30T15:22:00.000000000' '2024-01-30T07:04:00.000000000'\n",
            " '2024-01-30T12:38:00.000000000' '2024-01-30T22:27:00.000000000'\n",
            " '2024-01-30T20:16:00.000000000' '2024-01-30T07:14:00.000000000'\n",
            " '2024-01-30T13:03:00.000000000' '2024-01-30T13:37:00.000000000'\n",
            " '2024-01-30T21:51:00.000000000' '2024-01-30T20:15:00.000000000'\n",
            " '2024-01-30T16:47:00.000000000' '2024-01-30T20:54:00.000000000'\n",
            " '2024-01-30T11:36:00.000000000' '2024-01-30T14:46:00.000000000'\n",
            " '2024-01-30T11:02:00.000000000' '2024-01-30T16:39:00.000000000'\n",
            " '2024-01-30T09:36:00.000000000' '2024-01-30T09:35:00.000000000'\n",
            " '2024-01-30T15:17:00.000000000' '2024-01-30T09:08:00.000000000'\n",
            " '2024-01-30T22:04:00.000000000' '2024-01-30T21:59:00.000000000'\n",
            " '2024-01-30T07:27:00.000000000' '2024-01-30T12:28:00.000000000'\n",
            " '2024-01-30T09:55:00.000000000' '2024-01-30T14:33:00.000000000'\n",
            " '2024-01-30T06:46:00.000000000' '2024-01-30T15:07:00.000000000'\n",
            " '2024-01-30T16:03:00.000000000' '2024-01-30T17:12:00.000000000'\n",
            " '2024-01-30T14:01:00.000000000' '2024-01-30T17:17:00.000000000'\n",
            " '2024-01-30T19:06:00.000000000' '2024-01-30T22:21:00.000000000'\n",
            " '2024-01-30T16:02:00.000000000' '2024-01-30T15:42:00.000000000'\n",
            " '2024-01-30T14:20:00.000000000' '2024-01-30T09:24:00.000000000'\n",
            " '2024-01-30T15:16:00.000000000' '2024-01-30T18:10:00.000000000'\n",
            " '2024-01-30T14:42:00.000000000' '2024-01-30T23:10:00.000000000'\n",
            " '2024-01-30T07:45:00.000000000' '2024-01-30T09:52:00.000000000'\n",
            " '2024-01-30T10:30:00.000000000' '2024-01-30T06:56:00.000000000'\n",
            " '2024-01-30T23:39:00.000000000' '2024-01-30T12:07:00.000000000'\n",
            " '2024-01-30T20:08:00.000000000' '2024-01-30T21:31:00.000000000'\n",
            " '2024-01-30T15:15:00.000000000' '2024-01-30T16:12:00.000000000'\n",
            " '2024-01-30T14:37:00.000000000' '2024-01-30T13:52:00.000000000'\n",
            " '2024-01-30T12:40:00.000000000' '2024-01-30T06:25:00.000000000'\n",
            " '2024-01-30T21:49:00.000000000' '2024-01-30T15:18:00.000000000'\n",
            " '2024-01-30T17:55:00.000000000' '2024-01-30T20:55:00.000000000'\n",
            " '2024-01-30T20:03:00.000000000' '2024-01-30T08:55:00.000000000'\n",
            " '2024-01-30T13:43:00.000000000' '2024-01-30T18:52:00.000000000'\n",
            " '2024-01-30T22:33:00.000000000' '2024-01-30T11:43:00.000000000'\n",
            " '2024-01-30T09:44:00.000000000' '2024-01-30T13:25:00.000000000'\n",
            " '2024-01-30T08:07:00.000000000' '2024-01-30T11:23:00.000000000'\n",
            " '2024-01-30T23:48:00.000000000' '2024-01-30T14:28:00.000000000'\n",
            " '2024-01-30T20:52:00.000000000' '2024-01-30T19:05:00.000000000'\n",
            " '2024-01-30T19:18:00.000000000' '2024-01-30T20:57:00.000000000'\n",
            " '2024-01-30T12:22:00.000000000' '2024-01-30T17:01:00.000000000'\n",
            " '2024-01-30T08:31:00.000000000' '2024-01-30T11:13:00.000000000'\n",
            " '2024-01-30T09:07:00.000000000' '2024-01-30T15:28:00.000000000'\n",
            " '2024-01-30T22:28:00.000000000' '2024-01-30T20:42:00.000000000'\n",
            " '2024-01-30T16:55:00.000000000' '2024-01-30T15:11:00.000000000'\n",
            " '2024-01-30T15:00:00.000000000' '2024-01-30T08:41:00.000000000'\n",
            " '2024-01-30T08:37:00.000000000' '2024-01-30T22:35:00.000000000'\n",
            " '2024-01-30T22:57:00.000000000' '2024-01-30T21:55:00.000000000'\n",
            " '2024-01-30T13:32:00.000000000' '2024-01-30T09:48:00.000000000'\n",
            " '2024-01-30T17:59:00.000000000' '2024-01-30T06:36:00.000000000'\n",
            " '2024-01-30T17:31:00.000000000' '2024-01-30T06:08:00.000000000'\n",
            " '2024-01-30T08:27:00.000000000' '2024-01-30T08:58:00.000000000'\n",
            " '2024-01-30T12:54:00.000000000' '2024-01-30T12:00:00.000000000'\n",
            " '2024-01-30T09:53:00.000000000' '2024-01-30T13:24:00.000000000'\n",
            " '2024-01-30T08:50:00.000000000' '2024-01-30T20:20:00.000000000'\n",
            " '2024-01-30T19:00:00.000000000' '2024-01-30T08:10:00.000000000'\n",
            " '2024-01-30T19:30:00.000000000' '2024-01-30T06:43:00.000000000'\n",
            " '2024-01-30T15:23:00.000000000' '2024-01-30T06:19:00.000000000'\n",
            " '2024-01-30T17:10:00.000000000' '2024-01-30T13:50:00.000000000'\n",
            " '2024-01-30T23:43:00.000000000' '2024-01-30T08:32:00.000000000'\n",
            " '2024-01-30T09:10:00.000000000' '2024-01-30T22:51:00.000000000'\n",
            " '2024-01-30T16:38:00.000000000' '2024-01-30T15:46:00.000000000'\n",
            " '2024-01-30T06:20:00.000000000' '2024-01-30T07:54:00.000000000'\n",
            " '2024-01-30T16:40:00.000000000' '2024-01-30T09:21:00.000000000'\n",
            " '2024-01-30T11:09:00.000000000' '2024-01-30T13:04:00.000000000'\n",
            " '2024-01-30T06:14:00.000000000' '2024-01-30T16:41:00.000000000'\n",
            " '2024-01-30T20:41:00.000000000' '2024-01-30T12:11:00.000000000'\n",
            " '2024-01-30T06:52:00.000000000' '2024-01-30T06:30:00.000000000'\n",
            " '2024-01-30T15:25:00.000000000' '2024-01-30T22:15:00.000000000'\n",
            " '2024-01-30T14:24:00.000000000' '2024-01-30T10:59:00.000000000'\n",
            " '2024-01-30T06:05:00.000000000' '2024-01-30T21:36:00.000000000'\n",
            " '2024-01-30T16:35:00.000000000' '2024-01-30T11:04:00.000000000'\n",
            " '2024-01-30T22:31:00.000000000' '2024-01-30T23:05:00.000000000'\n",
            " '2024-01-30T12:03:00.000000000' '2024-01-30T14:45:00.000000000'\n",
            " '2024-01-30T22:36:00.000000000' '2024-01-30T06:58:00.000000000'\n",
            " '2024-01-30T09:25:00.000000000' '2024-01-30T17:25:00.000000000'\n",
            " '2024-01-30T21:33:00.000000000' '2024-01-30T16:15:00.000000000'\n",
            " '2024-01-30T15:49:00.000000000' '2024-01-30T21:38:00.000000000'\n",
            " '2024-01-30T16:33:00.000000000' '2024-01-30T21:05:00.000000000'\n",
            " '2024-01-30T14:29:00.000000000' '2024-01-30T17:52:00.000000000'\n",
            " '2024-01-30T23:38:00.000000000' '2024-01-30T16:57:00.000000000'\n",
            " '2024-01-30T13:34:00.000000000' '2024-01-30T20:32:00.000000000'\n",
            " '2024-01-30T13:14:00.000000000' '2024-01-30T12:14:00.000000000'\n",
            " '2024-01-30T18:30:00.000000000' '2024-01-30T22:59:00.000000000'\n",
            " '2024-01-30T17:43:00.000000000' '2024-01-30T09:00:00.000000000'\n",
            " '2024-01-30T08:52:00.000000000' '2024-01-30T22:56:00.000000000'\n",
            " '2024-01-30T17:34:00.000000000' '2024-01-30T11:40:00.000000000'\n",
            " '2024-01-30T20:31:00.000000000' '2024-01-30T23:36:00.000000000'\n",
            " '2024-01-30T22:09:00.000000000' '2024-01-30T23:49:00.000000000'\n",
            " '2024-01-30T12:41:00.000000000' '2024-01-30T12:59:00.000000000'\n",
            " '2024-01-30T11:25:00.000000000' '2024-01-30T06:03:00.000000000'\n",
            " '2024-01-30T15:36:00.000000000' '2024-01-30T11:26:00.000000000'\n",
            " '2024-01-30T23:41:00.000000000' '2024-01-30T09:40:00.000000000'\n",
            " '2024-01-30T09:58:00.000000000' '2024-01-30T12:25:00.000000000'\n",
            " '2024-01-30T15:02:00.000000000' '2024-01-30T19:43:00.000000000'\n",
            " '2024-01-30T09:09:00.000000000' '2024-01-30T08:40:00.000000000'\n",
            " '2024-01-30T20:47:00.000000000' '2024-01-30T09:04:00.000000000'\n",
            " '2024-01-30T12:30:00.000000000' '2024-01-30T14:51:00.000000000'\n",
            " '2024-01-30T18:49:00.000000000' '2024-01-30T23:19:00.000000000'\n",
            " '2024-01-30T18:29:00.000000000' '2024-01-30T11:14:00.000000000'\n",
            " '2024-01-30T22:10:00.000000000' '2024-01-30T22:19:00.000000000'\n",
            " '2024-01-30T08:48:00.000000000' '2024-01-30T23:58:00.000000000'\n",
            " '2024-01-30T06:34:00.000000000' '2024-01-30T19:36:00.000000000'\n",
            " '2024-01-30T11:01:00.000000000' '2024-01-30T14:55:00.000000000'\n",
            " '2024-01-30T22:11:00.000000000' '2024-01-30T09:41:00.000000000'\n",
            " '2024-01-30T21:29:00.000000000' '2024-01-30T15:52:00.000000000'\n",
            " '2024-01-30T08:44:00.000000000' '2024-01-30T15:57:00.000000000'\n",
            " '2024-01-30T23:04:00.000000000' '2024-01-30T15:04:00.000000000'\n",
            " '2024-01-30T15:34:00.000000000' '2024-01-30T22:06:00.000000000'\n",
            " '2024-01-30T09:02:00.000000000' '2024-01-30T11:17:00.000000000'\n",
            " '2024-01-30T08:33:00.000000000' '2024-01-30T22:54:00.000000000'\n",
            " '2024-01-30T18:55:00.000000000' '2024-01-30T09:05:00.000000000'\n",
            " '2024-01-30T09:56:00.000000000' '2024-01-30T21:20:00.000000000'\n",
            " '2024-01-30T13:54:00.000000000' '2024-01-30T09:18:00.000000000'\n",
            " '2024-01-30T18:06:00.000000000' '2024-01-30T21:26:00.000000000'\n",
            " '2024-01-30T22:42:00.000000000' '2024-01-30T16:10:00.000000000'\n",
            " '2024-01-30T14:12:00.000000000' '2024-01-30T16:53:00.000000000'\n",
            " '2024-01-30T11:28:00.000000000' '2024-01-30T23:35:00.000000000'\n",
            " '2024-01-30T15:21:00.000000000' '2024-01-30T19:53:00.000000000'\n",
            " '2024-01-30T11:50:00.000000000' '2024-01-30T14:02:00.000000000'\n",
            " '2024-01-30T11:35:00.000000000' '2024-01-30T23:45:00.000000000'\n",
            " '2024-01-30T11:42:00.000000000' '2024-01-30T09:32:00.000000000'\n",
            " '2024-01-30T10:08:00.000000000' '2024-01-30T21:47:00.000000000'\n",
            " '2024-01-30T08:47:00.000000000' '2024-01-30T15:12:00.000000000'\n",
            " '2024-01-30T08:21:00.000000000' '2024-01-30T14:52:00.000000000'\n",
            " '2024-01-30T15:26:00.000000000' '2024-01-30T17:36:00.000000000'\n",
            " '2024-01-30T19:35:00.000000000' '2024-01-30T23:03:00.000000000'\n",
            " '2024-01-30T12:17:00.000000000' '2024-01-30T08:54:00.000000000'\n",
            " '2024-01-30T09:30:00.000000000' '2024-01-30T16:59:00.000000000'\n",
            " '2024-01-30T18:01:00.000000000' '2024-01-30T16:23:00.000000000'\n",
            " '2024-01-30T15:05:00.000000000' '2024-01-30T11:37:00.000000000'\n",
            " '2024-01-30T15:44:00.000000000' '2024-01-30T11:32:00.000000000'\n",
            " '2024-01-30T10:45:00.000000000' '2024-01-30T20:04:00.000000000'\n",
            " '2024-01-30T22:14:00.000000000' '2024-01-30T07:53:00.000000000'\n",
            " '2024-01-30T09:14:00.000000000' '2024-01-30T23:42:00.000000000'\n",
            " '2024-01-30T10:24:00.000000000' '2024-01-30T10:32:00.000000000'\n",
            " '2024-01-30T22:45:00.000000000' '2024-01-30T15:30:00.000000000'\n",
            " '2024-01-30T18:03:00.000000000' '2024-01-30T08:56:00.000000000'\n",
            " '2024-01-30T15:31:00.000000000' '2024-01-30T15:29:00.000000000'\n",
            " '2024-01-30T08:00:00.000000000' '2024-01-30T15:47:00.000000000'\n",
            " '2024-01-30T23:46:00.000000000' '2024-01-30T22:50:00.000000000'\n",
            " '2024-01-30T15:43:00.000000000' '2024-01-30T22:34:00.000000000'\n",
            " '2024-01-30T15:37:00.000000000' '2024-01-30T18:54:00.000000000'\n",
            " '2024-01-30T08:25:00.000000000' '2024-01-30T22:41:00.000000000'\n",
            " '2024-01-30T18:05:00.000000000' '2024-01-30T22:25:00.000000000'\n",
            " '2024-01-30T10:07:00.000000000' '2024-01-30T08:30:00.000000000'\n",
            " '2024-01-30T19:11:00.000000000' '2024-01-30T19:34:00.000000000'\n",
            " '2024-01-30T22:38:00.000000000' '2024-01-30T16:25:00.000000000'\n",
            " '2024-01-30T09:42:00.000000000' '2024-01-30T08:51:00.000000000'\n",
            " '2024-01-30T14:10:00.000000000' '2024-01-30T18:17:00.000000000'\n",
            " '2024-01-30T08:26:00.000000000' '2024-01-30T10:54:00.000000000'\n",
            " '2024-01-30T11:03:00.000000000' '2024-01-30T11:41:00.000000000'\n",
            " '2024-01-30T11:27:00.000000000' '2024-01-30T11:44:00.000000000'\n",
            " '2024-01-30T23:40:00.000000000' '2024-01-30T22:23:00.000000000'\n",
            " '2024-01-30T15:48:00.000000000' '2024-01-30T18:24:00.000000000'\n",
            " '2024-01-30T19:55:00.000000000' '2024-01-30T18:37:00.000000000'\n",
            " '2024-01-30T10:15:00.000000000' '2024-01-30T15:09:00.000000000'\n",
            " '2024-01-30T19:49:00.000000000' '2024-01-30T09:43:00.000000000'\n",
            " '2024-01-30T09:22:00.000000000' '2024-01-30T10:50:00.000000000'\n",
            " '2024-01-30T23:08:00.000000000' '2024-01-30T15:51:00.000000000'\n",
            " '2024-01-30T21:16:00.000000000' '2024-01-30T15:10:00.000000000'\n",
            " '2024-01-30T16:01:00.000000000' '2024-01-30T09:49:00.000000000'\n",
            " '2024-01-30T08:39:00.000000000' '2024-01-30T10:17:00.000000000'\n",
            " '2024-01-30T17:57:00.000000000' '2024-01-30T11:10:00.000000000'\n",
            " '2024-01-30T11:39:00.000000000' '2024-01-30T10:16:00.000000000'\n",
            " '2024-01-30T16:45:00.000000000' '2024-01-30T11:22:00.000000000'\n",
            " '2024-01-30T09:27:00.000000000' '2024-01-30T23:29:00.000000000'\n",
            " '2024-01-30T23:17:00.000000000' '2024-01-30T18:27:00.000000000'\n",
            " '2024-01-30T23:06:00.000000000' '2024-01-30T10:48:00.000000000'\n",
            " '2024-01-30T09:51:00.000000000' '2024-01-30T17:03:00.000000000'\n",
            " '2024-01-30T22:49:00.000000000' '2024-01-30T15:53:00.000000000'\n",
            " '2024-01-30T18:11:00.000000000' '2024-01-30T17:35:00.000000000'\n",
            " '2024-01-30T20:14:00.000000000' '2024-01-30T19:12:00.000000000'\n",
            " '2024-01-30T10:43:00.000000000' '2024-01-30T09:39:00.000000000'\n",
            " '2024-01-30T22:24:00.000000000' '2024-01-30T20:12:00.000000000'\n",
            " '2024-01-30T15:45:00.000000000' '2024-01-30T09:38:00.000000000'\n",
            " '2024-01-30T22:53:00.000000000' '2024-01-30T19:16:00.000000000'\n",
            " '2024-01-30T23:50:00.000000000' '2024-01-30T10:57:00.000000000'\n",
            " '2024-01-30T18:18:00.000000000' '2024-01-30T19:41:00.000000000'\n",
            " '2024-01-30T10:02:00.000000000' '2024-01-30T09:06:00.000000000'\n",
            " '2024-01-30T18:42:00.000000000' '2024-01-30T11:08:00.000000000'\n",
            " '2024-01-30T09:34:00.000000000' '2024-01-30T19:38:00.000000000'\n",
            " '2024-01-30T22:48:00.000000000' '2024-01-30T18:07:00.000000000'\n",
            " '2024-01-30T08:49:00.000000000' '2024-01-30T20:29:00.000000000'\n",
            " '2024-01-30T15:06:00.000000000' '2024-01-30T11:52:00.000000000'\n",
            " '2024-01-30T11:49:00.000000000' '2024-01-30T18:20:00.000000000'\n",
            " '2024-01-30T11:54:00.000000000' '2024-01-30T10:28:00.000000000'\n",
            " '2024-01-30T15:20:00.000000000' '2024-01-30T18:34:00.000000000']\n",
            "Unique values in column 'end_time': ['2024-01-30T12:12:00.000000000' '2024-01-30T22:18:00.000000000'\n",
            " '2024-01-30T20:58:00.000000000' '2024-01-30T18:17:00.000000000'\n",
            " '2024-01-30T13:19:00.000000000' '2024-01-30T14:42:00.000000000'\n",
            " '2024-01-30T14:12:00.000000000' '2024-01-30T21:54:00.000000000'\n",
            " '2024-01-30T23:51:00.000000000' '2024-01-30T07:39:00.000000000'\n",
            " '2024-01-30T08:57:00.000000000' '2024-01-30T18:05:00.000000000'\n",
            " '2024-01-30T12:41:00.000000000' '2024-01-30T14:58:00.000000000'\n",
            " '2024-01-30T16:32:00.000000000' '2024-01-30T18:26:00.000000000'\n",
            " '2024-01-30T14:49:00.000000000' '2024-01-30T07:15:00.000000000'\n",
            " '2024-01-30T06:26:00.000000000' '2024-01-30T21:06:00.000000000'\n",
            " '2024-01-30T17:41:00.000000000' '2024-01-30T22:09:00.000000000'\n",
            " '2024-01-30T11:58:00.000000000' '2024-01-30T18:10:00.000000000'\n",
            " '2024-01-30T14:23:00.000000000' '2024-01-30T21:13:00.000000000'\n",
            " '2024-01-30T16:43:00.000000000' '2024-01-30T08:50:00.000000000'\n",
            " '2024-01-30T15:36:00.000000000' '2024-01-30T20:26:00.000000000'\n",
            " '2024-01-30T06:47:00.000000000' '2024-01-30T14:27:00.000000000'\n",
            " '2024-01-30T08:07:00.000000000' '2024-01-30T07:20:00.000000000'\n",
            " '2024-01-30T19:38:00.000000000' '2024-01-30T21:20:00.000000000'\n",
            " '2024-01-30T23:01:00.000000000' '2024-01-30T22:30:00.000000000'\n",
            " '2024-01-30T12:47:00.000000000' '2024-01-30T07:21:00.000000000'\n",
            " '2024-01-30T22:16:00.000000000' '2024-01-30T07:35:00.000000000'\n",
            " '2024-01-30T12:31:00.000000000' '2024-01-30T14:37:00.000000000'\n",
            " '2024-01-30T10:14:00.000000000' '2024-01-30T14:17:00.000000000'\n",
            " '2024-01-30T06:32:00.000000000' '2024-01-30T06:31:00.000000000'\n",
            " '2024-01-30T11:41:00.000000000' '2024-01-30T08:39:00.000000000'\n",
            " '2024-01-30T19:33:00.000000000' '2024-01-30T21:05:00.000000000'\n",
            " '2024-01-30T08:32:00.000000000' '2024-01-30T14:36:00.000000000'\n",
            " '2024-01-30T09:36:00.000000000' '2024-01-30T13:21:00.000000000'\n",
            " '2024-01-30T20:41:00.000000000' '2024-01-30T21:49:00.000000000'\n",
            " '2024-01-30T08:09:00.000000000' '2024-01-30T13:42:00.000000000'\n",
            " '2024-01-30T10:00:00.000000000' '2024-01-30T18:11:00.000000000'\n",
            " '2024-01-30T17:27:00.000000000' '2024-01-30T10:09:00.000000000'\n",
            " '2024-01-30T16:01:00.000000000' '2024-01-30T06:52:00.000000000'\n",
            " '2024-01-30T11:19:00.000000000' '2024-01-30T21:42:00.000000000'\n",
            " '2024-01-30T13:23:00.000000000' '2024-01-30T06:44:00.000000000'\n",
            " '2024-01-30T06:29:00.000000000' '2024-01-30T06:53:00.000000000'\n",
            " '2024-01-30T14:09:00.000000000' '2024-01-30T09:18:00.000000000'\n",
            " '2024-01-30T10:24:00.000000000' '2024-01-30T16:04:00.000000000'\n",
            " '2024-01-30T07:06:00.000000000' '2024-01-30T17:55:00.000000000'\n",
            " '2024-01-30T20:43:00.000000000' '2024-01-30T07:32:00.000000000'\n",
            " '2024-01-30T13:46:00.000000000' '2024-01-30T22:04:00.000000000'\n",
            " '2024-01-30T15:16:00.000000000' '2024-01-30T13:24:00.000000000'\n",
            " '2024-01-30T10:48:00.000000000' '2024-01-30T17:33:00.000000000'\n",
            " '2024-01-30T21:50:00.000000000' '2024-01-30T06:34:00.000000000'\n",
            " '2024-01-30T18:08:00.000000000' '2024-01-30T07:17:00.000000000'\n",
            " '2024-01-30T21:48:00.000000000' '2024-01-30T20:51:00.000000000'\n",
            " '2024-01-30T14:52:00.000000000' '2024-01-30T17:23:00.000000000'\n",
            " '2024-01-30T21:39:00.000000000' '2024-01-30T06:45:00.000000000'\n",
            " '2024-01-30T15:06:00.000000000' '2024-01-30T20:46:00.000000000'\n",
            " '2024-01-30T21:29:00.000000000' '2024-01-30T07:42:00.000000000'\n",
            " '2024-01-30T08:16:00.000000000' '2024-01-30T17:17:00.000000000'\n",
            " '2024-01-30T16:51:00.000000000' '2024-01-30T07:51:00.000000000'\n",
            " '2024-01-30T16:25:00.000000000' '2024-01-30T23:39:00.000000000'\n",
            " '2024-01-30T16:46:00.000000000' '2024-01-30T15:42:00.000000000'\n",
            " '2024-01-30T22:17:00.000000000' '2024-01-30T15:07:00.000000000'\n",
            " '2024-01-30T15:01:00.000000000' '2024-01-30T16:24:00.000000000'\n",
            " '2024-01-30T14:30:00.000000000' '2024-01-30T06:42:00.000000000'\n",
            " '2024-01-30T07:46:00.000000000' '2024-01-30T20:57:00.000000000'\n",
            " '2024-01-30T09:37:00.000000000' '2024-01-30T14:31:00.000000000'\n",
            " '2024-01-30T23:03:00.000000000' '2024-01-30T13:44:00.000000000'\n",
            " '2024-01-30T09:59:00.000000000' '2024-01-30T22:19:00.000000000'\n",
            " '2024-01-30T17:54:00.000000000' '2024-01-30T23:17:00.000000000'\n",
            " '2024-01-30T18:03:00.000000000' '2024-01-30T15:05:00.000000000'\n",
            " '2024-01-30T13:11:00.000000000' '2024-01-30T13:49:00.000000000'\n",
            " '2024-01-30T09:38:00.000000000' '2024-01-30T16:52:00.000000000'\n",
            " '2024-01-30T22:38:00.000000000' '2024-01-30T06:40:00.000000000'\n",
            " '2024-01-30T20:23:00.000000000' '2024-01-30T15:49:00.000000000'\n",
            " '2024-01-30T18:19:00.000000000' '2024-01-30T21:10:00.000000000'\n",
            " '2024-01-30T16:57:00.000000000' '2024-01-30T07:14:00.000000000'\n",
            " '2024-01-30T18:12:00.000000000' '2024-01-30T22:13:00.000000000'\n",
            " '2024-01-30T17:56:00.000000000' '2024-01-30T13:02:00.000000000'\n",
            " '2024-01-30T07:52:00.000000000' '2024-01-30T06:28:00.000000000'\n",
            " '2024-01-30T16:56:00.000000000' '2024-01-30T16:40:00.000000000'\n",
            " '2024-01-30T12:33:00.000000000' '2024-01-30T23:10:00.000000000'\n",
            " '2024-01-30T08:04:00.000000000' '2024-01-30T21:33:00.000000000'\n",
            " '2024-01-30T06:55:00.000000000' '2024-01-30T21:16:00.000000000'\n",
            " '2024-01-30T14:56:00.000000000' '2024-01-30T17:10:00.000000000'\n",
            " '2024-01-30T13:14:00.000000000' '2024-01-30T10:18:00.000000000'\n",
            " '2024-01-30T22:40:00.000000000' '2024-01-30T14:55:00.000000000'\n",
            " '2024-01-30T16:39:00.000000000' '2024-01-30T14:38:00.000000000'\n",
            " '2024-01-30T15:15:00.000000000' '2024-01-30T20:53:00.000000000'\n",
            " '2024-01-30T13:56:00.000000000' '2024-01-30T22:54:00.000000000'\n",
            " '2024-01-30T13:13:00.000000000' '2024-01-30T13:36:00.000000000'\n",
            " '2024-01-30T06:20:00.000000000' '2024-01-30T17:07:00.000000000'\n",
            " '2024-01-30T22:05:00.000000000' '2024-01-30T07:12:00.000000000'\n",
            " '2024-01-30T18:29:00.000000000' '2024-01-30T18:58:00.000000000'\n",
            " '2024-01-30T23:19:00.000000000' '2024-01-30T08:26:00.000000000'\n",
            " '2024-01-30T18:06:00.000000000' '2024-01-30T17:03:00.000000000'\n",
            " '2024-01-30T07:25:00.000000000' '2024-01-30T07:27:00.000000000'\n",
            " '2024-01-30T10:21:00.000000000' '2024-01-30T14:02:00.000000000'\n",
            " '2024-01-30T11:28:00.000000000' '2024-01-30T06:17:00.000000000'\n",
            " '2024-01-30T17:02:00.000000000' '2024-01-30T15:40:00.000000000'\n",
            " '2024-01-30T08:13:00.000000000' '2024-01-30T21:41:00.000000000'\n",
            " '2024-01-30T07:47:00.000000000' '2024-01-30T23:56:00.000000000'\n",
            " '2024-01-30T19:05:00.000000000' '2024-01-30T14:43:00.000000000'\n",
            " '2024-01-30T22:37:00.000000000' '2024-01-30T22:42:00.000000000'\n",
            " '2024-01-30T20:52:00.000000000' '2024-01-30T21:56:00.000000000'\n",
            " '2024-01-30T21:27:00.000000000' '2024-01-30T20:36:00.000000000'\n",
            " '2024-01-30T13:04:00.000000000' '2024-01-30T17:44:00.000000000'\n",
            " '2024-01-30T17:29:00.000000000' '2024-01-30T17:20:00.000000000'\n",
            " '2024-01-30T13:06:00.000000000' '2024-01-30T22:08:00.000000000'\n",
            " '2024-01-30T14:03:00.000000000' '2024-01-30T06:43:00.000000000'\n",
            " '2024-01-30T21:32:00.000000000' '2024-01-30T14:01:00.000000000'\n",
            " '2024-01-30T13:18:00.000000000' '2024-01-30T08:54:00.000000000'\n",
            " '2024-01-30T14:28:00.000000000' '2024-01-30T16:33:00.000000000'\n",
            " '2024-01-30T18:09:00.000000000' '2024-01-30T22:20:00.000000000'\n",
            " '2024-01-30T21:52:00.000000000' '2024-01-30T11:38:00.000000000'\n",
            " '2024-01-30T17:38:00.000000000' '2024-01-30T22:25:00.000000000'\n",
            " '2024-01-30T07:55:00.000000000' '2024-01-30T07:44:00.000000000'\n",
            " '2024-01-30T14:14:00.000000000' '2024-01-30T14:46:00.000000000'\n",
            " '2024-01-30T14:39:00.000000000' '2024-01-30T07:08:00.000000000'\n",
            " '2024-01-30T12:10:00.000000000' '2024-01-30T20:18:00.000000000'\n",
            " '2024-01-30T23:12:00.000000000' '2024-01-30T09:25:00.000000000'\n",
            " '2024-01-30T23:57:00.000000000' '2024-01-30T07:57:00.000000000'\n",
            " '2024-01-30T18:23:00.000000000' '2024-01-30T07:16:00.000000000'\n",
            " '2024-01-30T07:07:00.000000000' '2024-01-30T16:50:00.000000000'\n",
            " '2024-01-30T23:05:00.000000000' '2024-01-30T07:41:00.000000000'\n",
            " '2024-01-30T12:56:00.000000000' '2024-01-30T14:13:00.000000000'\n",
            " '2024-01-30T13:33:00.000000000' '2024-01-30T21:59:00.000000000'\n",
            " '2024-01-30T07:10:00.000000000' '2024-01-30T17:04:00.000000000'\n",
            " '2024-01-30T13:22:00.000000000' '2024-01-30T09:13:00.000000000'\n",
            " '2024-01-30T17:53:00.000000000' '2024-01-30T06:24:00.000000000'\n",
            " '2024-01-30T09:09:00.000000000' '2024-01-30T21:40:00.000000000'\n",
            " '2024-01-30T06:11:00.000000000' '2024-01-30T19:16:00.000000000'\n",
            " '2024-01-30T15:09:00.000000000' '2024-01-30T09:32:00.000000000'\n",
            " '2024-01-30T13:34:00.000000000' '2024-01-30T21:43:00.000000000'\n",
            " '2024-01-30T17:57:00.000000000' '2024-01-30T07:02:00.000000000'\n",
            " '2024-01-30T13:32:00.000000000' '2024-01-30T22:07:00.000000000'\n",
            " '2024-01-30T21:31:00.000000000' '2024-01-30T10:35:00.000000000'\n",
            " '2024-01-30T06:19:00.000000000' '2024-01-30T14:10:00.000000000'\n",
            " '2024-01-30T15:19:00.000000000' '2024-01-30T17:32:00.000000000'\n",
            " '2024-01-30T13:28:00.000000000' '2024-01-30T21:24:00.000000000'\n",
            " '2024-01-30T13:00:00.000000000' '2024-01-30T14:34:00.000000000'\n",
            " '2024-01-30T09:34:00.000000000' '2024-01-30T18:42:00.000000000'\n",
            " '2024-01-30T21:03:00.000000000' '2024-01-30T10:32:00.000000000'\n",
            " '2024-01-30T08:12:00.000000000' '2024-01-30T08:19:00.000000000'\n",
            " '2024-01-30T13:09:00.000000000' '2024-01-30T11:12:00.000000000'\n",
            " '2024-01-30T09:48:00.000000000' '2024-01-30T12:52:00.000000000'\n",
            " '2024-01-30T22:21:00.000000000' '2024-01-30T15:52:00.000000000'\n",
            " '2024-01-30T22:55:00.000000000' '2024-01-30T16:07:00.000000000'\n",
            " '2024-01-30T12:51:00.000000000' '2024-01-30T13:48:00.000000000'\n",
            " '2024-01-30T16:02:00.000000000' '2024-01-30T13:25:00.000000000'\n",
            " '2024-01-30T08:03:00.000000000' '2024-01-30T13:45:00.000000000'\n",
            " '2024-01-30T20:59:00.000000000' '2024-01-30T12:15:00.000000000'\n",
            " '2024-01-30T08:00:00.000000000' '2024-01-30T12:49:00.000000000'\n",
            " '2024-01-30T09:43:00.000000000' '2024-01-30T23:07:00.000000000'\n",
            " '2024-01-30T07:23:00.000000000' '2024-01-30T15:00:00.000000000'\n",
            " '2024-01-30T14:15:00.000000000' '2024-01-30T17:59:00.000000000'\n",
            " '2024-01-30T17:31:00.000000000' '2024-01-30T21:51:00.000000000'\n",
            " '2024-01-30T17:46:00.000000000' '2024-01-30T08:30:00.000000000'\n",
            " '2024-01-30T07:37:00.000000000' '2024-01-30T07:40:00.000000000'\n",
            " '2024-01-30T06:30:00.000000000' '2024-01-30T09:23:00.000000000'\n",
            " '2024-01-30T21:09:00.000000000' '2024-01-30T15:27:00.000000000'\n",
            " '2024-01-30T15:10:00.000000000' '2024-01-30T12:42:00.000000000'\n",
            " '2024-01-30T16:37:00.000000000' '2024-01-30T19:37:00.000000000'\n",
            " '2024-01-30T18:25:00.000000000' '2024-01-30T17:01:00.000000000'\n",
            " '2024-01-30T18:31:00.000000000' '2024-01-30T17:19:00.000000000'\n",
            " '2024-01-30T08:18:00.000000000' '2024-01-30T06:58:00.000000000'\n",
            " '2024-01-30T13:35:00.000000000' '2024-01-30T16:11:00.000000000'\n",
            " '2024-01-30T13:17:00.000000000' '2024-01-30T13:01:00.000000000'\n",
            " '2024-01-30T07:05:00.000000000' '2024-01-30T12:04:00.000000000'\n",
            " '2024-01-30T07:43:00.000000000' '2024-01-30T22:24:00.000000000'\n",
            " '2024-01-30T08:05:00.000000000' '2024-01-30T13:52:00.000000000'\n",
            " '2024-01-30T23:02:00.000000000' '2024-01-30T20:25:00.000000000'\n",
            " '2024-01-30T11:09:00.000000000' '2024-01-30T19:29:00.000000000'\n",
            " '2024-01-30T15:35:00.000000000' '2024-01-30T21:53:00.000000000'\n",
            " '2024-01-30T12:55:00.000000000' '2024-01-30T14:26:00.000000000'\n",
            " '2024-01-30T11:50:00.000000000' '2024-01-30T07:50:00.000000000'\n",
            " '2024-01-30T09:26:00.000000000' '2024-01-30T06:51:00.000000000'\n",
            " '2024-01-30T07:31:00.000000000' '2024-01-30T17:11:00.000000000'\n",
            " '2024-01-30T22:36:00.000000000' '2024-01-30T17:35:00.000000000'\n",
            " '2024-01-30T09:46:00.000000000' '2024-01-30T21:19:00.000000000'\n",
            " '2024-01-30T07:01:00.000000000' '2024-01-30T07:45:00.000000000'\n",
            " '2024-01-30T23:59:00.000000000' '2024-01-30T07:38:00.000000000'\n",
            " '2024-01-30T23:18:00.000000000' '2024-01-30T22:48:00.000000000'\n",
            " '2024-01-30T08:20:00.000000000' '2024-01-30T07:04:00.000000000'\n",
            " '2024-01-30T22:41:00.000000000' '2024-01-30T13:07:00.000000000'\n",
            " '2024-01-30T13:10:00.000000000' '2024-01-30T14:29:00.000000000'\n",
            " '2024-01-30T13:50:00.000000000' '2024-01-30T17:18:00.000000000'\n",
            " '2024-01-30T14:33:00.000000000' '2024-01-30T14:35:00.000000000'\n",
            " '2024-01-30T08:01:00.000000000' '2024-01-30T15:02:00.000000000'\n",
            " '2024-01-30T09:11:00.000000000' '2024-01-30T23:58:00.000000000'\n",
            " '2024-01-30T14:24:00.000000000' '2024-01-30T06:38:00.000000000'\n",
            " '2024-01-30T19:25:00.000000000' '2024-01-30T13:53:00.000000000'\n",
            " '2024-01-30T22:03:00.000000000' '2024-01-30T09:28:00.000000000'\n",
            " '2024-01-30T22:10:00.000000000' '2024-01-30T21:37:00.000000000'\n",
            " '2024-01-30T12:54:00.000000000' '2024-01-30T15:41:00.000000000'\n",
            " '2024-01-30T19:19:00.000000000' '2024-01-30T17:58:00.000000000'\n",
            " '2024-01-30T19:12:00.000000000' '2024-01-30T09:22:00.000000000'\n",
            " '2024-01-30T11:35:00.000000000' '2024-01-30T15:23:00.000000000'\n",
            " '2024-01-30T14:47:00.000000000' '2024-01-30T17:50:00.000000000'\n",
            " '2024-01-30T07:29:00.000000000' '2024-01-30T12:20:00.000000000'\n",
            " '2024-01-30T14:51:00.000000000' '2024-01-30T15:12:00.000000000'\n",
            " '2024-01-30T12:32:00.000000000' '2024-01-30T09:30:00.000000000'\n",
            " '2024-01-30T14:18:00.000000000' '2024-01-30T14:48:00.000000000'\n",
            " '2024-01-30T18:55:00.000000000' '2024-01-30T12:58:00.000000000'\n",
            " '2024-01-30T14:53:00.000000000' '2024-01-30T17:40:00.000000000'\n",
            " '2024-01-30T23:44:00.000000000' '2024-01-30T21:14:00.000000000'\n",
            " '2024-01-30T12:19:00.000000000' '2024-01-30T08:17:00.000000000'\n",
            " '2024-01-30T14:32:00.000000000' '2024-01-30T11:36:00.000000000'\n",
            " '2024-01-30T14:22:00.000000000' '2024-01-30T22:02:00.000000000'\n",
            " '2024-01-30T08:23:00.000000000' '2024-01-30T14:11:00.000000000'\n",
            " '2024-01-30T11:47:00.000000000' '2024-01-30T08:21:00.000000000'\n",
            " '2024-01-30T07:13:00.000000000' '2024-01-30T20:27:00.000000000'\n",
            " '2024-01-30T21:23:00.000000000' '2024-01-30T17:24:00.000000000'\n",
            " '2024-01-30T18:02:00.000000000' '2024-01-30T20:06:00.000000000'\n",
            " '2024-01-30T23:08:00.000000000' '2024-01-30T08:11:00.000000000'\n",
            " '2024-01-30T14:07:00.000000000' '2024-01-30T14:59:00.000000000'\n",
            " '2024-01-30T11:43:00.000000000' '2024-01-30T20:07:00.000000000'\n",
            " '2024-01-30T10:13:00.000000000' '2024-01-30T21:11:00.000000000'\n",
            " '2024-01-30T16:35:00.000000000' '2024-01-30T22:46:00.000000000'\n",
            " '2024-01-30T23:28:00.000000000' '2024-01-30T06:39:00.000000000'\n",
            " '2024-01-30T23:22:00.000000000' '2024-01-30T15:18:00.000000000'\n",
            " '2024-01-30T21:25:00.000000000' '2024-01-30T14:25:00.000000000'\n",
            " '2024-01-30T06:59:00.000000000' '2024-01-30T16:27:00.000000000'\n",
            " '2024-01-30T22:29:00.000000000' '2024-01-30T21:12:00.000000000'\n",
            " '2024-01-30T12:13:00.000000000' '2024-01-30T21:44:00.000000000'\n",
            " '2024-01-30T22:01:00.000000000' '2024-01-30T16:16:00.000000000'\n",
            " '2024-01-30T22:23:00.000000000' '2024-01-30T09:07:00.000000000'\n",
            " '2024-01-30T09:51:00.000000000' '2024-01-30T12:43:00.000000000'\n",
            " '2024-01-30T23:23:00.000000000' '2024-01-30T23:48:00.000000000'\n",
            " '2024-01-30T21:58:00.000000000' '2024-01-30T18:54:00.000000000'\n",
            " '2024-01-30T22:56:00.000000000' '2024-01-30T13:15:00.000000000'\n",
            " '2024-01-30T10:07:00.000000000' '2024-01-30T15:56:00.000000000'\n",
            " '2024-01-30T17:43:00.000000000' '2024-01-30T16:30:00.000000000'\n",
            " '2024-01-30T20:33:00.000000000' '2024-01-30T12:27:00.000000000'\n",
            " '2024-01-30T08:15:00.000000000' '2024-01-30T18:18:00.000000000'\n",
            " '2024-01-30T12:39:00.000000000' '2024-01-30T12:28:00.000000000'\n",
            " '2024-01-30T12:48:00.000000000' '2024-01-30T07:28:00.000000000'\n",
            " '2024-01-30T23:26:00.000000000' '2024-01-30T06:54:00.000000000'\n",
            " '2024-01-30T12:03:00.000000000' '2024-01-30T23:49:00.000000000'\n",
            " '2024-01-30T13:05:00.000000000' '2024-01-30T15:46:00.000000000'\n",
            " '2024-01-30T18:52:00.000000000' '2024-01-30T07:58:00.000000000'\n",
            " '2024-01-30T20:24:00.000000000' '2024-01-30T08:31:00.000000000'\n",
            " '2024-01-30T21:46:00.000000000' '2024-01-30T22:49:00.000000000'\n",
            " '2024-01-30T10:59:00.000000000' '2024-01-30T11:06:00.000000000'\n",
            " '2024-01-30T13:47:00.000000000' '2024-01-30T13:03:00.000000000'\n",
            " '2024-01-30T22:43:00.000000000' '2024-01-30T23:21:00.000000000'\n",
            " '2024-01-30T14:21:00.000000000' '2024-01-30T09:56:00.000000000'\n",
            " '2024-01-30T15:11:00.000000000' '2024-01-30T14:45:00.000000000'\n",
            " '2024-01-30T08:52:00.000000000' '2024-01-30T16:47:00.000000000'\n",
            " '2024-01-30T20:42:00.000000000' '2024-01-30T14:41:00.000000000'\n",
            " '2024-01-30T09:03:00.000000000' '2024-01-30T17:47:00.000000000'\n",
            " '2024-01-30T07:30:00.000000000' '2024-01-30T21:35:00.000000000'\n",
            " '2024-01-30T13:37:00.000000000' '2024-01-30T17:12:00.000000000'\n",
            " '2024-01-30T11:00:00.000000000' '2024-01-30T22:06:00.000000000'\n",
            " '2024-01-30T17:05:00.000000000' '2024-01-30T15:58:00.000000000'\n",
            " '2024-01-30T21:57:00.000000000' '2024-01-30T07:59:00.000000000'\n",
            " '2024-01-30T22:14:00.000000000' '2024-01-30T18:44:00.000000000'\n",
            " '2024-01-30T07:48:00.000000000' '2024-01-30T17:34:00.000000000'\n",
            " '2024-01-30T14:00:00.000000000' '2024-01-30T23:42:00.000000000'\n",
            " '2024-01-30T16:49:00.000000000' '2024-01-30T23:46:00.000000000'\n",
            " '2024-01-30T23:30:00.000000000' '2024-01-30T08:43:00.000000000'\n",
            " '2024-01-30T06:16:00.000000000' '2024-01-30T13:59:00.000000000'\n",
            " '2024-01-30T18:45:00.000000000' '2024-01-30T17:28:00.000000000'\n",
            " '2024-01-30T21:04:00.000000000' '2024-01-30T18:27:00.000000000'\n",
            " '2024-01-30T08:28:00.000000000' '2024-01-30T15:55:00.000000000'\n",
            " '2024-01-30T22:22:00.000000000' '2024-01-30T10:03:00.000000000'\n",
            " '2024-01-30T10:28:00.000000000' '2024-01-30T18:39:00.000000000'\n",
            " '2024-01-30T19:01:00.000000000' '2024-01-30T12:44:00.000000000'\n",
            " '2024-01-30T16:18:00.000000000' '2024-01-30T07:56:00.000000000'\n",
            " '2024-01-30T06:15:00.000000000' '2024-01-30T21:38:00.000000000'\n",
            " '2024-01-30T18:37:00.000000000' '2024-01-30T12:38:00.000000000'\n",
            " '2024-01-30T18:14:00.000000000' '2024-01-30T13:31:00.000000000'\n",
            " '2024-01-30T10:15:00.000000000' '2024-01-30T09:54:00.000000000'\n",
            " '2024-01-30T18:56:00.000000000' '2024-01-30T09:42:00.000000000'\n",
            " '2024-01-30T15:33:00.000000000' '2024-01-30T22:51:00.000000000'\n",
            " '2024-01-30T21:45:00.000000000' '2024-01-30T20:14:00.000000000'\n",
            " '2024-01-30T10:01:00.000000000' '2024-01-30T22:44:00.000000000'\n",
            " '2024-01-30T06:46:00.000000000' '2024-01-30T13:29:00.000000000'\n",
            " '2024-01-30T20:30:00.000000000' '2024-01-30T18:40:00.000000000'\n",
            " '2024-01-30T11:45:00.000000000' '2024-01-30T18:16:00.000000000'\n",
            " '2024-01-30T13:26:00.000000000' '2024-01-30T09:53:00.000000000'\n",
            " '2024-01-30T13:58:00.000000000' '2024-01-30T21:01:00.000000000'\n",
            " '2024-01-30T19:10:00.000000000' '2024-01-30T19:47:00.000000000'\n",
            " '2024-01-30T12:37:00.000000000' '2024-01-30T16:29:00.000000000'\n",
            " '2024-01-30T18:04:00.000000000' '2024-01-30T09:04:00.000000000'\n",
            " '2024-01-30T16:41:00.000000000' '2024-01-30T12:50:00.000000000'\n",
            " '2024-01-30T13:57:00.000000000' '2024-01-30T14:16:00.000000000'\n",
            " '2024-01-30T12:06:00.000000000' '2024-01-30T09:24:00.000000000'\n",
            " '2024-01-30T13:27:00.000000000' '2024-01-30T07:49:00.000000000'\n",
            " '2024-01-30T12:57:00.000000000' '2024-01-30T09:55:00.000000000'\n",
            " '2024-01-30T15:54:00.000000000' '2024-01-30T23:11:00.000000000'\n",
            " '2024-01-30T07:26:00.000000000' '2024-01-30T12:59:00.000000000'\n",
            " '2024-01-30T22:58:00.000000000' '2024-01-30T20:47:00.000000000'\n",
            " '2024-01-30T17:26:00.000000000' '2024-01-30T22:11:00.000000000'\n",
            " '2024-01-30T09:16:00.000000000' '2024-01-30T21:18:00.000000000'\n",
            " '2024-01-30T06:23:00.000000000' '2024-01-30T07:19:00.000000000'\n",
            " '2024-01-30T16:06:00.000000000' '2024-01-30T11:54:00.000000000'\n",
            " '2024-01-30T15:13:00.000000000' '2024-01-30T18:20:00.000000000'\n",
            " '2024-01-30T12:00:00.000000000' '2024-01-30T10:37:00.000000000'\n",
            " '2024-01-30T15:45:00.000000000' '2024-01-30T17:42:00.000000000'\n",
            " '2024-01-30T09:57:00.000000000' '2024-01-30T18:21:00.000000000'\n",
            " '2024-01-30T16:26:00.000000000' '2024-01-30T23:55:00.000000000'\n",
            " '2024-01-30T08:36:00.000000000' '2024-01-30T18:24:00.000000000'\n",
            " '2024-01-30T16:45:00.000000000' '2024-01-30T12:05:00.000000000'\n",
            " '2024-01-30T13:54:00.000000000' '2024-01-30T18:32:00.000000000'\n",
            " '2024-01-30T17:21:00.000000000' '2024-01-30T17:52:00.000000000'\n",
            " '2024-01-30T08:14:00.000000000' '2024-01-30T15:03:00.000000000'\n",
            " '2024-01-30T19:14:00.000000000' '2024-01-30T16:12:00.000000000'\n",
            " '2024-01-30T08:40:00.000000000' '2024-01-30T12:25:00.000000000'\n",
            " '2024-01-30T17:45:00.000000000' '2024-01-30T17:25:00.000000000'\n",
            " '2024-01-30T15:43:00.000000000' '2024-01-30T15:28:00.000000000'\n",
            " '2024-01-30T10:30:00.000000000' '2024-01-30T19:18:00.000000000'\n",
            " '2024-01-30T15:17:00.000000000' '2024-01-30T17:00:00.000000000'\n",
            " '2024-01-30T15:29:00.000000000' '2024-01-30T12:53:00.000000000'\n",
            " '2024-01-30T18:49:00.000000000' '2024-01-30T08:02:00.000000000'\n",
            " '2024-01-30T17:36:00.000000000' '2024-01-30T07:24:00.000000000'\n",
            " '2024-01-30T18:13:00.000000000' '2024-01-30T12:11:00.000000000'\n",
            " '2024-01-30T16:54:00.000000000' '2024-01-30T07:18:00.000000000'\n",
            " '2024-01-30T15:22:00.000000000' '2024-01-30T16:53:00.000000000'\n",
            " '2024-01-30T14:08:00.000000000' '2024-01-30T18:00:00.000000000'\n",
            " '2024-01-30T14:05:00.000000000' '2024-01-30T22:35:00.000000000'\n",
            " '2024-01-30T14:50:00.000000000' '2024-01-30T06:48:00.000000000'\n",
            " '2024-01-30T22:12:00.000000000' '2024-01-30T14:44:00.000000000'\n",
            " '2024-01-30T11:31:00.000000000' '2024-01-30T17:08:00.000000000'\n",
            " '2024-01-30T22:31:00.000000000' '2024-01-30T15:31:00.000000000'\n",
            " '2024-01-30T20:09:00.000000000' '2024-01-30T23:53:00.000000000'\n",
            " '2024-01-30T22:39:00.000000000' '2024-01-30T08:06:00.000000000'\n",
            " '2024-01-30T11:53:00.000000000' '2024-01-30T22:27:00.000000000'\n",
            " '2024-01-30T08:51:00.000000000' '2024-01-30T14:57:00.000000000'\n",
            " '2024-01-30T17:16:00.000000000' '2024-01-30T11:39:00.000000000'\n",
            " '2024-01-30T17:13:00.000000000' '2024-01-30T09:14:00.000000000'\n",
            " '2024-01-30T15:26:00.000000000' '2024-01-30T19:39:00.000000000'\n",
            " '2024-01-30T13:38:00.000000000' '2024-01-30T09:00:00.000000000'\n",
            " '2024-01-30T12:35:00.000000000' '2024-01-30T13:51:00.000000000'\n",
            " '2024-01-30T12:08:00.000000000' '2024-01-30T23:32:00.000000000'\n",
            " '2024-01-30T19:17:00.000000000' '2024-01-30T14:04:00.000000000'\n",
            " '2024-01-30T22:15:00.000000000' '2024-01-30T15:53:00.000000000'\n",
            " '2024-01-30T20:35:00.000000000' '2024-01-30T23:24:00.000000000'\n",
            " '2024-01-30T21:08:00.000000000' '2024-01-30T11:21:00.000000000'\n",
            " '2024-01-30T16:59:00.000000000' '2024-01-30T08:55:00.000000000'\n",
            " '2024-01-30T23:14:00.000000000' '2024-01-30T17:48:00.000000000'\n",
            " '2024-01-30T15:44:00.000000000' '2024-01-30T23:09:00.000000000'\n",
            " '2024-01-30T15:47:00.000000000' '2024-01-30T13:43:00.000000000'\n",
            " '2024-01-30T23:25:00.000000000' '2024-01-30T11:05:00.000000000'\n",
            " '2024-01-30T15:51:00.000000000' '2024-01-30T19:51:00.000000000'\n",
            " '2024-01-30T21:22:00.000000000' '2024-01-30T18:28:00.000000000'\n",
            " '2024-01-30T09:17:00.000000000' '2024-01-30T23:35:00.000000000'\n",
            " '2024-01-30T23:47:00.000000000' '2024-01-30T10:45:00.000000000'\n",
            " '2024-01-30T11:07:00.000000000' '2024-01-30T06:50:00.000000000'\n",
            " '2024-01-30T12:45:00.000000000' '2024-01-30T19:15:00.000000000'\n",
            " '2024-01-30T20:21:00.000000000' '2024-01-30T07:53:00.000000000'\n",
            " '2024-01-30T18:50:00.000000000' '2024-01-30T08:47:00.000000000'\n",
            " '2024-01-30T08:27:00.000000000' '2024-01-30T18:07:00.000000000'\n",
            " '2024-01-30T12:36:00.000000000' '2024-01-30T10:49:00.000000000'\n",
            " '2024-01-30T21:21:00.000000000' '2024-01-30T16:13:00.000000000'\n",
            " '2024-01-30T10:27:00.000000000' '2024-01-30T20:56:00.000000000'\n",
            " '2024-01-30T20:00:00.000000000' '2024-01-30T13:30:00.000000000'\n",
            " '2024-01-30T09:52:00.000000000' '2024-01-30T20:04:00.000000000'\n",
            " '2024-01-30T23:41:00.000000000' '2024-01-30T08:34:00.000000000'\n",
            " '2024-01-30T09:01:00.000000000' '2024-01-30T13:41:00.000000000'\n",
            " '2024-01-30T12:46:00.000000000' '2024-01-30T13:55:00.000000000'\n",
            " '2024-01-30T20:54:00.000000000' '2024-01-30T23:54:00.000000000'\n",
            " '2024-01-30T23:34:00.000000000' '2024-01-30T09:05:00.000000000'\n",
            " '2024-01-30T09:12:00.000000000' '2024-01-30T23:27:00.000000000'\n",
            " '2024-01-30T21:30:00.000000000' '2024-01-30T16:20:00.000000000'\n",
            " '2024-01-30T23:06:00.000000000' '2024-01-30T09:35:00.000000000'\n",
            " '2024-01-30T10:47:00.000000000' '2024-01-30T09:06:00.000000000'\n",
            " '2024-01-30T17:14:00.000000000' '2024-01-30T17:49:00.000000000'\n",
            " '2024-01-30T21:15:00.000000000' '2024-01-30T07:22:00.000000000'\n",
            " '2024-01-30T17:06:00.000000000' '2024-01-30T20:29:00.000000000'\n",
            " '2024-01-30T17:37:00.000000000' '2024-01-30T16:58:00.000000000'\n",
            " '2024-01-30T09:47:00.000000000' '2024-01-30T17:15:00.000000000'\n",
            " '2024-01-30T09:21:00.000000000' '2024-01-30T12:34:00.000000000'\n",
            " '2024-01-30T22:52:00.000000000' '2024-01-30T15:39:00.000000000'\n",
            " '2024-01-30T15:30:00.000000000' '2024-01-30T11:46:00.000000000'\n",
            " '2024-01-30T12:17:00.000000000' '2024-01-30T09:33:00.000000000'\n",
            " '2024-01-30T11:37:00.000000000' '2024-01-30T21:28:00.000000000'\n",
            " '2024-01-30T18:51:00.000000000' '2024-01-30T10:16:00.000000000'\n",
            " '2024-01-30T13:12:00.000000000' '2024-01-30T11:26:00.000000000'\n",
            " '2024-01-30T22:33:00.000000000' '2024-01-30T12:14:00.000000000'\n",
            " '2024-01-30T09:44:00.000000000' '2024-01-30T16:48:00.000000000'\n",
            " '2024-01-30T16:38:00.000000000' '2024-01-30T10:17:00.000000000'\n",
            " '2024-01-30T22:53:00.000000000' '2024-01-30T13:08:00.000000000'\n",
            " '2024-01-30T16:19:00.000000000' '2024-01-30T09:40:00.000000000'\n",
            " '2024-01-30T22:00:00.000000000' '2024-01-30T23:37:00.000000000'\n",
            " '2024-01-30T15:21:00.000000000' '2024-01-30T21:17:00.000000000'\n",
            " '2024-01-30T18:53:00.000000000' '2024-01-30T23:20:00.000000000'\n",
            " '2024-01-30T09:08:00.000000000' '2024-01-30T06:57:00.000000000'\n",
            " '2024-01-30T21:47:00.000000000' '2024-01-30T10:20:00.000000000'\n",
            " '2024-01-30T10:41:00.000000000' '2024-01-30T18:30:00.000000000'\n",
            " '2024-01-30T19:00:00.000000000' '2024-01-30T22:47:00.000000000'\n",
            " '2024-01-30T12:29:00.000000000' '2024-01-30T16:03:00.000000000'\n",
            " '2024-01-30T18:57:00.000000000' '2024-01-30T16:10:00.000000000'\n",
            " '2024-01-30T23:40:00.000000000' '2024-01-30T09:10:00.000000000'\n",
            " '2024-01-30T10:33:00.000000000' '2024-01-30T13:20:00.000000000'\n",
            " '2024-01-30T16:15:00.000000000' '2024-01-30T11:48:00.000000000'\n",
            " '2024-01-30T21:07:00.000000000' '2024-01-30T08:10:00.000000000'\n",
            " '2024-01-30T06:56:00.000000000' '2024-01-30T23:16:00.000000000'\n",
            " '2024-01-30T18:59:00.000000000' '2024-01-30T20:38:00.000000000'\n",
            " '2024-01-30T18:01:00.000000000' '2024-01-30T06:25:00.000000000'\n",
            " '2024-01-30T06:37:00.000000000' '2024-01-30T06:41:00.000000000'\n",
            " '2024-01-30T15:34:00.000000000' '2024-01-30T10:02:00.000000000'\n",
            " '2024-01-30T13:40:00.000000000' '2024-01-30T09:45:00.000000000'\n",
            " '2024-01-30T16:42:00.000000000' '2024-01-30T15:14:00.000000000'\n",
            " '2024-01-30T20:55:00.000000000' '2024-01-30T16:23:00.000000000'\n",
            " '2024-01-30T12:23:00.000000000' '2024-01-30T16:55:00.000000000'\n",
            " '2024-01-30T19:41:00.000000000' '2024-01-30T20:49:00.000000000'\n",
            " '2024-01-30T19:40:00.000000000' '2024-01-30T12:18:00.000000000'\n",
            " '2024-01-30T10:06:00.000000000' '2024-01-30T22:50:00.000000000'\n",
            " '2024-01-30T13:39:00.000000000' '2024-01-30T11:18:00.000000000'\n",
            " '2024-01-30T12:26:00.000000000' '2024-01-30T10:29:00.000000000'\n",
            " '2024-01-30T14:40:00.000000000' '2024-01-30T23:00:00.000000000'\n",
            " '2024-01-30T16:08:00.000000000' '2024-01-30T10:04:00.000000000'\n",
            " '2024-01-30T15:24:00.000000000' '2024-01-30T14:06:00.000000000'\n",
            " '2024-01-30T16:36:00.000000000' '2024-01-30T23:52:00.000000000'\n",
            " '2024-01-30T08:35:00.000000000' '2024-01-30T06:22:00.000000000'\n",
            " '2024-01-30T15:20:00.000000000' '2024-01-30T21:02:00.000000000'\n",
            " '2024-01-30T07:34:00.000000000' '2024-01-30T09:19:00.000000000'\n",
            " '2024-01-30T23:04:00.000000000' '2024-01-30T11:40:00.000000000'\n",
            " '2024-01-30T09:27:00.000000000' '2024-01-30T09:39:00.000000000'\n",
            " '2024-01-30T08:22:00.000000000' '2024-01-30T19:02:00.000000000'\n",
            " '2024-01-30T06:35:00.000000000' '2024-01-30T23:38:00.000000000'\n",
            " '2024-01-30T08:56:00.000000000' '2024-01-30T07:36:00.000000000'\n",
            " '2024-01-30T09:58:00.000000000' '2024-01-30T18:47:00.000000000'\n",
            " '2024-01-30T08:33:00.000000000' '2024-01-30T19:09:00.000000000'\n",
            " '2024-01-30T18:48:00.000000000' '2024-01-30T16:44:00.000000000'\n",
            " '2024-01-30T14:19:00.000000000' '2024-01-30T12:22:00.000000000'\n",
            " '2024-01-30T21:00:00.000000000' '2024-01-30T06:36:00.000000000'\n",
            " '2024-01-30T09:29:00.000000000' '2024-01-30T20:50:00.000000000'\n",
            " '2024-01-30T16:00:00.000000000' '2024-01-30T22:45:00.000000000'\n",
            " '2024-01-30T07:54:00.000000000' '2024-01-30T18:22:00.000000000'\n",
            " '2024-01-30T21:26:00.000000000' '2024-01-30T14:54:00.000000000'\n",
            " '2024-01-30T12:02:00.000000000' '2024-01-30T10:52:00.000000000'\n",
            " '2024-01-30T23:43:00.000000000' '2024-01-30T06:49:00.000000000'\n",
            " '2024-01-30T22:57:00.000000000' '2024-01-30T11:27:00.000000000'\n",
            " '2024-01-30T07:09:00.000000000' '2024-01-30T17:51:00.000000000'\n",
            " '2024-01-30T07:03:00.000000000' '2024-01-30T20:17:00.000000000'\n",
            " '2024-01-30T23:15:00.000000000' '2024-01-30T14:20:00.000000000'\n",
            " '2024-01-30T11:51:00.000000000' '2024-01-30T16:34:00.000000000'\n",
            " '2024-01-30T12:40:00.000000000' '2024-01-30T21:36:00.000000000'\n",
            " '2024-01-30T15:25:00.000000000' '2024-01-30T16:05:00.000000000'\n",
            " '2024-01-30T22:26:00.000000000' '2024-01-30T10:12:00.000000000'\n",
            " '2024-01-30T22:34:00.000000000' '2024-01-30T09:41:00.000000000'\n",
            " '2024-01-30T07:00:00.000000000' '2024-01-30T17:39:00.000000000'\n",
            " '2024-01-30T20:31:00.000000000' '2024-01-30T19:21:00.000000000'\n",
            " '2024-01-30T06:27:00.000000000' '2024-01-30T16:17:00.000000000'\n",
            " '2024-01-30T19:55:00.000000000' '2024-01-30T21:34:00.000000000'\n",
            " '2024-01-30T19:06:00.000000000' '2024-01-30T18:15:00.000000000'\n",
            " '2024-01-30T20:40:00.000000000' '2024-01-30T08:08:00.000000000'\n",
            " '2024-01-30T10:26:00.000000000' '2024-01-30T22:32:00.000000000'\n",
            " '2024-01-30T06:21:00.000000000' '2024-01-30T15:04:00.000000000'\n",
            " '2024-01-30T06:05:00.000000000' '2024-01-30T15:37:00.000000000'\n",
            " '2024-01-30T22:28:00.000000000' '2024-01-30T16:22:00.000000000'\n",
            " '2024-01-30T08:37:00.000000000' '2024-01-30T22:59:00.000000000'\n",
            " '2024-01-30T21:55:00.000000000' '2024-01-30T13:16:00.000000000'\n",
            " '2024-01-30T20:15:00.000000000' '2024-01-30T20:48:00.000000000'\n",
            " '2024-01-30T08:49:00.000000000' '2024-01-30T20:20:00.000000000'\n",
            " '2024-01-30T08:48:00.000000000' '2024-01-30T17:09:00.000000000'\n",
            " '2024-01-30T10:58:00.000000000' '2024-01-30T11:23:00.000000000'\n",
            " '2024-01-30T06:18:00.000000000' '2024-01-30T20:39:00.000000000'\n",
            " '2024-01-30T12:24:00.000000000' '2024-01-30T23:13:00.000000000'\n",
            " '2024-01-30T18:46:00.000000000' '2024-01-30T20:13:00.000000000'\n",
            " '2024-01-30T10:10:00.000000000' '2024-01-30T08:24:00.000000000'\n",
            " '2024-01-30T07:11:00.000000000' '2024-01-30T20:44:00.000000000'\n",
            " '2024-01-30T19:24:00.000000000' '2024-01-30T15:59:00.000000000'\n",
            " '2024-01-30T17:22:00.000000000' '2024-01-30T15:38:00.000000000'\n",
            " '2024-01-30T11:57:00.000000000' '2024-01-30T23:50:00.000000000'\n",
            " '2024-01-30T20:19:00.000000000' '2024-01-30T15:08:00.000000000'\n",
            " '2024-01-30T20:34:00.000000000' '2024-01-30T08:45:00.000000000'\n",
            " '2024-01-30T23:33:00.000000000' '2024-01-30T09:31:00.000000000'\n",
            " '2024-01-30T11:14:00.000000000' '2024-01-30T15:32:00.000000000'\n",
            " '2024-01-30T19:03:00.000000000' '2024-01-30T06:33:00.000000000'\n",
            " '2024-01-30T19:54:00.000000000' '2024-01-30T19:58:00.000000000'\n",
            " '2024-01-30T12:21:00.000000000' '2024-01-30T10:08:00.000000000'\n",
            " '2024-01-30T16:09:00.000000000' '2024-01-30T10:31:00.000000000'\n",
            " '2024-01-30T08:25:00.000000000' '2024-01-30T11:04:00.000000000'\n",
            " '2024-01-30T19:20:00.000000000' '2024-01-30T12:09:00.000000000'\n",
            " '2024-01-30T10:19:00.000000000' '2024-01-30T10:05:00.000000000'\n",
            " '2024-01-30T10:22:00.000000000' '2024-01-30T20:45:00.000000000'\n",
            " '2024-01-30T08:44:00.000000000' '2024-01-30T20:16:00.000000000'\n",
            " '2024-01-30T08:41:00.000000000' '2024-01-30T19:59:00.000000000'\n",
            " '2024-01-30T09:50:00.000000000' '2024-01-30T16:28:00.000000000'\n",
            " '2024-01-30T11:42:00.000000000' '2024-01-30T11:17:00.000000000'\n",
            " '2024-01-30T23:31:00.000000000' '2024-01-30T20:11:00.000000000'\n",
            " '2024-01-30T11:34:00.000000000' '2024-01-30T19:07:00.000000000'\n",
            " '2024-01-30T11:30:00.000000000' '2024-01-30T11:22:00.000000000'\n",
            " '2024-01-30T23:45:00.000000000' '2024-01-30T19:08:00.000000000'\n",
            " '2024-01-30T11:02:00.000000000' '2024-01-30T11:59:00.000000000'\n",
            " '2024-01-30T19:13:00.000000000' '2024-01-30T10:25:00.000000000'\n",
            " '2024-01-30T23:29:00.000000000' '2024-01-30T15:50:00.000000000'\n",
            " '2024-01-30T18:34:00.000000000' '2024-01-30T19:11:00.000000000'\n",
            " '2024-01-30T20:28:00.000000000' '2024-01-30T17:30:00.000000000'\n",
            " '2024-01-30T08:38:00.000000000' '2024-01-30T10:51:00.000000000'\n",
            " '2024-01-30T18:35:00.000000000' '2024-01-30T11:10:00.000000000'\n",
            " '2024-01-30T08:53:00.000000000' '2024-01-30T16:14:00.000000000'\n",
            " '2024-01-30T08:29:00.000000000' '2024-01-30T23:36:00.000000000'\n",
            " '2024-01-30T10:54:00.000000000' '2024-01-30T20:10:00.000000000'\n",
            " '2024-01-30T16:21:00.000000000' '2024-01-30T19:35:00.000000000'\n",
            " '2024-01-30T20:22:00.000000000' '2024-01-30T11:29:00.000000000'\n",
            " '2024-01-30T20:02:00.000000000' '2024-01-30T16:31:00.000000000'\n",
            " '2024-01-30T11:13:00.000000000' '2024-01-30T10:11:00.000000000'\n",
            " '2024-01-30T19:43:00.000000000' '2024-01-30T18:36:00.000000000'\n",
            " '2024-01-30T08:42:00.000000000' '2024-01-30T12:16:00.000000000'\n",
            " '2024-01-30T10:39:00.000000000' '2024-01-30T18:38:00.000000000']\n",
            "Unique values in column 'price': [10.   11.84 23.36 ... 30.03 34.5  43.47]\n"
          ]
        }
      ],
      "source": [
        "# print out the unique values for each column\n",
        "# TODO\n",
        "for column in test_proc.columns:\n",
        "    print(f\"Unique values in column '{column}': {test_proc[column].unique()}\")\n",
        "\n"
      ]
    },
    {
      "cell_type": "code",
      "execution_count": 16,
      "metadata": {
        "colab": {
          "base_uri": "https://localhost:8080/"
        },
        "id": "FAToxG-0q-UT",
        "outputId": "a37df009-bd09-40aa-8a40-f0c5a2bc7fa7"
      },
      "outputs": [
        {
          "name": "stdout",
          "output_type": "stream",
          "text": [
            "Origin Lat            float64\n",
            "Origin Long           float64\n",
            "origin                 object\n",
            "destination            object\n",
            "Dest Lat              float64\n",
            "Dest Long             float64\n",
            "user_id                 int64\n",
            "Day                     int64\n",
            "start_time     datetime64[ns]\n",
            "end_time       datetime64[ns]\n",
            "price                 float64\n",
            "dtype: object\n"
          ]
        }
      ],
      "source": [
        "import pandas as pd\n",
        "\n",
        "# print out the data type of each column\n",
        "# TODO\n",
        "print(test_proc.dtypes)\n",
        "\n"
      ]
    },
    {
      "cell_type": "markdown",
      "metadata": {
        "id": "fvWqY6EYq-UT"
      },
      "source": [
        "Based on your features and how you extracted them, you may need to use some encodings for your data. For example, if you have different classes as names (`str` data type. E.g. \"gym\") you need to make it a numeric value in order to feed it into your neural network. You can use `sklearn`'s functions (such as `LabelEncoder`, `OneHotEncoder`, `StandardScaler`, etc.) to do these kind of stuff!"
      ]
    },
    {
      "cell_type": "code",
      "execution_count": 17,
      "metadata": {
        "colab": {
          "base_uri": "https://localhost:8080/"
        },
        "id": "kmWDrYRaq-UT",
        "outputId": "48aa7ae1-7cf3-450e-f9a1-037939375d87"
      },
      "outputs": [
        {
          "name": "stdout",
          "output_type": "stream",
          "text": [
            "[[24 6 11.0 14.0 10.0]\n",
            " [46 2 21.0 20.0 11.84]\n",
            " [27 5 20.0 53.0 23.36]\n",
            " [7 4 17.0 38.0 13.74]\n",
            " [27 3 13.0 3.0 15.08]\n",
            " [41 4 13.0 58.0 22.13]\n",
            " [58 0 13.0 28.0 19.59]\n",
            " [55 3 21.0 37.0 21.36]\n",
            " [4 0 23.0 17.0 11.67]\n",
            " [29 1 7.0 18.0 21.81]]\n"
          ]
        }
      ],
      "source": [
        "import pandas as pd\n",
        "from sklearn.model_selection import train_test_split\n",
        "from sklearn.preprocessing import StandardScaler, LabelEncoder,OneHotEncoder\n",
        "\n",
        "\n",
        "train_proc_np = train_proc.to_numpy()\n",
        "for i in range(len(train_proc_np)):\n",
        "  train_proc_np[i][9] = ((train_proc_np[i][9] - train_proc_np[i][8]).value/ 10**9)/60\n",
        "  train_proc_np[i][8] = np.double(train_proc_np[i][8].hour)\n",
        "\n",
        "\n",
        "test_proc_np = test_proc.to_numpy()\n",
        "for i in range(len(test_proc_np)):\n",
        "  test_proc_np[i][9] = ((test_proc_np[i][9] - test_proc_np[i][8]).value/ 10**9)/60\n",
        "  test_proc_np[i][8] = np.double(test_proc_np[i][8].hour)\n",
        "\n",
        "\n",
        "\n",
        "\n",
        "source_enc = OneHotEncoder()\n",
        "dest_enc = LabelEncoder()\n",
        "new_train_np = (source_enc.fit_transform(train_proc_np[:,2].reshape(-1, 1))).toarray()\n",
        "new_test_np = (source_enc.fit_transform(test_proc_np[:,2].reshape(-1, 1))).toarray()\n",
        "train_proc_np = np.delete(train_proc_np, 2, axis=1)\n",
        "test_proc_np = np.delete(test_proc_np, 2, axis=1)\n",
        "\n",
        "train_proc_np[:,2] = (dest_enc.fit_transform(train_proc_np[:,2]))\n",
        "test_proc_np[:,2] = (dest_enc.transform(test_proc_np[:,2]))\n",
        "\n",
        "train_features_np = np.delete(train_proc_np, [0,1,2,3,4], axis=1)\n",
        "train_results_np = train_proc_np[:,[2]]\n",
        "test_features_np = np.delete(test_proc_np, [0,1,2,3,4], axis=1)\n",
        "test_results_np = test_proc_np[:,[2]]\n",
        "print(test_features_np[0:10])\n",
        "\n",
        "encoder_std = StandardScaler()\n",
        "train_features_np=encoder_std.fit_transform(train_features_np)\n",
        "test_features_np = encoder_std.transform(test_features_np)\n",
        "train_results_np = np.array(train_results_np,dtype=np.float64)\n",
        "test_results_np = np.array(test_results_np,dtype=np.float64)\n",
        "train_features_np = np.array(train_features_np,dtype=np.float64)\n",
        "test_features_np = np.array(test_features_np,dtype=np.float64)\n",
        "train_features_np = np.concatenate((train_features_np, new_train_np), axis=1)\n",
        "test_features_np = np.concatenate((test_features_np, new_test_np), axis=1)\n",
        "#print(test_features_np[0:10])\n",
        "\n",
        "# Finalize the data (do all preprocessing needed)\n",
        "# TODO"
      ]
    },
    {
      "cell_type": "markdown",
      "metadata": {
        "id": "ioZ1_GIjq-UU"
      },
      "source": [
        "Create `train_dataset` and its loader, also create `test_dataset` and its loader. You should also create `val_dataset` and its loader if you want to use validation set. You may need to implement a custom `torch.Dataset` class for your ease. Your loaders should be able to load data in batches."
      ]
    },
    {
      "cell_type": "code",
      "execution_count": 51,
      "metadata": {
        "id": "xcBMhwwxq-UU"
      },
      "outputs": [],
      "source": [
        "import pandas as pd\n",
        "from sklearn.model_selection import train_test_split\n",
        "import torch\n",
        "from torch.utils.data import Dataset, DataLoader,TensorDataset\n",
        "import torch.nn as nn\n",
        "import torch.nn.functional as F\n",
        "import torch.optim as optim\n",
        "import matplotlib.pyplot as plt\n",
        "\n",
        "# TODO\n",
        "train_x, val_x, train_y, val_y =  train_test_split(train_features_np, train_results_np, test_size=0.1)\n",
        "test_x = test_features_np\n",
        "test_y = test_results_np\n",
        "train_x = torch.from_numpy(train_x)\n",
        "val_x = torch.from_numpy(val_x)\n",
        "train_y = torch.from_numpy(train_y)\n",
        "val_y = torch.from_numpy(val_y)\n",
        "test_x = torch.from_numpy(test_x)\n",
        "test_y = torch.from_numpy(test_y)\n",
        "\n",
        "train_dataset = TensorDataset(train_x,train_y)\n",
        "val_dataset = TensorDataset(val_x,val_y)\n",
        "test_dataset = TensorDataset(test_x,test_y)\n",
        "\n",
        "# Batch size\n",
        "batch_size = 80\n",
        "\n",
        "# DataLoader\n",
        "train_loader = DataLoader(train_dataset, batch_size, shuffle=False)\n",
        "val_loader = DataLoader(val_dataset, len(val_dataset), shuffle=False)\n",
        "test_loader = DataLoader(test_dataset, len(test_dataset), shuffle=False)"
      ]
    },
    {
      "cell_type": "markdown",
      "metadata": {
        "id": "vuEr_cz5q-UU"
      },
      "source": [
        "## Neural Network Model"
      ]
    },
    {
      "cell_type": "markdown",
      "metadata": {
        "id": "vqZ60d95q-UU"
      },
      "source": [
        "Here, you should implement your neural network model. You should use `pytorch`. **Note** that you should plot the loss function of your model during the training phase. (on both training and validation sets)"
      ]
    },
    {
      "cell_type": "code",
      "execution_count": 52,
      "metadata": {
        "id": "6lIDXe9tq-UU"
      },
      "outputs": [],
      "source": [
        "# Implement the train_model function\n",
        "def train_model(model, train_loader, val_loader, criterion, optimizer, epochs):\n",
        "    lls_train = []\n",
        "    lls_val = []\n",
        "    for epoch in range(epochs):\n",
        "      model.train()\n",
        "      for train_features, train_labels in train_loader:\n",
        "        optimizer.zero_grad()\n",
        "        y_pred = model(train_features)\n",
        "        loss = criterion(y_pred, train_labels[:,0].long())\n",
        "        loss.backward()\n",
        "        optimizer.step()\n",
        "      lls_train.append(np.double(loss))\n",
        "      model.eval()\n",
        "      val_f,val_l = next(iter(val_loader))\n",
        "      Y_hat = model(val_f)\n",
        "      val_loss = criterion(Y_hat, val_l[:,0].long())\n",
        "      lls_val.append(np.double(val_loss))\n",
        "      print(f'Finished epoch {epoch}, Train Loss: {loss}, Val Loss: {val_loss}')\n",
        "    return  lls_train, lls_val\n",
        "\n",
        "\n",
        "\n",
        "# Implement the MLP class with your choice of architecture\n",
        "# TODO: You can change the signature of functions and also add any function you need\n",
        "class MLP(nn.Module):\n",
        "    def __init__(self, input_dim, output_dim):\n",
        "        super().__init__()\n",
        "        self.hidden1 = nn.Linear(input_dim, 256)\n",
        "        self.act1 = nn.ReLU()\n",
        "        self.hidden2 = nn.Linear(256, 128)\n",
        "        self.act2 = nn.Sigmoid()\n",
        "        self.hidden3 = nn.Linear(32, 32)\n",
        "        self.act3 = nn.ReLU()\n",
        "        self.output = nn.Linear(128, output_dim)\n",
        "        self.act_output = nn.Sigmoid()\n",
        "        self.double()\n",
        "\n",
        "\n",
        "\n",
        "    def forward(self, x):\n",
        "        x = self.act1(self.hidden1(x))\n",
        "        x = self.act2(self.hidden2(x))\n",
        "        #x = self.act3(self.hidden3(x))\n",
        "\n",
        "        x = self.act_output(self.output(x))\n",
        "        return x\n",
        "\n",
        "\n",
        "# TODO\n",
        "# Define Model, Loss, Optimizer\n",
        "model = MLP(12,int(max(train_results_np[:,0])+1))\n",
        "criterion = nn.CrossEntropyLoss()\n",
        "optimizer = optim.Adam(model.parameters(), lr=0.005)"
      ]
    },
    {
      "cell_type": "code",
      "execution_count": 53,
      "metadata": {
        "colab": {
          "base_uri": "https://localhost:8080/",
          "height": 1000
        },
        "id": "O45RO8hyq-UV",
        "outputId": "7b1bbc83-f895-41f9-d694-720a9255456d"
      },
      "outputs": [
        {
          "name": "stdout",
          "output_type": "stream",
          "text": [
            "Finished epoch 0, Train Loss: 1.4485037718292135, Val Loss: 1.3723502171096125\n",
            "Finished epoch 1, Train Loss: 1.4050840592513685, Val Loss: 1.331689082776458\n",
            "Finished epoch 2, Train Loss: 1.3630663660512659, Val Loss: 1.3098431088586864\n",
            "Finished epoch 3, Train Loss: 1.3688030418520423, Val Loss: 1.3027719937625135\n",
            "Finished epoch 4, Train Loss: 1.3604254964552973, Val Loss: 1.3043631403647393\n",
            "Finished epoch 5, Train Loss: 1.3602877050559026, Val Loss: 1.2992185155827236\n",
            "Finished epoch 6, Train Loss: 1.3601901548123383, Val Loss: 1.3005646388627568\n",
            "Finished epoch 7, Train Loss: 1.3602113619889569, Val Loss: 1.3036306390483579\n",
            "Finished epoch 8, Train Loss: 1.3603597896066926, Val Loss: 1.300091093538803\n",
            "Finished epoch 9, Train Loss: 1.360062662600368, Val Loss: 1.2997808657460046\n",
            "Finished epoch 10, Train Loss: 1.3601139422394954, Val Loss: 1.3061055063522267\n",
            "Finished epoch 11, Train Loss: 1.3600714866991717, Val Loss: 1.301467918911046\n",
            "Finished epoch 12, Train Loss: 1.3548531809526534, Val Loss: 1.2962087709216508\n",
            "Finished epoch 13, Train Loss: 1.3236018125910776, Val Loss: 1.2645932730972986\n",
            "Finished epoch 14, Train Loss: 1.3235271594607954, Val Loss: 1.2623969578596486\n",
            "Finished epoch 15, Train Loss: 1.323218118715282, Val Loss: 1.2618377921570905\n",
            "Finished epoch 16, Train Loss: 1.3232263960362267, Val Loss: 1.2632418518929796\n",
            "Finished epoch 17, Train Loss: 1.3232527434947112, Val Loss: 1.2621096418772404\n",
            "Finished epoch 18, Train Loss: 1.3230708512559872, Val Loss: 1.2616405735778087\n",
            "Finished epoch 19, Train Loss: 1.322973517194584, Val Loss: 1.261286763689432\n",
            "Finished epoch 20, Train Loss: 1.3227954520242782, Val Loss: 1.2601349245088442\n",
            "Finished epoch 21, Train Loss: 1.3178336030709596, Val Loss: 1.2588357963868524\n",
            "Finished epoch 22, Train Loss: 1.3150357097008338, Val Loss: 1.2561094286648995\n",
            "Finished epoch 23, Train Loss: 1.3133219263081908, Val Loss: 1.2529369376632704\n",
            "Finished epoch 24, Train Loss: 1.3132060175639109, Val Loss: 1.2520413701487971\n",
            "Finished epoch 25, Train Loss: 1.313350155142275, Val Loss: 1.2529910493216814\n",
            "Finished epoch 26, Train Loss: 1.3123772284012918, Val Loss: 1.2554165442781415\n",
            "Finished epoch 27, Train Loss: 1.3125579211391978, Val Loss: 1.2550309193846063\n",
            "Finished epoch 28, Train Loss: 1.312176965807459, Val Loss: 1.2542445559709263\n",
            "Finished epoch 29, Train Loss: 1.30367295551332, Val Loss: 1.2519850795570824\n",
            "Finished epoch 30, Train Loss: 1.2983331475805477, Val Loss: 1.2527762591758786\n",
            "Finished epoch 31, Train Loss: 1.3006848025655255, Val Loss: 1.2532359825506043\n",
            "Finished epoch 32, Train Loss: 1.2931959661849266, Val Loss: 1.250664777095113\n",
            "Finished epoch 33, Train Loss: 1.2903857676101629, Val Loss: 1.2512135905714163\n",
            "Finished epoch 34, Train Loss: 1.290273261290805, Val Loss: 1.251647790171262\n",
            "Finished epoch 35, Train Loss: 1.3052695470581794, Val Loss: 1.2503141294717763\n",
            "Finished epoch 36, Train Loss: 1.3064724628630016, Val Loss: 1.2508465969436247\n",
            "Finished epoch 37, Train Loss: 1.2891199054321147, Val Loss: 1.2533943209438438\n",
            "Finished epoch 38, Train Loss: 1.2886358061512444, Val Loss: 1.2529517935497974\n",
            "Finished epoch 39, Train Loss: 1.3073193269284855, Val Loss: 1.2511277652152943\n",
            "Finished epoch 40, Train Loss: 1.3029675231953453, Val Loss: 1.251015667045983\n",
            "Finished epoch 41, Train Loss: 1.290122267476978, Val Loss: 1.2511023304003503\n",
            "Finished epoch 42, Train Loss: 1.3044158035690905, Val Loss: 1.2511792119613585\n",
            "Finished epoch 43, Train Loss: 1.2888761096293375, Val Loss: 1.250976909667348\n",
            "Finished epoch 44, Train Loss: 1.2941719224618764, Val Loss: 1.2500327377666847\n",
            "Finished epoch 45, Train Loss: 1.2890661882405905, Val Loss: 1.24973132938264\n",
            "Finished epoch 46, Train Loss: 1.2929807620549905, Val Loss: 1.2512156896470255\n",
            "Finished epoch 47, Train Loss: 1.298268106923414, Val Loss: 1.2513977764464048\n",
            "Finished epoch 48, Train Loss: 1.2898635535798908, Val Loss: 1.251995811972115\n",
            "Finished epoch 49, Train Loss: 1.2890154454521792, Val Loss: 1.2513186625916577\n",
            "Finished epoch 50, Train Loss: 1.2903638044911767, Val Loss: 1.251033630811337\n",
            "Finished epoch 51, Train Loss: 1.3122335253386264, Val Loss: 1.250600455148221\n",
            "Finished epoch 52, Train Loss: 1.290134471346292, Val Loss: 1.2504391266057893\n",
            "Finished epoch 53, Train Loss: 1.2893323326929371, Val Loss: 1.2447794618840584\n",
            "Finished epoch 54, Train Loss: 1.2763676209770345, Val Loss: 1.242459497381675\n",
            "Finished epoch 55, Train Loss: 1.2667453810207494, Val Loss: 1.2428645357436954\n",
            "Finished epoch 56, Train Loss: 1.2660082772584476, Val Loss: 1.2423103393312558\n",
            "Finished epoch 57, Train Loss: 1.264690801615726, Val Loss: 1.2442889382538602\n",
            "Finished epoch 58, Train Loss: 1.2748874170509144, Val Loss: 1.2419130312760607\n",
            "Finished epoch 59, Train Loss: 1.2682550483464268, Val Loss: 1.245052345209261\n",
            "Finished epoch 60, Train Loss: 1.2676771011639048, Val Loss: 1.2433532950897304\n",
            "Finished epoch 61, Train Loss: 1.2659766173287494, Val Loss: 1.2428607746386362\n",
            "Finished epoch 62, Train Loss: 1.2669261325471315, Val Loss: 1.2434842370938037\n",
            "Finished epoch 63, Train Loss: 1.265912557814204, Val Loss: 1.2450451670621219\n",
            "Finished epoch 64, Train Loss: 1.2661053279654293, Val Loss: 1.2429554040641069\n",
            "Finished epoch 65, Train Loss: 1.2653628583101428, Val Loss: 1.244156418156918\n",
            "Finished epoch 66, Train Loss: 1.2647939287946683, Val Loss: 1.2416770110415005\n",
            "Finished epoch 67, Train Loss: 1.2652624363985032, Val Loss: 1.2405595487733554\n",
            "Finished epoch 68, Train Loss: 1.2650781569001366, Val Loss: 1.243449974632125\n",
            "Finished epoch 69, Train Loss: 1.2659110174399086, Val Loss: 1.241396630438884\n",
            "Finished epoch 70, Train Loss: 1.265739068098017, Val Loss: 1.244044145766989\n",
            "Finished epoch 71, Train Loss: 1.2692392901746548, Val Loss: 1.2432845805849362\n",
            "Finished epoch 72, Train Loss: 1.2647008827847968, Val Loss: 1.2435911411662917\n",
            "Finished epoch 73, Train Loss: 1.2643656403665684, Val Loss: 1.2435016395568674\n",
            "Finished epoch 74, Train Loss: 1.2660733102511836, Val Loss: 1.2428381659828878\n",
            "Finished epoch 75, Train Loss: 1.2674540098588327, Val Loss: 1.2442224022277026\n",
            "Finished epoch 76, Train Loss: 1.268493037490589, Val Loss: 1.2443201464579174\n",
            "Finished epoch 77, Train Loss: 1.2644332866853198, Val Loss: 1.2425710471145521\n",
            "Finished epoch 78, Train Loss: 1.2677159159807578, Val Loss: 1.2438288985529917\n",
            "Finished epoch 79, Train Loss: 1.2644027234177773, Val Loss: 1.2434722156502895\n",
            "Finished epoch 80, Train Loss: 1.2668045420867442, Val Loss: 1.2433486781186045\n",
            "Finished epoch 81, Train Loss: 1.268319959932661, Val Loss: 1.2427375837872605\n",
            "Finished epoch 82, Train Loss: 1.264682112410797, Val Loss: 1.2415217362537363\n",
            "Finished epoch 83, Train Loss: 1.2645581144216536, Val Loss: 1.2427360220357344\n",
            "Finished epoch 84, Train Loss: 1.2674342859246421, Val Loss: 1.2412816621744074\n",
            "Finished epoch 85, Train Loss: 1.2766883264843214, Val Loss: 1.2434974822846019\n",
            "Finished epoch 86, Train Loss: 1.2648012114364986, Val Loss: 1.2423347023258573\n",
            "Finished epoch 87, Train Loss: 1.2648533463944458, Val Loss: 1.2432545275905336\n",
            "Finished epoch 88, Train Loss: 1.2647224699689121, Val Loss: 1.2419745933072308\n",
            "Finished epoch 89, Train Loss: 1.2644339547271082, Val Loss: 1.2438273034698208\n",
            "Finished epoch 90, Train Loss: 1.2643871234136501, Val Loss: 1.2456038110114522\n",
            "Finished epoch 91, Train Loss: 1.2643093818361633, Val Loss: 1.243419181399377\n",
            "Finished epoch 92, Train Loss: 1.2642362170848314, Val Loss: 1.2437069932052058\n",
            "Finished epoch 93, Train Loss: 1.2643105894921058, Val Loss: 1.2430425536179595\n",
            "Finished epoch 94, Train Loss: 1.2643526211612743, Val Loss: 1.2442562241318988\n",
            "Finished epoch 95, Train Loss: 1.2638272004065016, Val Loss: 1.2427976742122582\n",
            "Finished epoch 96, Train Loss: 1.2630038125860965, Val Loss: 1.2437395833275577\n",
            "Finished epoch 97, Train Loss: 1.2616553616020973, Val Loss: 1.2438375070066752\n",
            "Finished epoch 98, Train Loss: 1.2646958307957172, Val Loss: 1.2417537524581008\n",
            "Finished epoch 99, Train Loss: 1.2594008443523859, Val Loss: 1.2426825651257527\n"
          ]
        },
        {
          "data": {
            "text/plain": [
              "[<matplotlib.lines.Line2D at 0x7e03e6a9da20>]"
            ]
          },
          "execution_count": 53,
          "metadata": {},
          "output_type": "execute_result"
        },
        {
          "data": {
            "image/png": "[encoded data removed]",
            "text/plain": [
              "<Figure size 640x480 with 1 Axes>"
            ]
          },
          "metadata": {},
          "output_type": "display_data"
        }
      ],
      "source": [
        "lls_train,lls_val =train_model(model, train_loader, val_loader, criterion, optimizer, epochs=100)\n",
        "import matplotlib.pyplot as plt\n",
        "\n",
        "\n",
        "plt.plot(lls_train, color= 'blue')\n",
        "plt.plot(lls_val, color= 'red')\n",
        "\n",
        "\n"
      ]
    },
    {
      "cell_type": "markdown",
      "metadata": {
        "id": "Mi8P9EwEq-UW"
      },
      "source": [
        "## Evaluate Neural Network Model"
      ]
    },
    {
      "cell_type": "markdown",
      "metadata": {
        "id": "kiAkS58Dq-UX"
      },
      "source": [
        "Report the model's accuracy on the test set."
      ]
    },
    {
      "cell_type": "code",
      "execution_count": 54,
      "metadata": {
        "colab": {
          "base_uri": "https://localhost:8080/"
        },
        "id": "NOrEh9I1q-UX",
        "outputId": "bc0f4ba1-6947-431d-f095-522277da5443"
      },
      "outputs": [
        {
          "name": "stdout",
          "output_type": "stream",
          "text": [
            "tensor(0.9006)\n"
          ]
        }
      ],
      "source": [
        "model.eval()\n",
        "\n",
        "def accuracy_ff(res,pre):\n",
        "\n",
        "  s = torch.sum((res==pre))\n",
        "  return s/len(res)\n",
        "# report model accuracy on test data\n",
        "x,y = next(iter(test_loader))\n",
        "pre = model(x)\n",
        "print(accuracy_ff(y[:,0].long(),torch.argmax(pre,dim=1)))\n",
        "# TODO\n",
        "\n"
      ]
    },
    {
      "cell_type": "markdown",
      "metadata": {
        "id": "-9ck60Gtq-UX"
      },
      "source": [
        "Just for the sake of curiosity, let's take a random sample from the test set and see the model's prediction. So, randomly choose a sample from the test set and print it out (to see its features and also the correct output). Then, feed the features into your model and see what it predicts. Is it correct?"
      ]
    },
    {
      "cell_type": "code",
      "execution_count": 28,
      "metadata": {
        "colab": {
          "base_uri": "https://localhost:8080/"
        },
        "id": "Yc0mOitDq-UX",
        "outputId": "599eab41-9bc5-476f-cef5-e2667890586c"
      },
      "outputs": [
        {
          "name": "stdout",
          "output_type": "stream",
          "text": [
            "Origin Lat                  35.625\n",
            "Origin Long                 51.375\n",
            "origin                        work\n",
            "destination             restaurant\n",
            "Dest Lat                    35.765\n",
            "Dest Long                   51.075\n",
            "user_id                          3\n",
            "Day                              1\n",
            "start_time     2024-01-30 13:32:00\n",
            "end_time       2024-01-30 14:33:00\n",
            "price                        25.93\n",
            "Name: 2488, dtype: object\n"
          ]
        }
      ],
      "source": [
        "import random\n",
        "# TODO: choose a random sample from test data and print it out\n",
        "ran = random.randrange(len(test_dataset))\n",
        "print(test_proc.iloc[ran])\n"
      ]
    },
    {
      "cell_type": "code",
      "execution_count": 29,
      "metadata": {
        "colab": {
          "base_uri": "https://localhost:8080/"
        },
        "id": "vnE8T0FXq-UX",
        "outputId": "19a3216d-e745-4313-8931-1be0b9ece49c"
      },
      "outputs": [
        {
          "name": "stdout",
          "output_type": "stream",
          "text": [
            "4\n"
          ]
        }
      ],
      "source": [
        "# TODO: predict the destination of the above sample\n",
        "# print out the prediction\n",
        "x,y = test_dataset[ran]\n",
        "pre = model(x)\n",
        "\n",
        "pre = np.argmax(pre.detach().numpy())\n",
        "print(pre)\n",
        "\n",
        "#pre = dest_enc.inverse_transform([pre])\n"
      ]
    },
    {
      "cell_type": "code",
      "execution_count": 30,
      "metadata": {
        "colab": {
          "base_uri": "https://localhost:8080/"
        },
        "id": "tWzQ7vkAq-UY",
        "outputId": "65112dc1-b687-40ce-cb1b-6682a8c34d5b"
      },
      "outputs": [
        {
          "name": "stdout",
          "output_type": "stream",
          "text": [
            "4\n"
          ]
        }
      ],
      "source": [
        "# TODO: print out the actual destination of the above sample\n",
        "print(int(y))\n",
        "\n",
        "\n"
      ]
    },
    {
      "cell_type": "markdown",
      "metadata": {
        "id": "AU3OM9-sq-UY"
      },
      "source": [
        "Now, use the inverse transform of the encoding you used earlier to get the name of the destination from the predicted class. Print it out and see if it's correct."
      ]
    },
    {
      "cell_type": "code",
      "execution_count": 31,
      "metadata": {
        "colab": {
          "base_uri": "https://localhost:8080/"
        },
        "id": "9mWaLXeHq-UY",
        "outputId": "b0adbb11-32c7-4905-f229-652b69b85ca5"
      },
      "outputs": [
        {
          "name": "stdout",
          "output_type": "stream",
          "text": [
            "['restaurant']\n"
          ]
        }
      ],
      "source": [
        "# TODO: use inverse_transform to print out the actual name of destination of the above sample\n",
        "y = dest_enc.inverse_transform([int(y)])\n",
        "\n",
        "print(y)\n",
        "\n"
      ]
    },
    {
      "cell_type": "markdown",
      "metadata": {
        "id": "qrYD0pLjq-UY"
      },
      "source": [
        "**QUESTION**: What do you think about this approach? Is it a good idea to use Neural Networks for this problem? Why (or why not)? If the patterns in our datatset (passengers' history) get more complicated, will our model be robust to it in comparison to other models?\n",
        "\n",
        "همانطور که مشخص است این روش بهترین نتیجه را داده است، همچنین سرعت پردیکت آن بیشتر از کی ان ان است، در صورتی که پترن ها پیچیده تر شوند، ممکن است نیاز باشد مدل پیچیده تر شود، اما همچنان میتواند جوابگو باشد. به نسبت دیگر مدل ها در مجموع گزینه بهتری است."
      ]
    },
    {
      "cell_type": "markdown",
      "metadata": {
        "id": "Ud1-ALZRq-UY"
      },
      "source": [
        "# How to Submit:\n",
        "\n",
        "Please upload your notebook (`.ipynb`) compressed (as a `.zip` file) or uncompressed on Quera. **Note** that for each part, the accuracy of your model on the given test dataset is important. So, your accuracy should be **at least** same as ours (or better). Also, we will check your code after the submission. So, please make sure that there are no **data snooping** or **data leakage** in your code. You **can not** use the test data in any stages for your model, except for the final evaluation part! So, please be ware of that, or you may lose points.\n",
        "\n",
        "Your project is graded via 2 main parts:\n",
        "1. Checking out your implementation (to check if there are no \"data snooping\" and \"data leakage\")\n",
        "   \n",
        "2. Checking accuracies of your models on the test set.\n",
        "\n",
        "3. Running again your code by you in the \"in-person\" session and hearing your explanations (on the parts that we asked questions about the models, overfitting and etc. with tag \"QUESTION\" in the notebook)."
      ]
    },
    {
      "cell_type": "markdown",
      "metadata": {
        "id": "N2UOUeElq-UY"
      },
      "source": []
    }
  ],
  "metadata": {
    "colab": {
      "provenance": []
    },
    "kernelspec": {
      "display_name": "venv",
      "language": "python",
      "name": "python3"
    },
    "language_info": {
      "codemirror_mode": {
        "name": "ipython",
        "version": 3
      },
      "file_extension": ".py",
      "mimetype": "text/x-python",
      "name": "python",
      "nbconvert_exporter": "python",
      "pygments_lexer": "ipython3",
      "version": "3.10.8"
    },
    "widgets": {
      "application/vnd.jupyter.widget-state+json": {
        "402bd766232246e3a04373c2a3308804": {
          "model_module": "@jupyter-widgets/base",
          "model_module_version": "1.2.0",
          "model_name": "LayoutModel",
          "state": {
            "_model_module": "@jupyter-widgets/base",
            "_model_module_version": "1.2.0",
            "_model_name": "LayoutModel",
            "_view_count": null,
            "_view_module": "@jupyter-widgets/base",
            "_view_module_version": "1.2.0",
            "_view_name": "LayoutView",
            "align_content": null,
            "align_items": null,
            "align_self": null,
            "border": null,
            "bottom": null,
            "display": null,
            "flex": null,
            "flex_flow": null,
            "grid_area": null,
            "grid_auto_columns": null,
            "grid_auto_flow": null,
            "grid_auto_rows": null,
            "grid_column": null,
            "grid_gap": null,
            "grid_row": null,
            "grid_template_areas": null,
            "grid_template_columns": null,
            "grid_template_rows": null,
            "height": null,
            "justify_content": null,
            "justify_items": null,
            "left": null,
            "margin": null,
            "max_height": null,
            "max_width": null,
            "min_height": null,
            "min_width": null,
            "object_fit": null,
            "object_position": null,
            "order": null,
            "overflow": null,
            "overflow_x": null,
            "overflow_y": null,
            "padding": null,
            "right": null,
            "top": null,
            "visibility": null,
            "width": null
          }
        },
        "4e6518c0cafe41febe3fc907af6011b0": {
          "model_module": "keplergl-jupyter",
          "model_module_version": "^0.3.2",
          "model_name": "KeplerGlModal",
          "state": {
            "_dom_classes": [],
            "_model_module": "keplergl-jupyter",
            "_model_module_version": "^0.3.2",
            "_model_name": "KeplerGlModal",
            "_view_count": null,
            "_view_module": "keplergl-jupyter",
            "_view_module_version": "^0.3.2",
            "_view_name": "KeplerGlView",
            "config": {},
            "data": {
              "data_1": {
                "columns": [
                  "dest lat",
                  "dest lon"
                ],
                "data": [
                  [
                    35.875,
                    51.375
                  ],
                  [
                    35.775,
                    51.4
                  ],
                  [
                    35.875,
                    51.375
                  ],
                  [
                    35.525,
                    51.1
                  ],
                  [
                    35.805,
                    51.345
                  ],
                  [
                    35.8,
                    51.375
                  ],
                  [
                    35.775,
                    51.4
                  ],
                  [
                    35.875,
                    51.375
                  ],
                  [
                    35.52,
                    51.285
                  ],
                  [
                    35.875,
                    51.375
                  ],
                  [
                    35.775,
                    51.4
                  ],
                  [
                    35.775,
                    51.4
                  ],
                  [
                    35.745,
                    51.045
                  ],
                  [
                    35.875,
                    51.375
                  ],
                  [
                    35.95,
                    51.315
                  ],
                  [
                    35.775,
                    51.4
                  ],
                  [
                    35.875,
                    51.375
                  ],
                  [
                    35.865,
                    51.045
                  ],
                  [
                    35.875,
                    51.375
                  ],
                  [
                    35.525,
                    51.46
                  ],
                  [
                    35.875,
                    51.375
                  ],
                  [
                    35.8,
                    51.375
                  ],
                  [
                    35.54,
                    51.5
                  ],
                  [
                    35.775,
                    51.4
                  ],
                  [
                    35.875,
                    51.375
                  ],
                  [
                    35.765,
                    51.075
                  ],
                  [
                    35.875,
                    51.375
                  ],
                  [
                    35.525,
                    51.46
                  ],
                  [
                    35.765,
                    51.075
                  ],
                  [
                    36,
                    51.5
                  ],
                  [
                    35.875,
                    51.025
                  ],
                  [
                    35.775,
                    51.4
                  ],
                  [
                    35.875,
                    51.375
                  ],
                  [
                    35.775,
                    51.4
                  ],
                  [
                    35.775,
                    51.4
                  ],
                  [
                    35.875,
                    51.375
                  ],
                  [
                    35.97,
                    51.215
                  ],
                  [
                    35.775,
                    51.4
                  ],
                  [
                    35.875,
                    51.375
                  ],
                  [
                    35.875,
                    51.375
                  ],
                  [
                    35.875,
                    51.375
                  ],
                  [
                    35.65,
                    51.225
                  ],
                  [
                    36,
                    51.5
                  ],
                  [
                    35.775,
                    51.4
                  ],
                  [
                    35.875,
                    51.375
                  ],
                  [
                    35.775,
                    51.4
                  ],
                  [
                    35.875,
                    51.375
                  ],
                  [
                    35.775,
                    51.4
                  ],
                  [
                    35.875,
                    51.375
                  ],
                  [
                    35.875,
                    51.275
                  ],
                  [
                    35.875,
                    51.375
                  ],
                  [
                    35.525,
                    51.46
                  ],
                  [
                    35.82,
                    51.225
                  ],
                  [
                    35.8,
                    51.375
                  ],
                  [
                    35.745,
                    51.465
                  ],
                  [
                    35.775,
                    51.4
                  ],
                  [
                    35.875,
                    51.375
                  ],
                  [
                    35.8,
                    51.375
                  ],
                  [
                    35.775,
                    51.4
                  ],
                  [
                    36,
                    51.5
                  ],
                  [
                    35.98,
                    51.05
                  ],
                  [
                    35.775,
                    51.4
                  ],
                  [
                    35.995,
                    51
                  ],
                  [
                    35.875,
                    51.375
                  ],
                  [
                    35.525,
                    51.46
                  ],
                  [
                    35.875,
                    51.275
                  ],
                  [
                    35.875,
                    51.375
                  ],
                  [
                    35.525,
                    51.46
                  ],
                  [
                    35.875,
                    51.375
                  ],
                  [
                    35.95,
                    51.315
                  ],
                  [
                    35.725,
                    51.3
                  ],
                  [
                    35.775,
                    51.4
                  ],
                  [
                    36,
                    51.5
                  ],
                  [
                    35.995,
                    51
                  ],
                  [
                    36,
                    51.5
                  ],
                  [
                    35.675,
                    51.31
                  ],
                  [
                    35.775,
                    51.4
                  ],
                  [
                    35.875,
                    51.375
                  ],
                  [
                    35.525,
                    51.46
                  ],
                  [
                    35.785,
                    51.24
                  ],
                  [
                    35.775,
                    51.4
                  ],
                  [
                    35.875,
                    51.375
                  ],
                  [
                    35.875,
                    51.375
                  ],
                  [
                    35.525,
                    51.46
                  ],
                  [
                    35.775,
                    51.4
                  ],
                  [
                    35.875,
                    51.375
                  ],
                  [
                    35.8,
                    51.375
                  ],
                  [
                    35.785,
                    51.315
                  ],
                  [
                    36,
                    51.5
                  ],
                  [
                    35.995,
                    51
                  ],
                  [
                    35.775,
                    51.4
                  ],
                  [
                    35.775,
                    51.4
                  ],
                  [
                    35.875,
                    51.375
                  ],
                  [
                    35.525,
                    51.46
                  ],
                  [
                    35.875,
                    51.375
                  ],
                  [
                    35.525,
                    51.46
                  ],
                  [
                    35.785,
                    51.24
                  ],
                  [
                    35.875,
                    51.375
                  ],
                  [
                    35.565,
                    51.06
                  ],
                  [
                    35.775,
                    51.4
                  ],
                  [
                    36,
                    51.5
                  ],
                  [
                    35.785,
                    51.315
                  ],
                  [
                    35.775,
                    51.4
                  ],
                  [
                    35.775,
                    51.4
                  ],
                  [
                    35.95,
                    51.315
                  ],
                  [
                    35.775,
                    51.4
                  ],
                  [
                    35.875,
                    51.375
                  ],
                  [
                    35.775,
                    51.4
                  ],
                  [
                    35.745,
                    51.045
                  ],
                  [
                    35.775,
                    51.4
                  ],
                  [
                    35.775,
                    51.4
                  ],
                  [
                    35.875,
                    51.375
                  ],
                  [
                    35.95,
                    51.315
                  ],
                  [
                    35.875,
                    51.375
                  ],
                  [
                    35.525,
                    51.46
                  ],
                  [
                    35.875,
                    51.375
                  ],
                  [
                    36,
                    51.37
                  ],
                  [
                    35.875,
                    51.375
                  ],
                  [
                    35.8,
                    51.375
                  ],
                  [
                    35.775,
                    51.4
                  ],
                  [
                    35.95,
                    51.315
                  ],
                  [
                    35.775,
                    51.4
                  ],
                  [
                    36,
                    51.5
                  ],
                  [
                    35.875,
                    51.375
                  ],
                  [
                    35.775,
                    51.4
                  ],
                  [
                    35.875,
                    51.375
                  ],
                  [
                    35.775,
                    51.4
                  ],
                  [
                    35.8,
                    51.375
                  ],
                  [
                    35.75,
                    51.385
                  ],
                  [
                    35.775,
                    51.4
                  ],
                  [
                    35.875,
                    51.375
                  ],
                  [
                    36,
                    51.37
                  ],
                  [
                    35.875,
                    51.375
                  ],
                  [
                    35.525,
                    51.46
                  ],
                  [
                    35.8,
                    51.375
                  ],
                  [
                    35.775,
                    51.4
                  ],
                  [
                    36,
                    51.5
                  ],
                  [
                    35.875,
                    51.375
                  ],
                  [
                    35.775,
                    51.4
                  ],
                  [
                    36,
                    51.37
                  ],
                  [
                    35.775,
                    51.4
                  ],
                  [
                    35.775,
                    51.4
                  ],
                  [
                    35.65,
                    51.385
                  ],
                  [
                    35.775,
                    51.4
                  ],
                  [
                    35.875,
                    51.375
                  ],
                  [
                    35.525,
                    51.46
                  ],
                  [
                    35.54,
                    51.5
                  ],
                  [
                    35.775,
                    51.4
                  ],
                  [
                    35.875,
                    51.375
                  ],
                  [
                    35.875,
                    51.375
                  ],
                  [
                    35.875,
                    51.375
                  ],
                  [
                    35.59,
                    51.47
                  ],
                  [
                    35.875,
                    51.375
                  ],
                  [
                    36,
                    51.5
                  ],
                  [
                    35.705,
                    51.295
                  ],
                  [
                    35.775,
                    51.4
                  ],
                  [
                    35.875,
                    51.375
                  ],
                  [
                    35.775,
                    51.4
                  ],
                  [
                    35.875,
                    51.375
                  ],
                  [
                    35.97,
                    51.215
                  ],
                  [
                    35.725,
                    51.3
                  ],
                  [
                    35.875,
                    51.375
                  ],
                  [
                    35.95,
                    51.315
                  ],
                  [
                    35.875,
                    51.375
                  ],
                  [
                    35.8,
                    51.375
                  ],
                  [
                    35.805,
                    51.345
                  ],
                  [
                    35.775,
                    51.4
                  ],
                  [
                    35.875,
                    51.375
                  ],
                  [
                    35.59,
                    51.47
                  ],
                  [
                    35.875,
                    51.375
                  ],
                  [
                    35.725,
                    51.3
                  ],
                  [
                    35.52,
                    51.285
                  ],
                  [
                    35.775,
                    51.4
                  ],
                  [
                    35.875,
                    51.375
                  ],
                  [
                    35.875,
                    51.375
                  ],
                  [
                    35.945,
                    51.17
                  ],
                  [
                    35.775,
                    51.4
                  ],
                  [
                    35.875,
                    51.375
                  ],
                  [
                    35.775,
                    51.4
                  ],
                  [
                    35.875,
                    51.375
                  ],
                  [
                    35.69,
                    51.295
                  ],
                  [
                    35.575,
                    51.15
                  ],
                  [
                    35.875,
                    51.375
                  ],
                  [
                    35.875,
                    51.375
                  ],
                  [
                    35.65,
                    51.385
                  ],
                  [
                    35.875,
                    51.375
                  ],
                  [
                    35.525,
                    51.46
                  ],
                  [
                    35.875,
                    51.375
                  ],
                  [
                    35.775,
                    51.4
                  ],
                  [
                    35.875,
                    51.375
                  ],
                  [
                    35.775,
                    51.4
                  ],
                  [
                    35.775,
                    51.4
                  ],
                  [
                    35.875,
                    51.375
                  ],
                  [
                    35.785,
                    51.315
                  ],
                  [
                    35.875,
                    51.375
                  ],
                  [
                    35.525,
                    51.1
                  ],
                  [
                    35.875,
                    51.375
                  ],
                  [
                    35.525,
                    51.46
                  ],
                  [
                    35.875,
                    51.375
                  ],
                  [
                    36,
                    51.5
                  ],
                  [
                    36,
                    51.5
                  ],
                  [
                    35.775,
                    51.4
                  ],
                  [
                    35.875,
                    51.375
                  ],
                  [
                    35.785,
                    51.315
                  ],
                  [
                    35.875,
                    51.375
                  ],
                  [
                    35.775,
                    51.4
                  ],
                  [
                    35.875,
                    51.375
                  ],
                  [
                    35.775,
                    51.4
                  ],
                  [
                    35.8,
                    51.375
                  ],
                  [
                    35.775,
                    51.4
                  ],
                  [
                    35.875,
                    51.375
                  ],
                  [
                    35.525,
                    51.46
                  ],
                  [
                    35.505,
                    51.18
                  ],
                  [
                    35.775,
                    51.4
                  ],
                  [
                    35.875,
                    51.375
                  ],
                  [
                    35.875,
                    51.375
                  ],
                  [
                    35.725,
                    51.3
                  ],
                  [
                    35.775,
                    51.4
                  ],
                  [
                    35.775,
                    51.4
                  ],
                  [
                    35.65,
                    51.385
                  ],
                  [
                    35.775,
                    51.4
                  ],
                  [
                    35.675,
                    51.31
                  ],
                  [
                    35.775,
                    51.4
                  ],
                  [
                    35.875,
                    51.375
                  ],
                  [
                    35.68,
                    51.135
                  ],
                  [
                    35.875,
                    51.375
                  ],
                  [
                    35.775,
                    51.4
                  ],
                  [
                    35.875,
                    51.375
                  ],
                  [
                    35.525,
                    51.46
                  ],
                  [
                    35.775,
                    51.4
                  ],
                  [
                    35.875,
                    51.375
                  ],
                  [
                    35.995,
                    51
                  ],
                  [
                    35.875,
                    51.375
                  ],
                  [
                    35.75,
                    51.385
                  ],
                  [
                    35.875,
                    51.375
                  ],
                  [
                    35.525,
                    51.46
                  ],
                  [
                    35.54,
                    51.5
                  ],
                  [
                    35.775,
                    51.4
                  ],
                  [
                    35.56,
                    51.415
                  ],
                  [
                    35.875,
                    51.375
                  ],
                  [
                    35.875,
                    51.375
                  ],
                  [
                    35.875,
                    51.375
                  ],
                  [
                    35.775,
                    51.4
                  ],
                  [
                    35.875,
                    51.375
                  ],
                  [
                    35.705,
                    51.295
                  ],
                  [
                    35.875,
                    51.375
                  ],
                  [
                    35.65,
                    51.225
                  ],
                  [
                    35.575,
                    51.42
                  ],
                  [
                    35.875,
                    51.375
                  ],
                  [
                    35.575,
                    51.15
                  ],
                  [
                    35.875,
                    51.375
                  ],
                  [
                    35.8,
                    51.375
                  ],
                  [
                    35.775,
                    51.4
                  ],
                  [
                    35.705,
                    51.295
                  ],
                  [
                    35.775,
                    51.4
                  ],
                  [
                    35.805,
                    51.345
                  ],
                  [
                    35.775,
                    51.4
                  ],
                  [
                    35.775,
                    51.4
                  ],
                  [
                    35.875,
                    51.375
                  ],
                  [
                    35.775,
                    51.4
                  ],
                  [
                    35.875,
                    51.375
                  ],
                  [
                    35.725,
                    51.3
                  ],
                  [
                    35.875,
                    51.375
                  ],
                  [
                    35.815,
                    51.32
                  ],
                  [
                    35.875,
                    51.375
                  ],
                  [
                    35.575,
                    51.42
                  ],
                  [
                    35.775,
                    51.4
                  ],
                  [
                    35.805,
                    51.345
                  ],
                  [
                    35.875,
                    51.375
                  ],
                  [
                    35.8,
                    51.375
                  ],
                  [
                    35.745,
                    51.465
                  ],
                  [
                    35.775,
                    51.4
                  ],
                  [
                    35.815,
                    51.32
                  ],
                  [
                    35.775,
                    51.4
                  ],
                  [
                    35.745,
                    51.465
                  ],
                  [
                    35.775,
                    51.4
                  ],
                  [
                    35.745,
                    51.465
                  ],
                  [
                    35.775,
                    51.4
                  ]
                ],
                "index": [
                  8883,
                  8884,
                  8885,
                  8886,
                  8887,
                  8888,
                  8889,
                  8890,
                  8891,
                  8892,
                  8893,
                  8894,
                  8895,
                  8896,
                  8897,
                  8898,
                  8899,
                  8900,
                  8901,
                  8902,
                  8903,
                  8904,
                  8905,
                  8906,
                  8907,
                  8908,
                  8909,
                  8910,
                  8911,
                  8912,
                  8913,
                  8914,
                  8915,
                  8916,
                  8917,
                  8918,
                  8919,
                  8920,
                  8921,
                  8922,
                  8923,
                  8924,
                  8925,
                  8926,
                  8927,
                  8928,
                  8929,
                  8930,
                  8931,
                  8932,
                  8933,
                  8934,
                  8935,
                  8936,
                  8937,
                  8938,
                  8939,
                  8940,
                  8941,
                  8942,
                  8943,
                  8944,
                  8945,
                  8946,
                  8947,
                  8948,
                  8949,
                  8950,
                  8951,
                  8952,
                  8953,
                  8954,
                  8955,
                  8956,
                  8957,
                  8958,
                  8959,
                  8960,
                  8961,
                  8962,
                  8963,
                  8964,
                  8965,
                  8966,
                  8967,
                  8968,
                  8969,
                  8970,
                  8971,
                  8972,
                  8973,
                  8974,
                  8975,
                  8976,
                  8977,
                  8978,
                  8979,
                  8980,
                  8981,
                  8982,
                  8983,
                  8984,
                  8985,
                  8986,
                  8987,
                  8988,
                  8989,
                  8990,
                  8991,
                  8992,
                  8993,
                  8994,
                  8995,
                  8996,
                  8997,
                  8998,
                  8999,
                  9000,
                  9001,
                  9002,
                  9003,
                  9004,
                  9005,
                  9006,
                  9007,
                  9008,
                  9009,
                  9010,
                  9011,
                  9012,
                  9013,
                  9014,
                  9015,
                  9016,
                  9017,
                  9018,
                  9019,
                  9020,
                  9021,
                  9022,
                  9023,
                  9024,
                  9025,
                  9026,
                  9027,
                  9028,
                  9029,
                  9030,
                  9031,
                  9032,
                  9033,
                  9034,
                  9035,
                  9036,
                  9037,
                  9038,
                  9039,
                  9040,
                  9041,
                  9042,
                  9043,
                  9044,
                  9045,
                  9046,
                  9047,
                  9048,
                  9049,
                  9050,
                  9051,
                  9052,
                  9053,
                  9054,
                  9055,
                  9056,
                  9057,
                  9058,
                  9059,
                  9060,
                  9061,
                  9062,
                  9063,
                  9064,
                  9065,
                  9066,
                  9067,
                  9068,
                  9069,
                  9070,
                  9071,
                  9072,
                  9073,
                  9074,
                  9075,
                  9076,
                  9077,
                  9078,
                  9079,
                  9080,
                  9081,
                  9082,
                  9083,
                  9084,
                  9085,
                  9086,
                  9087,
                  9088,
                  9089,
                  9090,
                  9091,
                  9092,
                  9093,
                  9094,
                  9095,
                  9096,
                  9097,
                  9098,
                  9099,
                  9100,
                  9101,
                  9102,
                  9103,
                  9104,
                  9105,
                  9106,
                  9107,
                  9108,
                  9109,
                  9110,
                  9111,
                  9112,
                  9113,
                  9114,
                  9115,
                  9116,
                  9117,
                  9118,
                  9119,
                  9120,
                  9121,
                  9122,
                  9123,
                  9124,
                  9125,
                  9126,
                  9127,
                  9128,
                  9129,
                  9130,
                  9131,
                  9132,
                  9133,
                  9134,
                  9135,
                  9136,
                  9137,
                  9138,
                  9139,
                  9140,
                  9141,
                  9142,
                  9143,
                  9144,
                  9145,
                  9146,
                  9147,
                  9148,
                  9149,
                  9150,
                  9151,
                  9152,
                  9153,
                  9154,
                  9155,
                  9156,
                  9157,
                  9158,
                  9159,
                  9160
                ]
              }
            },
            "height": 400,
            "layout": "IPY_MODEL_402bd766232246e3a04373c2a3308804",
            "value": "Hello World!"
          }
        }
      }
    }
  },
  "nbformat": 4,
  "nbformat_minor": 0
}
